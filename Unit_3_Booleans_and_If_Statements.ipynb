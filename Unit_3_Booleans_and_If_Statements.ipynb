{
 "cells": [
  {
   "cell_type": "markdown",
   "metadata": {},
   "source": [
    "Contents\n",
    "---\n",
    "- [Logical statements](#logical)\n",
    "- [If Then Statements](#ifthen)\n",
    "- [Nested If Then Statements](#nested)\n",
    "- [Max, Min, and Sum](#math)\n",
    "- [More Logical Operators](#morelog)\n",
    "- [Boolean variables](#booleans)"
   ]
  },
  {
   "cell_type": "markdown",
   "metadata": {},
   "source": [
    "Logical Statements\n",
    "---\n",
    "<a class=\"anchor\" id=\"logical\"></a>\n",
    "\n",
    "Every if statement evaluates to *True* or *False*. *True* and *False* are Python keywords, which have special meanings attached to them. You can test for the following conditions in your if statements:\n",
    "\n",
    "- equality (==)\n",
    "- inequality (!=)\n",
    "- other inequalities\n",
    "    - greater than (>)\n",
    "    - greater than or equal to (>=)\n",
    "    - less than (<)\n",
    "    - less than or equal to (<=)\n"
   ]
  },
  {
   "cell_type": "markdown",
   "metadata": {},
   "source": [
    "Equality and Inequalities\n",
    "---\n",
    "Two items are *equal* if they have the same value. You can test for equality between numbers, strings, and a number of other objects which you will learn about later. Some of these results may be surprising, so take a careful look at the examples below.\n",
    "\n",
    "In Python, as in many programming languages, two equals signs tests for equality.\n",
    "\n",
    "**Watch out!** Be careful of accidentally using one equals sign, which can really throw things off because that one equals sign actually sets your item to the value you are testing for!"
   ]
  },
  {
   "cell_type": "code",
   "execution_count": 1,
   "metadata": {
    "collapsed": false
   },
   "outputs": [
    {
     "data": {
      "text/plain": [
       "True"
      ]
     },
     "execution_count": 1,
     "metadata": {},
     "output_type": "execute_result"
    }
   ],
   "source": [
    "5 == 5"
   ]
  },
  {
   "cell_type": "code",
   "execution_count": 2,
   "metadata": {
    "collapsed": false
   },
   "outputs": [
    {
     "data": {
      "text/plain": [
       "False"
      ]
     },
     "execution_count": 2,
     "metadata": {},
     "output_type": "execute_result"
    }
   ],
   "source": [
    "5 == 4"
   ]
  },
  {
   "cell_type": "code",
   "execution_count": 3,
   "metadata": {
    "collapsed": false
   },
   "outputs": [
    {
     "data": {
      "text/plain": [
       "True"
      ]
     },
     "execution_count": 3,
     "metadata": {},
     "output_type": "execute_result"
    }
   ],
   "source": [
    "5 == 5.0"
   ]
  },
  {
   "cell_type": "code",
   "execution_count": 4,
   "metadata": {
    "collapsed": false
   },
   "outputs": [
    {
     "data": {
      "text/plain": [
       "False"
      ]
     },
     "execution_count": 4,
     "metadata": {},
     "output_type": "execute_result"
    }
   ],
   "source": [
    "'doug' == 'Doug'"
   ]
  },
  {
   "cell_type": "code",
   "execution_count": 5,
   "metadata": {
    "collapsed": false
   },
   "outputs": [
    {
     "data": {
      "text/plain": [
       "True"
      ]
     },
     "execution_count": 5,
     "metadata": {},
     "output_type": "execute_result"
    }
   ],
   "source": [
    "'Doug' == 'Doug'"
   ]
  },
  {
   "cell_type": "code",
   "execution_count": 7,
   "metadata": {
    "collapsed": false
   },
   "outputs": [
    {
     "data": {
      "text/plain": [
       "True"
      ]
     },
     "execution_count": 7,
     "metadata": {},
     "output_type": "execute_result"
    }
   ],
   "source": [
    "'Doug'.lower() == 'doug'"
   ]
  },
  {
   "cell_type": "code",
   "execution_count": 8,
   "metadata": {
    "collapsed": false
   },
   "outputs": [
    {
     "data": {
      "text/plain": [
       "False"
      ]
     },
     "execution_count": 8,
     "metadata": {},
     "output_type": "execute_result"
    }
   ],
   "source": [
    "'5' == 5"
   ]
  },
  {
   "cell_type": "code",
   "execution_count": 9,
   "metadata": {
    "collapsed": false
   },
   "outputs": [
    {
     "data": {
      "text/plain": [
       "True"
      ]
     },
     "execution_count": 9,
     "metadata": {},
     "output_type": "execute_result"
    }
   ],
   "source": [
    "int('5') == 5"
   ]
  },
  {
   "cell_type": "code",
   "execution_count": 10,
   "metadata": {
    "collapsed": false
   },
   "outputs": [
    {
     "data": {
      "text/plain": [
       "True"
      ]
     },
     "execution_count": 10,
     "metadata": {},
     "output_type": "execute_result"
    }
   ],
   "source": [
    "5 != 4"
   ]
  },
  {
   "cell_type": "code",
   "execution_count": 12,
   "metadata": {
    "collapsed": false
   },
   "outputs": [
    {
     "data": {
      "text/plain": [
       "False"
      ]
     },
     "execution_count": 12,
     "metadata": {},
     "output_type": "execute_result"
    }
   ],
   "source": [
    "5 != 5"
   ]
  },
  {
   "cell_type": "code",
   "execution_count": 13,
   "metadata": {
    "collapsed": false
   },
   "outputs": [
    {
     "data": {
      "text/plain": [
       "True"
      ]
     },
     "execution_count": 13,
     "metadata": {},
     "output_type": "execute_result"
    }
   ],
   "source": [
    "3 <=5 "
   ]
  },
  {
   "cell_type": "code",
   "execution_count": 15,
   "metadata": {
    "collapsed": false
   },
   "outputs": [
    {
     "data": {
      "text/plain": [
       "False"
      ]
     },
     "execution_count": 15,
     "metadata": {},
     "output_type": "execute_result"
    }
   ],
   "source": [
    "3 >= 5"
   ]
  },
  {
   "cell_type": "markdown",
   "metadata": {},
   "source": [
    "### Checking if an item is in a list\n",
    "\n",
    "We can also check to see if an item is or isn't in a list:"
   ]
  },
  {
   "cell_type": "code",
   "execution_count": 17,
   "metadata": {
    "collapsed": false
   },
   "outputs": [
    {
     "name": "stdout",
     "output_type": "stream",
     "text": [
      "True\n",
      "False\n",
      "False\n",
      "True\n"
     ]
    }
   ],
   "source": [
    "dogs = ['pit bull', 'labrador', 'border collie']\n",
    "print( 'pit bull' in dogs)\n",
    "print('pit bull' not in dogs)\n",
    "print('german shepherd' in dogs)\n",
    "print('german shepherd' not in dogs)"
   ]
  },
  {
   "cell_type": "markdown",
   "metadata": {},
   "source": [
    "### Assignment versus comparison\n",
    "\n",
    "Note that there is a BIG difference between = and ==. Look at the code below:"
   ]
  },
  {
   "cell_type": "code",
   "execution_count": 39,
   "metadata": {
    "collapsed": false
   },
   "outputs": [
    {
     "name": "stdout",
     "output_type": "stream",
     "text": [
      "Hi, Joe!\n"
     ]
    }
   ],
   "source": [
    "name = \"Joe\"\n",
    "if name == \"Joe\":\n",
    "    print(\"Hi, Joe!\")"
   ]
  },
  {
   "cell_type": "markdown",
   "metadata": {},
   "source": [
    "In the code below, nothing would print because Jack's name isn't Joe:"
   ]
  },
  {
   "cell_type": "code",
   "execution_count": 1,
   "metadata": {
    "collapsed": true
   },
   "outputs": [],
   "source": [
    "name = \"Jack\"\n",
    "if name == \"Joe\":\n",
    "    print(\"Hi, Joe!\")"
   ]
  },
  {
   "cell_type": "markdown",
   "metadata": {},
   "source": [
    "### Exercise - big numbers\n",
    "Write a program to figure out what number is bigger, 2^10 or 3^7.\n",
    "\n"
   ]
  },
  {
   "cell_type": "code",
   "execution_count": 2,
   "metadata": {
    "collapsed": false
   },
   "outputs": [],
   "source": [
    "#insert code here"
   ]
  },
  {
   "cell_type": "markdown",
   "metadata": {},
   "source": [
    "### Exercise - big numbers 2\n",
    "Write a program to figure out what number is bigger, 2^32 or 4^16."
   ]
  },
  {
   "cell_type": "code",
   "execution_count": null,
   "metadata": {
    "collapsed": true
   },
   "outputs": [],
   "source": [
    "#insert code here"
   ]
  },
  {
   "cell_type": "markdown",
   "metadata": {},
   "source": [
    "### Exercise - Z\n",
    "Write a program that takes in a user's word and figures out if there is a \"Z\" in the word."
   ]
  },
  {
   "cell_type": "code",
   "execution_count": 3,
   "metadata": {
    "collapsed": true
   },
   "outputs": [],
   "source": [
    "#insert Z code"
   ]
  },
  {
   "cell_type": "markdown",
   "metadata": {},
   "source": [
    "### Exercise - unlucky\n",
    "Write a program that takes in a list of numbers and figures out if the number 13 is in the list."
   ]
  },
  {
   "cell_type": "code",
   "execution_count": null,
   "metadata": {
    "collapsed": true
   },
   "outputs": [],
   "source": [
    "#insert code here"
   ]
  },
  {
   "cell_type": "markdown",
   "metadata": {},
   "source": [
    "### Exercise - Python\n",
    "Write a program that takes in a user's sentence and figures out if the word \"Python\" is in the sentence. "
   ]
  },
  {
   "cell_type": "code",
   "execution_count": null,
   "metadata": {
    "collapsed": false
   },
   "outputs": [],
   "source": [
    "#insert python code"
   ]
  },
  {
   "cell_type": "markdown",
   "metadata": {},
   "source": [
    "### Exercise - Repeat\n",
    "Write a program that takes in a user's sentence and figures out if the first word in the sentence appears again. For example, if my sentence is \"Python is a better language because Python is easy to read\" then the program would return \"Python is repeated!\""
   ]
  },
  {
   "cell_type": "code",
   "execution_count": 3,
   "metadata": {
    "collapsed": true
   },
   "outputs": [],
   "source": [
    "#insert python code"
   ]
  },
  {
   "cell_type": "markdown",
   "metadata": {},
   "source": [
    "If Statements\n",
    "---\n",
    "<a class=\"anchor\" id=\"logical\"></a>\n",
    "\n",
    "The simplest test has a single if statement, and a single statement to execute if the condition is True."
   ]
  },
  {
   "cell_type": "code",
   "execution_count": 25,
   "metadata": {
    "collapsed": false
   },
   "outputs": [
    {
     "name": "stdout",
     "output_type": "stream",
     "text": [
      "Wow, you have a lot of dogs!\n",
      "Do you have to vacuum a lot?\n",
      "I have two dogs.\n"
     ]
    }
   ],
   "source": [
    "dogs = ['willie', 'hootz', 'peso', 'juno']\n",
    "\n",
    "if len(dogs) > 3:\n",
    "    print(\"Wow, you have a lot of dogs!\")\n",
    "    print('Do you have to vacuum a lot?')\n",
    "print('I have two dogs.')"
   ]
  },
  {
   "cell_type": "markdown",
   "metadata": {},
   "source": [
    "In this situation, nothing happens if the test does not pass."
   ]
  },
  {
   "cell_type": "code",
   "execution_count": 23,
   "metadata": {
    "collapsed": false
   },
   "outputs": [
    {
     "name": "stdout",
     "output_type": "stream",
     "text": [
      "I have two dogs.\n"
     ]
    }
   ],
   "source": [
    "dogs = ['willie', 'hootz']\n",
    "\n",
    "if len(dogs) > 3:\n",
    "    print(\"Wow, we have a lot of dogs here!\")\n",
    "print('I have two dogs.')"
   ]
  },
  {
   "cell_type": "markdown",
   "metadata": {},
   "source": [
    "Notice that just like for loops, anything that you want to execute inside the if statement needs to be indented."
   ]
  },
  {
   "cell_type": "markdown",
   "metadata": {},
   "source": [
    "### If Then Statements\n",
    "Many times you will want to respond in two possible ways to a test. If the test evaluates to True, you will want to do one thing. If the test evaluates to False, you will want to do something else. The if-else structure lets you do that easily. Here's what it looks like:"
   ]
  },
  {
   "cell_type": "code",
   "execution_count": 26,
   "metadata": {
    "collapsed": false
   },
   "outputs": [
    {
     "name": "stdout",
     "output_type": "stream",
     "text": [
      "Wow, we have a lot of dogs here!\n"
     ]
    }
   ],
   "source": [
    "dogs = ['willie', 'hootz', 'peso', 'juno']\n",
    "\n",
    "if len(dogs) > 3:\n",
    "    print(\"Wow, we have a lot of dogs here!\")\n",
    "else:\n",
    "    print(\"Okay, this is a reasonable number of dogs.\")"
   ]
  },
  {
   "cell_type": "markdown",
   "metadata": {},
   "source": [
    "Notice that while you will need to specify a condition after the word \"if\", you won't put anything after the word \"else\" except for a colon sign. Here's another example:"
   ]
  },
  {
   "cell_type": "code",
   "execution_count": 28,
   "metadata": {
    "collapsed": false
   },
   "outputs": [
    {
     "name": "stdout",
     "output_type": "stream",
     "text": [
      "You don't have a dog named Rover.\n"
     ]
    }
   ],
   "source": [
    "dogs = ['willie', 'hootz', 'peso', 'juno']\n",
    "\n",
    "if 'Rover' in dogs:\n",
    "    print(\"Rover is one of your dogs.\")\n",
    "else:\n",
    "    print(\"You don't have a dog named Rover.\")"
   ]
  },
  {
   "cell_type": "markdown",
   "metadata": {},
   "source": [
    "### Exercise - Password\n",
    "Write a program that asks for a user's secret password. If the password is \"Kanye\", print \"You guessed correctly!\" Otherwise, print \"Sorry, you can't come in.\""
   ]
  },
  {
   "cell_type": "code",
   "execution_count": 41,
   "metadata": {
    "collapsed": true
   },
   "outputs": [],
   "source": [
    "#insert password code"
   ]
  },
  {
   "cell_type": "markdown",
   "metadata": {},
   "source": [
    "### Exercise - height\n",
    "Write a program that asks for a user's height in inches. If the user is 71 inches, print \"You are the same height as Brad Pitt!\" Otherwise, print \"Sorry, you aren't Brad Pitt's height.\""
   ]
  },
  {
   "cell_type": "code",
   "execution_count": null,
   "metadata": {
    "collapsed": true
   },
   "outputs": [],
   "source": [
    "#insert height code"
   ]
  },
  {
   "cell_type": "markdown",
   "metadata": {},
   "source": [
    "### Exercise - Kanye's my friend\n",
    "Write a program that asks for a user's list of friends in a single input. Break up the input into names. If Kanye is in the list of names, print \"Kanye is your friend!\" Otherwise, print \"Sorry, you aren't friends with Kanye.\""
   ]
  },
  {
   "cell_type": "code",
   "execution_count": null,
   "metadata": {
    "collapsed": true
   },
   "outputs": [],
   "source": [
    "#insert kanye 2 code"
   ]
  },
  {
   "cell_type": "markdown",
   "metadata": {},
   "source": [
    "### Exercise - Fix/Start\n",
    "Write code that takes a string and returns every occurrence of the FIRST letter after the first occurrence of that letter with an asterisk. For example, \"babble\" would turn into \"ba**le\" and \"aardvark\" to \"a*rdv*rk\""
   ]
  },
  {
   "cell_type": "code",
   "execution_count": 2,
   "metadata": {
    "collapsed": false
   },
   "outputs": [],
   "source": [
    "#insert fix/start 1"
   ]
  },
  {
   "cell_type": "markdown",
   "metadata": {},
   "source": [
    "### Exercise - Fix/Start 2\n",
    "Write code that takes a string and returns every occurence of a letter after the first occurrence of that letter with an asterisk. For example, \"babble\" would turn into \"ba**le\" and \"aardvark\" to \"a*rdv**k\""
   ]
  },
  {
   "cell_type": "code",
   "execution_count": 1,
   "metadata": {
    "collapsed": false
   },
   "outputs": [],
   "source": [
    "#insert Fix/Start code 2\n",
    "\n"
   ]
  },
  {
   "cell_type": "markdown",
   "metadata": {},
   "source": [
    "### Exercise - not bad\n",
    "Write a program that takes a string and finds the first appearance of the word \"not\" and \"bad\". If \"bad\" follows \"not\", then replace \"not bad\" with \"good\". So, \"This dinner is not bad\" would become \"This dinner is good\". Or, \"This dinner is not so bad\" would also turn into \"This dinner is good.\""
   ]
  },
  {
   "cell_type": "code",
   "execution_count": 3,
   "metadata": {
    "collapsed": false
   },
   "outputs": [],
   "source": [
    "#insert not bad\n"
   ]
  },
  {
   "cell_type": "markdown",
   "metadata": {},
   "source": [
    "### Exercise - front back\n",
    "Divide two strings into two halves. If the string is odd, give the middle letter to the first half. For example, \"abcde\" would get divided into \"abc\" and \"de\". Print the first two halves and then the second two halves. For example, the strings \"abcde\" and \"xy\" would return \"abcxdey\"."
   ]
  },
  {
   "cell_type": "code",
   "execution_count": 4,
   "metadata": {
    "collapsed": false
   },
   "outputs": [],
   "source": [
    "#insert front back"
   ]
  },
  {
   "cell_type": "markdown",
   "metadata": {},
   "source": [
    "### Exercise - X\n",
    "Given a list of strings, return the strings sorted in alphabetical order, except any of the strings beginning with an x should come first (in alphabetical order). For example, the list \"apple\", \"fruit\", \"xyz\", \"banana\", \"xanadu\" would become \"xanadu\", \"xyz\", \"apple\", \"banana\", \"fruit\""
   ]
  },
  {
   "cell_type": "code",
   "execution_count": 5,
   "metadata": {
    "collapsed": false
   },
   "outputs": [],
   "source": [
    "#insert x\n"
   ]
  },
  {
   "cell_type": "markdown",
   "metadata": {},
   "source": [
    "### Exercise - remove adjacents\n",
    "Write a program that removes adjacent numbers next to each other. For example, [1,2,2,3] would reduce to [1,2,3] and [1,2,2,3,2] would reduce to [1,2,3,2]."
   ]
  },
  {
   "cell_type": "code",
   "execution_count": 6,
   "metadata": {
    "collapsed": false
   },
   "outputs": [],
   "source": [
    "#insert remove adjacents"
   ]
  },
  {
   "cell_type": "markdown",
   "metadata": {},
   "source": [
    "### If-Elif-Then\n",
    "If we have more than two options, we'll want to use if for the first statement, else for the last statement, and all statements in between will be \"else if\", denoted \"elif.\" Here's any example:"
   ]
  },
  {
   "cell_type": "code",
   "execution_count": 30,
   "metadata": {
    "collapsed": false
   },
   "outputs": [
    {
     "name": "stdout",
     "output_type": "stream",
     "text": [
      "Wow, we have a lot of dogs here!\n"
     ]
    }
   ],
   "source": [
    "dogs = ['willie', 'hootz', 'peso', 'monty', 'juno']\n",
    "\n",
    "if len(dogs) >= 6:\n",
    "    print(\"Holy mackerel, we might as well start a dog hostel!\")\n",
    "elif len(dogs) >= 4:\n",
    "    print(\"Wow, we have a lot of dogs here!\")\n",
    "elif len(dogs) >= 2:\n",
    "    print(\"Hmm, you seem to really like dogs.\")\n",
    "else:\n",
    "    print(\"Okay, this is a reasonable number of dogs.\")"
   ]
  },
  {
   "cell_type": "markdown",
   "metadata": {},
   "source": [
    "Notice that the statements get executed in the order that they are listed. If we had reversed the statements, we might have a problem if we wanted to specify that she has at least four dogs:"
   ]
  },
  {
   "cell_type": "code",
   "execution_count": 31,
   "metadata": {
    "collapsed": false
   },
   "outputs": [
    {
     "name": "stdout",
     "output_type": "stream",
     "text": [
      "Hmm, you seem to really like dogs.\n"
     ]
    }
   ],
   "source": [
    "dogs = ['willie', 'hootz', 'peso', 'monty', 'juno']\n",
    "\n",
    "if len(dogs) >= 2:\n",
    "    print(\"Hmm, you seem to really like dogs.\")\n",
    "elif len(dogs) >= 4:\n",
    "    print(\"Wow, we have a lot of dogs here!\")\n",
    "elif len(dogs) >= 6:\n",
    "    print(\"Holy mackerel, we might as well start a dog hostel!\")\n",
    "else:\n",
    "    print(\"Okay, this is a reasonable number of dogs.\")"
   ]
  },
  {
   "cell_type": "markdown",
   "metadata": {},
   "source": [
    "We can be more specific by using two-sided inequalities. Then, it won't matter what order we list these statements in:"
   ]
  },
  {
   "cell_type": "code",
   "execution_count": 32,
   "metadata": {
    "collapsed": false
   },
   "outputs": [
    {
     "name": "stdout",
     "output_type": "stream",
     "text": [
      "Wow, we have a lot of dogs here!\n"
     ]
    }
   ],
   "source": [
    "dogs = ['willie', 'hootz', 'peso', 'monty', 'juno']\n",
    "\n",
    "if 4 > len(dogs) >= 2:\n",
    "    print(\"Hmm, you seem to really like dogs.\")\n",
    "elif 6 > len(dogs) >= 4:\n",
    "    print(\"Wow, we have a lot of dogs here!\")\n",
    "elif len(dogs) >= 6:\n",
    "    print(\"Holy mackerel, we might as well start a dog hostel!\")\n",
    "else:\n",
    "    print(\"Okay, this is a reasonable number of dogs.\")"
   ]
  },
  {
   "cell_type": "markdown",
   "metadata": {},
   "source": [
    "### Exercise - How big is your number?\n",
    "Write a program that takes in a user's number and returns a sentence about whether it is positive, negative, or zero. For instance, if the user enters the number 100 your program should return \"100 is positive.\""
   ]
  },
  {
   "cell_type": "code",
   "execution_count": 4,
   "metadata": {
    "collapsed": true
   },
   "outputs": [],
   "source": [
    "#insert big"
   ]
  },
  {
   "cell_type": "markdown",
   "metadata": {},
   "source": [
    "### Exercise -  Three is a Crowd\n",
    "- Make a list of names that includes at least four people.\n",
    "- Write an if test that prints a message about the room being crowded, if there are more than three people in your list.\n",
    "- Modify your list so that there are only two people in it. Use one of the methods for removing people from the list, don't just redefine the list.\n",
    "- Run your if test again. There should be no output this time, because there are less than three people in the list."
   ]
  },
  {
   "cell_type": "code",
   "execution_count": null,
   "metadata": {
    "collapsed": true
   },
   "outputs": [],
   "source": [
    "#insert crowd code here"
   ]
  },
  {
   "cell_type": "markdown",
   "metadata": {},
   "source": [
    "### Exercise - Crowd Part II\n",
    "Add an `else` statement to your if tests. If the `else` statement is run, have it print a message that the room is not very crowded."
   ]
  },
  {
   "cell_type": "code",
   "execution_count": 33,
   "metadata": {
    "collapsed": true
   },
   "outputs": [],
   "source": [
    "#insert crowd code here"
   ]
  },
  {
   "cell_type": "markdown",
   "metadata": {},
   "source": [
    "### Exercise - Crowd Part III\n",
    "- Add some names to your list, so that there are at least six people in the list.\n",
    "- Modify your tests so that\n",
    "    - If there are more than 5 people, a message is printed about there being a mob in the room.\n",
    "    - If there are 3-5 people, a message is printed about the room being crowded.\n",
    "    - If there are 1 or 2 people, a message is printed about the room not being crowded.\n",
    "    - If there are no people in the room, a message is printed abou the room being empty."
   ]
  },
  {
   "cell_type": "code",
   "execution_count": 34,
   "metadata": {
    "collapsed": true
   },
   "outputs": [],
   "source": [
    "#insert code here"
   ]
  },
  {
   "cell_type": "markdown",
   "metadata": {},
   "source": [
    "### Nested If Statements\n",
    "We can insert if statements within other if statements. Look at the following example:"
   ]
  },
  {
   "cell_type": "code",
   "execution_count": 36,
   "metadata": {
    "collapsed": false
   },
   "outputs": [
    {
     "name": "stdout",
     "output_type": "stream",
     "text": [
      "Is it sunny out (yes/no) ?yes\n",
      "Is it really humid? (yes/no)yes\n",
      "It's too hot to go outside.\n"
     ]
    }
   ],
   "source": [
    "sunny = input('Is it sunny out (yes/no) ?')\n",
    "if sunny == 'yes':\n",
    "    temp = input('Is it really humid? (yes/no)? ')\n",
    "    if temp == 'yes':\n",
    "        print(\"It's too hot to go outside.\")\n",
    "    else:\n",
    "        print(\"Let's go play!\")\n",
    "else:\n",
    "    print(\"It isn't sunny out let's go to the movies.\")"
   ]
  },
  {
   "cell_type": "markdown",
   "metadata": {},
   "source": [
    "Here's another example:\n"
   ]
  },
  {
   "cell_type": "code",
   "execution_count": 37,
   "metadata": {
    "collapsed": false
   },
   "outputs": [
    {
     "name": "stdout",
     "output_type": "stream",
     "text": [
      "What is your number? 1000\n",
      "You have a REALLY big positive number.\n"
     ]
    }
   ],
   "source": [
    "number = int(input('What is your number? '))\n",
    "if number < 0:\n",
    "    if number < -100:\n",
    "        print(\"You have a REALLY negative number.\")\n",
    "    else:\n",
    "        print('You have a small negative number.')\n",
    "elif number == 0:\n",
    "    print('Your number is zero.')\n",
    "else:\n",
    "    if number > 100: \n",
    "        print('You have a REALLY big positive number.')\n",
    "    else:\n",
    "        print('You have a small positive number.')"
   ]
  },
  {
   "cell_type": "markdown",
   "metadata": {},
   "source": [
    "### Exercise - Lunch\n",
    "Write a program that asks what is for lunch. If it is pizza, print \"That's my favorite!\" and ask how long the line is. If the line is greater than 10 people, print \"We better get there early then.\" If it is pasta, print \"That's my second favorite!\" If it is anything else, print \"Let's go to McDonalds instead.\""
   ]
  },
  {
   "cell_type": "code",
   "execution_count": null,
   "metadata": {
    "collapsed": true
   },
   "outputs": [],
   "source": [
    "#insert lunch code"
   ]
  },
  {
   "cell_type": "markdown",
   "metadata": {},
   "source": [
    "### Exercise - Exercise\n",
    "Write a program that asks if it is sunny or not. If it is sunny, ask for what the temperature is. If the temperature is greater than 80, print \"It's too hot to exercise.\" If it is between 70 and 80 inclusive, print \"We should wear sunscreen.\" If it is less than 70, print \"I love exercising when it is cool!\""
   ]
  },
  {
   "cell_type": "code",
   "execution_count": 5,
   "metadata": {
    "collapsed": true
   },
   "outputs": [],
   "source": [
    "#insert exercise code"
   ]
  },
  {
   "cell_type": "markdown",
   "metadata": {},
   "source": [
    "### More String Functions\n",
    "There are many built-in string functions that return True or False. Look at the following examples:"
   ]
  },
  {
   "cell_type": "code",
   "execution_count": 42,
   "metadata": {
    "collapsed": false
   },
   "outputs": [
    {
     "name": "stdout",
     "output_type": "stream",
     "text": [
      "True\n",
      "False\n"
     ]
    }
   ],
   "source": [
    "name = 'kanye'\n",
    "print(name.islower())\n",
    "print(name.isupper())"
   ]
  },
  {
   "cell_type": "code",
   "execution_count": 43,
   "metadata": {
    "collapsed": false
   },
   "outputs": [
    {
     "name": "stdout",
     "output_type": "stream",
     "text": [
      "False\n",
      "True\n"
     ]
    }
   ],
   "source": [
    "name = 'KANYE'\n",
    "print(name.islower())\n",
    "print(name.isupper())"
   ]
  },
  {
   "cell_type": "markdown",
   "metadata": {},
   "source": [
    "Note: .islower() and .isupper() tests for whether or not the string is all lower or upper case. If you actually want to convert the string into a certain case, you need to use .upper() or .lower():"
   ]
  },
  {
   "cell_type": "code",
   "execution_count": 51,
   "metadata": {
    "collapsed": false
   },
   "outputs": [
    {
     "name": "stdout",
     "output_type": "stream",
     "text": [
      "False\n",
      "kanye\n",
      "True\n"
     ]
    }
   ],
   "source": [
    "name = 'KANYE'\n",
    "print(name.islower())\n",
    "lowername = name.lower()\n",
    "print(lowername)\n",
    "print(lowername.islower())"
   ]
  },
  {
   "cell_type": "markdown",
   "metadata": {},
   "source": [
    "We can also test whether strings can be classified as numbers:"
   ]
  },
  {
   "cell_type": "code",
   "execution_count": 47,
   "metadata": {
    "collapsed": false
   },
   "outputs": [
    {
     "name": "stdout",
     "output_type": "stream",
     "text": [
      "False\n"
     ]
    }
   ],
   "source": [
    "name = 'KANYE'\n",
    "print(name.isdigit())"
   ]
  },
  {
   "cell_type": "code",
   "execution_count": 48,
   "metadata": {
    "collapsed": false
   },
   "outputs": [
    {
     "name": "stdout",
     "output_type": "stream",
     "text": [
      "True\n"
     ]
    }
   ],
   "source": [
    "name = '1245'\n",
    "print(name.isdigit())"
   ]
  },
  {
   "cell_type": "markdown",
   "metadata": {},
   "source": [
    "### Exercise - caps?\n",
    "Write a program that takes in a user's word and decide if it is in all CAPS or not.\n"
   ]
  },
  {
   "cell_type": "code",
   "execution_count": null,
   "metadata": {
    "collapsed": true
   },
   "outputs": [],
   "source": [
    "#insert caps code"
   ]
  },
  {
   "cell_type": "markdown",
   "metadata": {},
   "source": [
    "### Exercise - proper noun\n",
    "Write a program that takes in a user's word and decide if the first letter is in caps or not."
   ]
  },
  {
   "cell_type": "code",
   "execution_count": 2,
   "metadata": {
    "collapsed": true
   },
   "outputs": [],
   "source": [
    "#insert proper noun code"
   ]
  },
  {
   "cell_type": "markdown",
   "metadata": {},
   "source": [
    "### Exercise - Triple\n",
    "Write a program that asks the user for input and tests whether or not the string is a number or not. If it is a number, then print out triple the number. If it can't be classified as a number, then return the word repeated three times. Remember: you can repeat a word by multiplying a word by a number."
   ]
  },
  {
   "cell_type": "code",
   "execution_count": 52,
   "metadata": {
    "collapsed": true
   },
   "outputs": [],
   "source": [
    "#insert triple code"
   ]
  },
  {
   "cell_type": "markdown",
   "metadata": {},
   "source": [
    "### Exercise - Find Kanye\n",
    "Write a program that asks the user for a sentence. If the capitalized word \"KANYE\" is in the sentence, print \"There is a big Kanye here!\" If the lower case word \"kanye\" is in the sentence, print \"There is a tiny kanye here!\" If \"Kanye\" is in mixed case, print \"There is a normal sized Kanye here.\" "
   ]
  },
  {
   "cell_type": "code",
   "execution_count": null,
   "metadata": {
    "collapsed": true
   },
   "outputs": [],
   "source": [
    "#insert find kanye"
   ]
  },
  {
   "cell_type": "markdown",
   "metadata": {},
   "source": [
    "Some Math\n",
    "---\n",
    "<a class=\"anchor\" id=\"math\"></a>\n"
   ]
  },
  {
   "cell_type": "markdown",
   "metadata": {},
   "source": [
    "There are some built in math functions that are useful. Consider the list of numbers:"
   ]
  },
  {
   "cell_type": "code",
   "execution_count": 62,
   "metadata": {
    "collapsed": false
   },
   "outputs": [
    {
     "name": "stdout",
     "output_type": "stream",
     "text": [
      "5000\n",
      "-100\n",
      "4922\n"
     ]
    }
   ],
   "source": [
    "numbers = [5, 7, 1, 9, -100, 5000, 0]\n",
    "print(max(numbers))\n",
    "print(min(numbers))\n",
    "print(sum(numbers))\n"
   ]
  },
  {
   "cell_type": "markdown",
   "metadata": {},
   "source": [
    "### Exercise - Some calculations\n",
    "Take in a user's list of numbers.\n",
    "If the max number is greater than 1000, print \"You've got a really big number in your list.\" If the minimum number is less than -1000, print \"You've got a really small number in your list.\" If the sum of the list is positive, print \"The sum of your terms is positive\", or else, print that it is negative."
   ]
  },
  {
   "cell_type": "code",
   "execution_count": null,
   "metadata": {
    "collapsed": true
   },
   "outputs": [],
   "source": [
    "#insert some calcuations"
   ]
  },
  {
   "cell_type": "markdown",
   "metadata": {},
   "source": [
    "### Exercise - Some calculations #2\n",
    "Take in a user's list of numbers.\n",
    "Print whether the sum of the numbers is positive, zero, or negative."
   ]
  },
  {
   "cell_type": "code",
   "execution_count": 7,
   "metadata": {
    "collapsed": true
   },
   "outputs": [],
   "source": [
    "#insert calculations 2"
   ]
  },
  {
   "cell_type": "markdown",
   "metadata": {},
   "source": [
    "### Exercise - Expenses\n",
    "Take in a user's list of expenses on one line. If the sum of the expenses is greater than $100, print \"Stop spending so much money!\" Otherwise, print, \"You budget well.\""
   ]
  },
  {
   "cell_type": "code",
   "execution_count": null,
   "metadata": {
    "collapsed": true
   },
   "outputs": [],
   "source": [
    "#insert expenses code"
   ]
  },
  {
   "cell_type": "markdown",
   "metadata": {},
   "source": [
    "### Exercise - Expenses 2\n",
    "Take in a user's list of expenses on one line. Suppose they originally had $100 in their account. Deduct the user's expenses. If their balance is still positive, print \"You've budgeted well.\" If the balance is zero, print, \"You're broke!\" If it's negative, print \"You owe money!\""
   ]
  },
  {
   "cell_type": "code",
   "execution_count": null,
   "metadata": {
    "collapsed": true
   },
   "outputs": [],
   "source": [
    "#insert expenses 2"
   ]
  },
  {
   "cell_type": "markdown",
   "metadata": {},
   "source": [
    "### Modulo\n",
    "Modulo is a math operator that returns the remainder. For example, 7 mod 2 is equal to 1, since 2 goes evenly into 7 three times, with a remainder of one. 6 mod 2, on the other hand, is exactly 0, since 6 is a multiple of 2. Here are some other examples:\n",
    "\n",
    "8 mod 5 = 3\n",
    "\n",
    "8 mod 3 = 2\n",
    "\n",
    "8 mod 7 = 1\n",
    "\n",
    "8 mod 4 = 0\n",
    "\n",
    "8 mod 8 = 0\n",
    "\n",
    "8 mod 9 = 8\n",
    "\n",
    "8 mod 10 = 8\n",
    "\n",
    "In Python, we use the % sign to denote the mod symbol:"
   ]
  },
  {
   "cell_type": "code",
   "execution_count": 66,
   "metadata": {
    "collapsed": false
   },
   "outputs": [
    {
     "name": "stdout",
     "output_type": "stream",
     "text": [
      "1\n"
     ]
    }
   ],
   "source": [
    "print(16 % 5) "
   ]
  },
  {
   "cell_type": "markdown",
   "metadata": {},
   "source": [
    "The mod function often comes up when we want to test whether a number is even or odd, since all even numbers mod 2 are zero and all odd numbers mod 2 are 1. \n",
    "\n",
    "In addition, the mod function helps us determine whether a number is a factor of another number, since when n is a factor of m, n % m = 0.\n"
   ]
  },
  {
   "cell_type": "markdown",
   "metadata": {},
   "source": [
    "### Exercise - Even/odd\n",
    "Take in a user's number and determine whether it is even or odd."
   ]
  },
  {
   "cell_type": "code",
   "execution_count": null,
   "metadata": {
    "collapsed": true
   },
   "outputs": [],
   "source": [
    "#insert even/odd code"
   ]
  },
  {
   "cell_type": "markdown",
   "metadata": {},
   "source": [
    "### Exercise - Even/odd 2\n",
    "Take in a user's list of numbers and determine whether the sum of the numbers is even or odd."
   ]
  },
  {
   "cell_type": "code",
   "execution_count": 67,
   "metadata": {
    "collapsed": true
   },
   "outputs": [],
   "source": [
    "#insert even/odd 2"
   ]
  },
  {
   "cell_type": "markdown",
   "metadata": {},
   "source": [
    "### Exercise - all evens\n",
    "Write a program that takes in a user's number and prints all of the even numbers between 2 and that number, inclusive."
   ]
  },
  {
   "cell_type": "code",
   "execution_count": 71,
   "metadata": {
    "collapsed": true
   },
   "outputs": [],
   "source": [
    "#insert all evens"
   ]
  },
  {
   "cell_type": "markdown",
   "metadata": {},
   "source": [
    "### Exercise - multiples of 5\n",
    "Write a program that takes in a user's number and determines whether it is a multiple of 5."
   ]
  },
  {
   "cell_type": "code",
   "execution_count": 68,
   "metadata": {
    "collapsed": true
   },
   "outputs": [],
   "source": [
    "#insert multiples of 5 code"
   ]
  },
  {
   "cell_type": "markdown",
   "metadata": {},
   "source": [
    "### Exercise - factor of 120\n",
    "Write a program that takes in a user's number and determines whether it is a factor of 120."
   ]
  },
  {
   "cell_type": "code",
   "execution_count": 69,
   "metadata": {
    "collapsed": true
   },
   "outputs": [],
   "source": [
    "#insert factor code"
   ]
  },
  {
   "cell_type": "markdown",
   "metadata": {},
   "source": [
    "### Exercise - all factors\n",
    "Write a program that takes in a user's number and prints out all of the factors of that number between 1 and that number, inclusive."
   ]
  },
  {
   "cell_type": "code",
   "execution_count": 70,
   "metadata": {
    "collapsed": true
   },
   "outputs": [],
   "source": [
    "#insert all factors code"
   ]
  },
  {
   "cell_type": "markdown",
   "metadata": {},
   "source": [
    "More Logical Operators\n",
    "---\n",
    "<a class=\"anchor\" id=\"morelog\"></a>"
   ]
  },
  {
   "cell_type": "markdown",
   "metadata": {},
   "source": [
    "What if we have more than one condition that we need to satisfy in order to execute a statement? In that case, we can use the \"and\" operator.\n",
    "\n",
    "For example, suppose in the following list we only want to print positive numbers that are even. Then we could type:\n"
   ]
  },
  {
   "cell_type": "code",
   "execution_count": 2,
   "metadata": {
    "collapsed": false
   },
   "outputs": [
    {
     "name": "stdout",
     "output_type": "stream",
     "text": [
      "4\n",
      "6\n",
      "8\n",
      "100\n"
     ]
    }
   ],
   "source": [
    "numbers = [-1,4,-5,6,8,-2,3,-4, 7, 100]\n",
    "for number in numbers:\n",
    "    if number > 0 and number % 2 == 0:\n",
    "        print(number)\n"
   ]
  },
  {
   "cell_type": "markdown",
   "metadata": {},
   "source": [
    "Suppose instead that we want to print the numbers that are positive OR even (meaning, positive, even, or both positive and even). Then we could use \"or\":"
   ]
  },
  {
   "cell_type": "code",
   "execution_count": 3,
   "metadata": {
    "collapsed": false
   },
   "outputs": [
    {
     "name": "stdout",
     "output_type": "stream",
     "text": [
      "4\n",
      "6\n",
      "8\n",
      "-2\n",
      "3\n",
      "-4\n",
      "7\n",
      "100\n"
     ]
    }
   ],
   "source": [
    "numbers = [-1,4,-5,6,8,-2,3,-4, 7, 100]\n",
    "for number in numbers:\n",
    "    if number > 0 or number % 2 == 0:\n",
    "        print(number)\n"
   ]
  },
  {
   "cell_type": "markdown",
   "metadata": {},
   "source": [
    "Boolean Variables\n",
    "---\n",
    "<a class=\"anchor\" id=\"booleans\"></a>\n",
    "Booleans are variables that have the value True or False. Here are some examples:"
   ]
  },
  {
   "cell_type": "code",
   "execution_count": 72,
   "metadata": {
    "collapsed": false
   },
   "outputs": [
    {
     "name": "stdout",
     "output_type": "stream",
     "text": [
      "Your number is even\n"
     ]
    }
   ],
   "source": [
    "even = True\n",
    "if even == True:\n",
    "    print('Your number is even')\n",
    "else:\n",
    "    print('Your Number is odd')"
   ]
  },
  {
   "cell_type": "code",
   "execution_count": 76,
   "metadata": {
    "collapsed": false
   },
   "outputs": [
    {
     "name": "stdout",
     "output_type": "stream",
     "text": [
      "gimme a number: 3\n",
      "Even: False\n"
     ]
    }
   ],
   "source": [
    "number = int(input('gimme a number: '))\n",
    "if number % 2 == 0:\n",
    "    even = True\n",
    "else:\n",
    "    even = False\n",
    "print('Even:', even)"
   ]
  },
  {
   "cell_type": "markdown",
   "metadata": {},
   "source": [
    "We can use Booleans inside for loops. We first need to initialize them with a value, though. Consider this example:\n",
    "    "
   ]
  },
  {
   "cell_type": "code",
   "execution_count": 80,
   "metadata": {
    "collapsed": false
   },
   "outputs": [
    {
     "name": "stdout",
     "output_type": "stream",
     "text": [
      "You have an even number in your list.\n"
     ]
    }
   ],
   "source": [
    "numbers = [5, 3, 7, 9, 1, 2, 15]\n",
    "even = False\n",
    "\n",
    "for number in numbers:\n",
    "    if number % 2 == 0:\n",
    "        even = True\n",
    "        \n",
    "if even == True:\n",
    "    print('You have an even number in your list.')\n",
    "else:\n",
    "    print('You have no even numbers in your list.')"
   ]
  },
  {
   "cell_type": "markdown",
   "metadata": {},
   "source": [
    "### Exercise - multiples \n",
    "Write a program that prints \"Yes! Your number is a multiple of both 4 and 5!\" if the user's number is a multiple of both 4 and 5 and \"Cool! Your number is a multiple of 4 or 5!\" if the user's number is a multiple of at least one of them. Otherwise, print \"Sorry, 4 and 5 are not factors of your number.\""
   ]
  },
  {
   "cell_type": "code",
   "execution_count": 8,
   "metadata": {
    "collapsed": true
   },
   "outputs": [],
   "source": [
    "#insert multiples"
   ]
  },
  {
   "cell_type": "markdown",
   "metadata": {},
   "source": [
    "### Exercise - negatives\n",
    "Take in a user's list of colors. If there are any negative numbers in the list, print \"You have a negative in your list.\" Otherwise, indicate that they do not. Use a stored Boolean."
   ]
  },
  {
   "cell_type": "code",
   "execution_count": 81,
   "metadata": {
    "collapsed": true
   },
   "outputs": [],
   "source": [
    "#insert negative code"
   ]
  },
  {
   "cell_type": "markdown",
   "metadata": {},
   "source": [
    "### Exercise - pay\n",
    "Write a program that asks the user for their pay rate and the numbers of hours worked. Write a program that prints out their total pay if they get their normal pay rate for the first 40 hours worked and 1.5 times their hourly rate for any overtime hours worked."
   ]
  },
  {
   "cell_type": "code",
   "execution_count": 1,
   "metadata": {
    "collapsed": true
   },
   "outputs": [],
   "source": [
    "### insert pay code"
   ]
  },
  {
   "cell_type": "markdown",
   "metadata": {},
   "source": [
    "### Exercise - factors of 120\n",
    "Take in a user's numbers. Determine if any of them are a factor of 120. If at least one of them is, print \"You have a factor of 120 in your list.\" Otherwise, indicate that they do not. Use a stored Boolean."
   ]
  },
  {
   "cell_type": "code",
   "execution_count": 82,
   "metadata": {
    "collapsed": true
   },
   "outputs": [],
   "source": [
    "#insert factors code"
   ]
  },
  {
   "cell_type": "markdown",
   "metadata": {},
   "source": [
    "### Exercise - prime\n",
    "Take in a user's number and determine if it is prime using a Boolean variable. A prime number has only 1 and itself as factors. Hint: You may want to use the range function between 2 and one less than the number."
   ]
  },
  {
   "cell_type": "code",
   "execution_count": 83,
   "metadata": {
    "collapsed": true
   },
   "outputs": [],
   "source": [
    "#insert prime code here"
   ]
  },
  {
   "cell_type": "markdown",
   "metadata": {},
   "source": [
    "### Exercise - Find Kanye\n",
    "Write a program that asks the user for a sentence. If the capitalized word \"KANYE\" is in the sentence, print \"There is a big Kanye here!\" If the lower case word \"kanye\" is in the sentence, print \"There is a tiny kanye here!\" If \"Kanye\" is in mixed case, print \"There is a normal sized Kanye here.\" Otherwise, print, \"There is no Kanye here!\""
   ]
  },
  {
   "cell_type": "code",
   "execution_count": null,
   "metadata": {
    "collapsed": true
   },
   "outputs": [],
   "source": [
    "#insert find kanye"
   ]
  },
  {
   "cell_type": "markdown",
   "metadata": {},
   "source": [
    "### Exercise - Kanye again\n",
    "Update your previous code to check if Kanye is contained anywhere in the word. For example \"kanyepants\" should register that Kanye is there."
   ]
  },
  {
   "cell_type": "code",
   "execution_count": 2,
   "metadata": {
    "collapsed": true
   },
   "outputs": [],
   "source": [
    "#insert kanye again"
   ]
  },
  {
   "cell_type": "markdown",
   "metadata": {},
   "source": [
    "### Weird if statements\n",
    "One last thing about if statements. If the value is nonzero or nonempty, then an if statement evaluates to true:"
   ]
  },
  {
   "cell_type": "code",
   "execution_count": 85,
   "metadata": {
    "collapsed": false
   },
   "outputs": [
    {
     "name": "stdout",
     "output_type": "stream",
     "text": [
      "This is evaluates to False.\n"
     ]
    }
   ],
   "source": [
    "if 0:\n",
    "    print('This is evaluates to True.')\n",
    "else:\n",
    "    print('This is evaluates to False.')"
   ]
  },
  {
   "cell_type": "code",
   "execution_count": 86,
   "metadata": {
    "collapsed": false
   },
   "outputs": [
    {
     "name": "stdout",
     "output_type": "stream",
     "text": [
      "This is evaluates to True.\n"
     ]
    }
   ],
   "source": [
    "if 100:\n",
    "    print('This is evaluates to True.')\n",
    "else:\n",
    "    print('This is evaluates to False.')"
   ]
  },
  {
   "cell_type": "code",
   "execution_count": 87,
   "metadata": {
    "collapsed": false
   },
   "outputs": [
    {
     "name": "stdout",
     "output_type": "stream",
     "text": [
      "This is evaluates to True.\n"
     ]
    }
   ],
   "source": [
    "if -1:\n",
    "    print('This is evaluates to True.')\n",
    "else:\n",
    "    print('This is evaluates to False.')"
   ]
  },
  {
   "cell_type": "code",
   "execution_count": 88,
   "metadata": {
    "collapsed": false
   },
   "outputs": [
    {
     "name": "stdout",
     "output_type": "stream",
     "text": [
      "This is evaluates to False.\n"
     ]
    }
   ],
   "source": [
    "if '':\n",
    "    print('This is evaluates to True.')\n",
    "else:\n",
    "    print('This is evaluates to False.')"
   ]
  },
  {
   "cell_type": "code",
   "execution_count": 89,
   "metadata": {
    "collapsed": false
   },
   "outputs": [
    {
     "name": "stdout",
     "output_type": "stream",
     "text": [
      "This is evaluates to True.\n"
     ]
    }
   ],
   "source": [
    "if '  ':\n",
    "    print('This is evaluates to True.')\n",
    "else:\n",
    "    print('This is evaluates to False.')"
   ]
  },
  {
   "cell_type": "code",
   "execution_count": 90,
   "metadata": {
    "collapsed": false
   },
   "outputs": [
    {
     "name": "stdout",
     "output_type": "stream",
     "text": [
      "This is evaluates to True.\n"
     ]
    }
   ],
   "source": [
    "if 'hello':\n",
    "    print('This is evaluates to True.')\n",
    "else:\n",
    "    print('This is evaluates to False.')"
   ]
  }
 ],
 "metadata": {
  "kernelspec": {
   "display_name": "Python 3",
   "language": "python",
   "name": "python3"
  },
  "language_info": {
   "codemirror_mode": {
    "name": "ipython",
    "version": 3
   },
   "file_extension": ".py",
   "mimetype": "text/x-python",
   "name": "python",
   "nbconvert_exporter": "python",
   "pygments_lexer": "ipython3",
   "version": "3.6.0"
  }
 },
 "nbformat": 4,
 "nbformat_minor": 2
}
