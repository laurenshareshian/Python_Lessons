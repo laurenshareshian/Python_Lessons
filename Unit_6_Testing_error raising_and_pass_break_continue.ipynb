{
 "cells": [
  {
   "cell_type": "markdown",
   "metadata": {},
   "source": [
    "Contents\n",
    "---\n",
    "- [Testing](#testing)\n",
    "- [Error Raising](#error)\n",
    "- [Try Except](#try)\n",
    "- [Break, Continue, Pass](#break)"
   ]
  },
  {
   "cell_type": "markdown",
   "metadata": {},
   "source": [
    "Testing\n",
    "---\n",
    "<a class=\"anchor\" id=\"testing\"></a>"
   ]
  },
  {
   "cell_type": "markdown",
   "metadata": {},
   "source": [
    "Testing is of the utmost importance as programs grow in complexity. You can save yourself a lot of headache later on if you test that your program is working the way you expect as you build it. We can add test cases at the end of our program by using the assert command.\n",
    "\n",
    "For example, to test whether my sum function is working correctly, I'll add a few test cases:"
   ]
  },
  {
   "cell_type": "code",
   "execution_count": 2,
   "metadata": {
    "collapsed": false
   },
   "outputs": [],
   "source": [
    "def mysum(x,y):\n",
    "    return x+y\n",
    "\n",
    "assert mysum(3,8) == 11\n",
    "assert mysum(-1,10) == 9\n",
    "assert mysum(0,5) == 5"
   ]
  },
  {
   "cell_type": "markdown",
   "metadata": {},
   "source": [
    "What do you see? Not much. Since my program is working correctly, the assert command won't print out any errors. But what if my sum function was not working correctly? Let me change the sum to a product:"
   ]
  },
  {
   "cell_type": "code",
   "execution_count": 3,
   "metadata": {
    "collapsed": false
   },
   "outputs": [
    {
     "ename": "AssertionError",
     "evalue": "",
     "output_type": "error",
     "traceback": [
      "\u001b[0;31m---------------------------------------------------------------------------\u001b[0m",
      "\u001b[0;31mAssertionError\u001b[0m                            Traceback (most recent call last)",
      "\u001b[0;32m<ipython-input-3-863ca07aeaec>\u001b[0m in \u001b[0;36m<module>\u001b[0;34m()\u001b[0m\n\u001b[1;32m      2\u001b[0m     \u001b[0;32mreturn\u001b[0m \u001b[0mx\u001b[0m\u001b[0;34m*\u001b[0m\u001b[0my\u001b[0m\u001b[0;34m\u001b[0m\u001b[0m\n\u001b[1;32m      3\u001b[0m \u001b[0;34m\u001b[0m\u001b[0m\n\u001b[0;32m----> 4\u001b[0;31m \u001b[0;32massert\u001b[0m \u001b[0mmysum\u001b[0m\u001b[0;34m(\u001b[0m\u001b[0;36m3\u001b[0m\u001b[0;34m,\u001b[0m\u001b[0;36m8\u001b[0m\u001b[0;34m)\u001b[0m \u001b[0;34m==\u001b[0m \u001b[0;36m11\u001b[0m\u001b[0;34m\u001b[0m\u001b[0m\n\u001b[0m\u001b[1;32m      5\u001b[0m \u001b[0;32massert\u001b[0m \u001b[0mmysum\u001b[0m\u001b[0;34m(\u001b[0m\u001b[0;34m-\u001b[0m\u001b[0;36m1\u001b[0m\u001b[0;34m,\u001b[0m\u001b[0;36m10\u001b[0m\u001b[0;34m)\u001b[0m \u001b[0;34m==\u001b[0m \u001b[0;36m9\u001b[0m\u001b[0;34m\u001b[0m\u001b[0m\n\u001b[1;32m      6\u001b[0m \u001b[0;32massert\u001b[0m \u001b[0mmysum\u001b[0m\u001b[0;34m(\u001b[0m\u001b[0;36m0\u001b[0m\u001b[0;34m,\u001b[0m\u001b[0;36m5\u001b[0m\u001b[0;34m)\u001b[0m \u001b[0;34m==\u001b[0m \u001b[0;36m5\u001b[0m\u001b[0;34m\u001b[0m\u001b[0m\n",
      "\u001b[0;31mAssertionError\u001b[0m: "
     ]
    }
   ],
   "source": [
    "def mysum(x,y):\n",
    "    return x*y\n",
    "\n",
    "assert mysum(3,8) == 11\n",
    "assert mysum(-1,10) == 9\n",
    "assert mysum(0,5) == 5"
   ]
  },
  {
   "cell_type": "markdown",
   "metadata": {},
   "source": [
    "Now, an assertion error is raised."
   ]
  },
  {
   "cell_type": "markdown",
   "metadata": {},
   "source": [
    "Where might we want to add assertions? \n",
    "\n",
    " - checking parameter types, classes, or values\n",
    " - checking data structure invariants\n",
    " - checking \"can't happen\" situations (duplicates in a list, contradictory state variables.)\n",
    " - after calling a function, to make sure that its return is reasonable"
   ]
  },
  {
   "cell_type": "markdown",
   "metadata": {},
   "source": [
    "Above, we added assertions after calling the function, to make sure that its return was reasonable. Let's add some assertions inside the sum function to be sure that we are taking in numbers instead of strings:"
   ]
  },
  {
   "cell_type": "code",
   "execution_count": 16,
   "metadata": {
    "collapsed": false
   },
   "outputs": [
    {
     "name": "stdout",
     "output_type": "stream",
     "text": [
      "15\n"
     ]
    },
    {
     "ename": "AssertionError",
     "evalue": "",
     "output_type": "error",
     "traceback": [
      "\u001b[0;31m---------------------------------------------------------------------------\u001b[0m",
      "\u001b[0;31mAssertionError\u001b[0m                            Traceback (most recent call last)",
      "\u001b[0;32m<ipython-input-16-92e9ed5d5f44>\u001b[0m in \u001b[0;36m<module>\u001b[0;34m()\u001b[0m\n\u001b[1;32m      5\u001b[0m \u001b[0;34m\u001b[0m\u001b[0m\n\u001b[1;32m      6\u001b[0m \u001b[0mprint\u001b[0m\u001b[0;34m(\u001b[0m\u001b[0mmysum\u001b[0m\u001b[0;34m(\u001b[0m\u001b[0;36m5\u001b[0m\u001b[0;34m,\u001b[0m\u001b[0;36m10\u001b[0m\u001b[0;34m)\u001b[0m\u001b[0;34m)\u001b[0m\u001b[0;34m\u001b[0m\u001b[0m\n\u001b[0;32m----> 7\u001b[0;31m \u001b[0mprint\u001b[0m\u001b[0;34m(\u001b[0m\u001b[0mmysum\u001b[0m\u001b[0;34m(\u001b[0m\u001b[0;34m'hello'\u001b[0m\u001b[0;34m,\u001b[0m\u001b[0;34m'goodbye'\u001b[0m\u001b[0;34m)\u001b[0m\u001b[0;34m)\u001b[0m\u001b[0;34m\u001b[0m\u001b[0m\n\u001b[0m",
      "\u001b[0;32m<ipython-input-16-92e9ed5d5f44>\u001b[0m in \u001b[0;36mmysum\u001b[0;34m(x, y)\u001b[0m\n\u001b[1;32m      1\u001b[0m \u001b[0;32mdef\u001b[0m \u001b[0mmysum\u001b[0m\u001b[0;34m(\u001b[0m\u001b[0mx\u001b[0m\u001b[0;34m,\u001b[0m\u001b[0my\u001b[0m\u001b[0;34m)\u001b[0m\u001b[0;34m:\u001b[0m\u001b[0;34m\u001b[0m\u001b[0m\n\u001b[0;32m----> 2\u001b[0;31m     \u001b[0;32massert\u001b[0m \u001b[0mtype\u001b[0m\u001b[0;34m(\u001b[0m\u001b[0mx\u001b[0m\u001b[0;34m)\u001b[0m \u001b[0;32mis\u001b[0m \u001b[0mint\u001b[0m\u001b[0;34m\u001b[0m\u001b[0m\n\u001b[0m\u001b[1;32m      3\u001b[0m     \u001b[0;32massert\u001b[0m \u001b[0mtype\u001b[0m\u001b[0;34m(\u001b[0m\u001b[0my\u001b[0m\u001b[0;34m)\u001b[0m \u001b[0;32mis\u001b[0m \u001b[0mint\u001b[0m\u001b[0;34m\u001b[0m\u001b[0m\n\u001b[1;32m      4\u001b[0m     \u001b[0;32mreturn\u001b[0m \u001b[0mx\u001b[0m\u001b[0;34m+\u001b[0m\u001b[0my\u001b[0m\u001b[0;34m\u001b[0m\u001b[0m\n\u001b[1;32m      5\u001b[0m \u001b[0;34m\u001b[0m\u001b[0m\n",
      "\u001b[0;31mAssertionError\u001b[0m: "
     ]
    }
   ],
   "source": [
    "def mysum(x,y):\n",
    "    assert type(x) is int\n",
    "    assert type(y) is int\n",
    "    return x+y\n",
    "\n",
    "print(mysum(5,10))\n",
    "print(mysum('hello','goodbye'))"
   ]
  },
  {
   "cell_type": "markdown",
   "metadata": {},
   "source": [
    "Looking above, an assertion error wasn't raised when we tried to add 5 and 10 but was raised when we tried to add strings. "
   ]
  },
  {
   "cell_type": "markdown",
   "metadata": {},
   "source": [
    "### Exercise - subtract one and triple again\n",
    "Write two functions, subtract_one that subtracts one from a number and triple that multiplies a number by three. In your main program, ask the user for a number and then execute the subtraction and multiplication codes. Write assertions within each function to ensure that you are taking in an integer and write assertions in the main program to test a few values that you know to be correct."
   ]
  },
  {
   "cell_type": "code",
   "execution_count": 17,
   "metadata": {
    "collapsed": true
   },
   "outputs": [],
   "source": [
    "#insert subtract code"
   ]
  },
  {
   "cell_type": "markdown",
   "metadata": {},
   "source": [
    "### Exercise - Exclamation and Capitalization again\n",
    "Write one function, caps, that capitalizes the first letter of every word in a sentence and returns that sentence. Write another function, shout, that replaces the end punctuation of the sentence has with an exclamation point. Write a main function that asks the user for a sentence and then applies both functions. Write some assertions within the functions that check that the input is a string. Write some assertions in your main program that check a few sentence that you know to true. For example, assert that \"hey you?\" changes to \"Hey You!\""
   ]
  },
  {
   "cell_type": "code",
   "execution_count": 18,
   "metadata": {
    "collapsed": true
   },
   "outputs": [],
   "source": [
    "#insert exclamation 2 code"
   ]
  },
  {
   "cell_type": "markdown",
   "metadata": {
    "collapsed": false
   },
   "source": [
    "Error Raising\n",
    "---\n",
    "<a class=\"anchor\" id=\"error\"></a>\n",
    "\n",
    "An exception is a signal that an error or other unusual condition has occurred. There are a number of built-in exceptions, which indicate conditions like reading past the end of a file, or dividing by zero. You can also define your own exceptions.\n",
    "\n",
    "For example, suppose you wanted to define a function, sqrt_plus_one,  that returns the square root of a number plus one, as long as the input, x, is not negative. We could raise a value exception:"
   ]
  },
  {
   "cell_type": "code",
   "execution_count": 18,
   "metadata": {
    "collapsed": false
   },
   "outputs": [
    {
     "name": "stdout",
     "output_type": "stream",
     "text": [
      "4.0\n"
     ]
    },
    {
     "ename": "ValueError",
     "evalue": "I can't cope with a negative number here.",
     "output_type": "error",
     "traceback": [
      "\u001b[0;31m---------------------------------------------------------------------------\u001b[0m",
      "\u001b[0;31mValueError\u001b[0m                                Traceback (most recent call last)",
      "\u001b[0;32m<ipython-input-18-007b3b6e7ba2>\u001b[0m in \u001b[0;36m<module>\u001b[0;34m()\u001b[0m\n\u001b[1;32m      8\u001b[0m \u001b[0;34m\u001b[0m\u001b[0m\n\u001b[1;32m      9\u001b[0m \u001b[0mprint\u001b[0m\u001b[0;34m(\u001b[0m\u001b[0msqrt_plus_one\u001b[0m\u001b[0;34m(\u001b[0m\u001b[0;36m9\u001b[0m\u001b[0;34m)\u001b[0m\u001b[0;34m)\u001b[0m\u001b[0;34m\u001b[0m\u001b[0m\n\u001b[0;32m---> 10\u001b[0;31m \u001b[0mprint\u001b[0m\u001b[0;34m(\u001b[0m\u001b[0msqrt_plus_one\u001b[0m\u001b[0;34m(\u001b[0m\u001b[0;34m-\u001b[0m\u001b[0;36m9\u001b[0m\u001b[0;34m)\u001b[0m\u001b[0;34m)\u001b[0m\u001b[0;34m\u001b[0m\u001b[0m\n\u001b[0m",
      "\u001b[0;32m<ipython-input-18-007b3b6e7ba2>\u001b[0m in \u001b[0;36msqrt_plus_one\u001b[0;34m(x)\u001b[0m\n\u001b[1;32m      3\u001b[0m \u001b[0;32mdef\u001b[0m \u001b[0msqrt_plus_one\u001b[0m\u001b[0;34m(\u001b[0m\u001b[0mx\u001b[0m\u001b[0;34m)\u001b[0m\u001b[0;34m:\u001b[0m\u001b[0;34m\u001b[0m\u001b[0m\n\u001b[1;32m      4\u001b[0m     \u001b[0;32mif\u001b[0m \u001b[0mx\u001b[0m \u001b[0;34m<\u001b[0m \u001b[0;36m0\u001b[0m\u001b[0;34m:\u001b[0m\u001b[0;34m\u001b[0m\u001b[0m\n\u001b[0;32m----> 5\u001b[0;31m         \u001b[0;32mraise\u001b[0m \u001b[0mValueError\u001b[0m\u001b[0;34m(\u001b[0m\u001b[0;34m\"I can't cope with a negative number here.\"\u001b[0m\u001b[0;34m)\u001b[0m\u001b[0;34m\u001b[0m\u001b[0m\n\u001b[0m\u001b[1;32m      6\u001b[0m     \u001b[0;32melse\u001b[0m\u001b[0;34m:\u001b[0m\u001b[0;34m\u001b[0m\u001b[0m\n\u001b[1;32m      7\u001b[0m         \u001b[0;32mreturn\u001b[0m \u001b[0mmath\u001b[0m\u001b[0;34m.\u001b[0m\u001b[0msqrt\u001b[0m\u001b[0;34m(\u001b[0m\u001b[0mx\u001b[0m\u001b[0;34m)\u001b[0m\u001b[0;34m+\u001b[0m\u001b[0;36m1\u001b[0m\u001b[0;34m\u001b[0m\u001b[0m\n",
      "\u001b[0;31mValueError\u001b[0m: I can't cope with a negative number here."
     ]
    }
   ],
   "source": [
    "import math\n",
    "\n",
    "def sqrt_plus_one(x):\n",
    "    if x < 0:\n",
    "        raise ValueError(\"I can't cope with a negative number here.\")\n",
    "    else:\n",
    "        return math.sqrt(x)+1\n",
    "\n",
    "print(sqrt_plus_one(9))\n",
    "print(sqrt_plus_one(-9))\n"
   ]
  },
  {
   "cell_type": "markdown",
   "metadata": {},
   "source": [
    "As another example, suppose you wanted to define a function divide, that divides x by y as long as y in not zero. You could raise a ZeroDivisionError:\n"
   ]
  },
  {
   "cell_type": "code",
   "execution_count": 19,
   "metadata": {
    "collapsed": false
   },
   "outputs": [
    {
     "name": "stdout",
     "output_type": "stream",
     "text": [
      "0.6666666666666666\n"
     ]
    },
    {
     "ename": "ZeroDivisionError",
     "evalue": "y cannot be zero, silly!",
     "output_type": "error",
     "traceback": [
      "\u001b[0;31m---------------------------------------------------------------------------\u001b[0m",
      "\u001b[0;31mZeroDivisionError\u001b[0m                         Traceback (most recent call last)",
      "\u001b[0;32m<ipython-input-19-b01e043750fc>\u001b[0m in \u001b[0;36m<module>\u001b[0;34m()\u001b[0m\n\u001b[1;32m      6\u001b[0m \u001b[0;34m\u001b[0m\u001b[0m\n\u001b[1;32m      7\u001b[0m \u001b[0mprint\u001b[0m\u001b[0;34m(\u001b[0m\u001b[0mdivide\u001b[0m\u001b[0;34m(\u001b[0m\u001b[0;36m2\u001b[0m\u001b[0;34m,\u001b[0m\u001b[0;36m3\u001b[0m\u001b[0;34m)\u001b[0m\u001b[0;34m)\u001b[0m\u001b[0;34m\u001b[0m\u001b[0m\n\u001b[0;32m----> 8\u001b[0;31m \u001b[0mprint\u001b[0m\u001b[0;34m(\u001b[0m\u001b[0mdivide\u001b[0m\u001b[0;34m(\u001b[0m\u001b[0;36m2\u001b[0m\u001b[0;34m,\u001b[0m\u001b[0;36m0\u001b[0m\u001b[0;34m)\u001b[0m\u001b[0;34m)\u001b[0m\u001b[0;34m\u001b[0m\u001b[0m\n\u001b[0m",
      "\u001b[0;32m<ipython-input-19-b01e043750fc>\u001b[0m in \u001b[0;36mdivide\u001b[0;34m(x, y)\u001b[0m\n\u001b[1;32m      3\u001b[0m         \u001b[0;32mreturn\u001b[0m \u001b[0mx\u001b[0m\u001b[0;34m/\u001b[0m\u001b[0my\u001b[0m\u001b[0;34m\u001b[0m\u001b[0m\n\u001b[1;32m      4\u001b[0m     \u001b[0;32melse\u001b[0m\u001b[0;34m:\u001b[0m\u001b[0;34m\u001b[0m\u001b[0m\n\u001b[0;32m----> 5\u001b[0;31m         \u001b[0;32mraise\u001b[0m \u001b[0mZeroDivisionError\u001b[0m \u001b[0;34m(\u001b[0m\u001b[0;34m'y cannot be zero, silly!'\u001b[0m\u001b[0;34m)\u001b[0m\u001b[0;34m\u001b[0m\u001b[0m\n\u001b[0m\u001b[1;32m      6\u001b[0m \u001b[0;34m\u001b[0m\u001b[0m\n\u001b[1;32m      7\u001b[0m \u001b[0mprint\u001b[0m\u001b[0;34m(\u001b[0m\u001b[0mdivide\u001b[0m\u001b[0;34m(\u001b[0m\u001b[0;36m2\u001b[0m\u001b[0;34m,\u001b[0m\u001b[0;36m3\u001b[0m\u001b[0;34m)\u001b[0m\u001b[0;34m)\u001b[0m\u001b[0;34m\u001b[0m\u001b[0m\n",
      "\u001b[0;31mZeroDivisionError\u001b[0m: y cannot be zero, silly!"
     ]
    }
   ],
   "source": [
    "def divide(x,y):\n",
    "    if y != 0:\n",
    "        return x/y\n",
    "    else:\n",
    "        raise ZeroDivisionError ('y cannot be zero, silly!')\n",
    "\n",
    "print(divide(2,3))\n",
    "print(divide(2,0))"
   ]
  },
  {
   "cell_type": "markdown",
   "metadata": {},
   "source": [
    "Suppose you wanted to write a program string_to_int, that converts a string to int if possible. You could write:\n",
    "\n"
   ]
  },
  {
   "cell_type": "code",
   "execution_count": 20,
   "metadata": {
    "collapsed": false
   },
   "outputs": [
    {
     "name": "stdout",
     "output_type": "stream",
     "text": [
      "50\n"
     ]
    },
    {
     "ename": "TypeError",
     "evalue": "this string is not a number!",
     "output_type": "error",
     "traceback": [
      "\u001b[0;31m---------------------------------------------------------------------------\u001b[0m",
      "\u001b[0;31mTypeError\u001b[0m                                 Traceback (most recent call last)",
      "\u001b[0;32m<ipython-input-20-f709306c7052>\u001b[0m in \u001b[0;36m<module>\u001b[0;34m()\u001b[0m\n\u001b[1;32m      6\u001b[0m \u001b[0;34m\u001b[0m\u001b[0m\n\u001b[1;32m      7\u001b[0m \u001b[0mprint\u001b[0m\u001b[0;34m(\u001b[0m\u001b[0mstring_to_int\u001b[0m\u001b[0;34m(\u001b[0m\u001b[0;34m'50'\u001b[0m\u001b[0;34m)\u001b[0m\u001b[0;34m)\u001b[0m\u001b[0;34m\u001b[0m\u001b[0m\n\u001b[0;32m----> 8\u001b[0;31m \u001b[0mprint\u001b[0m\u001b[0;34m(\u001b[0m\u001b[0mstring_to_int\u001b[0m\u001b[0;34m(\u001b[0m\u001b[0;34m'50 32'\u001b[0m\u001b[0;34m)\u001b[0m\u001b[0;34m)\u001b[0m\u001b[0;34m\u001b[0m\u001b[0m\n\u001b[0m\u001b[1;32m      9\u001b[0m \u001b[0;34m\u001b[0m\u001b[0m\n",
      "\u001b[0;32m<ipython-input-20-f709306c7052>\u001b[0m in \u001b[0;36mstring_to_int\u001b[0;34m(word)\u001b[0m\n\u001b[1;32m      3\u001b[0m         \u001b[0;32mreturn\u001b[0m \u001b[0mint\u001b[0m\u001b[0;34m(\u001b[0m\u001b[0mword\u001b[0m\u001b[0;34m)\u001b[0m\u001b[0;34m\u001b[0m\u001b[0m\n\u001b[1;32m      4\u001b[0m     \u001b[0;32melse\u001b[0m\u001b[0;34m:\u001b[0m\u001b[0;34m\u001b[0m\u001b[0m\n\u001b[0;32m----> 5\u001b[0;31m         \u001b[0;32mraise\u001b[0m \u001b[0mTypeError\u001b[0m\u001b[0;34m(\u001b[0m\u001b[0;34m'this string is not a number!'\u001b[0m\u001b[0;34m)\u001b[0m\u001b[0;34m\u001b[0m\u001b[0m\n\u001b[0m\u001b[1;32m      6\u001b[0m \u001b[0;34m\u001b[0m\u001b[0m\n\u001b[1;32m      7\u001b[0m \u001b[0mprint\u001b[0m\u001b[0;34m(\u001b[0m\u001b[0mstring_to_int\u001b[0m\u001b[0;34m(\u001b[0m\u001b[0;34m'50'\u001b[0m\u001b[0;34m)\u001b[0m\u001b[0;34m)\u001b[0m\u001b[0;34m\u001b[0m\u001b[0m\n",
      "\u001b[0;31mTypeError\u001b[0m: this string is not a number!"
     ]
    }
   ],
   "source": [
    "def string_to_int(word):\n",
    "    if word.isdigit():\n",
    "        return int(word)\n",
    "    else:\n",
    "        raise TypeError('this string is not a number!')\n",
    "        \n",
    "print(string_to_int('50'))\n",
    "print(string_to_int('50 32'))\n",
    "    "
   ]
  },
  {
   "cell_type": "markdown",
   "metadata": {},
   "source": []
  },
  {
   "cell_type": "markdown",
   "metadata": {},
   "source": [
    "### Exercise - Repeat Word\n",
    "Define a function, repeat_word, that takes in a number, n,  and a word and repeats the word that many times. Raise a type error if n is not an integer."
   ]
  },
  {
   "cell_type": "code",
   "execution_count": 12,
   "metadata": {
    "collapsed": true
   },
   "outputs": [],
   "source": [
    "#insert repeat word code"
   ]
  },
  {
   "cell_type": "markdown",
   "metadata": {},
   "source": [
    "### Exercise - Average\n",
    "\n",
    "Write a function, average, that takes in a list of numbers and calculates the average of the numbers. Raise a ZeroDivisionError if the list is empty."
   ]
  },
  {
   "cell_type": "code",
   "execution_count": 13,
   "metadata": {
    "collapsed": true
   },
   "outputs": [],
   "source": [
    "#insert average code"
   ]
  },
  {
   "cell_type": "markdown",
   "metadata": {},
   "source": [
    "Try Except\n",
    "---\n",
    "<a class=\"anchor\" id=\"try\"></a>\n",
    "\n",
    "Try Except commands are very helpful when you want your program to continue running when it encounters an error. If an error is encountered, a try block code execution is stopped and transferred down to the except block. Here's an example when we try to divide by zero:"
   ]
  },
  {
   "cell_type": "code",
   "execution_count": 21,
   "metadata": {
    "collapsed": false
   },
   "outputs": [
    {
     "name": "stdout",
     "output_type": "stream",
     "text": [
      "cant divide by zero\n",
      "but the program is still running!\n"
     ]
    }
   ],
   "source": [
    "def divide(x,y):\n",
    "    try:\n",
    "        return y/x\n",
    "    except:\n",
    "        print('cant divide by zero')\n",
    "divide(0,5)\n",
    "print('but the program is still running!')"
   ]
  },
  {
   "cell_type": "markdown",
   "metadata": {},
   "source": [
    "Here's another example. Suppose we want to convert a string to a number again. If the user doesn't give us a number to be converted, we can ask for another number:"
   ]
  },
  {
   "cell_type": "code",
   "execution_count": 26,
   "metadata": {
    "collapsed": false
   },
   "outputs": [
    {
     "name": "stdout",
     "output_type": "stream",
     "text": [
      "Give me a number:hello\n",
      "hello cannot be converted to a number\n",
      "Give me a number that works: 5\n",
      "5\n"
     ]
    }
   ],
   "source": [
    "def string_to_int(word):\n",
    "    try:\n",
    "        return int(word)\n",
    "    except:\n",
    "        print(word, 'cannot be converted to a number')\n",
    "        new_word = input('Give me a number that works: ')\n",
    "        return int(new_word)\n",
    "\n",
    "number = input('Give me a number:')\n",
    "print(string_to_int(number))\n",
    "    "
   ]
  },
  {
   "cell_type": "markdown",
   "metadata": {},
   "source": [
    "### Exercise - Repeat Word again\n",
    "\n",
    "Define a function, repeat_word, that takes in a number, n,  and a word and repeats the word that many times. Use a try/except to ask the user for a number if they don't give you a number the first time."
   ]
  },
  {
   "cell_type": "code",
   "execution_count": 29,
   "metadata": {
    "collapsed": true
   },
   "outputs": [],
   "source": [
    "#insert average code"
   ]
  },
  {
   "cell_type": "markdown",
   "metadata": {},
   "source": [
    "### Exercise - Average\n",
    "\n",
    "Write a function, average, that takes in a list of numbers and calculates the average of the numbers. Use a try/except to ask the user for a nonempty list of numbers if they try giving you an empty list."
   ]
  },
  {
   "cell_type": "code",
   "execution_count": null,
   "metadata": {
    "collapsed": true
   },
   "outputs": [],
   "source": [
    "#insert average code"
   ]
  },
  {
   "cell_type": "markdown",
   "metadata": {},
   "source": [
    "### Exercise - email address\n",
    "Write a program that tries to take in a user's email address (e.g., kanyewest@gmail.com) and return the username part \"kanyewest\". If the user input does not contain an email address in the valid form, print \"give me a correct email address!\""
   ]
  },
  {
   "cell_type": "code",
   "execution_count": 1,
   "metadata": {
    "collapsed": true
   },
   "outputs": [],
   "source": [
    "### insert email address code"
   ]
  },
  {
   "cell_type": "markdown",
   "metadata": {},
   "source": [
    "Break, Continue, Pass\n",
    "---\n",
    "<a class=\"anchor\" id=\"break\"></a>\n",
    "\n",
    "### Pass\n",
    "\n",
    "Sometimes when we are building complicated programs, we want to fill some parts in but leave other parts for later. For example, let's return to our favorite cafeteria food example. If lunch today is pizza, I want to tell my friend that pizza is my favorite food. If lunch today is pasta, I'm not sure what I want to tell the user yet. If food is anything else, though, I want to go out to lunch. I can create a running program without yet knowing what I want to do about pasta by using a pass statement:"
   ]
  },
  {
   "cell_type": "code",
   "execution_count": 33,
   "metadata": {
    "collapsed": false
   },
   "outputs": [
    {
     "name": "stdout",
     "output_type": "stream",
     "text": [
      "What is for lunch today? pasta\n"
     ]
    }
   ],
   "source": [
    "lunch = input('What is for lunch today? ')\n",
    "if lunch == 'pizza':\n",
    "    print('Pizza is my favorite!!!')\n",
    "elif lunch == 'pasta':\n",
    "    pass\n",
    "else:\n",
    "    print(\"Meh, let's go off campus for lunch.\")\n"
   ]
  },
  {
   "cell_type": "markdown",
   "metadata": {},
   "source": [
    "Pass functions are also often useful when you want to build several functions to use eventually but you have not built them all yet. For example, suppose you want to make two functions, one that capitalizes the first letter of every student and another list that sorts them alpabetically. Perhaps you build the capitalization program first but you haven't built the sorting program yet. You can write:"
   ]
  },
  {
   "cell_type": "code",
   "execution_count": 27,
   "metadata": {
    "collapsed": false
   },
   "outputs": [
    {
     "name": "stdout",
     "output_type": "stream",
     "text": [
      "['Brett', 'Annie', 'Veronica', 'Mary']\n"
     ]
    }
   ],
   "source": [
    "def capitalize(class_list):\n",
    "    upper_case=[]\n",
    "    for name in class_list:\n",
    "        upper_case.append(name.title())\n",
    "    return upper_case\n",
    "\n",
    "def sortlist(class_list):\n",
    "    pass\n",
    "    return class_list\n",
    "\n",
    "myclass = ['brett', 'annie', 'veronica', 'mary']\n",
    "print(sortlist(capitalize(myclass)))"
   ]
  },
  {
   "cell_type": "markdown",
   "metadata": {},
   "source": [
    "### Break Statements\n",
    "\n",
    "For many programs, you might want to stop a loop early if you have found what you are looking for or have encountered a problem. To do this, you can use a break statement to exit the loop early. Breaks can be used in both for and while loops. For example, suppose you are trying to figure out if a number is prime. Well, you only need to find one factor other than 1 and the number itself in order to determine that the number is not prime. You can use a break statement in this case:\n"
   ]
  },
  {
   "cell_type": "code",
   "execution_count": 32,
   "metadata": {
    "collapsed": false
   },
   "outputs": [
    {
     "name": "stdout",
     "output_type": "stream",
     "text": [
      "36 is not prime\n",
      "37 is prime\n"
     ]
    }
   ],
   "source": [
    "def is_prime(n):\n",
    "    prime = True\n",
    "    for i in range(2,n):\n",
    "        if n % i == 0:\n",
    "            prime = False\n",
    "            print(n, 'is not prime')\n",
    "            break\n",
    "\n",
    "    if prime == True:\n",
    "        print(n, 'is prime')\n",
    "\n",
    "is_prime(36)\n",
    "is_prime(37)"
   ]
  },
  {
   "cell_type": "markdown",
   "metadata": {},
   "source": [
    "As another example, suppose you want to make a number called count that takes in two numbers, start and stop, and prints all the numbers between them, except if 13 is between them. In that case, you want to stop because you are superstitious. You can use a break:"
   ]
  },
  {
   "cell_type": "code",
   "execution_count": 51,
   "metadata": {
    "collapsed": false
   },
   "outputs": [
    {
     "name": "stdout",
     "output_type": "stream",
     "text": [
      "10\n",
      "11\n",
      "12\n",
      "uh, oh, 13 is unlucky!\n"
     ]
    }
   ],
   "source": [
    "def counting(start,stop):\n",
    "    for i in range(start,stop+1):\n",
    "        if i == 13:\n",
    "            print('uh, oh,', i , 'is unlucky!')\n",
    "            break\n",
    "        print(i)\n",
    "counting(10,20)"
   ]
  },
  {
   "cell_type": "markdown",
   "metadata": {},
   "source": [
    "### Exercise - Name Hate\n",
    "Write a program that takes in a list of students and reads them off one at a time. If the list includes the name \"Donald\", though, break out of the loop and say \"I hate the name Donald!\""
   ]
  },
  {
   "cell_type": "code",
   "execution_count": null,
   "metadata": {
    "collapsed": true
   },
   "outputs": [],
   "source": [
    "#insert name hate code here"
   ]
  },
  {
   "cell_type": "markdown",
   "metadata": {},
   "source": [
    "### Exercise - Lucky number\n",
    "Write a program that takes in a number, n, and lists all of the factors of that number. However, if 5 is a factor, break the loop to print \"5 is my lucky number!\"."
   ]
  },
  {
   "cell_type": "code",
   "execution_count": null,
   "metadata": {
    "collapsed": true
   },
   "outputs": [],
   "source": [
    "#insert lucky number code here"
   ]
  },
  {
   "cell_type": "markdown",
   "metadata": {},
   "source": [
    "### Continue\n",
    "While break statements break out of the loop completely, the continue statement in Python returns the control to the beginning of the loop. The continue statement rejects all the remaining statements in the current iteration of the loop and moves the control back to the top of the loop. Continue statements can be used in for and while loops. \n",
    "\n",
    "For example, return to our superstitious example. Suppose we want to count all numbers between start and stop and not end the program if we get to 13, but rather warn the user that they hit an unlucky number. We can use a continue statement:"
   ]
  },
  {
   "cell_type": "code",
   "execution_count": 50,
   "metadata": {
    "collapsed": false
   },
   "outputs": [
    {
     "name": "stdout",
     "output_type": "stream",
     "text": [
      "10\n",
      "11\n",
      "12\n",
      "uh, oh, 13 is unlucky!\n",
      "14\n",
      "15\n",
      "16\n",
      "17\n",
      "18\n",
      "19\n",
      "20\n"
     ]
    }
   ],
   "source": [
    "def counting(start,stop):\n",
    "    for i in range(start,stop+1):\n",
    "        if i == 13:\n",
    "            print('uh, oh,', i , 'is unlucky!')\n",
    "            continue   \n",
    "        print(i)\n",
    "counting(10,20)"
   ]
  },
  {
   "cell_type": "markdown",
   "metadata": {},
   "source": [
    "Note that 13 didn't get printed by the print(i) statement. That is because the continue statement immediately disregards anything below it and returns to the top of the loop. "
   ]
  },
  {
   "cell_type": "markdown",
   "metadata": {},
   "source": [
    "As another example, suppose you want to take in a word and capitalize letters that are vowels and add in periods to letters that are not vowels. We can use a continue statement to stop the loop before printing out periods after vowels:"
   ]
  },
  {
   "cell_type": "code",
   "execution_count": 60,
   "metadata": {
    "collapsed": false
   },
   "outputs": [
    {
     "name": "stdout",
     "output_type": "stream",
     "text": [
      "h.\n",
      "E\n",
      "l.\n",
      "l.\n",
      "O\n",
      "None\n"
     ]
    }
   ],
   "source": [
    "def crazy_punctuation(word):\n",
    "    for letter in word:\n",
    "        if letter in ['a', 'e', 'i', 'o', 'u']:\n",
    "            print(letter.upper())\n",
    "            continue\n",
    "        print(letter+'.')\n",
    "print(crazy_punctuation('hello'))"
   ]
  },
  {
   "cell_type": "markdown",
   "metadata": {},
   "source": [
    "Note what would have happened if you got rid of the continue statement. The vowels would have gotten printed out twice:"
   ]
  },
  {
   "cell_type": "code",
   "execution_count": 61,
   "metadata": {
    "collapsed": false
   },
   "outputs": [
    {
     "name": "stdout",
     "output_type": "stream",
     "text": [
      "h.\n",
      "E\n",
      "e.\n",
      "l.\n",
      "l.\n",
      "O\n",
      "o.\n",
      "None\n"
     ]
    }
   ],
   "source": [
    "def crazy_punctuation(word):\n",
    "    for letter in word:\n",
    "        if letter in ['a', 'e', 'i', 'o', 'u']:\n",
    "            print(letter.upper())\n",
    "        print(letter+'.')\n",
    "print(crazy_punctuation('hello'))"
   ]
  },
  {
   "cell_type": "markdown",
   "metadata": {},
   "source": [
    "### Exercise - Name Hate again\n",
    "Write a program that takes in a list of students and reads them off one at a time. If the list includes the name \"Donald\", though, print \"I hate the name Donald!\", before continuing to read the rest of the students."
   ]
  },
  {
   "cell_type": "code",
   "execution_count": 62,
   "metadata": {
    "collapsed": true
   },
   "outputs": [],
   "source": [
    "#insert name hate code"
   ]
  },
  {
   "cell_type": "markdown",
   "metadata": {},
   "source": [
    "### Exercise - Lucky number again\n",
    "Write a program that takes in a number, n, and lists all of the factors of that number. If 5 is a factor, though, instead of just printing the number print instead \"5 is my lucky number!\", before continuing to print the rest of the factors."
   ]
  },
  {
   "cell_type": "code",
   "execution_count": 63,
   "metadata": {
    "collapsed": true
   },
   "outputs": [],
   "source": [
    "#insert lucky number again"
   ]
  },
  {
   "cell_type": "code",
   "execution_count": null,
   "metadata": {
    "collapsed": true
   },
   "outputs": [],
   "source": []
  }
 ],
 "metadata": {
  "kernelspec": {
   "display_name": "Python 3",
   "language": "python",
   "name": "python3"
  },
  "language_info": {
   "codemirror_mode": {
    "name": "ipython",
    "version": 3
   },
   "file_extension": ".py",
   "mimetype": "text/x-python",
   "name": "python",
   "nbconvert_exporter": "python",
   "pygments_lexer": "ipython3",
   "version": "3.6.0"
  }
 },
 "nbformat": 4,
 "nbformat_minor": 2
}
