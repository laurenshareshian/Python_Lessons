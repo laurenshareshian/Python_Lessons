{
 "cells": [
  {
   "cell_type": "markdown",
   "metadata": {},
   "source": [
    "Contents\n",
    "---\n",
    "- [Datetime](#datetime)\n",
    "- [JSON](#json)\n",
    "- [APIs](#APIS)\n",
    "- [OAuth](#oauth)"
   ]
  },
  {
   "cell_type": "markdown",
   "metadata": {
    "collapsed": true
   },
   "source": [
    "Datetime\n",
    "---\n",
    "<a class=\"anchor\" id=\"datetime\"></a>\n",
    "Often, we may be interested in gathering date and time info. The package datetime allows us to work with these more easily. Suppose you wanted to make a datetime object of your birthday, Sept. 27 1983. You'll need to enter first the year, then the month, then the date:"
   ]
  },
  {
   "cell_type": "code",
   "execution_count": 36,
   "metadata": {
    "collapsed": false
   },
   "outputs": [
    {
     "name": "stdout",
     "output_type": "stream",
     "text": [
      "1983-09-27 00:00:00\n"
     ]
    }
   ],
   "source": [
    "import datetime\n",
    "birthday = datetime.datetime(1983, 9, 27)\n",
    "print(birthday)"
   ]
  },
  {
   "cell_type": "markdown",
   "metadata": {},
   "source": [
    "In particular, if you wanted today's date, you could type:"
   ]
  },
  {
   "cell_type": "code",
   "execution_count": 35,
   "metadata": {
    "collapsed": false
   },
   "outputs": [
    {
     "name": "stdout",
     "output_type": "stream",
     "text": [
      "2017-06-14 19:09:47.837591\n"
     ]
    }
   ],
   "source": [
    "today = datetime.datetime.now()\n",
    "print(today)"
   ]
  },
  {
   "cell_type": "markdown",
   "metadata": {},
   "source": [
    "If you wanted to just extract the hour, month, year, etc. you could type:"
   ]
  },
  {
   "cell_type": "code",
   "execution_count": 17,
   "metadata": {
    "collapsed": false
   },
   "outputs": [
    {
     "data": {
      "text/plain": [
       "18"
      ]
     },
     "execution_count": 17,
     "metadata": {},
     "output_type": "execute_result"
    }
   ],
   "source": [
    "today.hour"
   ]
  },
  {
   "cell_type": "code",
   "execution_count": 18,
   "metadata": {
    "collapsed": false
   },
   "outputs": [
    {
     "data": {
      "text/plain": [
       "6"
      ]
     },
     "execution_count": 18,
     "metadata": {},
     "output_type": "execute_result"
    }
   ],
   "source": [
    "today.month"
   ]
  },
  {
   "cell_type": "code",
   "execution_count": 19,
   "metadata": {
    "collapsed": false
   },
   "outputs": [
    {
     "data": {
      "text/plain": [
       "2017"
      ]
     },
     "execution_count": 19,
     "metadata": {},
     "output_type": "execute_result"
    }
   ],
   "source": [
    "today.year"
   ]
  },
  {
   "cell_type": "markdown",
   "metadata": {},
   "source": [
    "What if you want to test whether today occurs after the day you were born? You could use the less than symbol:"
   ]
  },
  {
   "cell_type": "code",
   "execution_count": 37,
   "metadata": {
    "collapsed": false
   },
   "outputs": [
    {
     "data": {
      "text/plain": [
       "True"
      ]
     },
     "execution_count": 37,
     "metadata": {},
     "output_type": "execute_result"
    }
   ],
   "source": [
    "birthday < today"
   ]
  },
  {
   "cell_type": "markdown",
   "metadata": {},
   "source": [
    "What if you wanted the number of days you have been alive? You would need to subtract today's date from your birthday:"
   ]
  },
  {
   "cell_type": "code",
   "execution_count": 15,
   "metadata": {
    "collapsed": false
   },
   "outputs": [
    {
     "name": "stdout",
     "output_type": "stream",
     "text": [
      "12314 days, 18:11:47.968690\n"
     ]
    }
   ],
   "source": [
    "diff = today - birthday\n",
    "print(diff)"
   ]
  },
  {
   "cell_type": "markdown",
   "metadata": {},
   "source": [
    "What if you just extract just the number of days? You'll get an error if you do this:"
   ]
  },
  {
   "cell_type": "code",
   "execution_count": 28,
   "metadata": {
    "collapsed": false
   },
   "outputs": [
    {
     "name": "stdout",
     "output_type": "stream",
     "text": [
      "12314\n"
     ]
    }
   ],
   "source": [
    "print(diff.days)"
   ]
  },
  {
   "cell_type": "markdown",
   "metadata": {},
   "source": [
    "Suppose you are interested in analyzing Donald Trump's tweeting habits, you would need to take in the way that Twitter stores times of tweets and then manipulate it. Twitter stores time in UTC form. For example, a tweet is stored as \"created_at\":\"Wed Aug 27 13:08:45 +0000 2008\". What if wanted to plot his number of tweets versus day of the week? Or the number of tweets versus time of day? We'll want to extract pieces of this UTC form. To do this, we'll use datetime."
   ]
  },
  {
   "cell_type": "code",
   "execution_count": 77,
   "metadata": {
    "collapsed": false
   },
   "outputs": [],
   "source": [
    "from datetime import datetime\n",
    "\n",
    "tweet = \"Wed Aug 27 13:08:45 +0000 2008\"\n",
    "\n",
    "time_info = datetime.strptime(tweet,'%a %b %d %H:%M:%S +%f %Y')"
   ]
  },
  {
   "cell_type": "markdown",
   "metadata": {},
   "source": [
    "What are all of those % letters? They specify what type of data it is (year, month, day, hour, etc.) You can find all of the abbreviations here: http://strftime.org/\n",
    "If we want to extract just pieces of the time, we can do that with strptime:"
   ]
  },
  {
   "cell_type": "code",
   "execution_count": 78,
   "metadata": {
    "collapsed": false
   },
   "outputs": [
    {
     "name": "stdout",
     "output_type": "stream",
     "text": [
      "Day of week:  Wed\n",
      "Hour:  13\n",
      "Year:  2008\n"
     ]
    }
   ],
   "source": [
    "from datetime import datetime\n",
    "\n",
    "tweet = \"Wed Aug 27 13:08:45 +0000 2008\"\n",
    "time_info = datetime.strptime(tweet,'%a %b %d %H:%M:%S +%f %Y')\n",
    "\n",
    "print('Day of week: ', time_info.strftime(\"%a\"))\n",
    "print('Hour: ', time_info.strftime(\"%H\"))\n",
    "print('Year: ', time_info.strftime(\"%Y\"))"
   ]
  },
  {
   "cell_type": "markdown",
   "metadata": {},
   "source": [
    "As another example, suppose you had a date \"12-03-97\" that you wanted to convert to a date time object. You would type:"
   ]
  },
  {
   "cell_type": "code",
   "execution_count": 14,
   "metadata": {
    "collapsed": false
   },
   "outputs": [
    {
     "name": "stdout",
     "output_type": "stream",
     "text": [
      "Year:  1997\n"
     ]
    }
   ],
   "source": [
    "from datetime import datetime\n",
    "\n",
    "mydate = datetime.strptime(\"12-03-97\", \"%m-%d-%y\")\n",
    "\n",
    "print('Year: ', mydate.strftime(\"%Y\"))"
   ]
  },
  {
   "cell_type": "markdown",
   "metadata": {},
   "source": [
    "Why in the first example did we use %b for month and now we're using %m? Because %b stands for \"Dec\" whereas %m stands for 12. Also, %y stands for 97 whereas %Y would stand for 1997. You need to be really careful about your formats."
   ]
  },
  {
   "cell_type": "markdown",
   "metadata": {},
   "source": [
    "Suppose we wanted to take two dates and calculate the number of days between them. In the first iteration below, this does not take into account leap years:"
   ]
  },
  {
   "cell_type": "code",
   "execution_count": 1,
   "metadata": {
    "collapsed": false
   },
   "outputs": [
    {
     "data": {
      "text/plain": [
       "2511"
      ]
     },
     "execution_count": 1,
     "metadata": {},
     "output_type": "execute_result"
    }
   ],
   "source": [
    "from datetime import datetime\n",
    "\n",
    "def difference_in_days(date1, date2):\n",
    "    start = datetime.strptime(date1, \"%m-%d-%Y\")\n",
    "    end = datetime.strptime(date2, \"%m-%d-%Y\")\n",
    "    if end.strftime(\"%Y\") == start.strftime(\"%Y\"):\n",
    "        return int(end.strftime(\"%j\"))-int(start.strftime(\"%j\"))\n",
    "    else:\n",
    "        diff_in_yrs = int(end.strftime(\"%Y\")) - int(start.strftime(\"%Y\"))\n",
    "        return int(end.strftime(\"%j\"))-int(start.strftime(\"%j\"))+365*diff_in_yrs\n",
    "\n",
    "start_date = '10-15-2010'\n",
    "end_date = '09-01-2017'\n",
    "difference_in_days(start_date,end_date)"
   ]
  },
  {
   "cell_type": "markdown",
   "metadata": {},
   "source": [
    "If we use another module, timedelta, it will:"
   ]
  },
  {
   "cell_type": "code",
   "execution_count": 2,
   "metadata": {
    "collapsed": false
   },
   "outputs": [
    {
     "data": {
      "text/plain": [
       "2513"
      ]
     },
     "execution_count": 2,
     "metadata": {},
     "output_type": "execute_result"
    }
   ],
   "source": [
    "from datetime import datetime\n",
    "from datetime import timedelta\n",
    "\n",
    "def difference_in_days(date1, date2):\n",
    "    start = datetime.strptime(date1, \"%m-%d-%Y\")\n",
    "    end = datetime.strptime(date2, \"%m-%d-%Y\")\n",
    "    elapsed = (end - start) / timedelta(days=1)\n",
    "    return int(elapsed)\n",
    "\n",
    "start_date = '10-15-2010'\n",
    "end_date = '09-01-2017'\n",
    "difference_in_days(start_date,end_date)"
   ]
  },
  {
   "cell_type": "markdown",
   "metadata": {},
   "source": [
    "### Exercise - Birthday Countdown\n",
    "Write a program that asks the user for their birthday and returns the number of days until their birthday."
   ]
  },
  {
   "cell_type": "code",
   "execution_count": null,
   "metadata": {
    "collapsed": true
   },
   "outputs": [],
   "source": [
    "#insert birthday"
   ]
  },
  {
   "cell_type": "markdown",
   "metadata": {},
   "source": [
    "### Exercise - calendar app again\n",
    "Write a program that takes in a date in the form \"MM-DD-YY' and a reminder for that day. For example, a user might input \"09-27-17\" and \"Get Lauren a Birthday Present.\" The program should add this information to the file calendar.txt each time the user calls the program. One caveat: if the user enters a date that is already in the file, then that reminder should be inserted in the right spot, rather than at the end of the file. For example, two reminders for the date \"09-27-17\" should be next to each other. Lastly, make sure that all of the dates are organized in chronological order."
   ]
  },
  {
   "cell_type": "code",
   "execution_count": null,
   "metadata": {
    "collapsed": true
   },
   "outputs": [],
   "source": [
    "#insert calendar app"
   ]
  },
  {
   "cell_type": "markdown",
   "metadata": {},
   "source": [
    "This module is taken from Charles Severance.\n",
    "\n",
    "### Using Web Services\n",
    "Once it became easy to retrieve documents and parse documents over HTTP using programs, it did not take long to develop an approach where we started producing documents that were specifically designed to be consumed by other programs (i.e., not HTML to be displayed in a browser).\n",
    "\n",
    "There are two common formats that we use when exchanging data across the web. The \"eXtensible Markup Language\" or XML has been in use for a very long time and is best suited for exchanging document-style data. When programs just want to exchange dictionaries, lists, or other internal information with each other, they use JavaScript Object Notation or JSON (see www.json.org). We'll focus on JSON files here.\n",
    "\n",
    "\n",
    "JavaScript Object Notation - JSON\n",
    "---\n",
    "<a class=\"anchor\" id=\"json\"></a>\n",
    "The JSON format was inspired by the object and array format used in the JavaScript language. But since Python was invented before JavaScript, Python's syntax for dictionaries and lists influenced the syntax of JSON. So the format of JSON is nearly identical to a combination of Python lists and dictionaries.\n",
    "\n",
    "We construct our JSON by nesting dictionaries (objects) and lists as needed. In this example, we represent a list of users where each user is a set of key-value pairs (i.e., a dictionary). So we have a list of dictionaries. \n",
    "\n",
    "Below is a typical JSON object. It is a list of dictionaries that list people and their phone numbers and email addresses:"
   ]
  },
  {
   "cell_type": "code",
   "execution_count": 72,
   "metadata": {
    "collapsed": false
   },
   "outputs": [
    {
     "name": "stdout",
     "output_type": "stream",
     "text": [
      "User count: 2\n",
      "[{'name': 'Jane Doe', 'phone': '609-555-1234', 'email': 'janedoe@gmail.com'}, {'name': 'Jack Smith', 'phone': '609-555-0101', 'email': 'jacksmith@gmail.com'}]\n"
     ]
    }
   ],
   "source": [
    "import json\n",
    "\n",
    "data = '''\n",
    "[\n",
    "    {\"name\" : \"Jane Doe\",\n",
    "    \"phone\" : \"609-555-1234\",\n",
    "    \"email\" : \"janedoe@gmail.com\"\n",
    "    },\n",
    "    {\"name\" : \"Jack Smith\",\n",
    "    \"phone\" : \"609-555-0101\",\n",
    "    \"email\" : \"jacksmith@gmail.com\"\n",
    "    }\n",
    "]'''\n",
    "\n",
    "info = json.loads(data)\n",
    "print ('User count:', len(info))\n",
    "print(info)\n"
   ]
  },
  {
   "cell_type": "markdown",
   "metadata": {},
   "source": [
    "We can use the built-in json library to parse the JSON and read through the data:"
   ]
  },
  {
   "cell_type": "code",
   "execution_count": 73,
   "metadata": {
    "collapsed": false
   },
   "outputs": [
    {
     "name": "stdout",
     "output_type": "stream",
     "text": [
      "Name Jane Doe\n",
      "Phone 609-555-1234\n",
      "Email janedoe@gmail.com\n",
      "Name Jack Smith\n",
      "Phone 609-555-0101\n",
      "Email jacksmith@gmail.com\n"
     ]
    }
   ],
   "source": [
    "import json\n",
    "\n",
    "data = '''\n",
    "[\n",
    "    {\"name\" : \"Jane Doe\",\n",
    "    \"phone\" : \"609-555-1234\",\n",
    "    \"email\" : \"janedoe@gmail.com\"\n",
    "    },\n",
    "    {\"name\" : \"Jack Smith\",\n",
    "    \"phone\" : \"609-555-0101\",\n",
    "    \"email\" : \"jacksmith@gmail.com\"\n",
    "    }\n",
    "]'''\n",
    "\n",
    "info = json.loads(data)\n",
    "\n",
    "for item in info:\n",
    "    print('Name', item['name'])\n",
    "    print('Phone', item['phone'])\n",
    "    print('Email', item['email'])\n"
   ]
  },
  {
   "cell_type": "markdown",
   "metadata": {},
   "source": [
    "If you wanted to print just Jack's's info, you would type:"
   ]
  },
  {
   "cell_type": "code",
   "execution_count": 27,
   "metadata": {
    "collapsed": false
   },
   "outputs": [
    {
     "name": "stdout",
     "output_type": "stream",
     "text": [
      "{'name': 'Jack Smith', 'phone': '609-555-0101', 'email': 'jacksmith@gmail.com'}\n"
     ]
    }
   ],
   "source": [
    "print(info[1])"
   ]
  },
  {
   "cell_type": "markdown",
   "metadata": {},
   "source": [
    "If you wanted to print just Jack's email, you could type:"
   ]
  },
  {
   "cell_type": "code",
   "execution_count": 28,
   "metadata": {
    "collapsed": false
   },
   "outputs": [
    {
     "name": "stdout",
     "output_type": "stream",
     "text": [
      "jacksmith@gmail.com\n"
     ]
    }
   ],
   "source": [
    "print(info[1]['email'])"
   ]
  },
  {
   "cell_type": "raw",
   "metadata": {},
   "source": [
    "As another example, let's read in the file \"activities.txt\" and load the info as a JSON file:"
   ]
  },
  {
   "cell_type": "code",
   "execution_count": 41,
   "metadata": {
    "collapsed": false
   },
   "outputs": [
    {
     "name": "stdout",
     "output_type": "stream",
     "text": [
      "Name: Samantha , Sports: soccer theater lacrosse\n",
      "Name: James , Sports: band basketball debate\n",
      "Name: Vanessa , Sports: soccer choir lacrosse\n",
      "Name: Steven , Sports: band basketball tennis\n"
     ]
    }
   ],
   "source": [
    "import json\n",
    "\n",
    "with open('activities.txt') as json_data:\n",
    "    info = json.load(json_data)\n",
    "    \n",
    "for item in info:\n",
    "    print('Name:', item['name'], ', Sports:', item['fall'], item['winter'], item['spring'])"
   ]
  },
  {
   "cell_type": "markdown",
   "metadata": {},
   "source": [
    "Most of your favorite websites' data is stored in JSON files. Look closely at how a Twitter tweet is stored here: https://dev.twitter.com/rest/reference/get/search/tweets\n",
    "\n",
    "Let's load just one of Donald Trump's tweets stored in tweet.txt below:"
   ]
  },
  {
   "cell_type": "code",
   "execution_count": 2,
   "metadata": {
    "collapsed": false
   },
   "outputs": [
    {
     "name": "stdout",
     "output_type": "stream",
     "text": [
      "{'created_at': 'Thu Mar 23 01:04:32 +0000 2017', 'id': 844716458844311553, 'id_str': '844716458844311553', 'text': \"RT @mitchellvii: Trump always ends up being right.  It's almost a little freaky.\", 'truncated': False, 'entities': {'hashtags': [], 'symbols': [], 'user_mentions': [{'screen_name': 'mitchellvii', 'name': 'Bill Mitchell', 'id': 17980523, 'id_str': '17980523', 'indices': [3, 15]}], 'urls': []}, 'source': '<a href=\"http://twitter.com/download/iphone\" rel=\"nofollow\">Twitter for iPhone</a>', 'in_reply_to_status_id': None, 'in_reply_to_status_id_str': None, 'in_reply_to_user_id': None, 'in_reply_to_user_id_str': None, 'in_reply_to_screen_name': None, 'user': {'id': 25073877, 'id_str': '25073877', 'name': 'Donald J. Trump', 'screen_name': 'realDonaldTrump', 'location': 'Washington, DC', 'description': '45th President of the United States of America', 'url': None, 'entities': {'description': {'urls': []}}, 'protected': False, 'followers_count': 26896032, 'friends_count': 43, 'listed_count': 66787, 'created_at': 'Wed Mar 18 13:46:38 +0000 2009', 'favourites_count': 46, 'utc_offset': -14400, 'time_zone': 'Eastern Time (US & Canada)', 'geo_enabled': True, 'verified': True, 'statuses_count': 34639, 'lang': 'en', 'contributors_enabled': False, 'is_translator': False, 'is_translation_enabled': True, 'profile_background_color': '6D5C18', 'profile_background_image_url': 'http://pbs.twimg.com/profile_background_images/530021613/trump_scotland__43_of_70_cc.jpg', 'profile_background_image_url_https': 'https://pbs.twimg.com/profile_background_images/530021613/trump_scotland__43_of_70_cc.jpg', 'profile_background_tile': True, 'profile_image_url': 'http://pbs.twimg.com/profile_images/1980294624/DJT_Headshot_V2_normal.jpg', 'profile_image_url_https': 'https://pbs.twimg.com/profile_images/1980294624/DJT_Headshot_V2_normal.jpg', 'profile_banner_url': 'https://pbs.twimg.com/profile_banners/25073877/1489657715', 'profile_link_color': '0D5B73', 'profile_sidebar_border_color': 'BDDCAD', 'profile_sidebar_fill_color': 'C5CEC0', 'profile_text_color': '333333', 'profile_use_background_image': True, 'has_extended_profile': False, 'default_profile': False, 'default_profile_image': False, 'following': False, 'follow_request_sent': False, 'notifications': False, 'translator_type': 'regular'}, 'geo': None, 'coordinates': None, 'place': None, 'contributors': None, 'retweeted_status': {'created_at': 'Wed Mar 22 23:18:18 +0000 2017', 'id': 844689725755703296, 'id_str': '844689725755703296', 'text': \"Trump always ends up being right.  It's almost a little freaky.\", 'truncated': False, 'entities': {'hashtags': [], 'symbols': [], 'user_mentions': [], 'urls': []}, 'source': '<a href=\"https://about.twitter.com/products/tweetdeck\" rel=\"nofollow\">TweetDeck</a>', 'in_reply_to_status_id': None, 'in_reply_to_status_id_str': None, 'in_reply_to_user_id': None, 'in_reply_to_user_id_str': None, 'in_reply_to_screen_name': None, 'user': {'id': 17980523, 'id_str': '17980523', 'name': 'Bill Mitchell', 'screen_name': 'mitchellvii', 'location': 'Charlotte, NC', 'description': 'Host of YourVoice™ Radio, at https://t.co/OTTbbHoFsC,  Sun-Thu at 8pm ET!  Support the show at https://t.co/0cVNqg8Pts', 'url': 'https://t.co/mwOB5DxaNK', 'entities': {'url': {'urls': [{'url': 'https://t.co/mwOB5DxaNK', 'expanded_url': 'https://www.yourvoiceradio.com', 'display_url': 'yourvoiceradio.com', 'indices': [0, 23]}]}, 'description': {'urls': [{'url': 'https://t.co/OTTbbHoFsC', 'expanded_url': 'http://www.spreaker.com/user/mitchellvii', 'display_url': 'spreaker.com/user/mitchellv…', 'indices': [29, 52]}, {'url': 'https://t.co/0cVNqg8Pts', 'expanded_url': 'https://www.gofundme.com/yourvoiceradiodonate', 'display_url': 'gofundme.com/yourvoiceradio…', 'indices': [95, 118]}]}}, 'protected': False, 'followers_count': 202398, 'friends_count': 8803, 'listed_count': 2042, 'created_at': 'Tue Dec 09 01:54:21 +0000 2008', 'favourites_count': 16872, 'utc_offset': -14400, 'time_zone': 'Eastern Time (US & Canada)', 'geo_enabled': False, 'verified': True, 'statuses_count': 88354, 'lang': 'en', 'contributors_enabled': False, 'is_translator': False, 'is_translation_enabled': False, 'profile_background_color': '000000', 'profile_background_image_url': 'http://abs.twimg.com/images/themes/theme1/bg.png', 'profile_background_image_url_https': 'https://abs.twimg.com/images/themes/theme1/bg.png', 'profile_background_tile': False, 'profile_image_url': 'http://pbs.twimg.com/profile_images/820454223024373760/txm5aWfm_normal.jpg', 'profile_image_url_https': 'https://pbs.twimg.com/profile_images/820454223024373760/txm5aWfm_normal.jpg', 'profile_banner_url': 'https://pbs.twimg.com/profile_banners/17980523/1470932562', 'profile_link_color': 'ABB8C2', 'profile_sidebar_border_color': '000000', 'profile_sidebar_fill_color': '000000', 'profile_text_color': '000000', 'profile_use_background_image': False, 'has_extended_profile': True, 'default_profile': False, 'default_profile_image': False, 'following': False, 'follow_request_sent': False, 'notifications': False, 'translator_type': 'none'}, 'geo': None, 'coordinates': None, 'place': None, 'contributors': None, 'is_quote_status': False, 'retweet_count': 2896, 'favorite_count': 9870, 'favorited': False, 'retweeted': False, 'lang': 'en'}, 'is_quote_status': False, 'retweet_count': 2896, 'favorite_count': 0, 'favorited': False, 'retweeted': False, 'lang': 'en'}\n"
     ]
    }
   ],
   "source": [
    "import json\n",
    "\n",
    "with open('tweet.txt') as json_data:\n",
    "    info = json.load(json_data)\n",
    "print(info[0])"
   ]
  },
  {
   "cell_type": "markdown",
   "metadata": {},
   "source": [
    "How would you figure out the date the tweet was created at?"
   ]
  },
  {
   "cell_type": "code",
   "execution_count": 52,
   "metadata": {
    "collapsed": false
   },
   "outputs": [
    {
     "name": "stdout",
     "output_type": "stream",
     "text": [
      "Thu Mar 23 01:04:32 +0000 2017\n"
     ]
    }
   ],
   "source": [
    "print(info[0]['created_at'])"
   ]
  },
  {
   "cell_type": "markdown",
   "metadata": {},
   "source": [
    "What about the actual tweet?"
   ]
  },
  {
   "cell_type": "code",
   "execution_count": 53,
   "metadata": {
    "collapsed": false
   },
   "outputs": [
    {
     "name": "stdout",
     "output_type": "stream",
     "text": [
      "RT @mitchellvii: Trump always ends up being right.  It's almost a little freaky.\n"
     ]
    }
   ],
   "source": [
    "print(info[0]['text'])"
   ]
  },
  {
   "cell_type": "markdown",
   "metadata": {},
   "source": [
    "What if we wanted his user info?"
   ]
  },
  {
   "cell_type": "code",
   "execution_count": 54,
   "metadata": {
    "collapsed": false
   },
   "outputs": [
    {
     "name": "stdout",
     "output_type": "stream",
     "text": [
      "{'id': 25073877, 'id_str': '25073877', 'name': 'Donald J. Trump', 'screen_name': 'realDonaldTrump', 'location': 'Washington, DC', 'description': '45th President of the United States of America', 'url': None, 'entities': {'description': {'urls': []}}, 'protected': False, 'followers_count': 26896032, 'friends_count': 43, 'listed_count': 66787, 'created_at': 'Wed Mar 18 13:46:38 +0000 2009', 'favourites_count': 46, 'utc_offset': -14400, 'time_zone': 'Eastern Time (US & Canada)', 'geo_enabled': True, 'verified': True, 'statuses_count': 34639, 'lang': 'en', 'contributors_enabled': False, 'is_translator': False, 'is_translation_enabled': True, 'profile_background_color': '6D5C18', 'profile_background_image_url': 'http://pbs.twimg.com/profile_background_images/530021613/trump_scotland__43_of_70_cc.jpg', 'profile_background_image_url_https': 'https://pbs.twimg.com/profile_background_images/530021613/trump_scotland__43_of_70_cc.jpg', 'profile_background_tile': True, 'profile_image_url': 'http://pbs.twimg.com/profile_images/1980294624/DJT_Headshot_V2_normal.jpg', 'profile_image_url_https': 'https://pbs.twimg.com/profile_images/1980294624/DJT_Headshot_V2_normal.jpg', 'profile_banner_url': 'https://pbs.twimg.com/profile_banners/25073877/1489657715', 'profile_link_color': '0D5B73', 'profile_sidebar_border_color': 'BDDCAD', 'profile_sidebar_fill_color': 'C5CEC0', 'profile_text_color': '333333', 'profile_use_background_image': True, 'has_extended_profile': False, 'default_profile': False, 'default_profile_image': False, 'following': False, 'follow_request_sent': False, 'notifications': False, 'translator_type': 'regular'}\n"
     ]
    }
   ],
   "source": [
    "print(info[0]['user'])"
   ]
  },
  {
   "cell_type": "markdown",
   "metadata": {},
   "source": [
    "What about his name?"
   ]
  },
  {
   "cell_type": "code",
   "execution_count": null,
   "metadata": {
    "collapsed": true
   },
   "outputs": [],
   "source": [
    "What about his name"
   ]
  },
  {
   "cell_type": "code",
   "execution_count": 57,
   "metadata": {
    "collapsed": false
   },
   "outputs": [
    {
     "name": "stdout",
     "output_type": "stream",
     "text": [
      "Donald J. Trump\n"
     ]
    }
   ],
   "source": [
    "print(info[0]['user']['name'])"
   ]
  },
  {
   "cell_type": "markdown",
   "metadata": {},
   "source": [
    "Notice that dictionaries that store a lot of information can be hard to read. To make them more easy to read, we can use \"pretty print\":"
   ]
  },
  {
   "cell_type": "code",
   "execution_count": 5,
   "metadata": {
    "collapsed": false
   },
   "outputs": [
    {
     "name": "stdout",
     "output_type": "stream",
     "text": [
      "{'contributors_enabled': False,\n",
      " 'created_at': 'Wed Mar 18 13:46:38 +0000 2009',\n",
      " 'default_profile': False,\n",
      " 'default_profile_image': False,\n",
      " 'description': '45th President of the United States of America',\n",
      " 'entities': {'description': {'urls': []}},\n",
      " 'favourites_count': 46,\n",
      " 'follow_request_sent': False,\n",
      " 'followers_count': 26896032,\n",
      " 'following': False,\n",
      " 'friends_count': 43,\n",
      " 'geo_enabled': True,\n",
      " 'has_extended_profile': False,\n",
      " 'id': 25073877,\n",
      " 'id_str': '25073877',\n",
      " 'is_translation_enabled': True,\n",
      " 'is_translator': False,\n",
      " 'lang': 'en',\n",
      " 'listed_count': 66787,\n",
      " 'location': 'Washington, DC',\n",
      " 'name': 'Donald J. Trump',\n",
      " 'notifications': False,\n",
      " 'profile_background_color': '6D5C18',\n",
      " 'profile_background_image_url': 'http://pbs.twimg.com/profile_background_images/530021613/trump_scotland__43_of_70_cc.jpg',\n",
      " 'profile_background_image_url_https': 'https://pbs.twimg.com/profile_background_images/530021613/trump_scotland__43_of_70_cc.jpg',\n",
      " 'profile_background_tile': True,\n",
      " 'profile_banner_url': 'https://pbs.twimg.com/profile_banners/25073877/1489657715',\n",
      " 'profile_image_url': 'http://pbs.twimg.com/profile_images/1980294624/DJT_Headshot_V2_normal.jpg',\n",
      " 'profile_image_url_https': 'https://pbs.twimg.com/profile_images/1980294624/DJT_Headshot_V2_normal.jpg',\n",
      " 'profile_link_color': '0D5B73',\n",
      " 'profile_sidebar_border_color': 'BDDCAD',\n",
      " 'profile_sidebar_fill_color': 'C5CEC0',\n",
      " 'profile_text_color': '333333',\n",
      " 'profile_use_background_image': True,\n",
      " 'protected': False,\n",
      " 'screen_name': 'realDonaldTrump',\n",
      " 'statuses_count': 34639,\n",
      " 'time_zone': 'Eastern Time (US & Canada)',\n",
      " 'translator_type': 'regular',\n",
      " 'url': None,\n",
      " 'utc_offset': -14400,\n",
      " 'verified': True}\n"
     ]
    }
   ],
   "source": [
    "import pprint\n",
    "\n",
    "pprint.pprint(info[0]['user'])\n"
   ]
  },
  {
   "cell_type": "markdown",
   "metadata": {},
   "source": [
    "Or even prettier:"
   ]
  },
  {
   "cell_type": "code",
   "execution_count": 7,
   "metadata": {
    "collapsed": false
   },
   "outputs": [
    {
     "name": "stdout",
     "output_type": "stream",
     "text": [
      "{'contributors_enabled': False,\n",
      " 'created_at': 'Wed '\n",
      "               'Mar '\n",
      "               '18 '\n",
      "               '13:46:38 '\n",
      "               '+0000 '\n",
      "               '2009',\n",
      " 'default_profile': False,\n",
      " 'default_profile_image': False,\n",
      " 'description': '45th '\n",
      "                'President '\n",
      "                'of '\n",
      "                'the '\n",
      "                'United '\n",
      "                'States '\n",
      "                'of '\n",
      "                'America',\n",
      " 'entities': {'description': {'urls': []}},\n",
      " 'favourites_count': 46,\n",
      " 'follow_request_sent': False,\n",
      " 'followers_count': 26896032,\n",
      " 'following': False,\n",
      " 'friends_count': 43,\n",
      " 'geo_enabled': True,\n",
      " 'has_extended_profile': False,\n",
      " 'id': 25073877,\n",
      " 'id_str': '25073877',\n",
      " 'is_translation_enabled': True,\n",
      " 'is_translator': False,\n",
      " 'lang': 'en',\n",
      " 'listed_count': 66787,\n",
      " 'location': 'Washington, '\n",
      "             'DC',\n",
      " 'name': 'Donald '\n",
      "         'J. '\n",
      "         'Trump',\n",
      " 'notifications': False,\n",
      " 'profile_background_color': '6D5C18',\n",
      " 'profile_background_image_url': 'http://pbs.twimg.com/profile_background_images/530021613/trump_scotland__43_of_70_cc.jpg',\n",
      " 'profile_background_image_url_https': 'https://pbs.twimg.com/profile_background_images/530021613/trump_scotland__43_of_70_cc.jpg',\n",
      " 'profile_background_tile': True,\n",
      " 'profile_banner_url': 'https://pbs.twimg.com/profile_banners/25073877/1489657715',\n",
      " 'profile_image_url': 'http://pbs.twimg.com/profile_images/1980294624/DJT_Headshot_V2_normal.jpg',\n",
      " 'profile_image_url_https': 'https://pbs.twimg.com/profile_images/1980294624/DJT_Headshot_V2_normal.jpg',\n",
      " 'profile_link_color': '0D5B73',\n",
      " 'profile_sidebar_border_color': 'BDDCAD',\n",
      " 'profile_sidebar_fill_color': 'C5CEC0',\n",
      " 'profile_text_color': '333333',\n",
      " 'profile_use_background_image': True,\n",
      " 'protected': False,\n",
      " 'screen_name': 'realDonaldTrump',\n",
      " 'statuses_count': 34639,\n",
      " 'time_zone': 'Eastern '\n",
      "              'Time '\n",
      "              '(US '\n",
      "              '& '\n",
      "              'Canada)',\n",
      " 'translator_type': 'regular',\n",
      " 'url': None,\n",
      " 'utc_offset': -14400,\n",
      " 'verified': True}\n"
     ]
    }
   ],
   "source": [
    "import pprint\n",
    "\n",
    "pprint.pprint(info[0]['user'], width=2)\n"
   ]
  },
  {
   "cell_type": "markdown",
   "metadata": {},
   "source": [
    "### Exercise - Donald\n",
    "Using the above tweet info, print out:\n",
    "\n",
    "-Donald's screen_name, \n",
    "\n",
    "-his location,\n",
    "\n",
    "-his description,\n",
    "\n",
    "-his followers count,\n",
    "\n",
    "-his time zone,\n",
    "\n",
    "-whether he is verified, and\n",
    "\n",
    "-his statuses_count,\n"
   ]
  },
  {
   "cell_type": "code",
   "execution_count": null,
   "metadata": {
    "collapsed": true
   },
   "outputs": [],
   "source": [
    "#insert Donald"
   ]
  },
  {
   "cell_type": "markdown",
   "metadata": {},
   "source": [
    "APIS (Application Programming Interfaces)\n",
    "---\n",
    "<a class=\"anchor\" id=\"apis\"></a>\n",
    "\n",
    "We now have the ability to exchange data between applications using HyperText Transport Protocol (HTTP) and a way to represent complex data that we are sending back and forth between these applications using  JavaScript Object Notation (JSON).\n",
    "\n",
    "\n",
    "The next step is to begin to define and document “contracts” between applications using these techniques. The general name for these application-to-application contracts is Application Program Interfaces or APIs. When we use an API, generally one program makes a set of services available for use by other applications and publishes the APIs (i.e., the “rules”) that must be followed to access the services provided by the program. When an application makes a set of services in its API available over the web, we call these web services.\n",
    "\n",
    "### Google Geocoding web service\n",
    "\n",
    "Google has an excellent web service that allows us to make use of their large database of geographic information. We can submit a geographical search string like “Ann Arbor, MI” to their geocoding API and have Google return its best guess as to where on a map we might find our search string and tell us about the landmarks nearby.\n",
    "\n",
    "For example, suppose we wanted to search for Portland, OR. We would need to create the following URL, then try to open it, read it, and then load it into a JSON format:"
   ]
  },
  {
   "cell_type": "code",
   "execution_count": 63,
   "metadata": {
    "collapsed": false
   },
   "outputs": [
    {
     "name": "stdout",
     "output_type": "stream",
     "text": [
      "{\n",
      "    \"results\": [\n",
      "        {\n",
      "            \"address_components\": [\n",
      "                {\n",
      "                    \"long_name\": \"Portland\",\n",
      "                    \"short_name\": \"Portland\",\n",
      "                    \"types\": [\n",
      "                        \"locality\",\n",
      "                        \"political\"\n",
      "                    ]\n",
      "                },\n",
      "                {\n",
      "                    \"long_name\": \"Multnomah County\",\n",
      "                    \"short_name\": \"Multnomah County\",\n",
      "                    \"types\": [\n",
      "                        \"administrative_area_level_2\",\n",
      "                        \"political\"\n",
      "                    ]\n",
      "                },\n",
      "                {\n",
      "                    \"long_name\": \"Oregon\",\n",
      "                    \"short_name\": \"OR\",\n",
      "                    \"types\": [\n",
      "                        \"administrative_area_level_1\",\n",
      "                        \"political\"\n",
      "                    ]\n",
      "                },\n",
      "                {\n",
      "                    \"long_name\": \"United States\",\n",
      "                    \"short_name\": \"US\",\n",
      "                    \"types\": [\n",
      "                        \"country\",\n",
      "                        \"political\"\n",
      "                    ]\n",
      "                }\n",
      "            ],\n",
      "            \"formatted_address\": \"Portland, OR, USA\",\n",
      "            \"geometry\": {\n",
      "                \"bounds\": {\n",
      "                    \"northeast\": {\n",
      "                        \"lat\": 45.654424,\n",
      "                        \"lng\": -122.4718489\n",
      "                    },\n",
      "                    \"southwest\": {\n",
      "                        \"lat\": 45.432393,\n",
      "                        \"lng\": -122.8369952\n",
      "                    }\n",
      "                },\n",
      "                \"location\": {\n",
      "                    \"lat\": 45.5230622,\n",
      "                    \"lng\": -122.6764816\n",
      "                },\n",
      "                \"location_type\": \"APPROXIMATE\",\n",
      "                \"viewport\": {\n",
      "                    \"northeast\": {\n",
      "                        \"lat\": 45.6524799,\n",
      "                        \"lng\": -122.4718489\n",
      "                    },\n",
      "                    \"southwest\": {\n",
      "                        \"lat\": 45.432393,\n",
      "                        \"lng\": -122.8369952\n",
      "                    }\n",
      "                }\n",
      "            },\n",
      "            \"place_id\": \"ChIJJ3SpfQsLlVQRkYXR9ua5Nhw\",\n",
      "            \"types\": [\n",
      "                \"locality\",\n",
      "                \"political\"\n",
      "            ]\n",
      "        }\n",
      "    ],\n",
      "    \"status\": \"OK\"\n",
      "}\n"
     ]
    }
   ],
   "source": [
    "import urllib.request, urllib.parse, urllib.error\n",
    "import json\n",
    "\n",
    "url = 'http://maps.googleapis.com/maps/api/geocode/json?sensor=false&address=Portland%2C+OR'\n",
    "uh = urllib.request.urlopen(url)\n",
    "data = uh.read().decode()\n",
    "js = json.loads(data)\n",
    "print(json.dumps(js, indent=4))"
   ]
  },
  {
   "cell_type": "markdown",
   "metadata": {},
   "source": [
    "If we wanted to get some of the info more specifically, we could then type:"
   ]
  },
  {
   "cell_type": "code",
   "execution_count": 64,
   "metadata": {
    "collapsed": false
   },
   "outputs": [
    {
     "name": "stdout",
     "output_type": "stream",
     "text": [
      "lat 45.5230622 lng -122.6764816\n",
      "Portland, OR, USA\n"
     ]
    }
   ],
   "source": [
    "lat = js[\"results\"][0][\"geometry\"][\"location\"][\"lat\"]\n",
    "lng = js[\"results\"][0][\"geometry\"][\"location\"][\"lng\"]\n",
    "print('lat', lat, 'lng', lng)\n",
    "location = js['results'][0]['formatted_address']\n",
    "print(location)"
   ]
  },
  {
   "cell_type": "markdown",
   "metadata": {},
   "source": [
    "In the above code, we entered in the url that we wanted to try to open exactly. In the future, we might want to create a more general program that asks the user to specify the address that they want Google to look up. To do that, type the following:"
   ]
  },
  {
   "cell_type": "code",
   "execution_count": 3,
   "metadata": {
    "collapsed": false
   },
   "outputs": [
    {
     "name": "stdout",
     "output_type": "stream",
     "text": [
      "Enter location: New York City\n",
      "{\n",
      "    \"results\": [\n",
      "        {\n",
      "            \"address_components\": [\n",
      "                {\n",
      "                    \"long_name\": \"New York\",\n",
      "                    \"short_name\": \"New York\",\n",
      "                    \"types\": [\n",
      "                        \"locality\",\n",
      "                        \"political\"\n",
      "                    ]\n",
      "                },\n",
      "                {\n",
      "                    \"long_name\": \"New York\",\n",
      "                    \"short_name\": \"NY\",\n",
      "                    \"types\": [\n",
      "                        \"administrative_area_level_1\",\n",
      "                        \"political\"\n",
      "                    ]\n",
      "                },\n",
      "                {\n",
      "                    \"long_name\": \"United States\",\n",
      "                    \"short_name\": \"US\",\n",
      "                    \"types\": [\n",
      "                        \"country\",\n",
      "                        \"political\"\n",
      "                    ]\n",
      "                }\n",
      "            ],\n",
      "            \"formatted_address\": \"New York, NY, USA\",\n",
      "            \"geometry\": {\n",
      "                \"bounds\": {\n",
      "                    \"northeast\": {\n",
      "                        \"lat\": 40.9175771,\n",
      "                        \"lng\": -73.70027209999999\n",
      "                    },\n",
      "                    \"southwest\": {\n",
      "                        \"lat\": 40.4773991,\n",
      "                        \"lng\": -74.25908989999999\n",
      "                    }\n",
      "                },\n",
      "                \"location\": {\n",
      "                    \"lat\": 40.7127837,\n",
      "                    \"lng\": -74.0059413\n",
      "                },\n",
      "                \"location_type\": \"APPROXIMATE\",\n",
      "                \"viewport\": {\n",
      "                    \"northeast\": {\n",
      "                        \"lat\": 40.9152555,\n",
      "                        \"lng\": -73.70027209999999\n",
      "                    },\n",
      "                    \"southwest\": {\n",
      "                        \"lat\": 40.4960439,\n",
      "                        \"lng\": -74.2557349\n",
      "                    }\n",
      "                }\n",
      "            },\n",
      "            \"place_id\": \"ChIJOwg_06VPwokRYv534QaPC8g\",\n",
      "            \"types\": [\n",
      "                \"locality\",\n",
      "                \"political\"\n",
      "            ]\n",
      "        }\n",
      "    ],\n",
      "    \"status\": \"OK\"\n",
      "}\n"
     ]
    }
   ],
   "source": [
    "import urllib.request, urllib.parse, urllib.error\n",
    "import json\n",
    "\n",
    "serviceurl = 'http://maps.googleapis.com/maps/api/geocode/json?'\n",
    "\n",
    "address = input('Enter location: ')\n",
    "\n",
    "url = serviceurl + urllib.parse.urlencode({'address': address})\n",
    "uh = urllib.request.urlopen(url)\n",
    "data = uh.read().decode()\n",
    "\n",
    "js = json.loads(data)\n",
    "print(json.dumps(js, indent=4))"
   ]
  },
  {
   "cell_type": "markdown",
   "metadata": {
    "collapsed": false
   },
   "source": [
    "What exactly does the line \"url = serviceurl + urllib.parse.urlencode({'address': address})\" do? Let's see..."
   ]
  },
  {
   "cell_type": "code",
   "execution_count": 4,
   "metadata": {
    "collapsed": false
   },
   "outputs": [
    {
     "name": "stdout",
     "output_type": "stream",
     "text": [
      "Enter location: New York, NY\n",
      "http://maps.googleapis.com/maps/api/geocode/json?address=New+York%2C+NY\n"
     ]
    }
   ],
   "source": [
    "import urllib.request, urllib.parse, urllib.error\n",
    "import json\n",
    "\n",
    "serviceurl = 'http://maps.googleapis.com/maps/api/geocode/json?'\n",
    "\n",
    "address = input('Enter location: ')\n",
    "\n",
    "url = serviceurl + urllib.parse.urlencode({'address': address})\n",
    "print(url)"
   ]
  },
  {
   "cell_type": "markdown",
   "metadata": {
    "collapsed": true
   },
   "source": [
    "It creates the URL that we need in order to talk to Google."
   ]
  },
  {
   "cell_type": "markdown",
   "metadata": {},
   "source": [
    "What about the next line?"
   ]
  },
  {
   "cell_type": "code",
   "execution_count": 5,
   "metadata": {
    "collapsed": false
   },
   "outputs": [
    {
     "name": "stdout",
     "output_type": "stream",
     "text": [
      "Enter location: New York, NY\n",
      "<http.client.HTTPResponse object at 0x10f842128>\n"
     ]
    }
   ],
   "source": [
    "import urllib.request, urllib.parse, urllib.error\n",
    "import json\n",
    "\n",
    "serviceurl = 'http://maps.googleapis.com/maps/api/geocode/json?'\n",
    "\n",
    "address = input('Enter location: ')\n",
    "\n",
    "url = serviceurl + urllib.parse.urlencode({'address': address})\n",
    "uh = urllib.request.urlopen(url)\n",
    "print(uh)"
   ]
  },
  {
   "cell_type": "markdown",
   "metadata": {},
   "source": [
    "It is an http object that we need. What about the next line?"
   ]
  },
  {
   "cell_type": "code",
   "execution_count": 9,
   "metadata": {
    "collapsed": false
   },
   "outputs": [
    {
     "name": "stdout",
     "output_type": "stream",
     "text": [
      "Enter location: New York, NY\n",
      "{\n",
      "   \"results\" : [\n",
      "      {\n",
      "         \"address_components\" : [\n",
      "            {\n",
      "               \"long_name\" : \"New York\",\n",
      "               \"short_name\" : \"New York\",\n",
      "               \"types\" : [ \"locality\", \"political\" ]\n",
      "            },\n",
      "            {\n",
      "               \"long_name\" : \"New York\",\n",
      "               \"short_name\" : \"NY\",\n",
      "               \"types\" : [ \"administrative_area_level_1\", \"political\" ]\n",
      "            },\n",
      "            {\n",
      "               \"long_name\" : \"United States\",\n",
      "               \"short_name\" : \"US\",\n",
      "               \"types\" : [ \"country\", \"political\" ]\n",
      "            }\n",
      "         ],\n",
      "         \"formatted_address\" : \"New York, NY, USA\",\n",
      "         \"geometry\" : {\n",
      "            \"bounds\" : {\n",
      "               \"northeast\" : {\n",
      "                  \"lat\" : 40.9175771,\n",
      "                  \"lng\" : -73.70027209999999\n",
      "               },\n",
      "               \"southwest\" : {\n",
      "                  \"lat\" : 40.4773991,\n",
      "                  \"lng\" : -74.25908989999999\n",
      "               }\n",
      "            },\n",
      "            \"location\" : {\n",
      "               \"lat\" : 40.7127837,\n",
      "               \"lng\" : -74.0059413\n",
      "            },\n",
      "            \"location_type\" : \"APPROXIMATE\",\n",
      "            \"viewport\" : {\n",
      "               \"northeast\" : {\n",
      "                  \"lat\" : 40.9152555,\n",
      "                  \"lng\" : -73.70027209999999\n",
      "               },\n",
      "               \"southwest\" : {\n",
      "                  \"lat\" : 40.4960439,\n",
      "                  \"lng\" : -74.25573489999999\n",
      "               }\n",
      "            }\n",
      "         },\n",
      "         \"place_id\" : \"ChIJOwg_06VPwokRYv534QaPC8g\",\n",
      "         \"types\" : [ \"locality\", \"political\" ]\n",
      "      }\n",
      "   ],\n",
      "   \"status\" : \"OK\"\n",
      "}\n",
      "\n"
     ]
    }
   ],
   "source": [
    "import urllib.request, urllib.parse, urllib.error\n",
    "import json\n",
    "\n",
    "serviceurl = 'http://maps.googleapis.com/maps/api/geocode/json?'\n",
    "\n",
    "address = input('Enter location: ')\n",
    "\n",
    "url = serviceurl + urllib.parse.urlencode({'address': address})\n",
    "uh = urllib.request.urlopen(url)\n",
    "data = uh.read().decode()\n",
    "print(data)"
   ]
  },
  {
   "cell_type": "markdown",
   "metadata": {},
   "source": [
    "It gives us all of our data. However, since we haven't turned it into JSON format yet, we have no good way of accessing the info:"
   ]
  },
  {
   "cell_type": "code",
   "execution_count": 10,
   "metadata": {
    "collapsed": false
   },
   "outputs": [
    {
     "name": "stdout",
     "output_type": "stream",
     "text": [
      "Enter location: New York, NY\n"
     ]
    },
    {
     "ename": "TypeError",
     "evalue": "string indices must be integers",
     "output_type": "error",
     "traceback": [
      "\u001b[0;31m---------------------------------------------------------------------------\u001b[0m",
      "\u001b[0;31mTypeError\u001b[0m                                 Traceback (most recent call last)",
      "\u001b[0;32m<ipython-input-10-b7e0e17363e5>\u001b[0m in \u001b[0;36m<module>\u001b[0;34m()\u001b[0m\n\u001b[1;32m      9\u001b[0m \u001b[0muh\u001b[0m \u001b[0;34m=\u001b[0m \u001b[0murllib\u001b[0m\u001b[0;34m.\u001b[0m\u001b[0mrequest\u001b[0m\u001b[0;34m.\u001b[0m\u001b[0murlopen\u001b[0m\u001b[0;34m(\u001b[0m\u001b[0murl\u001b[0m\u001b[0;34m)\u001b[0m\u001b[0;34m\u001b[0m\u001b[0m\n\u001b[1;32m     10\u001b[0m \u001b[0mdata\u001b[0m \u001b[0;34m=\u001b[0m \u001b[0muh\u001b[0m\u001b[0;34m.\u001b[0m\u001b[0mread\u001b[0m\u001b[0;34m(\u001b[0m\u001b[0;34m)\u001b[0m\u001b[0;34m.\u001b[0m\u001b[0mdecode\u001b[0m\u001b[0;34m(\u001b[0m\u001b[0;34m)\u001b[0m\u001b[0;34m\u001b[0m\u001b[0m\n\u001b[0;32m---> 11\u001b[0;31m \u001b[0mprint\u001b[0m\u001b[0;34m(\u001b[0m\u001b[0mdata\u001b[0m\u001b[0;34m[\u001b[0m\u001b[0;34m\"results\"\u001b[0m\u001b[0;34m]\u001b[0m\u001b[0;34m)\u001b[0m\u001b[0;34m\u001b[0m\u001b[0m\n\u001b[0m",
      "\u001b[0;31mTypeError\u001b[0m: string indices must be integers"
     ]
    }
   ],
   "source": [
    "import urllib.request, urllib.parse, urllib.error\n",
    "import json\n",
    "\n",
    "serviceurl = 'http://maps.googleapis.com/maps/api/geocode/json?'\n",
    "\n",
    "address = input('Enter location: ')\n",
    "\n",
    "url = serviceurl + urllib.parse.urlencode({'address': address})\n",
    "uh = urllib.request.urlopen(url)\n",
    "data = uh.read().decode()\n",
    "print(data[\"results\"])"
   ]
  },
  {
   "cell_type": "markdown",
   "metadata": {},
   "source": [
    "Let's write a program that asks the user for several addresses and stores the Google data in a file called where.txt:"
   ]
  },
  {
   "cell_type": "code",
   "execution_count": 20,
   "metadata": {
    "collapsed": false
   },
   "outputs": [
    {
     "name": "stdout",
     "output_type": "stream",
     "text": [
      "Enter location: New York, NY\n",
      "Enter location: Portland, OR\n",
      "Enter location: Seattle, WA\n",
      "Enter location: \n"
     ]
    }
   ],
   "source": [
    "import json\n",
    "with open('where.txt', 'w') as outfile:\n",
    "    \n",
    "    serviceurl = 'http://maps.googleapis.com/maps/api/geocode/json?'\n",
    "    address = input('Enter location: ')\n",
    "    while address:\n",
    "        url = serviceurl + urllib.parse.urlencode({'address': address})\n",
    "        uh = urllib.request.urlopen(url)\n",
    "        data = uh.read().decode()\n",
    "        json.dump(data, outfile)\n",
    "        address = input('Enter location: ')\n",
    "        \n",
    "outfile.close()"
   ]
  },
  {
   "cell_type": "markdown",
   "metadata": {},
   "source": [
    "This geodata.txt file would be fine, if it weren't for the fact that we will actually want to plot these coordinates on a map, and to do that, we need to store it as a list of lists, instead of JSON format, in order for JavaScript to execute the code. So, let's change our program slightly to store the file in the form mydata = [latitute, longitude, 'location name'] in a file called where.js:"
   ]
  },
  {
   "cell_type": "code",
   "execution_count": 27,
   "metadata": {
    "collapsed": false
   },
   "outputs": [
    {
     "name": "stdout",
     "output_type": "stream",
     "text": [
      "Enter location: New York, NY\n",
      "Enter location: Seattle, WA\n",
      "Enter location: Los Angeles, CA\n",
      "Enter location: Durham, NC\n",
      "Enter location: \n"
     ]
    }
   ],
   "source": [
    "import json\n",
    "    \n",
    "serviceurl = 'http://maps.googleapis.com/maps/api/geocode/json?'\n",
    "    \n",
    "address = input('Enter location: ')\n",
    "mystring = 'myData = [\\n'\n",
    "    \n",
    "while address:\n",
    "    url = serviceurl + urllib.parse.urlencode({'address': address})\n",
    "    uh = urllib.request.urlopen(url)\n",
    "    data = uh.read().decode()\n",
    "    js = json.loads(data)\n",
    "    lat = js[\"results\"][0][\"geometry\"][\"location\"][\"lat\"]\n",
    "    lng = js[\"results\"][0][\"geometry\"][\"location\"][\"lng\"]\n",
    "        \n",
    "    mystring = mystring + '['+str(js[\"results\"][0][\"geometry\"][\"location\"][\"lat\"])+',' \\\n",
    "    +str(js[\"results\"][0][\"geometry\"][\"location\"][\"lng\"])+', '+\"'\"+address+\"'\"+\"],\"\n",
    "    address = input('Enter location: ')\n",
    "\n",
    "mystring = mystring[0:-1]\n",
    "mystring = mystring + \"];\"                                                                                      \n",
    "\n",
    "with open('where.js', 'w') as outfile:\n",
    "     outfile.write(mystring)                                                                                          \n",
    "outfile.close()"
   ]
  },
  {
   "cell_type": "markdown",
   "metadata": {},
   "source": [
    "We can now view our sites on a map by saving the files where.js and where.html to our desktop and then opening where.html in a web browser.\n",
    "                        "
   ]
  },
  {
   "cell_type": "markdown",
   "metadata": {},
   "source": [
    "### Exercise - College\n",
    "Use the above programs to make a map of 10 colleges that you're interested in attending. "
   ]
  },
  {
   "cell_type": "markdown",
   "metadata": {},
   "source": [
    "### Exercise - Geocoding\n",
    "Read the documentation on \"Geocoding responses\" here carefully: https://developers.google.com/maps/documentation/javascript/geocoding\n",
    "\n",
    "Examine closely how the where.html code is similar and different to the sample code given on this website. Play around with changing things in the html file.\n"
   ]
  },
  {
   "cell_type": "markdown",
   "metadata": {},
   "source": [
    "### Exercise - Reverse Geocoding\n",
    "\n",
    "Continue reading that link to figure out how to write a javascript program that takes in latitude, longitude coordinates and returns the name of the place."
   ]
  },
  {
   "cell_type": "markdown",
   "metadata": {},
   "source": [
    "### Exercise - Custom markers and styles\n",
    "\n",
    "On the left side of the webpage, you should see many topics listed. Go to \"Drawing on the Map.\" Figure out how to create custom markers. Label your favorite restaurants in Portland with one type of marker and your other favorite spots to hang out with a different marker. "
   ]
  },
  {
   "cell_type": "markdown",
   "metadata": {},
   "source": [
    "### Exercise - Heat\n",
    "On the left hand side of the website, click on \"Displaying Data\" topics. In particular, explore the heatmap option. Make a heat map for a data set of interest to you."
   ]
  },
  {
   "cell_type": "markdown",
   "metadata": {},
   "source": [
    "API Keys\n",
    "---\n",
    "It is quite common that you need some kind of “API key” to make use of a vendor’s API. The general idea is that they want to know who is using their services and how much each user is using. Perhaps they have free and pay tiers of their services or have a policy that limits the number of requests that a single individual can make during a particular time period.\n",
    "Sometimes once you get your API key, put it as a parameter of the URL when calling the API. This is the way that Google Maps does it. Get your own Google API key here: https://developers.google.com/maps/documentation/geocoding/get-api-key\n",
    "\n",
    "Then, you'll only need to change two things from your request above:\n",
    "1.) Make the URL say \"https\" instead of \"http\" since the API must be over SSL (Secure Sockets Layer).\n",
    "\n",
    "2.)Put your key at the end: https://maps.googleapis.com/maps/api/geocode/json?address=1600+Amphitheatre+Parkway,+Mountain+View,+CA&key=YOUR_API_KEY\n",
    "\n",
    "(In the text above, delete where it says \"YOUR_API_KEY\" and replace it with the letter/number key that you got from Google. \n",
    "\n",
    "Run the code below by replacing the question marks below with your key."
   ]
  },
  {
   "cell_type": "code",
   "execution_count": 33,
   "metadata": {
    "collapsed": false
   },
   "outputs": [
    {
     "name": "stdout",
     "output_type": "stream",
     "text": [
      "{\n",
      "    \"results\": [\n",
      "        {\n",
      "            \"address_components\": [\n",
      "                {\n",
      "                    \"long_name\": \"Portland\",\n",
      "                    \"short_name\": \"Portland\",\n",
      "                    \"types\": [\n",
      "                        \"locality\",\n",
      "                        \"political\"\n",
      "                    ]\n",
      "                },\n",
      "                {\n",
      "                    \"long_name\": \"Multnomah County\",\n",
      "                    \"short_name\": \"Multnomah County\",\n",
      "                    \"types\": [\n",
      "                        \"administrative_area_level_2\",\n",
      "                        \"political\"\n",
      "                    ]\n",
      "                },\n",
      "                {\n",
      "                    \"long_name\": \"Oregon\",\n",
      "                    \"short_name\": \"OR\",\n",
      "                    \"types\": [\n",
      "                        \"administrative_area_level_1\",\n",
      "                        \"political\"\n",
      "                    ]\n",
      "                },\n",
      "                {\n",
      "                    \"long_name\": \"United States\",\n",
      "                    \"short_name\": \"US\",\n",
      "                    \"types\": [\n",
      "                        \"country\",\n",
      "                        \"political\"\n",
      "                    ]\n",
      "                }\n",
      "            ],\n",
      "            \"formatted_address\": \"Portland, OR, USA\",\n",
      "            \"geometry\": {\n",
      "                \"bounds\": {\n",
      "                    \"northeast\": {\n",
      "                        \"lat\": 45.654424,\n",
      "                        \"lng\": -122.4718489\n",
      "                    },\n",
      "                    \"southwest\": {\n",
      "                        \"lat\": 45.432393,\n",
      "                        \"lng\": -122.8369952\n",
      "                    }\n",
      "                },\n",
      "                \"location\": {\n",
      "                    \"lat\": 45.5230622,\n",
      "                    \"lng\": -122.6764816\n",
      "                },\n",
      "                \"location_type\": \"APPROXIMATE\",\n",
      "                \"viewport\": {\n",
      "                    \"northeast\": {\n",
      "                        \"lat\": 45.6524799,\n",
      "                        \"lng\": -122.4718489\n",
      "                    },\n",
      "                    \"southwest\": {\n",
      "                        \"lat\": 45.432393,\n",
      "                        \"lng\": -122.8369952\n",
      "                    }\n",
      "                }\n",
      "            },\n",
      "            \"place_id\": \"ChIJJ3SpfQsLlVQRkYXR9ua5Nhw\",\n",
      "            \"types\": [\n",
      "                \"locality\",\n",
      "                \"political\"\n",
      "            ]\n",
      "        }\n",
      "    ],\n",
      "    \"status\": \"OK\"\n",
      "}\n"
     ]
    }
   ],
   "source": [
    "import urllib.request, urllib.parse, urllib.error\n",
    "import json\n",
    "\n",
    "your_key = '???????????'\n",
    "url = 'https://maps.googleapis.com/maps/api/geocode/json?sensor=false&address=Portland%2C+OR&key='+your_key\n",
    "uh = urllib.request.urlopen(url)\n",
    "data = uh.read().decode()\n",
    "js = json.loads(data)\n",
    "print(json.dumps(js, indent=4))\n"
   ]
  },
  {
   "cell_type": "markdown",
   "metadata": {},
   "source": [
    "As another example, let's work with www.wunderground.com again. First, you'll need to create an account. Then, you'll need to get a key by selecting \"Purchase Key\" from here: https://www.wunderground.com/weather/api/d/pricing.html . (Don't worry, you can get a free one.) You can see the correct notation for making an API request here: https://www.wunderground.com/weather/api/d/docs?d=data/index . Now, we'll type:"
   ]
  },
  {
   "cell_type": "code",
   "execution_count": 8,
   "metadata": {
    "collapsed": false
   },
   "outputs": [
    {
     "name": "stdout",
     "output_type": "stream",
     "text": [
      "{\n",
      "    \"response\": {\n",
      "        \"version\": \"0.1\",\n",
      "        \"termsofService\": \"http://www.wunderground.com/weather/api/d/terms.html\",\n",
      "        \"features\": {\n",
      "            \"forecast\": 1,\n",
      "            \"geolookup\": 1,\n",
      "            \"conditions\": 1\n",
      "        }\n",
      "    },\n",
      "    \"location\": {\n",
      "        \"type\": \"CITY\",\n",
      "        \"country\": \"US\",\n",
      "        \"country_iso3166\": \"US\",\n",
      "        \"country_name\": \"USA\",\n",
      "        \"state\": \"OR\",\n",
      "        \"city\": \"Portland\",\n",
      "        \"tz_short\": \"PDT\",\n",
      "        \"tz_long\": \"America/Los_Angeles\",\n",
      "        \"lat\": \"45.50999832\",\n",
      "        \"lon\": \"-122.69000244\",\n",
      "        \"zip\": \"97201\",\n",
      "        \"magic\": \"1\",\n",
      "        \"wmo\": \"99999\",\n",
      "        \"l\": \"/q/zmw:97201.1.99999\",\n",
      "        \"requesturl\": \"US/OR/Portland.html\",\n",
      "        \"wuiurl\": \"https://www.wunderground.com/US/OR/Portland.html\",\n",
      "        \"nearby_weather_stations\": {\n",
      "            \"airport\": {\n",
      "                \"station\": [\n",
      "                    {\n",
      "                        \"city\": \"Portland\",\n",
      "                        \"state\": \"OR\",\n",
      "                        \"country\": \"US\",\n",
      "                        \"icao\": \"KPDX\",\n",
      "                        \"lat\": \"45.59000015\",\n",
      "                        \"lon\": \"-122.59999847\"\n",
      "                    },\n",
      "                    {\n",
      "                        \"city\": \"Vancouver\",\n",
      "                        \"state\": \"WA\",\n",
      "                        \"country\": \"US\",\n",
      "                        \"icao\": \"KVUO\",\n",
      "                        \"lat\": \"45.61999893\",\n",
      "                        \"lon\": \"-122.66000366\"\n",
      "                    },\n",
      "                    {\n",
      "                        \"city\": \"Portland Hillsboro\",\n",
      "                        \"state\": \"OR\",\n",
      "                        \"country\": \"US\",\n",
      "                        \"icao\": \"KHIO\",\n",
      "                        \"lat\": \"45.54000092\",\n",
      "                        \"lon\": \"-122.94999695\"\n",
      "                    },\n",
      "                    {\n",
      "                        \"city\": \"Portland Troutdale\",\n",
      "                        \"state\": \"OR\",\n",
      "                        \"country\": \"US\",\n",
      "                        \"icao\": \"KTTD\",\n",
      "                        \"lat\": \"45.54999924\",\n",
      "                        \"lon\": \"-122.40000153\"\n",
      "                    }\n",
      "                ]\n",
      "            },\n",
      "            \"pws\": {\n",
      "                \"station\": [\n",
      "                    {\n",
      "                        \"neighborhood\": \"Portland State University\",\n",
      "                        \"city\": \"Portland\",\n",
      "                        \"state\": \"OR\",\n",
      "                        \"country\": \"US\",\n",
      "                        \"id\": \"KORPORTL766\",\n",
      "                        \"lat\": 45.513248,\n",
      "                        \"lon\": -122.686256,\n",
      "                        \"distance_km\": 0,\n",
      "                        \"distance_mi\": 0\n",
      "                    },\n",
      "                    {\n",
      "                        \"neighborhood\": \"Downtown Portland\",\n",
      "                        \"city\": \"Portland\",\n",
      "                        \"state\": \"OR\",\n",
      "                        \"country\": \"US\",\n",
      "                        \"id\": \"KORPORTL289\",\n",
      "                        \"lat\": 45.515411,\n",
      "                        \"lon\": -122.682343,\n",
      "                        \"distance_km\": 0,\n",
      "                        \"distance_mi\": 0\n",
      "                    },\n",
      "                    {\n",
      "                        \"neighborhood\": \"Southwest Portland\",\n",
      "                        \"city\": \"Portland\",\n",
      "                        \"state\": \"OR\",\n",
      "                        \"country\": \"US\",\n",
      "                        \"id\": \"KORPORTL360\",\n",
      "                        \"lat\": 45.507717,\n",
      "                        \"lon\": -122.679565,\n",
      "                        \"distance_km\": 0,\n",
      "                        \"distance_mi\": 0\n",
      "                    },\n",
      "                    {\n",
      "                        \"neighborhood\": \"SW Hills, Portland, OR\",\n",
      "                        \"city\": \"Portland\",\n",
      "                        \"state\": \"OR\",\n",
      "                        \"country\": \"US\",\n",
      "                        \"id\": \"KORPORTL503\",\n",
      "                        \"lat\": 45.501656,\n",
      "                        \"lon\": -122.699875,\n",
      "                        \"distance_km\": 1,\n",
      "                        \"distance_mi\": 0\n",
      "                    },\n",
      "                    {\n",
      "                        \"neighborhood\": \"Southwest Portland\",\n",
      "                        \"city\": \"Portland\",\n",
      "                        \"state\": \"OR\",\n",
      "                        \"country\": \"US\",\n",
      "                        \"id\": \"KORPORTL244\",\n",
      "                        \"lat\": 45.498981,\n",
      "                        \"lon\": -122.7015,\n",
      "                        \"distance_km\": 1,\n",
      "                        \"distance_mi\": 0\n",
      "                    },\n",
      "                    {\n",
      "                        \"neighborhood\": \"Westerly, NW Portland\",\n",
      "                        \"city\": \"Portland\",\n",
      "                        \"state\": \"OR\",\n",
      "                        \"country\": \"US\",\n",
      "                        \"id\": \"KORPORTL125\",\n",
      "                        \"lat\": 45.524315,\n",
      "                        \"lon\": -122.700302,\n",
      "                        \"distance_km\": 1,\n",
      "                        \"distance_mi\": 1\n",
      "                    },\n",
      "                    {\n",
      "                        \"neighborhood\": \"Downtown\",\n",
      "                        \"city\": \"Portland\",\n",
      "                        \"state\": \"OR\",\n",
      "                        \"country\": \"US\",\n",
      "                        \"id\": \"KORPORTL280\",\n",
      "                        \"lat\": 45.523453,\n",
      "                        \"lon\": -122.676208,\n",
      "                        \"distance_km\": 1,\n",
      "                        \"distance_mi\": 1\n",
      "                    },\n",
      "                    {\n",
      "                        \"neighborhood\": \"Hillside\",\n",
      "                        \"city\": \"Portland\",\n",
      "                        \"state\": \"OR\",\n",
      "                        \"country\": \"US\",\n",
      "                        \"id\": \"KORPORTL256\",\n",
      "                        \"lat\": 45.525654,\n",
      "                        \"lon\": -122.700562,\n",
      "                        \"distance_km\": 1,\n",
      "                        \"distance_mi\": 1\n",
      "                    },\n",
      "                    {\n",
      "                        \"neighborhood\": \"Hoyt Arboretum\",\n",
      "                        \"city\": \"Portland\",\n",
      "                        \"state\": \"OR\",\n",
      "                        \"country\": \"US\",\n",
      "                        \"id\": \"KORPORTL322\",\n",
      "                        \"lat\": 45.515556,\n",
      "                        \"lon\": -122.715652,\n",
      "                        \"distance_km\": 2,\n",
      "                        \"distance_mi\": 1\n",
      "                    },\n",
      "                    {\n",
      "                        \"neighborhood\": \"Hosford-Abernethy\",\n",
      "                        \"city\": \"Portland\",\n",
      "                        \"state\": \"OR\",\n",
      "                        \"country\": \"US\",\n",
      "                        \"id\": \"KORPORTL577\",\n",
      "                        \"lat\": 45.505322,\n",
      "                        \"lon\": -122.663643,\n",
      "                        \"distance_km\": 2,\n",
      "                        \"distance_mi\": 1\n",
      "                    },\n",
      "                    {\n",
      "                        \"neighborhood\": \"Arlington Heights\",\n",
      "                        \"city\": \"Portland\",\n",
      "                        \"state\": \"OR\",\n",
      "                        \"country\": \"US\",\n",
      "                        \"id\": \"KORPORTL504\",\n",
      "                        \"lat\": 45.518322,\n",
      "                        \"lon\": -122.714592,\n",
      "                        \"distance_km\": 2,\n",
      "                        \"distance_mi\": 1\n",
      "                    },\n",
      "                    {\n",
      "                        \"neighborhood\": \"Astor\",\n",
      "                        \"city\": \"Portland\",\n",
      "                        \"state\": \"OR\",\n",
      "                        \"country\": \"US\",\n",
      "                        \"id\": \"KORPORTL787\",\n",
      "                        \"lat\": 45.529423,\n",
      "                        \"lon\": -122.694511,\n",
      "                        \"distance_km\": 2,\n",
      "                        \"distance_mi\": 1\n",
      "                    },\n",
      "                    {\n",
      "                        \"neighborhood\": \"Southwest Portland\",\n",
      "                        \"city\": \"Portland\",\n",
      "                        \"state\": \"OR\",\n",
      "                        \"country\": \"US\",\n",
      "                        \"id\": \"KORPORTL281\",\n",
      "                        \"lat\": 45.491199,\n",
      "                        \"lon\": -122.700378,\n",
      "                        \"distance_km\": 2,\n",
      "                        \"distance_mi\": 1\n",
      "                    },\n",
      "                    {\n",
      "                        \"neighborhood\": \"Portland - West Hills\",\n",
      "                        \"city\": \"Portland\",\n",
      "                        \"state\": \"OR\",\n",
      "                        \"country\": \"US\",\n",
      "                        \"id\": \"KORPORTL26\",\n",
      "                        \"lat\": 45.489799,\n",
      "                        \"lon\": -122.691704,\n",
      "                        \"distance_km\": 2,\n",
      "                        \"distance_mi\": 1\n",
      "                    },\n",
      "                    {\n",
      "                        \"neighborhood\": \"Train Vault\",\n",
      "                        \"city\": \"Portland\",\n",
      "                        \"state\": \"OR\",\n",
      "                        \"country\": \"US\",\n",
      "                        \"id\": \"KORPORTL554\",\n",
      "                        \"lat\": 45.529339,\n",
      "                        \"lon\": -122.675499,\n",
      "                        \"distance_km\": 2,\n",
      "                        \"distance_mi\": 1\n",
      "                    },\n",
      "                    {\n",
      "                        \"neighborhood\": \"West Hills NW Portland\",\n",
      "                        \"city\": \"Portland\",\n",
      "                        \"state\": \"OR\",\n",
      "                        \"country\": \"US\",\n",
      "                        \"id\": \"KORPORTL571\",\n",
      "                        \"lat\": 45.529297,\n",
      "                        \"lon\": -122.706245,\n",
      "                        \"distance_km\": 2,\n",
      "                        \"distance_mi\": 1\n",
      "                    },\n",
      "                    {\n",
      "                        \"neighborhood\": \"Bridlemile\",\n",
      "                        \"city\": \"Portland\",\n",
      "                        \"state\": \"OR\",\n",
      "                        \"country\": \"US\",\n",
      "                        \"id\": \"KORPORTL210\",\n",
      "                        \"lat\": 45.49247,\n",
      "                        \"lon\": -122.710159,\n",
      "                        \"distance_km\": 2,\n",
      "                        \"distance_mi\": 1\n",
      "                    },\n",
      "                    {\n",
      "                        \"neighborhood\": \"Arboretum Hills\",\n",
      "                        \"city\": \"Portland\",\n",
      "                        \"state\": \"OR\",\n",
      "                        \"country\": \"US\",\n",
      "                        \"id\": \"KORPORTL440\",\n",
      "                        \"lat\": 45.518726,\n",
      "                        \"lon\": -122.719994,\n",
      "                        \"distance_km\": 2,\n",
      "                        \"distance_mi\": 1\n",
      "                    },\n",
      "                    {\n",
      "                        \"neighborhood\": \"Portland\",\n",
      "                        \"city\": \"Portland\",\n",
      "                        \"state\": \"OR\",\n",
      "                        \"country\": \"US\",\n",
      "                        \"id\": \"KORPORTL514\",\n",
      "                        \"lat\": 45.501099,\n",
      "                        \"lon\": -122.721519,\n",
      "                        \"distance_km\": 2,\n",
      "                        \"distance_mi\": 1\n",
      "                    },\n",
      "                    {\n",
      "                        \"neighborhood\": \"Ladd's Addition\",\n",
      "                        \"city\": \"Portland\",\n",
      "                        \"state\": \"OR\",\n",
      "                        \"country\": \"US\",\n",
      "                        \"id\": \"KORPORTL542\",\n",
      "                        \"lat\": 45.510693,\n",
      "                        \"lon\": -122.651062,\n",
      "                        \"distance_km\": 3,\n",
      "                        \"distance_mi\": 1\n",
      "                    },\n",
      "                    {\n",
      "                        \"neighborhood\": \"Buckman\",\n",
      "                        \"city\": \"Portland\",\n",
      "                        \"state\": \"OR\",\n",
      "                        \"country\": \"US\",\n",
      "                        \"id\": \"KORPORTL555\",\n",
      "                        \"lat\": 45.512741,\n",
      "                        \"lon\": -122.6511,\n",
      "                        \"distance_km\": 3,\n",
      "                        \"distance_mi\": 1\n",
      "                    },\n",
      "                    {\n",
      "                        \"neighborhood\": \"Sylvan Highlands\",\n",
      "                        \"city\": \"Portland\",\n",
      "                        \"state\": \"OR\",\n",
      "                        \"country\": \"US\",\n",
      "                        \"id\": \"KORPORTL291\",\n",
      "                        \"lat\": 45.518204,\n",
      "                        \"lon\": -122.728607,\n",
      "                        \"distance_km\": 3,\n",
      "                        \"distance_mi\": 1\n",
      "                    },\n",
      "                    {\n",
      "                        \"neighborhood\": \"Brookford\",\n",
      "                        \"city\": \"Bridlemile\",\n",
      "                        \"state\": \"OR\",\n",
      "                        \"country\": \"US\",\n",
      "                        \"id\": \"KORBRIDL2\",\n",
      "                        \"lat\": 45.487293,\n",
      "                        \"lon\": -122.714485,\n",
      "                        \"distance_km\": 3,\n",
      "                        \"distance_mi\": 1\n",
      "                    },\n",
      "                    {\n",
      "                        \"neighborhood\": \"N of Bridlemile School\",\n",
      "                        \"city\": \"Portland\",\n",
      "                        \"state\": \"OR\",\n",
      "                        \"country\": \"US\",\n",
      "                        \"id\": \"KORPORTL229\",\n",
      "                        \"lat\": 45.493332,\n",
      "                        \"lon\": -122.723824,\n",
      "                        \"distance_km\": 3,\n",
      "                        \"distance_mi\": 1\n",
      "                    },\n",
      "                    {\n",
      "                        \"neighborhood\": \"Brooklyn\",\n",
      "                        \"city\": \"Portland\",\n",
      "                        \"state\": \"OR\",\n",
      "                        \"country\": \"US\",\n",
      "                        \"id\": \"KORPORTL269\",\n",
      "                        \"lat\": 45.496391,\n",
      "                        \"lon\": -122.651711,\n",
      "                        \"distance_km\": 3,\n",
      "                        \"distance_mi\": 2\n",
      "                    }\n",
      "                ]\n",
      "            }\n",
      "        }\n",
      "    },\n",
      "    \"current_observation\": {\n",
      "        \"image\": {\n",
      "            \"url\": \"http://icons.wxug.com/graphics/wu2/logo_130x80.png\",\n",
      "            \"title\": \"Weather Underground\",\n",
      "            \"link\": \"http://www.wunderground.com\"\n",
      "        },\n",
      "        \"display_location\": {\n",
      "            \"full\": \"Portland, OR\",\n",
      "            \"city\": \"Portland\",\n",
      "            \"state\": \"OR\",\n",
      "            \"state_name\": \"Oregon\",\n",
      "            \"country\": \"US\",\n",
      "            \"country_iso3166\": \"US\",\n",
      "            \"zip\": \"97201\",\n",
      "            \"magic\": \"1\",\n",
      "            \"wmo\": \"99999\",\n",
      "            \"latitude\": \"45.50999832\",\n",
      "            \"longitude\": \"-122.69000244\",\n",
      "            \"elevation\": \"99.4\"\n",
      "        },\n",
      "        \"observation_location\": {\n",
      "            \"full\": \"Portland State University, Portland, Oregon\",\n",
      "            \"city\": \"Portland State University, Portland\",\n",
      "            \"state\": \"Oregon\",\n",
      "            \"country\": \"US\",\n",
      "            \"country_iso3166\": \"US\",\n",
      "            \"latitude\": \"45.513248\",\n",
      "            \"longitude\": \"-122.686256\",\n",
      "            \"elevation\": \"150 ft\"\n",
      "        },\n",
      "        \"estimated\": {},\n",
      "        \"station_id\": \"KORPORTL766\",\n",
      "        \"observation_time\": \"Last Updated on June 14, 9:07 PM PDT\",\n",
      "        \"observation_time_rfc822\": \"Wed, 14 Jun 2017 21:07:58 -0700\",\n",
      "        \"observation_epoch\": \"1497499678\",\n",
      "        \"local_time_rfc822\": \"Wed, 14 Jun 2017 21:08:16 -0700\",\n",
      "        \"local_epoch\": \"1497499696\",\n",
      "        \"local_tz_short\": \"PDT\",\n",
      "        \"local_tz_long\": \"America/Los_Angeles\",\n",
      "        \"local_tz_offset\": \"-0700\",\n",
      "        \"weather\": \"Clear\",\n",
      "        \"temperature_string\": \"59.9 F (15.5 C)\",\n",
      "        \"temp_f\": 59.9,\n",
      "        \"temp_c\": 15.5,\n",
      "        \"relative_humidity\": \"68%\",\n",
      "        \"wind_string\": \"From the West at 2.2 MPH\",\n",
      "        \"wind_dir\": \"West\",\n",
      "        \"wind_degrees\": 270,\n",
      "        \"wind_mph\": 2.2,\n",
      "        \"wind_gust_mph\": 0,\n",
      "        \"wind_kph\": 3.5,\n",
      "        \"wind_gust_kph\": 0,\n",
      "        \"pressure_mb\": \"1017\",\n",
      "        \"pressure_in\": \"30.04\",\n",
      "        \"pressure_trend\": \"-\",\n",
      "        \"dewpoint_string\": \"49 F (10 C)\",\n",
      "        \"dewpoint_f\": 49,\n",
      "        \"dewpoint_c\": 10,\n",
      "        \"heat_index_string\": \"NA\",\n",
      "        \"heat_index_f\": \"NA\",\n",
      "        \"heat_index_c\": \"NA\",\n",
      "        \"windchill_string\": \"NA\",\n",
      "        \"windchill_f\": \"NA\",\n",
      "        \"windchill_c\": \"NA\",\n",
      "        \"feelslike_string\": \"59.9 F (15.5 C)\",\n",
      "        \"feelslike_f\": \"59.9\",\n",
      "        \"feelslike_c\": \"15.5\",\n",
      "        \"visibility_mi\": \"10.0\",\n",
      "        \"visibility_km\": \"16.1\",\n",
      "        \"solarradiation\": \"--\",\n",
      "        \"UV\": \"0\",\n",
      "        \"precip_1hr_string\": \"-999.00 in ( 0 mm)\",\n",
      "        \"precip_1hr_in\": \"-999.00\",\n",
      "        \"precip_1hr_metric\": \" 0\",\n",
      "        \"precip_today_string\": \"0.00 in (0 mm)\",\n",
      "        \"precip_today_in\": \"0.00\",\n",
      "        \"precip_today_metric\": \"0\",\n",
      "        \"icon\": \"clear\",\n",
      "        \"icon_url\": \"http://icons.wxug.com/i/c/k/nt_clear.gif\",\n",
      "        \"forecast_url\": \"http://www.wunderground.com/US/OR/Portland.html\",\n",
      "        \"history_url\": \"http://www.wunderground.com/weatherstation/WXDailyHistory.asp?ID=KORPORTL766\",\n",
      "        \"ob_url\": \"http://www.wunderground.com/cgi-bin/findweather/getForecast?query=45.513248,-122.686256\",\n",
      "        \"nowcast\": \"\"\n",
      "    },\n",
      "    \"forecast\": {\n",
      "        \"txt_forecast\": {\n",
      "            \"date\": \"7:57 PM PDT\",\n",
      "            \"forecastday\": [\n",
      "                {\n",
      "                    \"period\": 0,\n",
      "                    \"icon\": \"chancerain\",\n",
      "                    \"icon_url\": \"http://icons.wxug.com/i/c/k/chancerain.gif\",\n",
      "                    \"title\": \"Wednesday\",\n",
      "                    \"fcttext\": \"Chance of late night showers. Lows overnight in the mid 50s.\",\n",
      "                    \"fcttext_metric\": \"A few showers developing late. Low 11C.\",\n",
      "                    \"pop\": \"30\"\n",
      "                },\n",
      "                {\n",
      "                    \"period\": 1,\n",
      "                    \"icon\": \"nt_chancerain\",\n",
      "                    \"icon_url\": \"http://icons.wxug.com/i/c/k/nt_chancerain.gif\",\n",
      "                    \"title\": \"Wednesday Night\",\n",
      "                    \"fcttext\": \"Partly cloudy skies this evening. A few showers developing late. Low around 55F. Winds SSW at 5 to 10 mph. Chance of rain 30%.\",\n",
      "                    \"fcttext_metric\": \"Partly cloudy this evening followed by mostly cloudy skies and a few showers after midnight. Low 11C. Winds SSW at 10 to 15 km/h. Chance of rain 30%.\",\n",
      "                    \"pop\": \"30\"\n",
      "                },\n",
      "                {\n",
      "                    \"period\": 2,\n",
      "                    \"icon\": \"rain\",\n",
      "                    \"icon_url\": \"http://icons.wxug.com/i/c/k/rain.gif\",\n",
      "                    \"title\": \"Thursday\",\n",
      "                    \"fcttext\": \"Rain likely. High 64F. Winds S at 10 to 20 mph. Chance of rain 100%. Rainfall around a half an inch.\",\n",
      "                    \"fcttext_metric\": \"Rain likely. High 16C. Winds S at 15 to 30 km/h. Chance of rain 100%. Rainfall near 12mm.\",\n",
      "                    \"pop\": \"100\"\n",
      "                },\n",
      "                {\n",
      "                    \"period\": 3,\n",
      "                    \"icon\": \"nt_chancerain\",\n",
      "                    \"icon_url\": \"http://icons.wxug.com/i/c/k/nt_chancerain.gif\",\n",
      "                    \"title\": \"Thursday Night\",\n",
      "                    \"fcttext\": \"Cloudy with occasional rain showers. Low 59F. Winds SSW at 10 to 15 mph. Chance of rain 60%.\",\n",
      "                    \"fcttext_metric\": \"Cloudy with occasional rain showers. Low 13C. Winds SSW at 15 to 25 km/h. Chance of rain 60%.\",\n",
      "                    \"pop\": \"60\"\n",
      "                },\n",
      "                {\n",
      "                    \"period\": 4,\n",
      "                    \"icon\": \"rain\",\n",
      "                    \"icon_url\": \"http://icons.wxug.com/i/c/k/rain.gif\",\n",
      "                    \"title\": \"Friday\",\n",
      "                    \"fcttext\": \"Occasional rain. High around 65F. Winds SW at 5 to 10 mph. Chance of rain 90%. Rainfall near a quarter of an inch.\",\n",
      "                    \"fcttext_metric\": \"Cloudy with periods of rain. High 16C. Winds SW at 10 to 15 km/h. Chance of rain 90%. Rainfall around 6mm.\",\n",
      "                    \"pop\": \"90\"\n",
      "                },\n",
      "                {\n",
      "                    \"period\": 5,\n",
      "                    \"icon\": \"nt_chancerain\",\n",
      "                    \"icon_url\": \"http://icons.wxug.com/i/c/k/nt_chancerain.gif\",\n",
      "                    \"title\": \"Friday Night\",\n",
      "                    \"fcttext\": \"Showers in the evening, then cloudy overnight. Low 54F. Winds WNW at 5 to 10 mph. Chance of rain 40%.\",\n",
      "                    \"fcttext_metric\": \"A few showers early with overcast skies late. Low near 10C. Winds WNW at 10 to 15 km/h. Chance of rain 40%.\",\n",
      "                    \"pop\": \"40\"\n",
      "                },\n",
      "                {\n",
      "                    \"period\": 6,\n",
      "                    \"icon\": \"partlycloudy\",\n",
      "                    \"icon_url\": \"http://icons.wxug.com/i/c/k/partlycloudy.gif\",\n",
      "                    \"title\": \"Saturday\",\n",
      "                    \"fcttext\": \"Cloudy early with partial sunshine expected late. High near 75F. Winds light and variable.\",\n",
      "                    \"fcttext_metric\": \"Cloudy skies early will become partly cloudy later in the day. High 22C. Winds light and variable.\",\n",
      "                    \"pop\": \"20\"\n",
      "                },\n",
      "                {\n",
      "                    \"period\": 7,\n",
      "                    \"icon\": \"nt_partlycloudy\",\n",
      "                    \"icon_url\": \"http://icons.wxug.com/i/c/k/nt_partlycloudy.gif\",\n",
      "                    \"title\": \"Saturday Night\",\n",
      "                    \"fcttext\": \"Partly cloudy skies. Low 56F. Winds light and variable.\",\n",
      "                    \"fcttext_metric\": \"Some clouds early will give way to generally clear conditions overnight. Low 12C. Winds light and variable.\",\n",
      "                    \"pop\": \"10\"\n",
      "                }\n",
      "            ]\n",
      "        },\n",
      "        \"simpleforecast\": {\n",
      "            \"forecastday\": [\n",
      "                {\n",
      "                    \"date\": {\n",
      "                        \"epoch\": \"1497492000\",\n",
      "                        \"pretty\": \"7:00 PM PDT on June 14, 2017\",\n",
      "                        \"day\": 14,\n",
      "                        \"month\": 6,\n",
      "                        \"year\": 2017,\n",
      "                        \"yday\": 164,\n",
      "                        \"hour\": 19,\n",
      "                        \"min\": \"00\",\n",
      "                        \"sec\": 0,\n",
      "                        \"isdst\": \"1\",\n",
      "                        \"monthname\": \"June\",\n",
      "                        \"monthname_short\": \"Jun\",\n",
      "                        \"weekday_short\": \"Wed\",\n",
      "                        \"weekday\": \"Wednesday\",\n",
      "                        \"ampm\": \"PM\",\n",
      "                        \"tz_short\": \"PDT\",\n",
      "                        \"tz_long\": \"America/Los_Angeles\"\n",
      "                    },\n",
      "                    \"period\": 1,\n",
      "                    \"high\": {\n",
      "                        \"fahrenheit\": \"71\",\n",
      "                        \"celsius\": \"21\"\n",
      "                    },\n",
      "                    \"low\": {\n",
      "                        \"fahrenheit\": \"55\",\n",
      "                        \"celsius\": \"13\"\n",
      "                    },\n",
      "                    \"conditions\": \"Chance of Rain\",\n",
      "                    \"icon\": \"chancerain\",\n",
      "                    \"icon_url\": \"http://icons.wxug.com/i/c/k/chancerain.gif\",\n",
      "                    \"skyicon\": \"\",\n",
      "                    \"pop\": 30,\n",
      "                    \"qpf_allday\": {\n",
      "                        \"in\": 0.01,\n",
      "                        \"mm\": 0\n",
      "                    },\n",
      "                    \"qpf_day\": {\n",
      "                        \"in\": null,\n",
      "                        \"mm\": null\n",
      "                    },\n",
      "                    \"qpf_night\": {\n",
      "                        \"in\": 0.01,\n",
      "                        \"mm\": 0\n",
      "                    },\n",
      "                    \"snow_allday\": {\n",
      "                        \"in\": 0.0,\n",
      "                        \"cm\": 0.0\n",
      "                    },\n",
      "                    \"snow_day\": {\n",
      "                        \"in\": null,\n",
      "                        \"cm\": null\n",
      "                    },\n",
      "                    \"snow_night\": {\n",
      "                        \"in\": 0.0,\n",
      "                        \"cm\": 0.0\n",
      "                    },\n",
      "                    \"maxwind\": {\n",
      "                        \"mph\": 0,\n",
      "                        \"kph\": 0,\n",
      "                        \"dir\": \"\",\n",
      "                        \"degrees\": 0\n",
      "                    },\n",
      "                    \"avewind\": {\n",
      "                        \"mph\": 2,\n",
      "                        \"kph\": 4,\n",
      "                        \"dir\": \"WNW\",\n",
      "                        \"degrees\": 300\n",
      "                    },\n",
      "                    \"avehumidity\": 73,\n",
      "                    \"maxhumidity\": 0,\n",
      "                    \"minhumidity\": 0\n",
      "                },\n",
      "                {\n",
      "                    \"date\": {\n",
      "                        \"epoch\": \"1497578400\",\n",
      "                        \"pretty\": \"7:00 PM PDT on June 15, 2017\",\n",
      "                        \"day\": 15,\n",
      "                        \"month\": 6,\n",
      "                        \"year\": 2017,\n",
      "                        \"yday\": 165,\n",
      "                        \"hour\": 19,\n",
      "                        \"min\": \"00\",\n",
      "                        \"sec\": 0,\n",
      "                        \"isdst\": \"1\",\n",
      "                        \"monthname\": \"June\",\n",
      "                        \"monthname_short\": \"Jun\",\n",
      "                        \"weekday_short\": \"Thu\",\n",
      "                        \"weekday\": \"Thursday\",\n",
      "                        \"ampm\": \"PM\",\n",
      "                        \"tz_short\": \"PDT\",\n",
      "                        \"tz_long\": \"America/Los_Angeles\"\n",
      "                    },\n",
      "                    \"period\": 2,\n",
      "                    \"high\": {\n",
      "                        \"fahrenheit\": \"64\",\n",
      "                        \"celsius\": \"18\"\n",
      "                    },\n",
      "                    \"low\": {\n",
      "                        \"fahrenheit\": \"59\",\n",
      "                        \"celsius\": \"15\"\n",
      "                    },\n",
      "                    \"conditions\": \"Rain\",\n",
      "                    \"icon\": \"rain\",\n",
      "                    \"icon_url\": \"http://icons.wxug.com/i/c/k/rain.gif\",\n",
      "                    \"skyicon\": \"\",\n",
      "                    \"pop\": 100,\n",
      "                    \"qpf_allday\": {\n",
      "                        \"in\": 0.57,\n",
      "                        \"mm\": 14\n",
      "                    },\n",
      "                    \"qpf_day\": {\n",
      "                        \"in\": 0.47,\n",
      "                        \"mm\": 12\n",
      "                    },\n",
      "                    \"qpf_night\": {\n",
      "                        \"in\": 0.1,\n",
      "                        \"mm\": 3\n",
      "                    },\n",
      "                    \"snow_allday\": {\n",
      "                        \"in\": 0.0,\n",
      "                        \"cm\": 0.0\n",
      "                    },\n",
      "                    \"snow_day\": {\n",
      "                        \"in\": 0.0,\n",
      "                        \"cm\": 0.0\n",
      "                    },\n",
      "                    \"snow_night\": {\n",
      "                        \"in\": 0.0,\n",
      "                        \"cm\": 0.0\n",
      "                    },\n",
      "                    \"maxwind\": {\n",
      "                        \"mph\": 20,\n",
      "                        \"kph\": 32,\n",
      "                        \"dir\": \"S\",\n",
      "                        \"degrees\": 178\n",
      "                    },\n",
      "                    \"avewind\": {\n",
      "                        \"mph\": 13,\n",
      "                        \"kph\": 21,\n",
      "                        \"dir\": \"S\",\n",
      "                        \"degrees\": 178\n",
      "                    },\n",
      "                    \"avehumidity\": 80,\n",
      "                    \"maxhumidity\": 0,\n",
      "                    \"minhumidity\": 0\n",
      "                },\n",
      "                {\n",
      "                    \"date\": {\n",
      "                        \"epoch\": \"1497664800\",\n",
      "                        \"pretty\": \"7:00 PM PDT on June 16, 2017\",\n",
      "                        \"day\": 16,\n",
      "                        \"month\": 6,\n",
      "                        \"year\": 2017,\n",
      "                        \"yday\": 166,\n",
      "                        \"hour\": 19,\n",
      "                        \"min\": \"00\",\n",
      "                        \"sec\": 0,\n",
      "                        \"isdst\": \"1\",\n",
      "                        \"monthname\": \"June\",\n",
      "                        \"monthname_short\": \"Jun\",\n",
      "                        \"weekday_short\": \"Fri\",\n",
      "                        \"weekday\": \"Friday\",\n",
      "                        \"ampm\": \"PM\",\n",
      "                        \"tz_short\": \"PDT\",\n",
      "                        \"tz_long\": \"America/Los_Angeles\"\n",
      "                    },\n",
      "                    \"period\": 3,\n",
      "                    \"high\": {\n",
      "                        \"fahrenheit\": \"65\",\n",
      "                        \"celsius\": \"18\"\n",
      "                    },\n",
      "                    \"low\": {\n",
      "                        \"fahrenheit\": \"54\",\n",
      "                        \"celsius\": \"12\"\n",
      "                    },\n",
      "                    \"conditions\": \"Rain\",\n",
      "                    \"icon\": \"rain\",\n",
      "                    \"icon_url\": \"http://icons.wxug.com/i/c/k/rain.gif\",\n",
      "                    \"skyicon\": \"\",\n",
      "                    \"pop\": 90,\n",
      "                    \"qpf_allday\": {\n",
      "                        \"in\": 0.33,\n",
      "                        \"mm\": 8\n",
      "                    },\n",
      "                    \"qpf_day\": {\n",
      "                        \"in\": 0.3,\n",
      "                        \"mm\": 8\n",
      "                    },\n",
      "                    \"qpf_night\": {\n",
      "                        \"in\": 0.03,\n",
      "                        \"mm\": 1\n",
      "                    },\n",
      "                    \"snow_allday\": {\n",
      "                        \"in\": 0.0,\n",
      "                        \"cm\": 0.0\n",
      "                    },\n",
      "                    \"snow_day\": {\n",
      "                        \"in\": 0.0,\n",
      "                        \"cm\": 0.0\n",
      "                    },\n",
      "                    \"snow_night\": {\n",
      "                        \"in\": 0.0,\n",
      "                        \"cm\": 0.0\n",
      "                    },\n",
      "                    \"maxwind\": {\n",
      "                        \"mph\": 10,\n",
      "                        \"kph\": 16,\n",
      "                        \"dir\": \"SW\",\n",
      "                        \"degrees\": 214\n",
      "                    },\n",
      "                    \"avewind\": {\n",
      "                        \"mph\": 8,\n",
      "                        \"kph\": 13,\n",
      "                        \"dir\": \"SW\",\n",
      "                        \"degrees\": 214\n",
      "                    },\n",
      "                    \"avehumidity\": 82,\n",
      "                    \"maxhumidity\": 0,\n",
      "                    \"minhumidity\": 0\n",
      "                },\n",
      "                {\n",
      "                    \"date\": {\n",
      "                        \"epoch\": \"1497751200\",\n",
      "                        \"pretty\": \"7:00 PM PDT on June 17, 2017\",\n",
      "                        \"day\": 17,\n",
      "                        \"month\": 6,\n",
      "                        \"year\": 2017,\n",
      "                        \"yday\": 167,\n",
      "                        \"hour\": 19,\n",
      "                        \"min\": \"00\",\n",
      "                        \"sec\": 0,\n",
      "                        \"isdst\": \"1\",\n",
      "                        \"monthname\": \"June\",\n",
      "                        \"monthname_short\": \"Jun\",\n",
      "                        \"weekday_short\": \"Sat\",\n",
      "                        \"weekday\": \"Saturday\",\n",
      "                        \"ampm\": \"PM\",\n",
      "                        \"tz_short\": \"PDT\",\n",
      "                        \"tz_long\": \"America/Los_Angeles\"\n",
      "                    },\n",
      "                    \"period\": 4,\n",
      "                    \"high\": {\n",
      "                        \"fahrenheit\": \"75\",\n",
      "                        \"celsius\": \"24\"\n",
      "                    },\n",
      "                    \"low\": {\n",
      "                        \"fahrenheit\": \"56\",\n",
      "                        \"celsius\": \"13\"\n",
      "                    },\n",
      "                    \"conditions\": \"Partly Cloudy\",\n",
      "                    \"icon\": \"partlycloudy\",\n",
      "                    \"icon_url\": \"http://icons.wxug.com/i/c/k/partlycloudy.gif\",\n",
      "                    \"skyicon\": \"\",\n",
      "                    \"pop\": 20,\n",
      "                    \"qpf_allday\": {\n",
      "                        \"in\": 0.0,\n",
      "                        \"mm\": 0\n",
      "                    },\n",
      "                    \"qpf_day\": {\n",
      "                        \"in\": 0.0,\n",
      "                        \"mm\": 0\n",
      "                    },\n",
      "                    \"qpf_night\": {\n",
      "                        \"in\": 0.0,\n",
      "                        \"mm\": 0\n",
      "                    },\n",
      "                    \"snow_allday\": {\n",
      "                        \"in\": 0.0,\n",
      "                        \"cm\": 0.0\n",
      "                    },\n",
      "                    \"snow_day\": {\n",
      "                        \"in\": 0.0,\n",
      "                        \"cm\": 0.0\n",
      "                    },\n",
      "                    \"snow_night\": {\n",
      "                        \"in\": 0.0,\n",
      "                        \"cm\": 0.0\n",
      "                    },\n",
      "                    \"maxwind\": {\n",
      "                        \"mph\": 5,\n",
      "                        \"kph\": 8,\n",
      "                        \"dir\": \"WNW\",\n",
      "                        \"degrees\": 288\n",
      "                    },\n",
      "                    \"avewind\": {\n",
      "                        \"mph\": 4,\n",
      "                        \"kph\": 6,\n",
      "                        \"dir\": \"WNW\",\n",
      "                        \"degrees\": 288\n",
      "                    },\n",
      "                    \"avehumidity\": 62,\n",
      "                    \"maxhumidity\": 0,\n",
      "                    \"minhumidity\": 0\n",
      "                }\n",
      "            ]\n",
      "        }\n",
      "    }\n",
      "}\n"
     ]
    }
   ],
   "source": [
    "import requests\n",
    "import json\n",
    "import pprint\n",
    "\n",
    "key = 'd1a56a594a363815'\n",
    "city = 'Portland'\n",
    "state = 'OR'\n",
    "url = 'http://api.wunderground.com/api/'+key+'/forecast/geolookup/conditions/q/'+state+'/'+city+'.json'\n",
    "response = requests.get(url)\n",
    "js = json.loads(response.text)\n",
    "print(json.dumps(js, indent=4))"
   ]
  },
  {
   "cell_type": "markdown",
   "metadata": {},
   "source": [
    "Let's try to get  more specific:"
   ]
  },
  {
   "cell_type": "code",
   "execution_count": 15,
   "metadata": {
    "collapsed": false
   },
   "outputs": [
    {
     "name": "stdout",
     "output_type": "stream",
     "text": [
      "{'UV': '0',\n",
      " 'dewpoint_c': 10,\n",
      " 'dewpoint_f': 49,\n",
      " 'dewpoint_string': '49 F (10 C)',\n",
      " 'display_location': {'city': 'Portland',\n",
      "                      'country': 'US',\n",
      "                      'country_iso3166': 'US',\n",
      "                      'elevation': '99.4',\n",
      "                      'full': 'Portland, OR',\n",
      "                      'latitude': '45.50999832',\n",
      "                      'longitude': '-122.69000244',\n",
      "                      'magic': '1',\n",
      "                      'state': 'OR',\n",
      "                      'state_name': 'Oregon',\n",
      "                      'wmo': '99999',\n",
      "                      'zip': '97201'},\n",
      " 'estimated': {},\n",
      " 'feelslike_c': '15.5',\n",
      " 'feelslike_f': '59.9',\n",
      " 'feelslike_string': '59.9 F (15.5 C)',\n",
      " 'forecast_url': 'http://www.wunderground.com/US/OR/Portland.html',\n",
      " 'heat_index_c': 'NA',\n",
      " 'heat_index_f': 'NA',\n",
      " 'heat_index_string': 'NA',\n",
      " 'history_url': 'http://www.wunderground.com/weatherstation/WXDailyHistory.asp?ID=KORPORTL766',\n",
      " 'icon': 'clear',\n",
      " 'icon_url': 'http://icons.wxug.com/i/c/k/nt_clear.gif',\n",
      " 'image': {'link': 'http://www.wunderground.com',\n",
      "           'title': 'Weather Underground',\n",
      "           'url': 'http://icons.wxug.com/graphics/wu2/logo_130x80.png'},\n",
      " 'local_epoch': '1497499696',\n",
      " 'local_time_rfc822': 'Wed, 14 Jun 2017 21:08:16 -0700',\n",
      " 'local_tz_long': 'America/Los_Angeles',\n",
      " 'local_tz_offset': '-0700',\n",
      " 'local_tz_short': 'PDT',\n",
      " 'nowcast': '',\n",
      " 'ob_url': 'http://www.wunderground.com/cgi-bin/findweather/getForecast?query=45.513248,-122.686256',\n",
      " 'observation_epoch': '1497499678',\n",
      " 'observation_location': {'city': 'Portland State University, Portland',\n",
      "                          'country': 'US',\n",
      "                          'country_iso3166': 'US',\n",
      "                          'elevation': '150 ft',\n",
      "                          'full': 'Portland State University, Portland, Oregon',\n",
      "                          'latitude': '45.513248',\n",
      "                          'longitude': '-122.686256',\n",
      "                          'state': 'Oregon'},\n",
      " 'observation_time': 'Last Updated on June 14, 9:07 PM PDT',\n",
      " 'observation_time_rfc822': 'Wed, 14 Jun 2017 21:07:58 -0700',\n",
      " 'precip_1hr_in': '-999.00',\n",
      " 'precip_1hr_metric': ' 0',\n",
      " 'precip_1hr_string': '-999.00 in ( 0 mm)',\n",
      " 'precip_today_in': '0.00',\n",
      " 'precip_today_metric': '0',\n",
      " 'precip_today_string': '0.00 in (0 mm)',\n",
      " 'pressure_in': '30.04',\n",
      " 'pressure_mb': '1017',\n",
      " 'pressure_trend': '-',\n",
      " 'relative_humidity': '68%',\n",
      " 'solarradiation': '--',\n",
      " 'station_id': 'KORPORTL766',\n",
      " 'temp_c': 15.5,\n",
      " 'temp_f': 59.9,\n",
      " 'temperature_string': '59.9 F (15.5 C)',\n",
      " 'visibility_km': '16.1',\n",
      " 'visibility_mi': '10.0',\n",
      " 'weather': 'Clear',\n",
      " 'wind_degrees': 270,\n",
      " 'wind_dir': 'West',\n",
      " 'wind_gust_kph': 0,\n",
      " 'wind_gust_mph': 0,\n",
      " 'wind_kph': 3.5,\n",
      " 'wind_mph': 2.2,\n",
      " 'wind_string': 'From the West at 2.2 MPH',\n",
      " 'windchill_c': 'NA',\n",
      " 'windchill_f': 'NA',\n",
      " 'windchill_string': 'NA'}\n"
     ]
    }
   ],
   "source": [
    "import pprint\n",
    "\n",
    "pprint.pprint(js['current_observation'])"
   ]
  },
  {
   "cell_type": "markdown",
   "metadata": {},
   "source": [
    "Now, to get the temp, type:"
   ]
  },
  {
   "cell_type": "code",
   "execution_count": 16,
   "metadata": {
    "collapsed": false
   },
   "outputs": [
    {
     "name": "stdout",
     "output_type": "stream",
     "text": [
      "59.9\n"
     ]
    }
   ],
   "source": [
    "print(js['current_observation']['temp_f'])"
   ]
  },
  {
   "cell_type": "markdown",
   "metadata": {},
   "source": [
    "### Exercise - Weather\n",
    "Write a program that takes in a user's city and state and returns the temperature, the wind, the weather condition (clear, sunny, etc) and the full observation location of the weather station."
   ]
  },
  {
   "cell_type": "code",
   "execution_count": 17,
   "metadata": {
    "collapsed": true
   },
   "outputs": [],
   "source": [
    "#insert weather"
   ]
  },
  {
   "cell_type": "markdown",
   "metadata": {},
   "source": [
    "OAUTH\n",
    "---\n",
    "<a class=\"anchor\" id=\"oauth\"></a>\n",
    "\n",
    "Sometimes, a vendor require more security than just an API key. The vendor wants increased assurance of the source of the requests and so they add expect you to send cryptographically signed messages using shared keys and secrets. A very common technology that is used to sign requests over the Internet is called OAuth. You can read more about the OAuth protocol at http://www.oauth.net.\n",
    "\n",
    "As the Twitter API became increasingly valuable, Twitter went from an open and public API to an API that required the use of OAuth signatures on each API request. Thankfully there are still a number of convenient and free OAuth libraries so you can avoid writing an OAuth implementation from scratch by reading the specification. For the Twitter example below, we'll use the oauth2.py file saved in this folder. We'll also use twurl.py.\n",
    "\n",
    "To make use of these programs you will need to have a Twitter account, and authorize your Python code as an application, set up a key, secret, token and token secret. Get those here: https://apps.twitter.com/\n",
    "\n",
    "\n",
    "Then, edit the hidden.py file in this folder to contain your secret info:\n",
    "\n",
    "\n",
    "def auth() :\n",
    "\n",
    "\n",
    "return { \"consumer_key\" : \"h7L...GNg\",\n",
    "\n",
    "\n",
    "\"consumer_secret\" : \"dNK...7Q\", \n",
    "\n",
    "\"token_key\" : \"101...GI\", \n",
    "\n",
    "\"token_secret\" : \"H0yM...Bo\" }\n",
    "\n",
    "\n",
    "The Twitter web service are accessed using a URL like this:\n",
    "\n",
    "https://api.twitter.com/1.1/statuses/user_timeline.json\n",
    "\n",
    "But once all of the security information has been added, the URL will look more like:\n",
    "\n",
    "https://api.twitter.com/1.1/statuses/user_timeline.json?count=2&oauth_version=1.0&oauth_token=101...SGI&screen_name=drchuck&oauth_nonce=09239679&oauth_timestamp=1380395644&oauth_signature=rLK...BoD&oauth_consumer_key=h7Lu...GNg&oauth_signature_method=HMAC-SHA1\n",
    "\n",
    "You can read the OAuth specification if you want to know more about the meaning of the various parameters that are added to meet the security requirements of OAuth.For the programs we run with Twitter, we hide all the complexity in the files oauth.py and twurl.py. We simply set the secrets in hidden.py and then send the desired URL to the twurl.augment() function and the library code adds all the necessary parameters to the URL for us. The code below retrieves the timeline for a particular Twitter user and returns it to us in JSON format in a string. We simply print the first 4000 characters of the string:\n"
   ]
  },
  {
   "cell_type": "code",
   "execution_count": 40,
   "metadata": {
    "collapsed": false
   },
   "outputs": [
    {
     "name": "stdout",
     "output_type": "stream",
     "text": [
      "Enter Twitter Account:laurenshareshia\n",
      "Retrieving https://api.twitter.com/1.1/statuses/user_timeline.json?oauth_consumer_key=srHcccePX0asW8OTRWS2iZ0u6&oauth_timestamp=1496636644&oauth_nonce=71226981&oauth_version=1.0&screen_name=laurenshareshia&count=2&oauth_token=847880217586683904-OK8dH7IVb41BoQ6JVg7jVjObB2hv4qa&oauth_signature_method=HMAC-SHA1&oauth_signature=iFEcPg0vUP5xqpzb2S9V98SookY%3D\n",
      "[{\"created_at\":\"Sat Jun 03 19:59:13 +0000 2017\",\"id\":871093939247259649,\"id_str\":\"871093939247259649\",\"text\":\"Thx to @ehmatthes for his https:\\/\\/t.co\\/JpBqTTspmq curriculum. Best resource for 1st time Python teachers like me https:\\/\\/t.co\\/d6JzXe4bkb\",\"truncated\":false,\"entities\":{\"hashtags\":[],\"symbols\":[],\"user_mentions\":[{\"screen_name\":\"ehmatthes\",\"name\":\"Eric Matthes\",\"id\":507619188,\"id_str\":\"507619188\",\"indices\":[7,17]}],\"urls\":[{\"url\":\"https:\\/\\/t.co\\/JpBqTTspmq\",\"expanded_url\":\"http:\\/\\/introtopython.org\\/\",\"display_url\":\"introtopython.org\",\"indices\":[26,49]},{\"url\":\"https:\\/\\/t.co\\/d6JzXe4bkb\",\"expanded_url\":\"https:\\/\\/github.com\\/laurenshareshian\\/Python_Lessons\",\"display_url\":\"github.com\\/laurenshareshi\\u2026\",\"indices\":[113,136]}]},\"source\":\"\\u003ca href=\\\"http:\\/\\/twitter.com\\\" rel=\\\"nofollow\\\"\\u003eTwitter Web Client\\u003c\\/a\\u003e\",\"in_reply_to_status_id\":null,\"in_reply_to_status_id_str\":null,\"in_reply_to_user_id\":null,\"in_reply_to_user_id_str\":null,\"in_reply_to_screen_name\":null,\"user\":{\"id\":864958003757240320,\"id_str\":\"864958003757240320\",\"name\":\"Lauren Shareshian\",\"screen_name\":\"laurenshareshia\",\"location\":\"Portland, OR\",\"description\":\"Gerlinger Chair of Mathematics at Oregon Episcopal School. Python & Data Science Student\",\"url\":null,\"entities\":{\"description\":{\"urls\":[]}},\"protected\":false,\"followers_count\":3,\"friends_count\":15,\"listed_count\":0,\"created_at\":\"Wed May 17 21:37:13 +0000 2017\",\"favourites_count\":1,\"utc_offset\":null,\"time_zone\":null,\"geo_enabled\":false,\"verified\":false,\"statuses_count\":4,\"lang\":\"en\",\"contributors_enabled\":false,\"is_translator\":false,\"is_translation_enabled\":false,\"profile_background_color\":\"F5F8FA\",\"profile_background_image_url\":null,\"profile_background_image_url_https\":null,\"profile_background_tile\":false,\"profile_image_url\":\"http:\\/\\/pbs.twimg.com\\/profile_images\\/864958639454306305\\/Um9e6tyN_normal.jpg\",\"profile_image_url_https\":\"https:\\/\\/pbs.twimg.com\\/profile_images\\/864958639454306305\\/Um9e6tyN_normal.jpg\",\"profile_banner_url\":\"https:\\/\\/pbs.twimg.com\\/profile_banners\\/864958003757240320\\/1495058028\",\"profile_link_color\":\"1DA1F2\",\"profile_sidebar_border_color\":\"C0DEED\",\"profile_sidebar_fill_color\":\"DDEEF6\",\"profile_text_color\":\"333333\",\"profile_use_background_image\":true,\"has_extended_profile\":false,\"default_profile\":true,\"default_profile_image\":false,\"following\":false,\"follow_request_sent\":false,\"notifications\":false,\"translator_type\":\"none\"},\"geo\":null,\"coordinates\":null,\"place\":null,\"contributors\":null,\"is_quote_status\":false,\"retweet_count\":0,\"favorite_count\":1,\"favorited\":false,\"retweeted\":false,\"possibly_sensitive\":false,\"lang\":\"en\"},{\"created_at\":\"Sat Jun 03 19:41:19 +0000 2017\",\"id\":871089432094310400,\"id_str\":\"871089432094310400\",\"text\":\"Thx to @jhamrick for her article https:\\/\\/t.co\\/AO6BhsVABM on using @ProjectJupyter. My class website now works! https:\\/\\/t.co\\/ehlsdTtnOv\",\"truncated\":false,\"entities\":{\"hashtags\":[],\"symbols\":[],\"user_mentions\":[{\"screen_name\":\"jhamrick\",\"name\":\"Jess Hamrick\",\"id\":14337485,\"id_str\":\"14337485\",\"indices\":[7,16]},{\"screen_name\":\"ProjectJupyter\",\"name\":\"Project Jupyter\",\"id\":2460368252,\"id_str\":\"2460368252\",\"indices\":[66,81]}],\"urls\":[{\"url\":\"https:\\/\\/t.co\\/AO6BhsVABM\",\"expanded_url\":\"https:\\/\\/developer.rackspace.com\\/blog\\/deploying-jupyterhub-for-education\\/\",\"display_url\":\"developer.rackspace.com\\/blog\\/deploying\\u2026\",\"indices\":[33,56]},{\"url\":\"https:\\/\\/t.co\\/ehlsdTtnOv\",\"expanded_url\":\"http:\\/\\/www.portlandpython.com\",\"display_url\":\"portlandpython.com\",\"indices\":[111,134]}]},\"source\":\"\\u003ca href=\\\"http:\\/\\/twitter.com\\\" rel=\\\"nofollow\\\"\\u003eTwitter Web Client\\u003c\\/a\\u003e\",\"in_reply_to_status_id\":null,\"in_reply_to_status_id_str\":null,\"in_reply_to_user_id\":null,\"in_reply_to_user_id_str\":null,\"in_reply_to_screen_name\":null,\"user\":{\"id\":864958003757240320,\"id_str\":\"864958003757240320\",\"name\":\"Lauren Shareshian\",\"screen_name\":\"laurenshareshia\",\"location\":\"Portland, OR\",\"description\":\"Gerlinger Chair of Mathematics at Or\n",
      "Remaining 892\n"
     ]
    }
   ],
   "source": [
    "import urllib.request, urllib.parse, urllib.error\n",
    "import twurl\n",
    "\n",
    "TWITTER_URL = 'https://api.twitter.com/1.1/statuses/user_timeline.json'\n",
    "\n",
    "acct = input('Enter Twitter Account:')\n",
    "\n",
    "url = twurl.augment(TWITTER_URL,{'screen_name': acct, 'count': '2'})\n",
    "print('Retrieving', url)\n",
    "\n",
    "connection = urllib.request.urlopen(url, context=ctx)\n",
    "data = connection.read().decode()\n",
    "print(data[:4000])\n",
    "\n",
    "headers = dict(connection.getheaders())\n",
    "# print headers\n",
    "print('Remaining', headers['x-rate-limit-remaining'])"
   ]
  },
  {
   "cell_type": "markdown",
   "metadata": {},
   "source": [
    "Notice that the URL that Twitter needs above is more complicated than Google required. Also notice the the Twitter info begins with the date of the last tweet and then the tweet itself. Try to find the second tweet. Look closely at all of the info listed. You can find all of the attributes that Twitter is listing here: https://dev.twitter.com/rest/reference/get/statuses/user_timeline\n",
    "\n",
    "Notice that the data isn't very easy to read in its current form. Let's make it easier by dumping the JSON and “pretty-printing” it with an indent of four characters to allow us to pore through the data when we want to extract more fields. Let's only print the first 5000 characters:"
   ]
  },
  {
   "cell_type": "code",
   "execution_count": 53,
   "metadata": {
    "collapsed": false
   },
   "outputs": [
    {
     "name": "stdout",
     "output_type": "stream",
     "text": [
      "Enter Twitter Account:laurenshareshia\n",
      "[\n",
      "    {\n",
      "        \"created_at\": \"Sat Jun 03 19:59:13 +0000 2017\",\n",
      "        \"id\": 871093939247259649,\n",
      "        \"id_str\": \"871093939247259649\",\n",
      "        \"text\": \"Thx to @ehmatthes for his https://t.co/JpBqTTspmq curriculum. Best resource for 1st time Python teachers like me https://t.co/d6JzXe4bkb\",\n",
      "        \"truncated\": false,\n",
      "        \"entities\": {\n",
      "            \"hashtags\": [],\n",
      "            \"symbols\": [],\n",
      "            \"user_mentions\": [\n",
      "                {\n",
      "                    \"screen_name\": \"ehmatthes\",\n",
      "                    \"name\": \"Eric Matthes\",\n",
      "                    \"id\": 507619188,\n",
      "                    \"id_str\": \"507619188\",\n",
      "                    \"indices\": [\n",
      "                        7,\n",
      "                        17\n",
      "                    ]\n",
      "                }\n",
      "            ],\n",
      "            \"urls\": [\n",
      "                {\n",
      "                    \"url\": \"https://t.co/JpBqTTspmq\",\n",
      "                    \"expanded_url\": \"http://introtopython.org/\",\n",
      "                    \"display_url\": \"introtopython.org\",\n",
      "                    \"indices\": [\n",
      "                        26,\n",
      "                        49\n",
      "                    ]\n",
      "                },\n",
      "                {\n",
      "                    \"url\": \"https://t.co/d6JzXe4bkb\",\n",
      "                    \"expanded_url\": \"https://github.com/laurenshareshian/Python_Lessons\",\n",
      "                    \"display_url\": \"github.com/laurenshareshi\\u2026\",\n",
      "                    \"indices\": [\n",
      "                        113,\n",
      "                        136\n",
      "                    ]\n",
      "                }\n",
      "            ]\n",
      "        },\n",
      "        \"source\": \"<a href=\\\"http://twitter.com\\\" rel=\\\"nofollow\\\">Twitter Web Client</a>\",\n",
      "        \"in_reply_to_status_id\": null,\n",
      "        \"in_reply_to_status_id_str\": null,\n",
      "        \"in_reply_to_user_id\": null,\n",
      "        \"in_reply_to_user_id_str\": null,\n",
      "        \"in_reply_to_screen_name\": null,\n",
      "        \"user\": {\n",
      "            \"id\": 864958003757240320,\n",
      "            \"id_str\": \"864958003757240320\",\n",
      "            \"name\": \"Lauren Shareshian\",\n",
      "            \"screen_name\": \"laurenshareshia\",\n",
      "            \"location\": \"Portland, OR\",\n",
      "            \"description\": \"Gerlinger Chair of Mathematics at Oregon Episcopal School. Python & Data Science Student\",\n",
      "            \"url\": null,\n",
      "            \"entities\": {\n",
      "                \"description\": {\n",
      "                    \"urls\": []\n",
      "                }\n",
      "            },\n",
      "            \"protected\": false,\n",
      "            \"followers_count\": 3,\n",
      "            \"friends_count\": 15,\n",
      "            \"listed_count\": 0,\n",
      "            \"created_at\": \"Wed May 17 21:37:13 +0000 2017\",\n",
      "            \"favourites_count\": 1,\n",
      "            \"utc_offset\": null,\n",
      "            \"time_zone\": null,\n",
      "            \"geo_enabled\": false,\n",
      "            \"verified\": false,\n",
      "            \"statuses_count\": 4,\n",
      "            \"lang\": \"en\",\n",
      "            \"contributors_enabled\": false,\n",
      "            \"is_translator\": false,\n",
      "            \"is_translation_enabled\": false,\n",
      "            \"profile_background_color\": \"F5F8FA\",\n",
      "            \"profile_background_image_url\": null,\n",
      "            \"profile_background_image_url_https\": null,\n",
      "            \"profile_background_tile\": false,\n",
      "            \"profile_image_url\": \"http://pbs.twimg.com/profile_images/864958639454306305/Um9e6tyN_normal.jpg\",\n",
      "            \"profile_image_url_https\": \"https://pbs.twimg.com/profile_images/864958639454306305/Um9e6tyN_normal.jpg\",\n",
      "            \"profile_banner_url\": \"https://pbs.twimg.com/profile_banners/864958003757240320/1495058028\",\n",
      "            \"profile_link_color\": \"1DA1F2\",\n",
      "            \"profile_sidebar_border_color\": \"C0DEED\",\n",
      "            \"profile_sidebar_fill_color\": \"DDEEF6\",\n",
      "            \"profile_text_color\": \"333333\",\n",
      "            \"profile_use_background_image\": true,\n",
      "            \"has_extended_profile\": false,\n",
      "            \"default_profile\": true,\n",
      "            \"default_profile_image\": false,\n",
      "            \"following\": false,\n",
      "            \"follow_request_sent\": false,\n",
      "            \"notifications\": false,\n",
      "            \"translator_type\": \"none\"\n",
      "        },\n",
      "        \"geo\": null,\n",
      "        \"coordinates\": null,\n",
      "        \"place\": null,\n",
      "        \"contributors\": null,\n",
      "        \"is_quote_status\": false,\n",
      "        \"retweet_count\": 0,\n",
      "        \"favorite_count\": 1,\n",
      "        \"favorited\": false,\n",
      "        \"retweeted\": false,\n",
      "        \"possibly_sensitive\": false,\n",
      "        \"lang\": \"en\"\n",
      "    },\n",
      "    {\n",
      "        \"created_at\": \"Sat Jun 03 19:41:19 +0000 2017\",\n",
      "        \"id\": 871089432094310400,\n",
      "        \"id_str\": \"871089432094310400\",\n",
      "        \"text\": \"Thx to @jhamrick for her article https://t.co/AO6BhsVABM on using @ProjectJupyter. My class website now works! https://t.co/ehlsdTtnOv\",\n",
      "        \"truncated\": false,\n",
      "        \"entities\": {\n",
      "            \"hashtags\": [],\n",
      "            \"symbols\": [],\n",
      "            \"user_mentions\": [\n",
      "                {\n",
      "                    \"screen_name\": \"jhamrick\",\n",
      "                    \"name\": \"Jess Hamrick\",\n",
      "                    \"id\": 14337485,\n",
      "                    \"id_str\": \"14337485\",\n",
      "                    \"indices\": [\n",
      "                        7,\n",
      "                        16\n",
      "                    ]\n",
      "                },\n",
      "                {\n",
      "                    \"screen_name\": \"ProjectJupyter\",\n",
      "                    \"name\": \"Project Jupyter\",\n",
      "                    \"id\": 2460368252,\n",
      "                    \"id_str\": \"2460368252\",\n",
      "                    \"indices\": [\n",
      "                        66,\n",
      "                        81\n",
      "                    ]\n",
      "                }\n",
      "            ],\n",
      "            \"urls\": [\n",
      "                {\n",
      "                    \"url\": \"https://t.co/AO6BhsVABM\",\n",
      "                    \"expanded_url\": \"https://developer.rackspace.com/blog/deploying-jupyterhub-for-education/\",\n",
      "                    \"display_url\": \"developer.rackspace.com/blog/deploying\\u2026\",\n",
      "                    \"indices\": [\n",
      "                        33,\n",
      "                        56\n",
      "                    ]\n",
      "                },\n",
      "                {\n",
      "                    \"url\": \"https://t.co/ehlsdTtnOv\",\n",
      "                    \"expanded_url\": \"http://www.portlandpython.com\",\n",
      "                    \"display_url\": \"portlandpython.com\",\n",
      "                    \"indices\": [\n",
      "                        111,\n",
      "                        134\n",
      "                    ]\n",
      "                }\n",
      "            ]\n",
      "        },\n",
      "        \"source\": \"<a href=\\\"http://twitter.com\\\" rel=\\\"nofollow\\\">Twitter Web Client</a>\",\n",
      "        \"in_reply_to_status_id\": null,\n",
      "        \"in_reply_to_status_id_str\": null,\n",
      "        \"in_reply_to_user_id\": null,\n",
      "        \"in_reply_to_user_id_str\": null,\n",
      "        \"in_reply_to_screen_name\": null,\n",
      "        \"user\": {\n",
      "            \"id\": 864958003757240320,\n",
      "            \"id_str\": \"864958003757240320\",\n",
      "            \"name\": \"Lauren Shareshian\",\n",
      "            \"screen_name\": \"laurenshareshia\",\n",
      "            \"location\": \"Portland, OR\",\n",
      "            \"description\": \"Gerlinger Chair of Mathematics at Oregon Episcopal School. Python & Data Science Student\",\n",
      "            \"url\": null,\n",
      "            \"entities\": {\n",
      "                \"description\": {\n",
      "                    \"urls\": []\n",
      "                }\n",
      "            },\n",
      "            \"protected\": false,\n",
      "            \"followers_count\": 3,\n",
      "            \"friends_count\": 15,\n",
      "            \"listed_count\": 0,\n",
      "            \"created_at\": \"Wed May\n"
     ]
    }
   ],
   "source": [
    "import urllib.request, urllib.parse, urllib.error\n",
    "import twurl\n",
    "import json\n",
    "\n",
    "TWITTER_URL = 'https://api.twitter.com/1.1/statuses/user_timeline.json'\n",
    "\n",
    "acct = input('Enter Twitter Account:')\n",
    "\n",
    "url = twurl.augment(TWITTER_URL,{'screen_name': acct, 'count': '2'})\n",
    "\n",
    "connection = urllib.request.urlopen(url, context=ctx)\n",
    "data = connection.read().decode()\n",
    "\n",
    "js = json.loads(data)\n",
    "print (json.dumps(js, indent=4)[0:7000])\n"
   ]
  },
  {
   "cell_type": "markdown",
   "metadata": {},
   "source": [
    "Notice that the date of the tweet is stored in \"created_at\". Let's print just the tweet dates:"
   ]
  },
  {
   "cell_type": "code",
   "execution_count": 50,
   "metadata": {
    "collapsed": false
   },
   "outputs": [
    {
     "name": "stdout",
     "output_type": "stream",
     "text": [
      "Enter Twitter Account:laurenshareshia\n",
      "Sat Jun 03 19:59:13 +0000 2017\n",
      "Sat Jun 03 19:41:19 +0000 2017\n"
     ]
    }
   ],
   "source": [
    "import urllib.request, urllib.parse, urllib.error\n",
    "import twurl\n",
    "import json\n",
    "\n",
    "TWITTER_URL = 'https://api.twitter.com/1.1/statuses/user_timeline.json'\n",
    "\n",
    "acct = input('Enter Twitter Account:')\n",
    "\n",
    "url = twurl.augment(TWITTER_URL,{'screen_name': acct, 'count': '2'})\n",
    "\n",
    "connection = urllib.request.urlopen(url, context=ctx)\n",
    "data = connection.read().decode()\n",
    "\n",
    "js = json.loads(data)\n",
    "\n",
    "for tweet in js:\n",
    "    print(tweet['created_at'])\n"
   ]
  },
  {
   "cell_type": "markdown",
   "metadata": {},
   "source": [
    "The actual tweet is listed in \"text\". Let's print those:"
   ]
  },
  {
   "cell_type": "code",
   "execution_count": 51,
   "metadata": {
    "collapsed": false
   },
   "outputs": [
    {
     "name": "stdout",
     "output_type": "stream",
     "text": [
      "Enter Twitter Account:laurenshareshia\n",
      "Thx to @ehmatthes for his https://t.co/JpBqTTspmq curriculum. Best resource for 1st time Python teachers like me https://t.co/d6JzXe4bkb\n",
      "Thx to @jhamrick for her article https://t.co/AO6BhsVABM on using @ProjectJupyter. My class website now works! https://t.co/ehlsdTtnOv\n"
     ]
    }
   ],
   "source": [
    "import urllib.request, urllib.parse, urllib.error\n",
    "import twurl\n",
    "import json\n",
    "\n",
    "TWITTER_URL = 'https://api.twitter.com/1.1/statuses/user_timeline.json'\n",
    "\n",
    "acct = input('Enter Twitter Account:')\n",
    "\n",
    "url = twurl.augment(TWITTER_URL,{'screen_name': acct, 'count': '2'})\n",
    "\n",
    "connection = urllib.request.urlopen(url, context=ctx)\n",
    "data = connection.read().decode()\n",
    "\n",
    "js = json.loads(data)\n",
    "\n",
    "for tweet in js:\n",
    "    print(tweet['text'])\n"
   ]
  },
  {
   "cell_type": "markdown",
   "metadata": {},
   "source": [
    "The location is listed under \"user\" - \"location\":"
   ]
  },
  {
   "cell_type": "code",
   "execution_count": 54,
   "metadata": {
    "collapsed": false
   },
   "outputs": [
    {
     "name": "stdout",
     "output_type": "stream",
     "text": [
      "Enter Twitter Account:laurenshareshia\n",
      "Portland, OR\n",
      "Portland, OR\n"
     ]
    }
   ],
   "source": [
    "import urllib.request, urllib.parse, urllib.error\n",
    "import twurl\n",
    "import json\n",
    "\n",
    "TWITTER_URL = 'https://api.twitter.com/1.1/statuses/user_timeline.json'\n",
    "\n",
    "acct = input('Enter Twitter Account:')\n",
    "\n",
    "url = twurl.augment(TWITTER_URL,{'screen_name': acct, 'count': '2'})\n",
    "\n",
    "connection = urllib.request.urlopen(url, context=ctx)\n",
    "data = connection.read().decode()\n",
    "\n",
    "js = json.loads(data)\n",
    "\n",
    "for tweet in js:\n",
    "    print(tweet['user']['location'])\n"
   ]
  },
  {
   "cell_type": "markdown",
   "metadata": {},
   "source": [
    "### Exercise - Donald 1\n",
    "Print out Donald's tweets. Note: you won't get all of them as Twitter limits how many tweets you can request at a time."
   ]
  },
  {
   "cell_type": "code",
   "execution_count": null,
   "metadata": {
    "collapsed": true
   },
   "outputs": [],
   "source": [
    "#donald 1"
   ]
  },
  {
   "cell_type": "markdown",
   "metadata": {},
   "source": [
    "### Exercise - Donald 2\n",
    "Print out the dates of Donald's Tweets. "
   ]
  },
  {
   "cell_type": "code",
   "execution_count": null,
   "metadata": {
    "collapsed": true
   },
   "outputs": [],
   "source": [
    "#insert donald 2"
   ]
  },
  {
   "cell_type": "markdown",
   "metadata": {},
   "source": [
    "### Exercise - Donald 3\n",
    "Print out his screen_name, description, followers count, and friends count."
   ]
  },
  {
   "cell_type": "code",
   "execution_count": null,
   "metadata": {
    "collapsed": true
   },
   "outputs": [],
   "source": [
    "#insert Donald 3"
   ]
  },
  {
   "cell_type": "markdown",
   "metadata": {},
   "source": [
    "### Exercise - Donald Project\n",
    "Use your knowledge of datetime and matplotlib to plot the number of Donald's tweets versus day of the week and time of the day. Also analyze his most used words."
   ]
  },
  {
   "cell_type": "code",
   "execution_count": 57,
   "metadata": {
    "collapsed": true
   },
   "outputs": [],
   "source": [
    "#insert Donald Project"
   ]
  },
  {
   "cell_type": "code",
   "execution_count": null,
   "metadata": {
    "collapsed": true
   },
   "outputs": [],
   "source": []
  }
 ],
 "metadata": {
  "kernelspec": {
   "display_name": "Python 3",
   "language": "python",
   "name": "python3"
  },
  "language_info": {
   "codemirror_mode": {
    "name": "ipython",
    "version": 3
   },
   "file_extension": ".py",
   "mimetype": "text/x-python",
   "name": "python",
   "nbconvert_exporter": "python",
   "pygments_lexer": "ipython3",
   "version": "3.6.0"
  }
 },
 "nbformat": 4,
 "nbformat_minor": 2
}
