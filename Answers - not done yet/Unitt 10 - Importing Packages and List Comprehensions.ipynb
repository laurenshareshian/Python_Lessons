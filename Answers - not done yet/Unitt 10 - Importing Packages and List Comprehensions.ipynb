{
 "cells": [
  {
   "cell_type": "markdown",
   "metadata": {},
   "source": [
    "Contents\n",
    "---\n",
    "- [The Math Package](#math)\n",
    "- [The Random Package](#random)\n",
    "- [The Numpy Package](#random)\n",
    "- [The matplotlib package](#matplotlib)\n",
    "- [List comprehensions](#list)\n",
    "- [The Lambda Function](#lambda)\n",
    "- [Maps](#maps)"
   ]
  },
  {
   "cell_type": "markdown",
   "metadata": {},
   "source": [
    "The Math Package\n",
    "---\n",
    "<a class=\"anchor\" id=\"math\"></a>\n",
    "\n",
    "There are many packages in Python that you can import into your program instead of re-inventing the wheel. At the top of your program, we'll tell our program what we want it to import. Then, we can use any of its methods within our program. For example, suppose you want to take the square root of 4. If you type sqrt(4), you'll get an error:"
   ]
  },
  {
   "cell_type": "code",
   "execution_count": 3,
   "metadata": {
    "collapsed": false
   },
   "outputs": [
    {
     "ename": "NameError",
     "evalue": "name 'sqrt' is not defined",
     "output_type": "error",
     "traceback": [
      "\u001b[0;31m---------------------------------------------------------------------------\u001b[0m",
      "\u001b[0;31mNameError\u001b[0m                                 Traceback (most recent call last)",
      "\u001b[0;32m<ipython-input-3-718d7f173e1d>\u001b[0m in \u001b[0;36m<module>\u001b[0;34m()\u001b[0m\n\u001b[0;32m----> 1\u001b[0;31m \u001b[0msqrt\u001b[0m\u001b[0;34m(\u001b[0m\u001b[0;36m4\u001b[0m\u001b[0;34m)\u001b[0m\u001b[0;34m\u001b[0m\u001b[0m\n\u001b[0m",
      "\u001b[0;31mNameError\u001b[0m: name 'sqrt' is not defined"
     ]
    }
   ],
   "source": [
    "sqrt(4)"
   ]
  },
  {
   "cell_type": "markdown",
   "metadata": {},
   "source": [
    "This is because sqrt() is not a built-in function. However, it is a built-in function to the Python math package. Thus, we'll type \"import math\" at the beginning of our program, and then we'll be able to use any of its built in commands by typing things like math.sqrt():"
   ]
  },
  {
   "cell_type": "code",
   "execution_count": 7,
   "metadata": {
    "collapsed": false
   },
   "outputs": [
    {
     "name": "stdout",
     "output_type": "stream",
     "text": [
      "2.0\n",
      "3.141592653589793\n",
      "-1.0\n",
      "2.718281828459045\n",
      "120\n"
     ]
    }
   ],
   "source": [
    "import math\n",
    "print(math.sqrt(4))\n",
    "print(math.pi)\n",
    "print(math.cos(math.pi))\n",
    "print(math.exp(1))\n",
    "print(math.factorial(5))"
   ]
  },
  {
   "cell_type": "markdown",
   "metadata": {},
   "source": [
    "Note: Sometimes you'll see the first line of the import statement in the form \"import package as nickname\". We won't do this with \"math\", as math is a short enough word that it isn't too difficult to write. However, if you wanted to rename \"math\" something else, you could. For example, suppose in my program I wanted to refer to the math package as \"kanye\". Then I could type the following:"
   ]
  },
  {
   "cell_type": "code",
   "execution_count": 8,
   "metadata": {
    "collapsed": false
   },
   "outputs": [
    {
     "name": "stdout",
     "output_type": "stream",
     "text": [
      "2.0\n"
     ]
    }
   ],
   "source": [
    "import math as kanye\n",
    "print(kanye.sqrt(4))"
   ]
  },
  {
   "cell_type": "markdown",
   "metadata": {},
   "source": [
    "The Random Package\n",
    "---\n",
    "<a class=\"anchor\" id=\"random\"></a>\n",
    "The random package provides us with a way of generating pseuodorandom numbers (they are random to the naked eye but technically the computer's algorithm is not fully random). If we want to generate a random number between 0 and 1, we can type:\n"
   ]
  },
  {
   "cell_type": "code",
   "execution_count": 14,
   "metadata": {
    "collapsed": false
   },
   "outputs": [
    {
     "name": "stdout",
     "output_type": "stream",
     "text": [
      "0.5810783910971796\n"
     ]
    }
   ],
   "source": [
    "import random as rand\n",
    "\n",
    "print(rand.random())"
   ]
  },
  {
   "cell_type": "markdown",
   "metadata": {},
   "source": [
    "If we wanted to generate 5 random numbers between 0 and 1, we could create a loop:"
   ]
  },
  {
   "cell_type": "code",
   "execution_count": 20,
   "metadata": {
    "collapsed": false
   },
   "outputs": [
    {
     "name": "stdout",
     "output_type": "stream",
     "text": [
      "0.8768342262560255\n",
      "0.2188545914527682\n",
      "0.6233047500853078\n",
      "0.11418120700849133\n",
      "0.46213258925505174\n"
     ]
    }
   ],
   "source": [
    "import random as rand\n",
    "\n",
    "for i in range(5):\n",
    "    print(rand.random())"
   ]
  },
  {
   "cell_type": "markdown",
   "metadata": {},
   "source": [
    "Many times, we won't want to generate random decimals but rather integers within a specific range. The random function is only one of many functions that handle random numbers. The function randint takes the parameters low and high, and returns an integer between low and high (including both). To generate 5 numbers between 1 and 10, inclusive, we could type:"
   ]
  },
  {
   "cell_type": "code",
   "execution_count": 19,
   "metadata": {
    "collapsed": false
   },
   "outputs": [
    {
     "name": "stdout",
     "output_type": "stream",
     "text": [
      "7\n",
      "4\n",
      "1\n",
      "5\n",
      "1\n"
     ]
    }
   ],
   "source": [
    "import random as rand\n",
    "\n",
    "for i in range(5):\n",
    "    print(rand.randint(1,10))"
   ]
  },
  {
   "cell_type": "markdown",
   "metadata": {},
   "source": [
    "We can also use the random function to pick random elements from a list. For example, to pick a random student's name from a group of 5 students, we could type:"
   ]
  },
  {
   "cell_type": "code",
   "execution_count": 22,
   "metadata": {
    "collapsed": false
   },
   "outputs": [
    {
     "name": "stdout",
     "output_type": "stream",
     "text": [
      "Abby\n"
     ]
    }
   ],
   "source": [
    "import random as rand\n",
    "students = ['Jack', 'Abby', 'Mary', 'Peter', \"Stella\"]\n",
    "print(rand.choice(students))\n"
   ]
  },
  {
   "cell_type": "markdown",
   "metadata": {},
   "source": [
    "If I wanted to generate two random names from the list, I could use the sample method:\n"
   ]
  },
  {
   "cell_type": "code",
   "execution_count": 26,
   "metadata": {
    "collapsed": false
   },
   "outputs": [
    {
     "name": "stdout",
     "output_type": "stream",
     "text": [
      "['Stella', 'Jack']\n"
     ]
    }
   ],
   "source": [
    "import random as rand\n",
    "students = ['Jack', 'Abby', 'Mary', 'Peter', \"Stella\"]\n",
    "print(rand.sample(students,2))"
   ]
  },
  {
   "cell_type": "markdown",
   "metadata": {},
   "source": [
    "### Exercise - Math \n",
    "You can see all of the built-in functions in the math package here:\n",
    "https://docs.python.org/2/library/math.html\n",
    "Write a program that prints 10 different lines using different math functions other than the ones above."
   ]
  },
  {
   "cell_type": "code",
   "execution_count": null,
   "metadata": {
    "collapsed": true
   },
   "outputs": [],
   "source": [
    "#insert math"
   ]
  },
  {
   "cell_type": "markdown",
   "metadata": {},
   "source": [
    "### Exercise - Max min average\n",
    "Write a program that generates 10 random numbers between 20 and 50 inclusive, and then prints out the max, min, and the average of those numbers. "
   ]
  },
  {
   "cell_type": "code",
   "execution_count": 27,
   "metadata": {
    "collapsed": true
   },
   "outputs": [],
   "source": [
    "#insert max min average"
   ]
  },
  {
   "cell_type": "markdown",
   "metadata": {},
   "source": [
    "### Exercise - Random Factorial\n",
    "Write a program that chooses a random number between two numbers that the user specifies. Then return the factorial of that number."
   ]
  },
  {
   "cell_type": "code",
   "execution_count": null,
   "metadata": {
    "collapsed": true
   },
   "outputs": [],
   "source": [
    "#insert random factorial code"
   ]
  },
  {
   "cell_type": "markdown",
   "metadata": {},
   "source": [
    "### Exercise - color \n",
    "Create a list of colors of at least five colors. Then randomly select three students. "
   ]
  },
  {
   "cell_type": "code",
   "execution_count": null,
   "metadata": {
    "collapsed": true
   },
   "outputs": [],
   "source": [
    "#insert color"
   ]
  },
  {
   "cell_type": "markdown",
   "metadata": {},
   "source": [
    "### Exercise - dice\n",
    "Suppose you want to simulate rolling a dice three times. Yes, you can create a list of numbers 1,2,3,4,5, and 6, but if you do rand(sample, 3), then you'll never get the same number twice, which doesn't make sense, since the rolls of the dice are random. Change your program so that you randomly generate three rolls, where some numbers may be the same."
   ]
  },
  {
   "cell_type": "code",
   "execution_count": 2,
   "metadata": {
    "collapsed": true
   },
   "outputs": [],
   "source": [
    "#insert dice"
   ]
  },
  {
   "cell_type": "markdown",
   "metadata": {},
   "source": [
    "### Exercise - Sports\n",
    "Write a program that creates a dictionary of sports and the names of the students that play that sport. For example, soccer might map to several different students. Use the random package to generate a sport from that list. Print out the names of the students who play that sport."
   ]
  },
  {
   "cell_type": "code",
   "execution_count": 28,
   "metadata": {
    "collapsed": true
   },
   "outputs": [],
   "source": [
    "###insert sport code"
   ]
  },
  {
   "cell_type": "markdown",
   "metadata": {},
   "source": [
    "The Numpy Package\n",
    "---\n",
    "<a class=\"anchor\" id=\"numpy\"></a>\n",
    "\n",
    "The Numpy package is a very powerful computing package that does what the math package does, and more. Here are some of the calculations that you can do in numpy that you already did using the math package:"
   ]
  },
  {
   "cell_type": "code",
   "execution_count": 34,
   "metadata": {
    "collapsed": false
   },
   "outputs": [
    {
     "name": "stdout",
     "output_type": "stream",
     "text": [
      "3.141592653589793\n",
      "2.0\n",
      "-1.0\n",
      "2.71828182846\n"
     ]
    }
   ],
   "source": [
    "import numpy as np\n",
    "print(np.pi)\n",
    "print(np.sqrt(4))\n",
    "print(np.cos(np.pi))\n",
    "print(np.exp(1))"
   ]
  },
  {
   "cell_type": "markdown",
   "metadata": {},
   "source": [
    "However, one thing that you need numpy for that you couldn't do with math is to make arrays (lists) that we can use to plot. Suppose you wanted to make a list of x values between 0 and 10 with a step size of 1. You could use the arange function:"
   ]
  },
  {
   "cell_type": "code",
   "execution_count": 40,
   "metadata": {
    "collapsed": false
   },
   "outputs": [
    {
     "name": "stdout",
     "output_type": "stream",
     "text": [
      "[ 0  1  2  3  4  5  6  7  8  9 10]\n"
     ]
    }
   ],
   "source": [
    "import numpy as np\n",
    "x = np.arange(0,11,1)\n",
    "print(x)"
   ]
  },
  {
   "cell_type": "markdown",
   "metadata": {},
   "source": [
    "To create 100 points between 0 and 10, you could make your step size be .1:"
   ]
  },
  {
   "cell_type": "code",
   "execution_count": 3,
   "metadata": {
    "collapsed": false
   },
   "outputs": [
    {
     "name": "stdout",
     "output_type": "stream",
     "text": [
      "[  0.    0.1   0.2   0.3   0.4   0.5   0.6   0.7   0.8   0.9   1.    1.1\n",
      "   1.2   1.3   1.4   1.5   1.6   1.7   1.8   1.9   2.    2.1   2.2   2.3\n",
      "   2.4   2.5   2.6   2.7   2.8   2.9   3.    3.1   3.2   3.3   3.4   3.5\n",
      "   3.6   3.7   3.8   3.9   4.    4.1   4.2   4.3   4.4   4.5   4.6   4.7\n",
      "   4.8   4.9   5.    5.1   5.2   5.3   5.4   5.5   5.6   5.7   5.8   5.9\n",
      "   6.    6.1   6.2   6.3   6.4   6.5   6.6   6.7   6.8   6.9   7.    7.1\n",
      "   7.2   7.3   7.4   7.5   7.6   7.7   7.8   7.9   8.    8.1   8.2   8.3\n",
      "   8.4   8.5   8.6   8.7   8.8   8.9   9.    9.1   9.2   9.3   9.4   9.5\n",
      "   9.6   9.7   9.8   9.9  10. ]\n"
     ]
    }
   ],
   "source": [
    "import numpy as np\n",
    "x = np.arange(0,10.1,0.1)\n",
    "print(x)"
   ]
  },
  {
   "cell_type": "markdown",
   "metadata": {},
   "source": [
    "The arange function will make it easy for us to create a set of x values and then evaluate functions at those values. For example, suppose we wanted to make a list of x values between 0 and 10 and then calculate f(x)=x^2 at those values. We could type:"
   ]
  },
  {
   "cell_type": "code",
   "execution_count": 45,
   "metadata": {
    "collapsed": false
   },
   "outputs": [
    {
     "name": "stdout",
     "output_type": "stream",
     "text": [
      "[  0   1   4   9  16  25  36  49  64  81 100]\n"
     ]
    }
   ],
   "source": [
    "import numpy as np\n",
    "x = np.arange(0,11,1)\n",
    "y=x**2\n",
    "print(y)"
   ]
  },
  {
   "cell_type": "markdown",
   "metadata": {},
   "source": [
    "If we wanted to print out those points in coordinate form, we could type:\n"
   ]
  },
  {
   "cell_type": "code",
   "execution_count": 50,
   "metadata": {
    "collapsed": false
   },
   "outputs": [
    {
     "name": "stdout",
     "output_type": "stream",
     "text": [
      "[(0, 0), (1, 1), (2, 4), (3, 9), (4, 16), (5, 25), (6, 36), (7, 49), (8, 64), (9, 81), (10, 100)]\n"
     ]
    }
   ],
   "source": [
    "import numpy as np\n",
    "xlist = np.arange(0,11,1)\n",
    "points = []\n",
    "for x in xlist:\n",
    "    points.append((x,x**2))\n",
    "print(points)"
   ]
  },
  {
   "cell_type": "markdown",
   "metadata": {},
   "source": [
    "If we wanted to create 9 points between -pi and pi and evaluate cosine at them, we could type:"
   ]
  },
  {
   "cell_type": "code",
   "execution_count": 52,
   "metadata": {
    "collapsed": false
   },
   "outputs": [
    {
     "name": "stdout",
     "output_type": "stream",
     "text": [
      "[(-3.1415926535897931, -1.0), (-2.3561944901923448, -0.70710678118654746), (-1.5707963267948966, 6.123233995736766e-17), (-0.78539816339744828, 0.70710678118654757), (0.0, 1.0), (0.78539816339744828, 0.70710678118654757), (1.5707963267948966, 6.123233995736766e-17), (2.3561944901923448, -0.70710678118654746), (3.1415926535897931, -1.0)]\n"
     ]
    }
   ],
   "source": [
    "import numpy as np\n",
    "xlist = np.arange(-np.pi,np.pi+np.pi/4, np.pi/4)\n",
    "points = []\n",
    "for x in xlist:\n",
    "    points.append((x,np.cos(x)))\n",
    "print(points)"
   ]
  },
  {
   "cell_type": "markdown",
   "metadata": {},
   "source": [
    "### Exercise - square root\n",
    "Make a list of x values between 0 and 16, inclusive, with a step size of one, and print the coordinates of the square root function."
   ]
  },
  {
   "cell_type": "code",
   "execution_count": null,
   "metadata": {
    "collapsed": true
   },
   "outputs": [],
   "source": [
    "#insert square root"
   ]
  },
  {
   "cell_type": "markdown",
   "metadata": {},
   "source": [
    "### Exercise - cubic\n",
    "Make a list of x values between -3 and 3, inclusive, with a step size of 1/2, and print the coordinates of the cubic function."
   ]
  },
  {
   "cell_type": "code",
   "execution_count": 4,
   "metadata": {
    "collapsed": true
   },
   "outputs": [],
   "source": [
    "#insert cubic"
   ]
  },
  {
   "cell_type": "markdown",
   "metadata": {},
   "source": [
    "### Exercise - sine\n",
    "Make a list of x values between 0 and 2*pi, inclusive, with a step size of pi/3, and print the coordinates of the sine function."
   ]
  },
  {
   "cell_type": "code",
   "execution_count": null,
   "metadata": {
    "collapsed": true
   },
   "outputs": [],
   "source": [
    "#insert sine"
   ]
  },
  {
   "cell_type": "markdown",
   "metadata": {},
   "source": [
    "### Exercise - random\n",
    "Make a list of 5 random x values between 10 and 20 and 5 random y values between 55 and 65 and print the x and y values out in coordinate form."
   ]
  },
  {
   "cell_type": "code",
   "execution_count": null,
   "metadata": {
    "collapsed": true
   },
   "outputs": [],
   "source": [
    "#insert random"
   ]
  },
  {
   "cell_type": "markdown",
   "metadata": {},
   "source": [
    "The matplotlib package\n",
    "---\n",
    "<a class=\"anchor\" id=\"matplotlib\"></a>\n",
    "\n",
    "The matplotlib package allows us to make graphs.\n",
    "\n",
    "Suppose we want to plot the points (0,0), (1,1), (4,2), and (9,3) from the square root function. We could type:"
   ]
  },
  {
   "cell_type": "code",
   "execution_count": 55,
   "metadata": {
    "collapsed": false
   },
   "outputs": [
    {
     "data": {
      "image/png": "[encoded data removed]",
      "text/plain": [
       "<matplotlib.figure.Figure at 0x112625860>"
      ]
     },
     "metadata": {},
     "output_type": "display_data"
    }
   ],
   "source": [
    "import matplotlib.pyplot as plt\n",
    "plt.plot([0,1,4,9],[0,1,2,3],'.')\n",
    "plt.show()"
   ]
  },
  {
   "cell_type": "markdown",
   "metadata": {},
   "source": [
    "Notice in the above code that we listed all of the x coordinates first in a list, then the y coordinates, and then we added a '.' in order to plot the points using dots. If we wanted to plot them with lines, we could get rid of that last command:"
   ]
  },
  {
   "cell_type": "code",
   "execution_count": 56,
   "metadata": {
    "collapsed": false
   },
   "outputs": [
    {
     "data": {
      "image/png": "[encoded data removed]",
      "text/plain": [
       "<matplotlib.figure.Figure at 0x116756438>"
      ]
     },
     "metadata": {},
     "output_type": "display_data"
    }
   ],
   "source": [
    "import matplotlib.pyplot as plt\n",
    "plt.plot([0,1,4,9],[0,1,2,3])\n",
    "plt.show()"
   ]
  },
  {
   "cell_type": "markdown",
   "metadata": {},
   "source": [
    "Notice also that we also need to add plt.show() at the end to actually see the graph. \n",
    "\n",
    "As always, graphs should be well labeled. We can add an x label, a y label, and a title using the following code:"
   ]
  },
  {
   "cell_type": "code",
   "execution_count": 60,
   "metadata": {
    "collapsed": false
   },
   "outputs": [
    {
     "data": {
      "image/png": "[encoded data removed]",
      "text/plain": [
       "<matplotlib.figure.Figure at 0x116a6b780>"
      ]
     },
     "metadata": {},
     "output_type": "display_data"
    }
   ],
   "source": [
    "import matplotlib.pyplot as plt\n",
    "plt.plot([0,1,4,9],[0,1,2,3],'.')\n",
    "plt.xlabel('x')\n",
    "plt.ylabel('y')\n",
    "plt.title('points on square root function')\n",
    "plt.show()"
   ]
  },
  {
   "cell_type": "markdown",
   "metadata": {},
   "source": [
    "Rather than type in the points of the square root function manually, we can use numpy as we did before to create arrays of the function values and then plot them:"
   ]
  },
  {
   "cell_type": "code",
   "execution_count": 61,
   "metadata": {
    "collapsed": false
   },
   "outputs": [
    {
     "data": {
      "image/png": "[encoded data removed]",
      "text/plain": [
       "<matplotlib.figure.Figure at 0x116b4fe80>"
      ]
     },
     "metadata": {},
     "output_type": "display_data"
    }
   ],
   "source": [
    "import matplotlib.pyplot as plt\n",
    "import numpy as np\n",
    "\n",
    "x = np.arange(0,10.5,0.5)\n",
    "y=np.sqrt(x)\n",
    "plt.plot(x,y,'.')\n",
    "plt.show()"
   ]
  },
  {
   "cell_type": "markdown",
   "metadata": {},
   "source": [
    "If we wanted to plot the cosine function between -pi and pi, we could type:"
   ]
  },
  {
   "cell_type": "code",
   "execution_count": 63,
   "metadata": {
    "collapsed": false
   },
   "outputs": [
    {
     "data": {
      "image/png": "[encoded data removed]",
      "text/plain": [
       "<matplotlib.figure.Figure at 0x116dd77f0>"
      ]
     },
     "metadata": {},
     "output_type": "display_data"
    }
   ],
   "source": [
    "import matplotlib.pyplot as plt\n",
    "import numpy as np\n",
    "\n",
    "x = np.arange(-np.pi,np.pi,0.1)\n",
    "y=np.cos(x)\n",
    "plt.plot(x,y,'.')\n",
    "plt.show()"
   ]
  },
  {
   "cell_type": "markdown",
   "metadata": {},
   "source": [
    "We can also plot multiple graphs at once. Suppose I wanted to plot cosine and sine in red and blue. I could type:"
   ]
  },
  {
   "cell_type": "code",
   "execution_count": 68,
   "metadata": {
    "collapsed": false
   },
   "outputs": [
    {
     "data": {
      "image/png": "[encoded data removed]",
      "text/plain": [
       "<matplotlib.figure.Figure at 0x11706a080>"
      ]
     },
     "metadata": {},
     "output_type": "display_data"
    }
   ],
   "source": [
    "import matplotlib.pyplot as plt\n",
    "import numpy as np\n",
    "\n",
    "x = np.arange(-np.pi,np.pi,0.1)\n",
    "y1=np.cos(x)\n",
    "y2=np.sin(x)\n",
    "plt.plot(x,y1,'r.',x,y2,'b.')\n",
    "plt.show()"
   ]
  },
  {
   "cell_type": "markdown",
   "metadata": {},
   "source": [
    "### Exercise - x^2\n",
    "Plot f(x)=x^2 between -5 and 5. Add an x label, a y label, and a title, and change the dots to green."
   ]
  },
  {
   "cell_type": "code",
   "execution_count": null,
   "metadata": {
    "collapsed": true
   },
   "outputs": [],
   "source": [
    "#insert x^2 code"
   ]
  },
  {
   "cell_type": "markdown",
   "metadata": {},
   "source": [
    "### Exercise - tan\n",
    "Plot f(x)=tan(x) and the cubic function between -pi and pi. Make one of them green and one of them black. Use lines instead of dots."
   ]
  },
  {
   "cell_type": "code",
   "execution_count": 66,
   "metadata": {
    "collapsed": true
   },
   "outputs": [],
   "source": [
    "#insert tan code"
   ]
  },
  {
   "cell_type": "markdown",
   "metadata": {},
   "source": [
    "List Comprehensions\n",
    "---\n",
    "<a class=\"anchor\" id=\"list\"></a>\n",
    "\n",
    "List comprehensions help us to create lists using more concise notation. For example, suppose I wanted to evaluate f(x)=x^2 at the points between 0 and 10. I could type:"
   ]
  },
  {
   "cell_type": "code",
   "execution_count": 77,
   "metadata": {
    "collapsed": false
   },
   "outputs": [
    {
     "name": "stdout",
     "output_type": "stream",
     "text": [
      "[0, 1, 4, 9, 16, 25, 36, 49, 64, 81, 100]\n"
     ]
    }
   ],
   "source": [
    "import numpy as np\n",
    "y = [x**2 for x in np.arange(0,11,1)]\n",
    "print(y)"
   ]
  },
  {
   "cell_type": "markdown",
   "metadata": {},
   "source": [
    "Then, we could easily plot the points:"
   ]
  },
  {
   "cell_type": "code",
   "execution_count": 87,
   "metadata": {
    "collapsed": false
   },
   "outputs": [
    {
     "data": {
      "image/png": "[encoded data removed]",
      "text/plain": [
       "<matplotlib.figure.Figure at 0x116f40f98>"
      ]
     },
     "metadata": {},
     "output_type": "display_data"
    }
   ],
   "source": [
    "import numpy as np\n",
    "import matplotlib.pyplot as plt\n",
    "\n",
    "xlist = np.arange(0,11,1)\n",
    "ylist = [x**2 for x in xlist]\n",
    "\n",
    "plt.plot(xlist,ylist,'.')\n",
    "plt.show()"
   ]
  },
  {
   "cell_type": "markdown",
   "metadata": {},
   "source": [
    "As another example, suppose I wanted to plot cosine between 0 and 2pi. I could type:"
   ]
  },
  {
   "cell_type": "code",
   "execution_count": 88,
   "metadata": {
    "collapsed": false
   },
   "outputs": [
    {
     "data": {
      "image/png": "[encoded data removed]",
      "text/plain": [
       "<matplotlib.figure.Figure at 0x116bbd2b0>"
      ]
     },
     "metadata": {},
     "output_type": "display_data"
    }
   ],
   "source": [
    "import numpy as np\n",
    "import matplotlib.pyplot as plt\n",
    "\n",
    "xlist = np.arange(0,2*np.pi,.1)\n",
    "ylist = [np.cos(x) for x in xlist]\n",
    "\n",
    "plt.plot(xlist,ylist,'.')\n",
    "plt.show()"
   ]
  },
  {
   "cell_type": "markdown",
   "metadata": {},
   "source": [
    "List comprehensions are very helpful for plotting but we can also use them to create lists quickly. Suppose I wanted to create a list of the multiples of 5 between 15 and 65. I could type:\n"
   ]
  },
  {
   "cell_type": "code",
   "execution_count": 89,
   "metadata": {
    "collapsed": false
   },
   "outputs": [
    {
     "name": "stdout",
     "output_type": "stream",
     "text": [
      "[15, 20, 25, 30, 35, 40, 45, 50, 55, 60, 65]\n"
     ]
    }
   ],
   "source": [
    "multiples = [x for x in range(15,66) if x % 5 == 0]\n",
    "print(multiples)"
   ]
  },
  {
   "cell_type": "markdown",
   "metadata": {},
   "source": [
    "To create an upper case list of words from a lower case list of words:"
   ]
  },
  {
   "cell_type": "code",
   "execution_count": 90,
   "metadata": {
    "collapsed": false
   },
   "outputs": [
    {
     "name": "stdout",
     "output_type": "stream",
     "text": [
      "['HELLO', 'GOODBYE', 'HOLA', 'GRACIAS']\n"
     ]
    }
   ],
   "source": [
    "lower = ['hello', 'goodbye', 'hola', 'gracias']\n",
    "upper = [word.upper() for word in lower]\n",
    "print(upper)"
   ]
  },
  {
   "cell_type": "markdown",
   "metadata": {},
   "source": [
    "We can also use lambda to sort a list by the last element in a list of tuples:"
   ]
  },
  {
   "cell_type": "code",
   "execution_count": 36,
   "metadata": {
    "collapsed": false
   },
   "outputs": [
    {
     "data": {
      "text/plain": [
       "[(2, 2), (1, 3), (3, 4, 5), (1, 7)]"
      ]
     },
     "execution_count": 36,
     "metadata": {},
     "output_type": "execute_result"
    }
   ],
   "source": [
    "def sort_last(tuples):\n",
    "    output = sorted(tuples, key=lambda x: x[-1])\n",
    "    return output\n",
    "\n",
    "sort_last([(1,7), (1,3), (3,4,5), (2,2)])"
   ]
  },
  {
   "cell_type": "markdown",
   "metadata": {},
   "source": [
    "### Exercise - square root\n",
    "Use list comprehensions to graph the square root function between 0 and 10."
   ]
  },
  {
   "cell_type": "code",
   "execution_count": null,
   "metadata": {
    "collapsed": true
   },
   "outputs": [],
   "source": [
    "#insert square root"
   ]
  },
  {
   "cell_type": "markdown",
   "metadata": {},
   "source": [
    "### Exercise - delete first letter\n",
    "Consider the list lower = ['hello', 'goodbye', 'hola', 'gracias'] again. Use a list comprension to create a list where the first letter of each word is missing."
   ]
  },
  {
   "cell_type": "code",
   "execution_count": null,
   "metadata": {
    "collapsed": true
   },
   "outputs": [],
   "source": [
    "#insert delete first letter"
   ]
  },
  {
   "cell_type": "markdown",
   "metadata": {},
   "source": [
    "### Exercise - delete last letter\n",
    "Consider the list lower = ['hello', 'goodbye', 'hola', 'gracias'] again. Use a list comprension to create a list where the last letter of each word is missing."
   ]
  },
  {
   "cell_type": "code",
   "execution_count": null,
   "metadata": {
    "collapsed": true
   },
   "outputs": [],
   "source": [
    "#insert last letter"
   ]
  },
  {
   "cell_type": "markdown",
   "metadata": {},
   "source": [
    "### Exercise - odd multiples of 3\n",
    "Use a list comprehension to create a list of all of the multiples of 3 that are odd between 3 and 33."
   ]
  },
  {
   "cell_type": "code",
   "execution_count": 91,
   "metadata": {
    "collapsed": true
   },
   "outputs": [],
   "source": [
    "#insert odd code"
   ]
  },
  {
   "cell_type": "markdown",
   "metadata": {
    "collapsed": true
   },
   "source": [
    "The Lambda Function\n",
    "---\n",
    "<a class=\"anchor\" id=\"lambda\"></a>\n",
    "Python supports the creation of anonymous functions (i.e. functions that are not bound to a name) at runtime, using a construct called \"lambda\". \n",
    "\n",
    "Let's say we wanted to create a function that squares its input. The traditonal way of doing this would be defining a function \"squared\":"
   ]
  },
  {
   "cell_type": "code",
   "execution_count": 1,
   "metadata": {
    "collapsed": false
   },
   "outputs": [
    {
     "name": "stdout",
     "output_type": "stream",
     "text": [
      "9\n"
     ]
    }
   ],
   "source": [
    "def squared(x):\n",
    "    return x**2\n",
    "\n",
    "print(squared(3))"
   ]
  },
  {
   "cell_type": "markdown",
   "metadata": {},
   "source": [
    "Using lambda, we can create the same function, but we don't need to include a statement about return:"
   ]
  },
  {
   "cell_type": "code",
   "execution_count": 2,
   "metadata": {
    "collapsed": false
   },
   "outputs": [
    {
     "name": "stdout",
     "output_type": "stream",
     "text": [
      "9\n"
     ]
    }
   ],
   "source": [
    "f = lambda x: x**2\n",
    "\n",
    "print(f(3))"
   ]
  },
  {
   "cell_type": "markdown",
   "metadata": {},
   "source": [
    "We can create another function, g, that is the cubic function:"
   ]
  },
  {
   "cell_type": "code",
   "execution_count": 5,
   "metadata": {
    "collapsed": false
   },
   "outputs": [
    {
     "name": "stdout",
     "output_type": "stream",
     "text": [
      "27\n"
     ]
    }
   ],
   "source": [
    "g = lambda x: x**3\n",
    "\n",
    "print(g(3))"
   ]
  },
  {
   "cell_type": "markdown",
   "metadata": {},
   "source": [
    "We can even create a function, h, that is the sum of those functions:"
   ]
  },
  {
   "cell_type": "code",
   "execution_count": 6,
   "metadata": {
    "collapsed": false
   },
   "outputs": [
    {
     "name": "stdout",
     "output_type": "stream",
     "text": [
      "36\n"
     ]
    }
   ],
   "source": [
    "f = lambda x: x**2\n",
    "g = lambda x: x**3\n",
    "h = lambda x: f(x)+g(x)\n",
    "\n",
    "print(h(3))"
   ]
  },
  {
   "cell_type": "markdown",
   "metadata": {},
   "source": [
    "We can also use lambda functions on other types of data besides numbers. We could make lambda functions that delete the first and last letters from a string:"
   ]
  },
  {
   "cell_type": "code",
   "execution_count": 38,
   "metadata": {
    "collapsed": false
   },
   "outputs": [
    {
     "name": "stdout",
     "output_type": "stream",
     "text": [
      "ello\n",
      "hell\n"
     ]
    }
   ],
   "source": [
    "delete_first = lambda x: x[1:]\n",
    "delete_last = lambda x: x[:-1]\n",
    "\n",
    "print(delete_first('hello'))\n",
    "print(delete_last('hello'))"
   ]
  },
  {
   "cell_type": "markdown",
   "metadata": {},
   "source": [
    "We can also use lambda functions on lists. For example, suppose you wanted to create a lambda function that returned only the even numbers in a list. You could type:"
   ]
  },
  {
   "cell_type": "code",
   "execution_count": 4,
   "metadata": {
    "collapsed": false
   },
   "outputs": [
    {
     "name": "stdout",
     "output_type": "stream",
     "text": [
      "[2, 4, 10, 12]\n"
     ]
    }
   ],
   "source": [
    "my_list = [3,1,2,4,7,9,10,12]\n",
    "f = lambda my_list: [x for x in my_list if x % 2 == 0]\n",
    "\n",
    "print(f(my_list))"
   ]
  },
  {
   "cell_type": "markdown",
   "metadata": {},
   "source": [
    "Or to convert temperatures to Fahrenheit:"
   ]
  },
  {
   "cell_type": "code",
   "execution_count": 18,
   "metadata": {
    "collapsed": false
   },
   "outputs": [
    {
     "name": "stdout",
     "output_type": "stream",
     "text": [
      "[102.56, 97.7, 99.14, 32.0, 68.0]\n"
     ]
    }
   ],
   "source": [
    "celsius = [39.2, 36.5, 37.3, 0, 20]\n",
    "fahrenheit = lambda celsius: [(9/5)*x+32 for x in celsius]\n",
    "print(fahrenheit(celsius))"
   ]
  },
  {
   "cell_type": "markdown",
   "metadata": {},
   "source": [
    "Lambda functions can also make plotting notation more concise. Suppose we want to plot f(x)=x^2 on (0,10). We can type:"
   ]
  },
  {
   "cell_type": "code",
   "execution_count": 15,
   "metadata": {
    "collapsed": false
   },
   "outputs": [
    {
     "data": {
      "image/png": "[encoded data removed]",
      "text/plain": [
       "<matplotlib.figure.Figure at 0x10b37e160>"
      ]
     },
     "metadata": {},
     "output_type": "display_data"
    }
   ],
   "source": [
    "import matplotlib.pyplot as plt\n",
    "import numpy as np\n",
    "\n",
    "t = np.arange(0,11,1)\n",
    "f = lambda x: x**2\n",
    "\n",
    "plt.plot(t,f(t),'.')\n",
    "plt.show()"
   ]
  },
  {
   "cell_type": "markdown",
   "metadata": {},
   "source": [
    "### Exercise - lambda word\n",
    "Write a lambda function that capitalizes the first letter of every word. DON'T use the .title() command - write the function from scratch."
   ]
  },
  {
   "cell_type": "code",
   "execution_count": null,
   "metadata": {
    "collapsed": true
   },
   "outputs": [],
   "source": [
    "#insert lambda word"
   ]
  },
  {
   "cell_type": "markdown",
   "metadata": {},
   "source": [
    "### Exercise - lambda reverse\n",
    "Write a lambda function that reverses a word."
   ]
  },
  {
   "cell_type": "code",
   "execution_count": null,
   "metadata": {
    "collapsed": true
   },
   "outputs": [],
   "source": [
    "#insert lambda reverse"
   ]
  },
  {
   "cell_type": "markdown",
   "metadata": {},
   "source": [
    "### Exercise - multiples of 5\n",
    "Write a lambda function that returns only the multiples of 5 in list. \n"
   ]
  },
  {
   "cell_type": "code",
   "execution_count": null,
   "metadata": {
    "collapsed": true
   },
   "outputs": [],
   "source": [
    "#insert lambda multiples"
   ]
  },
  {
   "cell_type": "markdown",
   "metadata": {},
   "source": [
    "### Exercise - curvy function\n",
    "Write a lambda function for the f(x)=x function and a lambda function for the g(x)=sinx function. Then write a lambda function, h, that is the sum of those functions. Plot h on (-10,10)."
   ]
  },
  {
   "cell_type": "code",
   "execution_count": 39,
   "metadata": {
    "collapsed": true
   },
   "outputs": [],
   "source": [
    "#insert curvy function"
   ]
  },
  {
   "cell_type": "markdown",
   "metadata": {},
   "source": [
    "### Map \n",
    "\n",
    "You may see the list and map functions used, which perform a similar computation to what we just did. When using the map function, the given function is called for every element in the original list, and a new object is created which contains the return values from our lambda function. We need to list the values in order to see them:"
   ]
  },
  {
   "cell_type": "code",
   "execution_count": 29,
   "metadata": {
    "collapsed": false
   },
   "outputs": [
    {
     "data": {
      "image/png": "[encoded data removed]",
      "text/plain": [
       "<matplotlib.figure.Figure at 0x114985c88>"
      ]
     },
     "metadata": {},
     "output_type": "display_data"
    }
   ],
   "source": [
    "import matplotlib.pyplot as plt\n",
    "import numpy as np\n",
    "\n",
    "t = range(0,11,1)\n",
    "y = list(map(lambda x: x**2, t))\n",
    "\n",
    "plt.plot(t,y,'.')\n",
    "plt.show()"
   ]
  },
  {
   "cell_type": "markdown",
   "metadata": {},
   "source": [
    "As another example, we can print out the squares of the following list:"
   ]
  },
  {
   "cell_type": "code",
   "execution_count": 12,
   "metadata": {
    "collapsed": false
   },
   "outputs": [
    {
     "name": "stdout",
     "output_type": "stream",
     "text": [
      "[1, 4, 9, 16, 25]\n"
     ]
    }
   ],
   "source": [
    "items_list = [1, 2, 3, 4, 5]\n",
    "items_squared = list(map(lambda x: x**2, items_list))\n",
    "print(items_squared)"
   ]
  },
  {
   "cell_type": "markdown",
   "metadata": {},
   "source": [
    "Or to convert Celsius to Fahrenheit:"
   ]
  },
  {
   "cell_type": "code",
   "execution_count": 21,
   "metadata": {
    "collapsed": false
   },
   "outputs": [
    {
     "name": "stdout",
     "output_type": "stream",
     "text": [
      "[102.56, 97.7, 99.14, 32.0, 68.0]\n"
     ]
    }
   ],
   "source": [
    "celsius = [39.2, 36.5, 37.3, 0, 20]\n",
    "fahrenheit = list(map(lambda x: (9/5)*x+32, celsius))\n",
    "print(fahrenheit)"
   ]
  },
  {
   "cell_type": "markdown",
   "metadata": {},
   "source": [
    "### Filter\n",
    "The filter function is also often used in conjunction with the lambda function. It is a way of including other conditions for membership to a list. For example, suppose in the t range above that I only wanted to include the x-coordinates that were even. Then I could type:"
   ]
  },
  {
   "cell_type": "code",
   "execution_count": 32,
   "metadata": {
    "collapsed": false
   },
   "outputs": [
    {
     "data": {
      "image/png": "[encoded data removed]",
      "text/plain": [
       "<matplotlib.figure.Figure at 0x114c75400>"
      ]
     },
     "metadata": {},
     "output_type": "display_data"
    }
   ],
   "source": [
    "import matplotlib.pyplot as plt\n",
    "import numpy as np\n",
    "\n",
    "t = range(0,11,1)\n",
    "even = list(filter(lambda x: x%2 == 0, t))\n",
    "y = list(map(lambda x: x**2, even))\n",
    "\n",
    "plt.plot(even,y,'.')\n",
    "plt.show()"
   ]
  },
  {
   "cell_type": "markdown",
   "metadata": {},
   "source": [
    "As another example, recall that we printed the evens in a list using just the lambda function: \n",
    "\n",
    "f = lambda my_list: [x for x in my_list if x % 2 == 0]\n",
    "\n",
    "We can use the filter function to shorten the notation:"
   ]
  },
  {
   "cell_type": "code",
   "execution_count": 6,
   "metadata": {
    "collapsed": false
   },
   "outputs": [
    {
     "data": {
      "text/plain": [
       "[2, 4, 10, 12]"
      ]
     },
     "execution_count": 6,
     "metadata": {},
     "output_type": "execute_result"
    }
   ],
   "source": [
    "my_list = [3,1,2,4,7,10,12]\n",
    "list(filter(lambda x: x%2 == 0, my_list))"
   ]
  },
  {
   "cell_type": "markdown",
   "metadata": {},
   "source": [
    "### Exercise - curvy function again\n",
    "Plot the curvy function above using the list, map, and lambda functions.\n"
   ]
  },
  {
   "cell_type": "code",
   "execution_count": null,
   "metadata": {
    "collapsed": true
   },
   "outputs": [],
   "source": [
    "#insert curvy function code"
   ]
  },
  {
   "cell_type": "markdown",
   "metadata": {},
   "source": [
    "### Exercise - multiples of 3\n",
    "Write a function that prints all of them multiples of 3 between 0 and 100 using the filter function."
   ]
  },
  {
   "cell_type": "code",
   "execution_count": 42,
   "metadata": {
    "collapsed": true
   },
   "outputs": [],
   "source": [
    "#insert multiples of 3"
   ]
  },
  {
   "cell_type": "code",
   "execution_count": 42,
   "metadata": {
    "collapsed": false
   },
   "outputs": [
    {
     "name": "stdout",
     "output_type": "stream",
     "text": [
      "2\n",
      "1 1\n"
     ]
    }
   ],
   "source": [
    "teams = [[50,60,70], [1,2,3], [32,45,73]]\n",
    "diff = list(map(lambda x: abs(x[2]-x[0]), teams))\n",
    "print(min(diff))\n",
    "\n",
    "min_diff = abs(teams[0][2]-teams[0][1])\n",
    "min_index = 0\n",
    "for team in teams:\n",
    "    diff = abs(team[2]-team[1])\n",
    "    if diff < min_diff:\n",
    "        min_diff = abs(team[2]-team[1])\n",
    "        min_index = teams.index(team)\n",
    "\n",
    "print(min_diff, min_index)"
   ]
  },
  {
   "cell_type": "code",
   "execution_count": null,
   "metadata": {
    "collapsed": false
   },
   "outputs": [],
   "source": []
  },
  {
   "cell_type": "code",
   "execution_count": null,
   "metadata": {
    "collapsed": true
   },
   "outputs": [],
   "source": []
  }
 ],
 "metadata": {
  "kernelspec": {
   "display_name": "Python 3",
   "language": "python",
   "name": "python3"
  },
  "language_info": {
   "codemirror_mode": {
    "name": "ipython",
    "version": 3
   },
   "file_extension": ".py",
   "mimetype": "text/x-python",
   "name": "python",
   "nbconvert_exporter": "python",
   "pygments_lexer": "ipython3",
   "version": "3.6.0"
  }
 },
 "nbformat": 4,
 "nbformat_minor": 2
}
