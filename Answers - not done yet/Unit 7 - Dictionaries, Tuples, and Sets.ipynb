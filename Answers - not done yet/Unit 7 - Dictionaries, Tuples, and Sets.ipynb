{
 "cells": [
  {
   "cell_type": "markdown",
   "metadata": {},
   "source": [
    "Contents\n",
    "---\n",
    "- [Dictionaries](#dictionaries)\n",
    "- [Tuples](#tuples)\n",
    "- [Function Arguments](#arguments)\n",
    "- [Sets](#sets)"
   ]
  },
  {
   "cell_type": "markdown",
   "metadata": {},
   "source": [
    "### Data Structures"
   ]
  },
  {
   "cell_type": "markdown",
   "metadata": {},
   "source": [
    "A data structure is a specific way of organizing and storing data so that it can be used efficiently. There are many different kinds of data structures, each with different advantages and disadvantages that make them better suited to different tasks. We have learned lists so we will now add dictionaries, tuples, and sets to our list of data structures."
   ]
  },
  {
   "cell_type": "markdown",
   "metadata": {},
   "source": [
    "Dictionaries\n",
    "---\n",
    "<a class=\"anchor\" id=\"dictionaries\"></a>\n",
    "\n",
    "Dictionaries allow us to store connected bits of information. For example, you might store a person's name and age together.\n",
    "\n",
    "Dictionaries store information in key-value pairs, so that any one piece of information in a dictionary is connected to at least one other piece of information.\n",
    "\n",
    "\n",
    "Dictionaries do not store their information in any particular order, so you may not get your information back in the same order you entered it.\n",
    "\n",
    "Dictionaries are mutable, meaning you can change the items in them.\n",
    "\n",
    "\n",
    "### General Syntax\n",
    "\n",
    "A general dictionary in Python looks something like this:\n",
    "\n",
    "dictionary_name = {key_1: value_1, key_2: value_2, key_3: value_3}\n",
    "\n",
    "Since the keys and values in dictionaries can be long, we often write just one key-value pair on a line. You might see dictionaries that look more like this:\n",
    "\n",
    "dictionary_name = {key_1: value_1,\n",
    "\n",
    "                   key_2: value_2,\n",
    "                   \n",
    "                   key_3: value_3,\n",
    "                   \n",
    "                   }"
   ]
  },
  {
   "cell_type": "code",
   "execution_count": null,
   "metadata": {
    "collapsed": false
   },
   "outputs": [],
   "source": [
    "dictionary_name = {key_1: value_1, key_2: value_2, key_3: value_3}"
   ]
  },
  {
   "cell_type": "markdown",
   "metadata": {},
   "source": [
    "Here's an example of cars in a parking lot where the key is their color and the value is the model:"
   ]
  },
  {
   "cell_type": "code",
   "execution_count": 7,
   "metadata": {
    "collapsed": false
   },
   "outputs": [
    {
     "name": "stdout",
     "output_type": "stream",
     "text": [
      "{'red': 'corvette', 'blue': 'subaru', 'silver': 'honda', 'black': 'bmw'}\n"
     ]
    }
   ],
   "source": [
    "car_dictionary = {'red': 'corvette', 'blue': 'subaru', 'silver': 'honda', 'black': 'bmw'}\n",
    "    \n",
    "print(car_dictionary)    "
   ]
  },
  {
   "cell_type": "markdown",
   "metadata": {},
   "source": [
    "Suppose there was more than one car with each color. We could use a list as our values:"
   ]
  },
  {
   "cell_type": "code",
   "execution_count": 74,
   "metadata": {
    "collapsed": false
   },
   "outputs": [
    {
     "name": "stdout",
     "output_type": "stream",
     "text": [
      "{'red': ['corvette', 'benz'], 'blue': ['subaru', 'chevy'], 'silver': ['honda'], 'black': ['bmw', 'honda', 'toyota']}\n"
     ]
    }
   ],
   "source": [
    "car_dictionary = {'red': ['corvette', 'benz'], 'blue': ['subaru', 'chevy'], 'silver': ['honda'], 'black': ['bmw', 'honda', 'toyota']}\n",
    "    \n",
    "print(car_dictionary) "
   ]
  },
  {
   "cell_type": "markdown",
   "metadata": {},
   "source": [
    "If we want to figure out the cars that are red, we can put the key in square brackets:"
   ]
  },
  {
   "cell_type": "code",
   "execution_count": 12,
   "metadata": {
    "collapsed": false
   },
   "outputs": [
    {
     "name": "stdout",
     "output_type": "stream",
     "text": [
      "['corvette', 'benz']\n"
     ]
    }
   ],
   "source": [
    "print(car_dictionary['red'])"
   ]
  },
  {
   "cell_type": "markdown",
   "metadata": {},
   "source": [
    "If we wanted to get the corvette and benz separately, we could use list notation to access them:"
   ]
  },
  {
   "cell_type": "code",
   "execution_count": 13,
   "metadata": {
    "collapsed": false
   },
   "outputs": [
    {
     "name": "stdout",
     "output_type": "stream",
     "text": [
      "corvette\n",
      "benz\n"
     ]
    }
   ],
   "source": [
    "print(car_dictionary['red'][0])\n",
    "print(car_dictionary['red'][1])"
   ]
  },
  {
   "cell_type": "markdown",
   "metadata": {},
   "source": [
    "### Finding elements in a dictionary\n",
    "Suppose we wanted to know if red was in our dictionary. We could type:"
   ]
  },
  {
   "cell_type": "code",
   "execution_count": 29,
   "metadata": {
    "collapsed": false
   },
   "outputs": [
    {
     "name": "stdout",
     "output_type": "stream",
     "text": [
      "True\n"
     ]
    }
   ],
   "source": [
    "print('red' in car_dictionary)"
   ]
  },
  {
   "cell_type": "markdown",
   "metadata": {},
   "source": [
    "The in operator uses different algorithms for lists and dictionaries. For lists, it uses a linear search algorithm. As the list gets longer, the search time gets longer in direct proportion to the length of the list. For dictionaries, Python uses an algorithm called a hash table that has a remarkable property—the in operator takes about the same amount of time no matter how many items there are in a dictionary!!!"
   ]
  },
  {
   "cell_type": "markdown",
   "metadata": {},
   "source": [
    "### Looping through a dictionary"
   ]
  },
  {
   "cell_type": "markdown",
   "metadata": {},
   "source": [
    "If we wanted to print out each key and value pair on a different line, we could use the .items() command:"
   ]
  },
  {
   "cell_type": "code",
   "execution_count": 75,
   "metadata": {
    "collapsed": false
   },
   "outputs": [
    {
     "name": "stdout",
     "output_type": "stream",
     "text": [
      "red : ['corvette', 'benz']\n",
      "blue : ['subaru', 'chevy']\n",
      "silver : ['honda']\n",
      "black : ['bmw', 'honda', 'toyota']\n"
     ]
    }
   ],
   "source": [
    "for key, value in car_dictionary.items():\n",
    "    print(key, ':', value)"
   ]
  },
  {
   "cell_type": "markdown",
   "metadata": {},
   "source": [
    "If we just wanted the colors (which are the keys), we could use the .keys() command:"
   ]
  },
  {
   "cell_type": "code",
   "execution_count": 17,
   "metadata": {
    "collapsed": false
   },
   "outputs": [
    {
     "name": "stdout",
     "output_type": "stream",
     "text": [
      "red\n",
      "blue\n",
      "silver\n",
      "black\n"
     ]
    }
   ],
   "source": [
    "for key in car_dictionary.keys():\n",
    "    print(key)"
   ]
  },
  {
   "cell_type": "markdown",
   "metadata": {},
   "source": [
    "If we just wanted the car model (which are the values), we could use the .values() command:"
   ]
  },
  {
   "cell_type": "code",
   "execution_count": 20,
   "metadata": {
    "collapsed": false
   },
   "outputs": [
    {
     "name": "stdout",
     "output_type": "stream",
     "text": [
      "['corvette', 'benz']\n",
      "['subaru', 'chevy']\n",
      "honda\n",
      "['bmw', 'honda', 'toyota']\n"
     ]
    }
   ],
   "source": [
    "for value in car_dictionary.values():\n",
    "    print(value)"
   ]
  },
  {
   "cell_type": "markdown",
   "metadata": {},
   "source": [
    "What if you didn't specify whether you wanted key or values? You would just get the keys:"
   ]
  },
  {
   "cell_type": "code",
   "execution_count": 36,
   "metadata": {
    "collapsed": false
   },
   "outputs": [
    {
     "name": "stdout",
     "output_type": "stream",
     "text": [
      "red\n",
      "blue\n"
     ]
    }
   ],
   "source": [
    "for car in car_dictionary:\n",
    "    print(car)"
   ]
  },
  {
   "cell_type": "markdown",
   "metadata": {},
   "source": [
    "Common Dictionary Operations\n",
    "---\n",
    "### Adding new key-value pairs\n",
    "\n",
    "To add a new key-value pair, you give the dictionary name followed by the new key in square brackets, and set that equal to the new value. We will show this by starting with an empty dictionary, and re-creating the dictionary from the example above."
   ]
  },
  {
   "cell_type": "code",
   "execution_count": 23,
   "metadata": {
    "collapsed": true
   },
   "outputs": [],
   "source": [
    "car_dictionary={}"
   ]
  },
  {
   "cell_type": "code",
   "execution_count": 25,
   "metadata": {
    "collapsed": false
   },
   "outputs": [
    {
     "name": "stdout",
     "output_type": "stream",
     "text": [
      "{'red': 'corvette', 'blue': 'subaru', 'silver': 'honda'}\n"
     ]
    }
   ],
   "source": [
    "car_dictionary['red'] = 'corvette'\n",
    "car_dictionary['blue'] = 'subaru'\n",
    "car_dictionary['silver'] = 'honda'\n",
    "\n",
    "print(car_dictionary)"
   ]
  },
  {
   "cell_type": "markdown",
   "metadata": {},
   "source": [
    "If we try adding a Benz to the list of red cars, it will replace the corvette instead of adding both:"
   ]
  },
  {
   "cell_type": "code",
   "execution_count": 26,
   "metadata": {
    "collapsed": false
   },
   "outputs": [
    {
     "name": "stdout",
     "output_type": "stream",
     "text": [
      "{'red': 'benz', 'blue': 'subaru', 'silver': 'honda'}\n"
     ]
    }
   ],
   "source": [
    "car_dictionary['red'] = 'benz'\n",
    "\n",
    "print(car_dictionary)"
   ]
  },
  {
   "cell_type": "markdown",
   "metadata": {},
   "source": [
    "To add both, we can update the red cars to be a list:"
   ]
  },
  {
   "cell_type": "code",
   "execution_count": 28,
   "metadata": {
    "collapsed": false
   },
   "outputs": [
    {
     "name": "stdout",
     "output_type": "stream",
     "text": [
      "{'red': ['corvette', 'benz'], 'blue': 'subaru', 'silver': 'honda'}\n"
     ]
    }
   ],
   "source": [
    "car_dictionary['red'] = ['corvette', 'benz']\n",
    "\n",
    "print(car_dictionary)"
   ]
  },
  {
   "cell_type": "markdown",
   "metadata": {},
   "source": [
    "If we want to delete the silver item:"
   ]
  },
  {
   "cell_type": "code",
   "execution_count": 30,
   "metadata": {
    "collapsed": false
   },
   "outputs": [
    {
     "name": "stdout",
     "output_type": "stream",
     "text": [
      "{'red': ['corvette', 'benz'], 'blue': 'subaru'}\n"
     ]
    }
   ],
   "source": [
    "del car_dictionary['silver']\n",
    "\n",
    "print(car_dictionary)"
   ]
  },
  {
   "cell_type": "markdown",
   "metadata": {},
   "source": [
    "### Exercise - Pet Names\n",
    "- Create a dictionary to hold information about pets. Each key is an animal's name, and each value is the kind of animal.\n",
    "    - For example, 'ziggy': 'canary'\n",
    "- Put at least 3 key-value pairs in your dictionary.\n",
    "- Use a for loop to print out a series of statements such as \"Willie is a dog.\""
   ]
  },
  {
   "cell_type": "code",
   "execution_count": 21,
   "metadata": {
    "collapsed": true
   },
   "outputs": [],
   "source": [
    "#insert pet names code"
   ]
  },
  {
   "cell_type": "markdown",
   "metadata": {},
   "source": [
    "### Exercise - Sports\n",
    "Make a dictionary that maps each students' first name in your class to the fall sport that they play. Then make a loop that prints out the info on each line, such as \"Jack plays soccer.\"\n"
   ]
  },
  {
   "cell_type": "code",
   "execution_count": 67,
   "metadata": {
    "collapsed": true
   },
   "outputs": [],
   "source": [
    "#insert sports code"
   ]
  },
  {
   "cell_type": "markdown",
   "metadata": {},
   "source": [
    "### Exercise - Ages\n",
    "- Make a dictionary for the list of ages in a 12th grade class. The age should be the key and the first names should be the values (clearly, there will be multiple 17 and 18 year olds and maybe one 16 year old).\n",
    "- Print out each kid's name and age on a different line"
   ]
  },
  {
   "cell_type": "code",
   "execution_count": null,
   "metadata": {
    "collapsed": true
   },
   "outputs": [],
   "source": [
    "#insert ages"
   ]
  },
  {
   "cell_type": "markdown",
   "metadata": {},
   "source": [
    "### Exercise - Ages in a class again\n",
    "Update your list to include a fifteen year old and delete some of the 18 year olds.\n",
    "Make a loop to print each student and their name in the form \"Peter is 17 years old.\""
   ]
  },
  {
   "cell_type": "code",
   "execution_count": 31,
   "metadata": {
    "collapsed": true
   },
   "outputs": [],
   "source": [
    "#insert ages code again"
   ]
  },
  {
   "cell_type": "markdown",
   "metadata": {},
   "source": [
    "### Exercise - team\n",
    "Write a program that asks a user for their name and their favorite team until they press enter. Then, print out each person's info on a different line. For example, the program might look like:\n",
    "\n",
    "Name and team: Lauren Seahawks\n",
    "\n",
    "Name and team: Paul and Blazers\n",
    "\n",
    "\"The favorite team of Lauren is the Seahawks.\"\n",
    "\n",
    "\"The favorite team of Paul is the Blazers.\""
   ]
  },
  {
   "cell_type": "code",
   "execution_count": null,
   "metadata": {
    "collapsed": true
   },
   "outputs": [],
   "source": [
    "#insert team"
   ]
  },
  {
   "cell_type": "markdown",
   "metadata": {},
   "source": [
    "### Counting in loops\n",
    "Suppose we want to ask the user for a new car coming into the parking lot. If the color is already in the list of colors, we want to add the model to the list. If the color is not in the dictionary, we need to add it to the list of keys:"
   ]
  },
  {
   "cell_type": "code",
   "execution_count": 1,
   "metadata": {
    "collapsed": false
   },
   "outputs": [
    {
     "name": "stdout",
     "output_type": "stream",
     "text": [
      "{'red': ['corvette', 'benz'], 'blue': ['subaru', 'chevy'], 'silver': ['honda'], 'black': ['bmw', 'honda', 'toyota']}\n",
      "Model: honda\n",
      "Color: green\n",
      "{'red': ['corvette', 'benz'], 'blue': ['subaru', 'chevy'], 'silver': ['honda'], 'black': ['bmw', 'honda', 'toyota'], 'green': ['honda']}\n"
     ]
    }
   ],
   "source": [
    "car_dictionary = {'red': ['corvette', 'benz'], 'blue': ['subaru', 'chevy'], 'silver': ['honda'], 'black': ['bmw', 'honda', 'toyota']}\n",
    "print(car_dictionary)\n",
    "\n",
    "newcar_model = input('Model: ')\n",
    "newcar_color = input('Color: ')\n",
    "if newcar_color not in car_dictionary.keys():\n",
    "    car_dictionary[newcar_color] = [newcar_model]\n",
    "else:\n",
    "    car_dictionary[newcar_color].append(newcar_model)\n",
    "\n",
    "print(car_dictionary)"
   ]
  },
  {
   "cell_type": "markdown",
   "metadata": {},
   "source": [
    "Note: In the above code, if the car wasn't already in the list, we wanted to append  [newcar_model] instead of just newcar_model, so that each value was in list form, even if some lists only contain one element."
   ]
  },
  {
   "cell_type": "markdown",
   "metadata": {},
   "source": [
    "As another example, suppose you want to keep track of the numbers of each color of car in the parking lot. We can use count:"
   ]
  },
  {
   "cell_type": "code",
   "execution_count": 63,
   "metadata": {
    "collapsed": false
   },
   "outputs": [
    {
     "name": "stdout",
     "output_type": "stream",
     "text": [
      "red : 4\n",
      "blue : 6\n",
      "silver : 6\n"
     ]
    }
   ],
   "source": [
    "for key in car_dictionary.keys():\n",
    "    print(key, ':', len(car_dictionary[key]))"
   ]
  },
  {
   "cell_type": "markdown",
   "metadata": {},
   "source": [
    "As another example, suppose we want to store a word and create a dictionary for the letters in the word. We could type:"
   ]
  },
  {
   "cell_type": "code",
   "execution_count": 44,
   "metadata": {
    "collapsed": false
   },
   "outputs": [
    {
     "name": "stdout",
     "output_type": "stream",
     "text": [
      "{'a': 5, 'b': 2, 'r': 2, 'c': 1, 'd': 1}\n"
     ]
    }
   ],
   "source": [
    "word = 'abracadabra'\n",
    "d = dict()\n",
    "for letter in word:\n",
    "    if letter not in d: \n",
    "        d[letter] = 1\n",
    "    else:\n",
    "        d[letter] = d[letter] + 1\n",
    "print(d)"
   ]
  },
  {
   "cell_type": "markdown",
   "metadata": {},
   "source": [
    "Dictionaries have a method called get that takes in a key and default value. If the key appears in the dictionary, then the value is returned. Otherwise, the default value is returned. Here's any example:"
   ]
  },
  {
   "cell_type": "code",
   "execution_count": 43,
   "metadata": {
    "collapsed": false
   },
   "outputs": [
    {
     "name": "stdout",
     "output_type": "stream",
     "text": [
      "2\n",
      "0\n"
     ]
    }
   ],
   "source": [
    "print(d.get('a', 0) )\n",
    "print(d.get('z', 0) )"
   ]
  },
  {
   "cell_type": "markdown",
   "metadata": {},
   "source": [
    "In the above code, 0 got printed out because there were no z's in \"abracadbra\".\n",
    "\n",
    "We can use \"get\" to make our letter counting even more efficient:"
   ]
  },
  {
   "cell_type": "code",
   "execution_count": 41,
   "metadata": {
    "collapsed": false
   },
   "outputs": [
    {
     "name": "stdout",
     "output_type": "stream",
     "text": [
      "{'a': 5, 'b': 2, 'r': 2, 'c': 1, 'd': 1}\n"
     ]
    }
   ],
   "source": [
    "word = 'abracadabra'\n",
    "d=dict()\n",
    "for letter in word:\n",
    "    d[letter] = d.get(letter,0)+1\n",
    "print(d)"
   ]
  },
  {
   "cell_type": "markdown",
   "metadata": {},
   "source": [
    "### More looping"
   ]
  },
  {
   "cell_type": "markdown",
   "metadata": {},
   "source": [
    "Here's another example. Suppose we want to make a quiz review for spanish where we make a dictionary of terms in english and spanish. The user makes guesses until their guess is correct. We can write the following code:"
   ]
  },
  {
   "cell_type": "code",
   "execution_count": 44,
   "metadata": {
    "collapsed": false
   },
   "outputs": [
    {
     "name": "stdout",
     "output_type": "stream",
     "text": [
      "What is the spanish word for hello ?hola\n",
      "correct!\n",
      "What is the spanish word for goodbye ?hey\n",
      "What is the spanish word for goodbye ?goodbye\n",
      "What is the spanish word for goodbye ?adios\n",
      "correct!\n",
      "What is the spanish word for gracias ?thank you\n",
      "correct!\n",
      "What is the spanish word for man ?hombre\n",
      "correct!\n",
      "What is the spanish word for milk ?leche\n",
      "correct!\n"
     ]
    }
   ],
   "source": [
    "translation_dict = {'hello': 'hola', 'goodbye': 'adios', 'gracias': 'thank you', 'man': 'hombre', 'milk': 'leche'}\n",
    "for key in translation_dict:\n",
    "    correct = False\n",
    "    while correct == False:\n",
    "        guess = input('What is the spanish word for %s ?' %(key))\n",
    "        if guess == translation_dict[key]:\n",
    "            print('correct!')\n",
    "            correct = True\n"
   ]
  },
  {
   "cell_type": "markdown",
   "metadata": {},
   "source": [
    "Dictionaries are quite useful because they allow bits of information to be connected. One of the problems with dictionaries, however, is that they are not stored in any particular order. When you retrieve all of the keys or values in your dictionary, you can't be sure what order you will get them back. There is a quick and easy way to do this, however, when you want them in a particular order. If we want to get the keys in order, we can use the sorted function:"
   ]
  },
  {
   "cell_type": "code",
   "execution_count": 46,
   "metadata": {
    "collapsed": false
   },
   "outputs": [
    {
     "name": "stdout",
     "output_type": "stream",
     "text": [
      "goodbye\n",
      "gracias\n",
      "hello\n",
      "man\n",
      "milk\n"
     ]
    }
   ],
   "source": [
    "for key in sorted(translation_dict.keys()):\n",
    "    print(key)"
   ]
  },
  {
   "cell_type": "markdown",
   "metadata": {},
   "source": [
    "If each key has multiple values in a list, then we'll need to sort through the list. For example, suppose we wanted to print out each color/model car combo. We would type:"
   ]
  },
  {
   "cell_type": "code",
   "execution_count": 8,
   "metadata": {
    "collapsed": false
   },
   "outputs": [
    {
     "name": "stdout",
     "output_type": "stream",
     "text": [
      "{'red': ['corvette', 'benz'], 'blue': ['subaru', 'chevy'], 'silver': ['honda'], 'black': ['bmw', 'honda', 'toyota']}\n",
      "red corvette\n",
      "red benz\n",
      "blue subaru\n",
      "blue chevy\n",
      "silver honda\n",
      "black bmw\n",
      "black honda\n",
      "black toyota\n"
     ]
    }
   ],
   "source": [
    "car_dictionary = {'red': ['corvette', 'benz'], 'blue': ['subaru', 'chevy'], 'silver': ['honda'], 'black': ['bmw', 'honda', 'toyota']}\n",
    "print(car_dictionary)\n",
    "\n",
    "for key, value in car_dictionary.items():\n",
    "    for model in value:\n",
    "        print(key, model)"
   ]
  },
  {
   "cell_type": "markdown",
   "metadata": {},
   "source": [
    "### Exercise - ages in a class again\n",
    "Make a loop to print out how many students are each age in your class WITHOUT using the get command."
   ]
  },
  {
   "cell_type": "code",
   "execution_count": 64,
   "metadata": {
    "collapsed": true
   },
   "outputs": [],
   "source": [
    "#insert ages again"
   ]
  },
  {
   "cell_type": "markdown",
   "metadata": {},
   "source": [
    "### Exercise - ages in a class again agaub\n",
    "Make a loop to print out how many students are each age in your class USING the get command."
   ]
  },
  {
   "cell_type": "code",
   "execution_count": 45,
   "metadata": {
    "collapsed": true
   },
   "outputs": [],
   "source": [
    "#insert ages again again"
   ]
  },
  {
   "cell_type": "markdown",
   "metadata": {},
   "source": [
    "### Exercise - guessing game\n",
    "Make a dictionary of your family members' names and their birthday years. Create a guessing game that doesn't stop until you have guessed all of their birthdays correctly. Make your family members' names get printed in alphabetical order."
   ]
  },
  {
   "cell_type": "code",
   "execution_count": 47,
   "metadata": {
    "collapsed": true
   },
   "outputs": [],
   "source": [
    "### insert guessing game"
   ]
  },
  {
   "cell_type": "markdown",
   "metadata": {
    "collapsed": false
   },
   "source": [
    "### Exercise - sports\n",
    "Make a dictionary whose key is a sport and whose values are the kids who play that sport. (There should be some sports that have a single student and other sports who have multiple students). Print out the sport and the number of kids who play that sport on each line."
   ]
  },
  {
   "cell_type": "code",
   "execution_count": 9,
   "metadata": {
    "collapsed": true
   },
   "outputs": [],
   "source": [
    "#insert sports code"
   ]
  },
  {
   "cell_type": "markdown",
   "metadata": {},
   "source": [
    "### Exercise - sports again\n",
    "Ask the user to update the sports dictionary above. The sport may or may not already be in the dictionary. Update the dictionary accordingly."
   ]
  },
  {
   "cell_type": "code",
   "execution_count": 10,
   "metadata": {
    "collapsed": true
   },
   "outputs": [],
   "source": [
    "#insert sports again code"
   ]
  },
  {
   "cell_type": "markdown",
   "metadata": {},
   "source": [
    "### Exercise - sentence\n",
    "Write a program that takes in a long sentence from a user. It should store the words in the sentence as keys in the dictionary. Make sure to account for repeat words."
   ]
  },
  {
   "cell_type": "code",
   "execution_count": 30,
   "metadata": {
    "collapsed": true
   },
   "outputs": [],
   "source": [
    "# insert sentence code"
   ]
  },
  {
   "cell_type": "markdown",
   "metadata": {},
   "source": [
    "Dictionaries in a Dictionary\n",
    "----\n",
    "\n",
    "\n",
    "The most powerful nesting concept we will cover right now is nesting a dictionary inside of a dictionary. Many types of web page info and database info is stored in this form in files called JSON files.\n",
    "\n",
    "\n",
    "To demonstrate nested dictionaries, let's make a dictionary of pets, with some information about each pet. The keys for this dictionary will consist of the pet's name. The values will include information such as the kind of animal, the owner, and whether the pet has been vaccinated."
   ]
  },
  {
   "cell_type": "code",
   "execution_count": 11,
   "metadata": {
    "collapsed": false
   },
   "outputs": [
    {
     "name": "stdout",
     "output_type": "stream",
     "text": [
      "Here is what I know about Willie:\n",
      "kind: dog\n",
      "owner: eric\n",
      "vaccinated: True\n",
      "\n",
      "Here is what I know about Walter:\n",
      "kind: cockroach\n",
      "owner: eric\n",
      "vaccinated: False\n",
      "\n",
      "Here is what I know about Peso:\n",
      "kind: dog\n",
      "owner: chloe\n",
      "vaccinated: True\n"
     ]
    }
   ],
   "source": [
    "# This program stores information about pets. For each pet,\n",
    "#   we store the kind of animal, the owner's name, and\n",
    "#   the breed.\n",
    "pets = {'willie': {'kind': 'dog', 'owner': 'eric', 'vaccinated': True},\n",
    "        'walter': {'kind': 'cockroach', 'owner': 'eric', 'vaccinated': False},\n",
    "        'peso': {'kind': 'dog', 'owner': 'chloe', 'vaccinated': True},\n",
    "        }\n",
    "\n",
    "# Let's show all the information for each pet.\n",
    "print(\"Here is what I know about Willie:\")\n",
    "print(\"kind: \" + pets['willie']['kind'])\n",
    "print(\"owner: \" + pets['willie']['owner'])\n",
    "print(\"vaccinated: \" + str(pets['willie']['vaccinated']))\n",
    "\n",
    "print(\"\\nHere is what I know about Walter:\")\n",
    "print(\"kind: \" + pets['walter']['kind'])\n",
    "print(\"owner: \" + pets['walter']['owner'])\n",
    "print(\"vaccinated: \" + str(pets['walter']['vaccinated']))\n",
    "\n",
    "print(\"\\nHere is what I know about Peso:\")\n",
    "print(\"kind: \" + pets['peso']['kind'])\n",
    "print(\"owner: \" + pets['peso']['owner'])\n",
    "print(\"vaccinated: \" + str(pets['peso']['vaccinated']))"
   ]
  },
  {
   "cell_type": "markdown",
   "metadata": {},
   "source": [
    "If we want to print all of the dictionary info in a loop, we can type:"
   ]
  },
  {
   "cell_type": "code",
   "execution_count": 12,
   "metadata": {
    "collapsed": false
   },
   "outputs": [
    {
     "name": "stdout",
     "output_type": "stream",
     "text": [
      "\n",
      "Here is what I know about Willie:\n",
      "kind: dog\n",
      "owner: eric\n",
      "vaccinated: True\n",
      "\n",
      "Here is what I know about Walter:\n",
      "kind: cockroach\n",
      "owner: eric\n",
      "vaccinated: False\n",
      "\n",
      "Here is what I know about Peso:\n",
      "kind: dog\n",
      "owner: chloe\n",
      "vaccinated: True\n"
     ]
    }
   ],
   "source": [
    "# This program stores information about pets. For each pet,\n",
    "#   we store the kind of animal, the owner's name, and\n",
    "#   the breed.\n",
    "pets = {'willie': {'kind': 'dog', 'owner': 'eric', 'vaccinated': True},\n",
    "        'walter': {'kind': 'cockroach', 'owner': 'eric', 'vaccinated': False},\n",
    "        'peso': {'kind': 'dog', 'owner': 'chloe', 'vaccinated': True},\n",
    "        }\n",
    "\n",
    "# Let's show all the information for each pet.\n",
    "for pet_name, pet_information in pets.items():\n",
    "    print(\"\\nHere is what I know about %s:\" % pet_name.title())\n",
    "    print(\"kind: \" + pet_information['kind'])\n",
    "    print(\"owner: \" + pet_information['owner'])\n",
    "    print(\"vaccinated: \" + str(pet_information['vaccinated']))"
   ]
  },
  {
   "cell_type": "markdown",
   "metadata": {},
   "source": [
    "Or to shorten the code even further:"
   ]
  },
  {
   "cell_type": "code",
   "execution_count": 13,
   "metadata": {
    "collapsed": false
   },
   "outputs": [
    {
     "name": "stdout",
     "output_type": "stream",
     "text": [
      "\n",
      "Here is what I know about Willie:\n",
      "kind: dog\n",
      "owner: eric\n",
      "vaccinated: True\n",
      "\n",
      "Here is what I know about Walter:\n",
      "kind: cockroach\n",
      "owner: eric\n",
      "vaccinated: False\n",
      "\n",
      "Here is what I know about Peso:\n",
      "kind: dog\n",
      "owner: chloe\n",
      "vaccinated: True\n"
     ]
    }
   ],
   "source": [
    "pets = {'willie': {'kind': 'dog', 'owner': 'eric', 'vaccinated': True},\n",
    "        'walter': {'kind': 'cockroach', 'owner': 'eric', 'vaccinated': False},\n",
    "        'peso': {'kind': 'dog', 'owner': 'chloe', 'vaccinated': True},\n",
    "        }\n",
    "\n",
    "# Let's show all the information for each pet.\n",
    "for pet_name, pet_information in pets.items():\n",
    "    print(\"\\nHere is what I know about %s:\" % pet_name.title())\n",
    "    # Each animal's dictionary is in 'information'\n",
    "    for key in pet_information:\n",
    "        print(key + \": \" + str(pet_information[key]))"
   ]
  },
  {
   "cell_type": "markdown",
   "metadata": {},
   "source": [
    "### Exercise - Student info\n",
    "Write a dictionary whose key is student name and whose values are a dictionary containing the student's mother's name, father's name, birth year, and phone number. Write a loop that prints the information of each student.\n"
   ]
  },
  {
   "cell_type": "code",
   "execution_count": 14,
   "metadata": {
    "collapsed": true
   },
   "outputs": [],
   "source": [
    "###insert student info here"
   ]
  },
  {
   "cell_type": "markdown",
   "metadata": {},
   "source": [
    "### Exercise - colleges\n",
    "Write a dictionary whose key is the college name and whose values are a dictionary containing the school's city, the school's state, and whether or not the school is public or private. Write a loop that prints out just the public/private info in the form such as \"New York University is private.\""
   ]
  },
  {
   "cell_type": "code",
   "execution_count": 2,
   "metadata": {
    "collapsed": true
   },
   "outputs": [],
   "source": [
    "#insert colleges"
   ]
  },
  {
   "cell_type": "markdown",
   "metadata": {},
   "source": [
    "### Exercise - colleges again\n",
    "Using the college dictionary above, print out all of the colleges' info using a for loop."
   ]
  },
  {
   "cell_type": "code",
   "execution_count": 3,
   "metadata": {
    "collapsed": true
   },
   "outputs": [],
   "source": [
    "#insert colleges again"
   ]
  },
  {
   "cell_type": "markdown",
   "metadata": {},
   "source": [
    "Tuples\n",
    "---\n",
    "<a class=\"anchor\" id=\"tuples\"></a>\n",
    "\n",
    "Tuples are a data structure in Python which are more or less a read-only list. That is, like strings, tuples are immutable. All of the standard read-only operations that you can perform on a list can be performed on a tuple, including finding its length, slicing, indexing, and unpacking.\n",
    "\n",
    "You have actually seen tuples before when printing out in placeholder format. In the following code, (word, number) is a tuple:\n"
   ]
  },
  {
   "cell_type": "code",
   "execution_count": 15,
   "metadata": {
    "collapsed": false
   },
   "outputs": [
    {
     "name": "stdout",
     "output_type": "stream",
     "text": [
      "My favorite word is abracadbra and my favorite number is 5.\n"
     ]
    }
   ],
   "source": [
    "word = 'abracadbra'\n",
    "number = 5\n",
    "print('My favorite word is %s and my favorite number is %d.' %(word, number))"
   ]
  },
  {
   "cell_type": "markdown",
   "metadata": {},
   "source": [
    "### Creating Tuples\n",
    "\n",
    "Tuples are notated just like lists, except that the items of the tuple are enclosed in parenthesis instead of square brackets."
   ]
  },
  {
   "cell_type": "code",
   "execution_count": 21,
   "metadata": {
    "collapsed": false
   },
   "outputs": [
    {
     "name": "stdout",
     "output_type": "stream",
     "text": [
      "goodbye\n",
      "(5, 7, 0)\n"
     ]
    }
   ],
   "source": [
    "wordtuple = ('hello', 'goodbye', 'thank you')\n",
    "numbertuple = (5, 7, 0, 4)\n",
    "\n",
    "print(wordtuple[1])\n",
    "print(numbertuple[0:3])"
   ]
  },
  {
   "cell_type": "markdown",
   "metadata": {},
   "source": [
    "The one thing to be careful of though, is if you want to make a tuple out of 1 item, you need to add a comma after it:"
   ]
  },
  {
   "cell_type": "code",
   "execution_count": 4,
   "metadata": {
    "collapsed": false
   },
   "outputs": [
    {
     "name": "stdout",
     "output_type": "stream",
     "text": [
      "<class 'int'>\n",
      "<class 'tuple'>\n"
     ]
    }
   ],
   "source": [
    "mytuple = (8)\n",
    "print(type(mytuple)) #not a tuple!\n",
    "\n",
    "mytuple = (8,)\n",
    "print(type(mytuple)) #now it's a tuple!"
   ]
  },
  {
   "cell_type": "markdown",
   "metadata": {},
   "source": [
    "Since tuples are immutable, you can't add items to them like you can for lists:"
   ]
  },
  {
   "cell_type": "code",
   "execution_count": 23,
   "metadata": {
    "collapsed": false
   },
   "outputs": [
    {
     "ename": "AttributeError",
     "evalue": "'tuple' object has no attribute 'append'",
     "output_type": "error",
     "traceback": [
      "\u001b[0;31m---------------------------------------------------------------------------\u001b[0m",
      "\u001b[0;31mAttributeError\u001b[0m                            Traceback (most recent call last)",
      "\u001b[0;32m<ipython-input-23-43529819d5bd>\u001b[0m in \u001b[0;36m<module>\u001b[0;34m()\u001b[0m\n\u001b[0;32m----> 1\u001b[0;31m \u001b[0mwordtuple\u001b[0m\u001b[0;34m.\u001b[0m\u001b[0mappend\u001b[0m\u001b[0;34m(\u001b[0m\u001b[0;34m\"you're welcome\"\u001b[0m\u001b[0;34m)\u001b[0m\u001b[0;34m\u001b[0m\u001b[0m\n\u001b[0m\u001b[1;32m      2\u001b[0m \u001b[0mprint\u001b[0m\u001b[0;34m(\u001b[0m\u001b[0mwordtuple\u001b[0m\u001b[0;34m)\u001b[0m\u001b[0;34m\u001b[0m\u001b[0m\n",
      "\u001b[0;31mAttributeError\u001b[0m: 'tuple' object has no attribute 'append'"
     ]
    }
   ],
   "source": [
    "wordtuple.append(\"you're welcome\")\n",
    "print(wordtuple)"
   ]
  },
  {
   "cell_type": "markdown",
   "metadata": {},
   "source": [
    "Because tuples are immutable, you'll also get an error if you try to change one of their items:"
   ]
  },
  {
   "cell_type": "code",
   "execution_count": 25,
   "metadata": {
    "collapsed": false
   },
   "outputs": [
    {
     "ename": "TypeError",
     "evalue": "'tuple' object does not support item assignment",
     "output_type": "error",
     "traceback": [
      "\u001b[0;31m---------------------------------------------------------------------------\u001b[0m",
      "\u001b[0;31mTypeError\u001b[0m                                 Traceback (most recent call last)",
      "\u001b[0;32m<ipython-input-25-fa1c3f513164>\u001b[0m in \u001b[0;36m<module>\u001b[0;34m()\u001b[0m\n\u001b[0;32m----> 1\u001b[0;31m \u001b[0mwordtuple\u001b[0m\u001b[0;34m[\u001b[0m\u001b[0;36m0\u001b[0m\u001b[0;34m]\u001b[0m\u001b[0;34m=\u001b[0m\u001b[0;34m'yo'\u001b[0m\u001b[0;34m\u001b[0m\u001b[0m\n\u001b[0m",
      "\u001b[0;31mTypeError\u001b[0m: 'tuple' object does not support item assignment"
     ]
    }
   ],
   "source": [
    "wordtuple[0]='yo'"
   ]
  },
  {
   "cell_type": "markdown",
   "metadata": {},
   "source": [
    "You can convert lists to tuples by using the tuple function:"
   ]
  },
  {
   "cell_type": "code",
   "execution_count": 20,
   "metadata": {
    "collapsed": false
   },
   "outputs": [
    {
     "name": "stdout",
     "output_type": "stream",
     "text": [
      "(5, 7, 9, 1)\n"
     ]
    }
   ],
   "source": [
    "mylist = [5, 7, 9, 1]\n",
    "mytuple = tuple(mylist)\n",
    "print(mytuple)"
   ]
  },
  {
   "cell_type": "markdown",
   "metadata": {},
   "source": [
    "### Comparing Tuples"
   ]
  },
  {
   "cell_type": "markdown",
   "metadata": {},
   "source": [
    "Like most other builtin Python data types, tuples can be compared using the standard comparison operators (<, >, etc). Tuples are compared element-wise. This means that the first item from both tuples are compared. If their values are not equal, then the appropriate tuple is returned. If they are equal, then the second element from both tuples is compared, and this process is repeated. Here are some examples:\n",
    "\n"
   ]
  },
  {
   "cell_type": "code",
   "execution_count": 49,
   "metadata": {
    "collapsed": false
   },
   "outputs": [
    {
     "name": "stdout",
     "output_type": "stream",
     "text": [
      "True\n",
      "True\n"
     ]
    }
   ],
   "source": [
    "a = (1,5,3)\n",
    "b = (3,1,0)\n",
    "c = (1,5,4)\n",
    "print(a < b)\n",
    "print(a < c)"
   ]
  },
  {
   "cell_type": "markdown",
   "metadata": {},
   "source": [
    "Here's another example. Suppose we have a tuple of names and ages. The names will get sorted alphabetically first and then if the names are the same, they will be sorted according to age:"
   ]
  },
  {
   "cell_type": "code",
   "execution_count": 28,
   "metadata": {
    "collapsed": false
   },
   "outputs": [
    {
     "name": "stdout",
     "output_type": "stream",
     "text": [
      "[('alex', 18), ('alice', 17), ('brandon', 14), ('brandon', 16), ('mike', 16), ('zach', 17)]\n"
     ]
    }
   ],
   "source": [
    "a = ('alice', 17)\n",
    "b = ('brandon', 16)\n",
    "c = ('zach', 17)\n",
    "d = ('mike', 16)\n",
    "e = ('alex', 18)\n",
    "f = ('brandon', 14)\n",
    "students = [a, b, c, d, e, f]\n",
    "students.sort()\n",
    "print(students)"
   ]
  },
  {
   "cell_type": "markdown",
   "metadata": {},
   "source": [
    "### Dictionaries and Tuples\n",
    "\n",
    "The dictionary command \"items\" that we have already used returns a list of tuples as a key-value pair:"
   ]
  },
  {
   "cell_type": "code",
   "execution_count": 52,
   "metadata": {
    "collapsed": false
   },
   "outputs": [
    {
     "name": "stdout",
     "output_type": "stream",
     "text": [
      "dict_items([('red', 'corvette'), ('blue', 'subaru'), ('silver', 'honda'), ('black', 'bmw')])\n"
     ]
    }
   ],
   "source": [
    "car_dictionary = {'red': 'corvette', 'blue': 'subaru', 'silver': 'honda', 'black': 'bmw'}\n",
    "print(car_dictionary.items())"
   ]
  },
  {
   "cell_type": "markdown",
   "metadata": {},
   "source": [
    "### Dictionaries, Lists, and Tuples"
   ]
  },
  {
   "cell_type": "markdown",
   "metadata": {},
   "source": [
    "Suppose you have a word and you want to print out the letters in the text in order of what words appear most frequently. This is a common example of how a dictionary, a tuple, and a list can be used together. Look at the code below:"
   ]
  },
  {
   "cell_type": "code",
   "execution_count": 9,
   "metadata": {
    "collapsed": false
   },
   "outputs": [
    {
     "name": "stdout",
     "output_type": "stream",
     "text": [
      "original dictionary {'m': 1, 'y': 1, 'a': 5, 'b': 2, 'r': 2, 'c': 1, 'd': 1}\n",
      "list of tuples: [(1, 'm'), (1, 'y'), (5, 'a'), (2, 'b'), (2, 'r'), (1, 'c'), (1, 'd')]\n",
      "sorted list:\n",
      "5 a\n",
      "2 r\n",
      "2 b\n",
      "1 y\n",
      "1 m\n",
      "1 d\n",
      "1 c\n"
     ]
    }
   ],
   "source": [
    "word = 'myabracadabra'\n",
    "\n",
    "#create the dictionary of letters:\n",
    "d=dict()\n",
    "for letter in word:\n",
    "    d[letter] = d.get(letter,0)+1\n",
    "print('original dictionary', d)\n",
    "\n",
    "#create a list of tuples to sort the letters:\n",
    "dlist = []\n",
    "for key, value in d.items():\n",
    "    dlist.append((value,key))\n",
    "\n",
    "print('list of tuples:', dlist)\n",
    "\n",
    "dlist.sort(reverse = True)\n",
    "\n",
    "print('sorted list:')\n",
    "for key,value in dlist:\n",
    "    print(key, value)\n"
   ]
  },
  {
   "cell_type": "markdown",
   "metadata": {},
   "source": [
    "What if we wanted to sort the list by alphabetical letter instead of frequency? In that case, we would want to store the tuples as (key, value) instead of (value, key), so that the letter comes first:"
   ]
  },
  {
   "cell_type": "code",
   "execution_count": 11,
   "metadata": {
    "collapsed": false
   },
   "outputs": [
    {
     "name": "stdout",
     "output_type": "stream",
     "text": [
      "original dictionary {'m': 1, 'y': 1, 'a': 5, 'b': 2, 'r': 2, 'c': 1, 'd': 1}\n",
      "list of tuples: [('m', 1), ('y', 1), ('a', 5), ('b', 2), ('r', 2), ('c', 1), ('d', 1)]\n",
      "sorted list:\n",
      "a 5\n",
      "b 2\n",
      "c 1\n",
      "d 1\n",
      "m 1\n",
      "r 2\n",
      "y 1\n"
     ]
    }
   ],
   "source": [
    "word = 'myabracadabra'\n",
    "\n",
    "#create the dictionary of letters:\n",
    "d=dict()\n",
    "for letter in word:\n",
    "    d[letter] = d.get(letter,0)+1\n",
    "print('original dictionary', d)\n",
    "\n",
    "#create a list of tuples to sort the letters:\n",
    "dlist = []\n",
    "for key, value in d.items():\n",
    "    dlist.append((key, value))\n",
    "\n",
    "print('list of tuples:', dlist)\n",
    "\n",
    "dlist.sort()\n",
    "\n",
    "print('sorted list:')\n",
    "for key,value in dlist:\n",
    "    print(key, value)"
   ]
  },
  {
   "cell_type": "markdown",
   "metadata": {},
   "source": [
    "### Exercise - word count\n",
    "Write a program that takes in a lonnnng sentence. It makes a dictionary to store each word. It then uses a list to print the words in increasing order of frequency."
   ]
  },
  {
   "cell_type": "code",
   "execution_count": 56,
   "metadata": {
    "collapsed": true
   },
   "outputs": [],
   "source": [
    "#insert word count code"
   ]
  },
  {
   "cell_type": "markdown",
   "metadata": {},
   "source": [
    "### Exercise - ages again\n",
    "Write a program that uses the dictionary of student ages in a class to print out the ages in decreasing order of frequency."
   ]
  },
  {
   "cell_type": "code",
   "execution_count": 57,
   "metadata": {
    "collapsed": true
   },
   "outputs": [],
   "source": [
    "#insert ages again code"
   ]
  },
  {
   "cell_type": "markdown",
   "metadata": {},
   "source": [
    "### Exercise - word count again\n",
    "Write a program that takes in a lonnnng sentence. It makes a dictionary to store each word. It then uses a list to print the words in increasing alphabetical order"
   ]
  },
  {
   "cell_type": "code",
   "execution_count": null,
   "metadata": {
    "collapsed": true
   },
   "outputs": [],
   "source": [
    "#insert word code again"
   ]
  },
  {
   "cell_type": "markdown",
   "metadata": {},
   "source": [
    "### Exercise - ages again again\n",
    "Write a program that uses the dictionary of student ages in a class to print out the ages in decreasing alphabetical order."
   ]
  },
  {
   "cell_type": "code",
   "execution_count": null,
   "metadata": {
    "collapsed": true
   },
   "outputs": [],
   "source": [
    "#insert agaes ages again"
   ]
  },
  {
   "cell_type": "markdown",
   "metadata": {
    "collapsed": true
   },
   "source": [
    "Function Arguments\n",
    "---\n",
    "<a class=\"anchor\" id=\"arguments\"></a>\n",
    "\n",
    "Recall that to accept function arguments of arbitrary length, we used an asterisk and then Python saved the remaining arguments in a tuple:"
   ]
  },
  {
   "cell_type": "code",
   "execution_count": 4,
   "metadata": {
    "collapsed": false
   },
   "outputs": [
    {
     "name": "stdout",
     "output_type": "stream",
     "text": [
      "\n",
      "arg_1: 1\n",
      "\n",
      "arg_2: 2\n",
      "arg_3 value: ()\n",
      "\n",
      "arg_1: 1\n",
      "\n",
      "arg_2: 2\n",
      "arg_3 value: (3,)\n",
      "\n",
      "arg_1: 1\n",
      "\n",
      "arg_2: 2\n",
      "arg_3 value: (3, 4)\n",
      "\n",
      "arg_1: 1\n",
      "\n",
      "arg_2: 2\n",
      "arg_3 value: (3, 4, 5)\n"
     ]
    }
   ],
   "source": [
    "def example_function(arg_1, arg_2, *arg_3):\n",
    "    # Let's look at the argument values.\n",
    "    print('\\narg_1:', arg_1)\n",
    "    print('\\narg_2:', arg_2)\n",
    "    print('arg_3 value:', arg_3)\n",
    "\n",
    "example_function(1, 2)\n",
    "example_function(1, 2, 3)\n",
    "example_function(1, 2, 3, 4)\n",
    "example_function(1, 2, 3, 4, 5)"
   ]
  },
  {
   "cell_type": "markdown",
   "metadata": {},
   "source": [
    "### Accepting an arbitrary number of keyword arguments\n",
    "\n",
    "Python also provides a syntax for accepting an arbitrary number of keyword arguments. The syntax looks like this:"
   ]
  },
  {
   "cell_type": "code",
   "execution_count": 5,
   "metadata": {
    "collapsed": false
   },
   "outputs": [
    {
     "name": "stdout",
     "output_type": "stream",
     "text": [
      "\n",
      "arg_1: a\n",
      "arg_2: b\n",
      "arg_3: {}\n",
      "\n",
      "arg_1: a\n",
      "arg_2: b\n",
      "arg_3: {'value_3': 'c'}\n",
      "\n",
      "arg_1: a\n",
      "arg_2: b\n",
      "arg_3: {'value_3': 'c', 'value_4': 'd'}\n",
      "\n",
      "arg_1: a\n",
      "arg_2: b\n",
      "arg_3: {'value_3': 'c', 'value_4': 'd', 'value_5': 'e'}\n"
     ]
    }
   ],
   "source": [
    "def example_function(arg_1, arg_2, **kwargs):\n",
    "    # Let's look at the argument values.\n",
    "    print('\\narg_1:', arg_1)\n",
    "    print('arg_2:', arg_2)\n",
    "    print('arg_3:', kwargs)\n",
    "    \n",
    "example_function('a', 'b')\n",
    "example_function('a', 'b', value_3='c')\n",
    "example_function('a', 'b', value_3='c', value_4='d')\n",
    "example_function('a', 'b', value_3='c', value_4='d', value_5='e')"
   ]
  },
  {
   "cell_type": "markdown",
   "metadata": {},
   "source": [
    "The third argument has two asterisks in front of it, which tells Python to collect all remaining key-value arguments in the calling statement. This argument is commonly named kwargs. We see in the output that these key-values are stored in a dictionary. We can loop through this dictionary to work with all of the values that are passed into the function:"
   ]
  },
  {
   "cell_type": "code",
   "execution_count": 6,
   "metadata": {
    "collapsed": false
   },
   "outputs": [
    {
     "name": "stdout",
     "output_type": "stream",
     "text": [
      "\n",
      "arg_1: a\n",
      "arg_2: b\n",
      "\n",
      "arg_1: a\n",
      "arg_2: b\n",
      "arg_3 value: c\n",
      "\n",
      "arg_1: a\n",
      "arg_2: b\n",
      "arg_3 value: c\n",
      "arg_3 value: d\n",
      "\n",
      "arg_1: a\n",
      "arg_2: b\n",
      "arg_3 value: c\n",
      "arg_3 value: d\n",
      "arg_3 value: e\n"
     ]
    }
   ],
   "source": [
    "def example_function(arg_1, arg_2, **kwargs):\n",
    "    # Let's look at the argument values.\n",
    "    print('\\narg_1:', arg_1)\n",
    "    print('arg_2:', arg_2)\n",
    "    for key, value in kwargs.items():\n",
    "        print('arg_3 value:', value)\n",
    "    \n",
    "example_function('a', 'b')\n",
    "example_function('a', 'b', value_3='c')\n",
    "example_function('a', 'b', value_3='c', value_4='d')\n",
    "example_function('a', 'b', value_3='c', value_4='d', value_5='e')"
   ]
  },
  {
   "cell_type": "markdown",
   "metadata": {},
   "source": [
    "Suppose that we want to create a dictionary. The key is the student name and the value will include the student's address and birth year. It may also include siblings if the student has siblings. We can type:"
   ]
  },
  {
   "cell_type": "code",
   "execution_count": 14,
   "metadata": {
    "collapsed": false
   },
   "outputs": [
    {
     "name": "stdout",
     "output_type": "stream",
     "text": [
      "\n",
      "First name: Jack\n",
      "Last name: Black\n",
      "Sibling: Brian\n",
      "Sibling: Jane\n",
      "\n",
      "First name: Jane\n",
      "Last name: Doe\n",
      "Sibling: Kate\n",
      "\n",
      "First name: John\n",
      "Last name: Doe\n"
     ]
    }
   ],
   "source": [
    "def describe_student(name, address, birthyear, **kwargs):\n",
    "    print(\"\\nFirst name: %s\" % name.split()[0])\n",
    "    print(\"Last name: %s\" % name.split()[1])\n",
    "    for val in kwargs.values():\n",
    "        print(\"Sibling: %s\" % (val))\n",
    "\n",
    "describe_student(\"Jack Black\", \"101 Main St\", \"2000\", sibling1 = \"Brian\", sibling2 = \"Jane\")\n",
    "describe_student(\"Jane Doe\", \"51 Oak St\", \"2001\", sibling1 = \"Kate\")\n",
    "describe_student(\"John Doe\", \"123 MLK\", \"2002\")"
   ]
  },
  {
   "cell_type": "markdown",
   "metadata": {},
   "source": [
    "### Exercise - student info\n",
    "Write a function called sports that takes in a students' first, middle, and last name in a variable called \"name\" and prints the first name, middle, and last name, on different lines. It should also print out any sports the student plays using kwargs. For example:\n",
    "\n",
    "sports(Barack Hussein Obama, winter = 'basketball', spring = 'golf')\n",
    "\n",
    "should return:\n",
    "\n",
    "First: Barack\n",
    "\n",
    "Middle: Hussein\n",
    "\n",
    "Last: Obama\n",
    "\n",
    "Winter: basketball\n",
    "\n",
    "Spring: Golf"
   ]
  },
  {
   "cell_type": "code",
   "execution_count": 15,
   "metadata": {
    "collapsed": true
   },
   "outputs": [],
   "source": [
    "#insert student info"
   ]
  },
  {
   "cell_type": "markdown",
   "metadata": {},
   "source": [
    "### Exercise - college info"
   ]
  },
  {
   "cell_type": "markdown",
   "metadata": {},
   "source": [
    "Write a function called college that takes in a college's city and state. It should print out the city and state on the first line and any additional info on subsequent lines. For example, it might print:\n",
    "\n",
    "\"New York University is located in New York, NY.\"\n",
    "\n",
    "\"Its mascot is a bobcat.\"\n",
    "\n",
    "\"Its color is purple.\""
   ]
  },
  {
   "cell_type": "code",
   "execution_count": null,
   "metadata": {
    "collapsed": true
   },
   "outputs": [],
   "source": [
    "#insert college info"
   ]
  },
  {
   "cell_type": "markdown",
   "metadata": {},
   "source": [
    "Sets\n",
    "---\n",
    "<a class=\"anchor\" id=\"sets\"></a>\n",
    "\n",
    "A set is an unordered collection of unique objects. The easiest way to think about sets is that they are like dictionaries without values; that is, the keys in a dictionary are a set. Checking whether something is in a set is very efficient compared to data structure like a list or tuple because like dictionaries, sets are hashable.\n",
    "\n",
    "### Notation:\n",
    "Since [] denotes a list, {} denotes a dictionary, and () denotes a tuple, we actually need to use the word set([]) to define a set:"
   ]
  },
  {
   "cell_type": "code",
   "execution_count": 25,
   "metadata": {
    "collapsed": false
   },
   "outputs": [
    {
     "name": "stdout",
     "output_type": "stream",
     "text": [
      "{'hello', 5, 7, 8, 10}\n"
     ]
    }
   ],
   "source": [
    "numbers = set([5,7,8,10,5,7, 'hello'])\n",
    "print(numbers)"
   ]
  },
  {
   "cell_type": "markdown",
   "metadata": {},
   "source": [
    "The first thing to notice is that the set got rid of our duplicates. 5 and 7 were only saved once in our set. Another thing to notice is that like dictionaries, since sets are not saved in one particular order, we can't reference items in them using indexing:"
   ]
  },
  {
   "cell_type": "code",
   "execution_count": 22,
   "metadata": {
    "collapsed": false
   },
   "outputs": [
    {
     "ename": "TypeError",
     "evalue": "'set' object does not support indexing",
     "output_type": "error",
     "traceback": [
      "\u001b[0;31m---------------------------------------------------------------------------\u001b[0m",
      "\u001b[0;31mTypeError\u001b[0m                                 Traceback (most recent call last)",
      "\u001b[0;32m<ipython-input-22-94483e189401>\u001b[0m in \u001b[0;36m<module>\u001b[0;34m()\u001b[0m\n\u001b[0;32m----> 1\u001b[0;31m \u001b[0mprint\u001b[0m\u001b[0;34m(\u001b[0m\u001b[0mnumbers\u001b[0m\u001b[0;34m[\u001b[0m\u001b[0;36m0\u001b[0m\u001b[0;34m]\u001b[0m\u001b[0;34m)\u001b[0m\u001b[0;34m\u001b[0m\u001b[0m\n\u001b[0m",
      "\u001b[0;31mTypeError\u001b[0m: 'set' object does not support indexing"
     ]
    }
   ],
   "source": [
    "print(numbers[0])"
   ]
  },
  {
   "cell_type": "markdown",
   "metadata": {},
   "source": [
    "Like append for lists, we can add elements to sets using \"add\" and remove them using \"remove\":"
   ]
  },
  {
   "cell_type": "code",
   "execution_count": 26,
   "metadata": {
    "collapsed": false
   },
   "outputs": [
    {
     "name": "stdout",
     "output_type": "stream",
     "text": [
      "{1, 'hello', 5, 7, 10}\n"
     ]
    }
   ],
   "source": [
    "numbers.add(1)\n",
    "numbers.remove(8)\n",
    "print(numbers)"
   ]
  },
  {
   "cell_type": "markdown",
   "metadata": {},
   "source": [
    "Another thing to know about sets is that since they are hashable, you can only add immutable objects to them. This includes strings, numbers, and dictionaries, but excludes things like lists. For example, if I try to add the list [1,2,3] to the set \"numbers\", I will get an error:"
   ]
  },
  {
   "cell_type": "code",
   "execution_count": 27,
   "metadata": {
    "collapsed": false
   },
   "outputs": [
    {
     "ename": "TypeError",
     "evalue": "unhashable type: 'list'",
     "output_type": "error",
     "traceback": [
      "\u001b[0;31m---------------------------------------------------------------------------\u001b[0m",
      "\u001b[0;31mTypeError\u001b[0m                                 Traceback (most recent call last)",
      "\u001b[0;32m<ipython-input-27-19d28c251c7f>\u001b[0m in \u001b[0;36m<module>\u001b[0;34m()\u001b[0m\n\u001b[0;32m----> 1\u001b[0;31m \u001b[0mnumbers\u001b[0m\u001b[0;34m.\u001b[0m\u001b[0madd\u001b[0m\u001b[0;34m(\u001b[0m\u001b[0;34m[\u001b[0m\u001b[0;36m1\u001b[0m\u001b[0;34m,\u001b[0m\u001b[0;36m2\u001b[0m\u001b[0;34m,\u001b[0m\u001b[0;36m3\u001b[0m\u001b[0;34m]\u001b[0m\u001b[0;34m)\u001b[0m\u001b[0;34m\u001b[0m\u001b[0m\n\u001b[0m",
      "\u001b[0;31mTypeError\u001b[0m: unhashable type: 'list'"
     ]
    }
   ],
   "source": [
    "numbers.add([1,2,3])"
   ]
  },
  {
   "cell_type": "markdown",
   "metadata": {},
   "source": [
    "However, we can convert a list to a set easily:"
   ]
  },
  {
   "cell_type": "code",
   "execution_count": 28,
   "metadata": {
    "collapsed": false
   },
   "outputs": [
    {
     "name": "stdout",
     "output_type": "stream",
     "text": [
      "{1, 2, 3}\n"
     ]
    }
   ],
   "source": [
    "mylist = [1,2,3]\n",
    "myset = set(mylist)\n",
    "print(myset)"
   ]
  },
  {
   "cell_type": "markdown",
   "metadata": {},
   "source": [
    "The fact that sets only contain unique elements make it easy to determine if two lists contain the same types of items. For example, if we wanted to test whether brain and bbbbrainnnn contain the same letters, we couldn't use a list, because they are different. However, we could use sets:"
   ]
  },
  {
   "cell_type": "code",
   "execution_count": 16,
   "metadata": {
    "collapsed": false
   },
   "outputs": [
    {
     "name": "stdout",
     "output_type": "stream",
     "text": [
      "False\n",
      "True\n"
     ]
    }
   ],
   "source": [
    "word1 = 'brain'\n",
    "word2 = 'bbbbrainnnn'\n",
    "print(list(word1) == list(word2))\n",
    "print(set(word1) == set(word2))"
   ]
  },
  {
   "cell_type": "markdown",
   "metadata": {},
   "source": [
    "Suppose we wanted to make a letter count in a word. We could use set() to iterate through the unique letters and .count to count them:"
   ]
  },
  {
   "cell_type": "code",
   "execution_count": 18,
   "metadata": {
    "collapsed": false
   },
   "outputs": [
    {
     "name": "stdout",
     "output_type": "stream",
     "text": [
      "b 4\n",
      "n 4\n",
      "r 1\n",
      "a 1\n",
      "i 1\n"
     ]
    }
   ],
   "source": [
    "word = 'bbbbrainnnn'\n",
    "for letter in set(word):\n",
    "    print (letter, list(word).count(letter))"
   ]
  },
  {
   "cell_type": "markdown",
   "metadata": {},
   "source": [
    "If we wanted to print it in alphabetical order, we coule type:"
   ]
  },
  {
   "cell_type": "code",
   "execution_count": 20,
   "metadata": {
    "collapsed": false
   },
   "outputs": [
    {
     "name": "stdout",
     "output_type": "stream",
     "text": [
      "a 1\n",
      "b 4\n",
      "i 1\n",
      "n 4\n",
      "r 1\n"
     ]
    }
   ],
   "source": [
    "word = 'bbbbrainnnn'\n",
    "for letter in sorted(set(word)):\n",
    "    print (letter, list(word).count(letter))"
   ]
  },
  {
   "cell_type": "markdown",
   "metadata": {},
   "source": [
    "### Exercise - sentence\n",
    "Use sets to determine whether two sentences contain the same words. For example, \"hello goodbye\" and \"goodbye goodbye hello\" should register as having the same letters."
   ]
  },
  {
   "cell_type": "code",
   "execution_count": null,
   "metadata": {
    "collapsed": true
   },
   "outputs": [],
   "source": [
    "#insert sentence code"
   ]
  },
  {
   "cell_type": "markdown",
   "metadata": {},
   "source": [
    "### Exercise - sentence again\n",
    "Use sets to create a word count of words in a sentence."
   ]
  },
  {
   "cell_type": "code",
   "execution_count": 19,
   "metadata": {
    "collapsed": true
   },
   "outputs": [],
   "source": [
    "#insert sentence again code"
   ]
  },
  {
   "cell_type": "markdown",
   "metadata": {},
   "source": [
    "### Exercise - Colors\n",
    "Write a program that stores a list of colors (with some repeats) in a list, and then uses set notation to print out each color and the number of times that it appears in increasing alphabetical order by color."
   ]
  },
  {
   "cell_type": "code",
   "execution_count": 21,
   "metadata": {
    "collapsed": true
   },
   "outputs": [],
   "source": [
    "#insert colors code"
   ]
  },
  {
   "cell_type": "markdown",
   "metadata": {},
   "source": [
    "### Union, Intersection, and Difference\n",
    "Python sets have support for the union, intersection, and difference operations. The union can be thought of as \"adding\" the two sets together. It returns a set with all of the elements that are in either set. The intersection of two sets returns a set of all the elements which are in both sets. The difference of two sets can be thought of as \"subtracting\" one set from the other. It returns the elements in the first set minus the elements in the second set. Here's an example:\n",
    "\n",
    "\n",
    "\n"
   ]
  },
  {
   "cell_type": "code",
   "execution_count": 24,
   "metadata": {
    "collapsed": false
   },
   "outputs": [
    {
     "name": "stdout",
     "output_type": "stream",
     "text": [
      "{'shepherd', 'labrador', 'corgie', 'pit bull', 'border collie'}\n",
      "{'pit bull'}\n",
      "{'corgie', 'labrador', 'shepherd'}\n",
      "{'border collie'}\n",
      "{'shepherd', 'labrador', 'corgie', 'border collie'}\n"
     ]
    }
   ],
   "source": [
    "mydogs = set(['labrador', 'shepherd', 'pit bull', 'corgie'])\n",
    "yourdogs = set(['pit bull', 'border collie'])\n",
    "print(mydogs | yourdogs) #union\n",
    "print(mydogs & yourdogs) #intersection\n",
    "print(mydogs - yourdogs) #difference\n",
    "print(yourdogs - mydogs) #difference\n",
    "print(yourdogs ^ mydogs) #symmetric difference (the dogs not in both)"
   ]
  },
  {
   "cell_type": "markdown",
   "metadata": {},
   "source": [
    "### Exercise - sports\n",
    "Write a program that stores a set of sports that I like and a set of sports that you like (and make it so that we have some sports in common). Then using set notation print out the sports that we have in common, all the sports that we have listed, and the sports that exactly one of us likes."
   ]
  },
  {
   "cell_type": "code",
   "execution_count": 36,
   "metadata": {
    "collapsed": true
   },
   "outputs": [],
   "source": [
    "#insert sports code"
   ]
  },
  {
   "cell_type": "code",
   "execution_count": 3,
   "metadata": {
    "collapsed": false
   },
   "outputs": [
    {
     "data": {
      "text/plain": [
       "[1, 2]"
      ]
     },
     "execution_count": 3,
     "metadata": {},
     "output_type": "execute_result"
    }
   ],
   "source": [
    "\n",
    "def intersect_lists_2(list1, list2):\n",
    "    set1 = set(list1)\n",
    "    set2 = set(list2)\n",
    "    return [x for x in set1 if x in (set1 & set2) ]\n",
    "\n",
    "list1 = [1,2,3,4]\n",
    "list2 = [1,2,5,7]\n",
    "intersect_lists_2(list1,list2)"
   ]
  },
  {
   "cell_type": "code",
   "execution_count": null,
   "metadata": {
    "collapsed": true
   },
   "outputs": [],
   "source": []
  }
 ],
 "metadata": {
  "kernelspec": {
   "display_name": "Python 3",
   "language": "python",
   "name": "python3"
  },
  "language_info": {
   "codemirror_mode": {
    "name": "ipython",
    "version": 3
   },
   "file_extension": ".py",
   "mimetype": "text/x-python",
   "name": "python",
   "nbconvert_exporter": "python",
   "pygments_lexer": "ipython3",
   "version": "3.6.0"
  }
 },
 "nbformat": 4,
 "nbformat_minor": 2
}
