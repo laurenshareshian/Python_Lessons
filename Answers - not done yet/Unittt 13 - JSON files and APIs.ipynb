{
 "cells": [
  {
   "cell_type": "markdown",
   "metadata": {},
   "source": [
    "Contents\n",
    "---\n",
    "- [JSON](#json)\n",
    "- [APIs](#APIS)\n",
    "- [Datetime](#datetime)"
   ]
  },
  {
   "cell_type": "markdown",
   "metadata": {},
   "source": [
    "### Using Web Services\n",
    "Once it became easy to retrieve documents and parse documents over HTTP using programs, it did not take long to develop an approach where we started producing documents that were specifically designed to be consumed by other programs (i.e., not HTML to be displayed in a browser).\n",
    "\n",
    "There are two common formats that we use when exchanging data across the web. The \"eXtensible Markup Language\" or XML has been in use for a very long time and is best suited for exchanging document-style data. When programs just want to exchange dictionaries, lists, or other internal information with each other, they use JavaScript Object Notation or JSON (see www.json.org). We'll focus on JSON files here.\n",
    "\n",
    "\n",
    "JavaScript Object Notation - JSON\n",
    "---\n",
    "<a class=\"anchor\" id=\"json\"></a>\n",
    "The JSON format was inspired by the object and array format used in the JavaScript language. But since Python was invented before JavaScript, Python's syntax for dictionaries and lists influenced the syntax of JSON. So the format of JSON is nearly identical to a combination of Python lists and dictionaries."
   ]
  },
  {
   "cell_type": "markdown",
   "metadata": {
    "collapsed": true
   },
   "source": [
    "Datetime\n",
    "---\n",
    "<a class=\"anchor\" id=\"datetime\"></a>"
   ]
  },
  {
   "cell_type": "markdown",
   "metadata": {},
   "source": [
    "In the first iteration below, this does not take into account leap years:"
   ]
  },
  {
   "cell_type": "code",
   "execution_count": 50,
   "metadata": {
    "collapsed": false
   },
   "outputs": [
    {
     "data": {
      "text/plain": [
       "2511"
      ]
     },
     "execution_count": 50,
     "metadata": {},
     "output_type": "execute_result"
    }
   ],
   "source": [
    "import sys\n",
    "import os\n",
    "from datetime import datetime\n",
    "\n",
    "def difference_in_days(date1, date2):\n",
    "    start = datetime.strptime(date1, \"%m-%d-%Y\")\n",
    "    end = datetime.strptime(date2, \"%m-%d-%Y\")\n",
    "    if end.strftime(\"%Y\") == start.strftime(\"%Y\"):\n",
    "        return int(end.strftime(\"%j\"))-int(start.strftime(\"%j\"))\n",
    "    else:\n",
    "        diff_in_yrs = int(end.strftime(\"%Y\")) - int(start.strftime(\"%Y\"))\n",
    "        return int(end.strftime(\"%j\"))-int(start.strftime(\"%j\"))+365*diff_in_yrs\n",
    "\n",
    "start_date = '10-15-2010'\n",
    "end_date = '09-01-2017'\n",
    "difference_in_days(start_date,end_date)"
   ]
  },
  {
   "cell_type": "markdown",
   "metadata": {},
   "source": [
    "If we use another module, timedelta, it will:"
   ]
  },
  {
   "cell_type": "code",
   "execution_count": 58,
   "metadata": {
    "collapsed": false
   },
   "outputs": [
    {
     "data": {
      "text/plain": [
       "2513.0"
      ]
     },
     "execution_count": 58,
     "metadata": {},
     "output_type": "execute_result"
    }
   ],
   "source": [
    "import sys\n",
    "import os\n",
    "from datetime import datetime\n",
    "from datetime import timedelta\n",
    "\n",
    "def difference_in_days(date1, date2):\n",
    "    start = datetime.strptime(date1, \"%m-%d-%Y\")\n",
    "    end = datetime.strptime(date2, \"%m-%d-%Y\")\n",
    "    elapsed = (end - start) / timedelta(days=1)\n",
    "    return int(elapsed)\n",
    "\n",
    "start_date = '10-15-2010'\n",
    "end_date = '09-01-2017'\n",
    "difference_in_days(start_date,end_date)"
   ]
  },
  {
   "cell_type": "code",
   "execution_count": null,
   "metadata": {
    "collapsed": true
   },
   "outputs": [],
   "source": []
  }
 ],
 "metadata": {
  "kernelspec": {
   "display_name": "Python 3",
   "language": "python",
   "name": "python3"
  },
  "language_info": {
   "codemirror_mode": {
    "name": "ipython",
    "version": 3
   },
   "file_extension": ".py",
   "mimetype": "text/x-python",
   "name": "python",
   "nbconvert_exporter": "python",
   "pygments_lexer": "ipython3",
   "version": "3.6.0"
  }
 },
 "nbformat": 4,
 "nbformat_minor": 2
}
