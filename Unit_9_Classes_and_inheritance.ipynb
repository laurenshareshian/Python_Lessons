{
 "cells": [
  {
   "cell_type": "markdown",
   "metadata": {},
   "source": [
    "Contents\n",
    "---\n",
    "- [Instances](#instances)\n",
    "- [Classes](#classes)\n",
    "- [Terminology](#terminology)\n",
    "- [Subclasses](#subclasses)"
   ]
  },
  {
   "cell_type": "markdown",
   "metadata": {},
   "source": [
    "The following lesson is edited from Jess Hamrick's tutorial.\n",
    "\n",
    "Instances\n",
    "---\n",
    "<a class=\"anchor\" id=\"instances\"></a>"
   ]
  },
  {
   "cell_type": "markdown",
   "metadata": {},
   "source": [
    "Data structures like lists and strings are extremely useful, but sometimes they aren’t enough to represent something you’re trying to implement. For example, let’s say we needed to keep track of a bunch of pets. We could represent a pet using a list by specifying the first element of the list as the pet’s name and the second element of the list as the pet’s species. This is very arbitrary and nonintuitive, however – how do you know which element is supposed to be which?\n",
    "\n",
    "Classes give us the ability to create more complicated data structures that contain arbitrary content. We can create a Pet class that keeps track of the name and species of the pet in usefully named attributes called name and species, respectively.\n",
    "\n",
    "Before we get into creating a class itself, we need to understand an important distinction. A class is something that just contains structure – it defines how something should be laid out or structured, but doesn’t actually fill in the content. For example, a Pet class may say that a pet needs to have a name and a species, but it will not actually say what the pet’s name or species is.\n",
    "\n",
    "This is where instances come in. An instance is a specific copy of the class that does contain all of the content. For example, if I create a pet polly, with name \"Polly\" and species \"Parrot\", then polly is an instance of Pet.\n",
    "\n",
    "This can sometimes be a very difficult concept to master, so let’s look at it from another angle. Let’s say that the government has a particular tax form that it requires everybody to fill out. Everybody has to fill out the same type of form, but the content that people put into the form differs from person to person. A class is like the form: it specifies what content should exist. Your copy of the form with your specific information if like an instance of the class: it specifies what the content actually is.\n",
    "\n"
   ]
  },
  {
   "cell_type": "markdown",
   "metadata": {},
   "source": [
    "Creating Classes\n",
    "---\n",
    "<a class=\"anchor\" id=\"classes\"></a>\n",
    "\n",
    "Now that we have an idea of what a class is and what the difference between a class and an instance is, let’s look at a real class. Examine the following code carefully:"
   ]
  },
  {
   "cell_type": "code",
   "execution_count": 9,
   "metadata": {
    "collapsed": false
   },
   "outputs": [],
   "source": [
    "class Pet(object):\n",
    "    \n",
    "    def __init__(self, name, species):\n",
    "        self.name = name\n",
    "        self.species = species\n",
    "    \n",
    "    def getName(self):\n",
    "        return self.name\n",
    "    \n",
    "    def getSpecies(self):\n",
    "        return self.species\n",
    "    \n",
    "    def __str__(self):\n",
    "        return \"%s is a %s\" % (self.name, self.species)\n",
    "    \n",
    "polly = Pet(\"Polly\", \"Parrot\")\n"
   ]
  },
  {
   "cell_type": "markdown",
   "metadata": {},
   "source": [
    "### Line 1\n",
    "\n",
    "This is the basic line for creating a class. The first word, class, indicates that we are creating a class. The second word, Pet, indicates the name of the class. The word in parentheses, object, is the class that Pet is inheriting from. We’ll get more into inheritance below, so for now all you need to know is that object is a special variable in Python that you should include in the parentheses when you are creating a new class.\n",
    "\n",
    "### Lines 3-5\n",
    "\n",
    "When we create a new pet, we need to initialize (that is, specify) it with a name and a species. The __init__ method (method is just a special term for functions that are part of a class) is a special Python function that is called when an instance of a class is first created. For example, when running the code polly = Pet(\"Polly\", \"Parrot\"), the __init__ method is called with values polly, \"Polly\", and \"Parrot\" for the variables self, name, and species, respectively.\n",
    "\n",
    "The self variable is the instance of the class. Remember that instances have the structure of the class but that the values within an instance may vary from instance to instance. So, we want to specify that our instance (self) has different values in it than some other possible instance. That is why we say self.name = name instead of Pet.name = name.\n",
    "\n",
    "You might have noticed that the __init__ method (as well as other methods in the Pet class) have this self variable, but that when you call the method (e.g. polly = Pet(\"Polly\", \"Parrot\")), you only have to pass in two values. Why don’t we have to pass in the self parameter? This phenomena is a special behavior of Python: when you call a method of an instance, Python automatically figures out what self should be (from the instance) and passes it to the function. In the case of __init__, Python first creates self and then passes it in. We’ll talk a little bit more about this below when we discuss the getName and getSpecies methods.\n",
    "\n",
    "### Lines 7-11\n",
    "\n",
    "We can also define methods to get the contents of the instance. The getName method takes an instance of a Pet as a parameter and looks up the pet’s name. Similarly, the getSpecies method takes an instance of a Pet as a parameter and looks up the pet’s species. Again, we require the self parameter so that the function knows which instance of Pet to operate on: it needs to be able to find out the content.\n",
    "\n",
    "As mentioned before, we don’t actually have to pass in the self parameter because Python automatically figures it out. To make it a little bit clearer as to what is going on, we can look at two different ways of calling getName. The first way is the standard way of doing it: polly.getName(). The second, while not conventional, is equivalent: Pet.getName(polly). Note how in the second example we had to pass in the instance because we did not call the method via the instance. Python can’t figure out what the instance is if it doesn’t have any information about it.\n",
    "\n",
    "\n",
    "### Lines 13-14\n",
    "\n",
    "This __str__ method is a special function that is defined for all classes in Python (you have have noticed that methods beginning and ending with a double underscore are special). You can specify your own version of any built-in method, known as overriding the method. By overriding the __str__ method specifically, we can define the behavior when we try to print an instance of the Pet class using the print keyword.\n",
    "\n",
    "Let's explain some outputs one at a time. Suppose we type:"
   ]
  },
  {
   "cell_type": "code",
   "execution_count": 17,
   "metadata": {
    "collapsed": false
   },
   "outputs": [
    {
     "name": "stdout",
     "output_type": "stream",
     "text": [
      "<class '__main__.Pet'>\n"
     ]
    }
   ],
   "source": [
    "print(Pet)"
   ]
  },
  {
   "cell_type": "markdown",
   "metadata": {},
   "source": [
    "In the above code, Python is telling us that Pet is a class."
   ]
  },
  {
   "cell_type": "code",
   "execution_count": 18,
   "metadata": {
    "collapsed": false
   },
   "outputs": [
    {
     "name": "stdout",
     "output_type": "stream",
     "text": [
      "<bound method Pet.getSpecies of <__main__.Pet object at 0x1028790b8>>\n"
     ]
    }
   ],
   "source": [
    "polly = Pet(\"Polly\", \"Parrot\")\n",
    "print(polly.getSpecies)\n"
   ]
  },
  {
   "cell_type": "markdown",
   "metadata": {},
   "source": [
    "In the above code, Python tells us that getSpecies is a method of the class Pet."
   ]
  },
  {
   "cell_type": "code",
   "execution_count": 14,
   "metadata": {
    "collapsed": false
   },
   "outputs": [
    {
     "name": "stdout",
     "output_type": "stream",
     "text": [
      "Parrot\n",
      "Parrot\n"
     ]
    }
   ],
   "source": [
    "print(polly.getSpecies())\n",
    "print(Pet.getSpecies(polly))"
   ]
  },
  {
   "cell_type": "markdown",
   "metadata": {},
   "source": [
    "In the above code, both statements are equivalent ways of having Python tell us that Polly's species is a Parrot. "
   ]
  },
  {
   "cell_type": "code",
   "execution_count": 19,
   "metadata": {
    "collapsed": false
   },
   "outputs": [
    {
     "name": "stdout",
     "output_type": "stream",
     "text": [
      "Polly is a Parrot\n"
     ]
    }
   ],
   "source": [
    "print(polly)\n",
    "\n"
   ]
  },
  {
   "cell_type": "markdown",
   "metadata": {},
   "source": [
    "In the above code, \"Polly is a Parrot\" or something similar will get printed whenever we print an instance of the Pet class.\n",
    "\n",
    "We can also define other pets and view their outputs:"
   ]
  },
  {
   "cell_type": "code",
   "execution_count": 20,
   "metadata": {
    "collapsed": false
   },
   "outputs": [
    {
     "name": "stdout",
     "output_type": "stream",
     "text": [
      "Cat\n",
      "Ginger\n",
      "Ginger is a Cat\n",
      "Dog\n",
      "Clifford\n",
      "Clifford is a Dog\n"
     ]
    }
   ],
   "source": [
    "ginger = Pet(\"Ginger\", \"Cat\")\n",
    "print(ginger.getSpecies())\n",
    "print(ginger.getName())\n",
    "print(ginger)\n",
    "\n",
    "clifford = Pet(\"Clifford\", \"Dog\")\n",
    "print(clifford.getSpecies())\n",
    "print(clifford.getName())\n",
    "print(clifford)"
   ]
  },
  {
   "cell_type": "markdown",
   "metadata": {},
   "source": [
    "General terminology\n",
    "---\n",
    "<a class=\"anchor\" id=\"terminology\"></a>\n",
    "To summarize, here is a list of terminology:\n",
    "\n",
    "\n",
    "A **class** is a body of code that defines the **attributes** and **behaviors** required to accurately model something you need for your program. You can model something from the real world, such as a rocket ship or a guitar string, or you can model something from a virtual world such as a rocket in a game, or a set of physical laws for a game engine.\n",
    "\n",
    "An **attribute** is a piece of information. In code, an attribute is just a variable that is part of a class.\n",
    "\n",
    "A **behavior** is an action that is defined within a class. These are made up of **methods**, which are just functions that are defined for the class.\n",
    "\n",
    "An **object** is a particular instance of a class. An object has a certain set of values for all of the attributes (variables) in the class. You can have as many objects as you want for any one class."
   ]
  },
  {
   "cell_type": "markdown",
   "metadata": {},
   "source": [
    "Subclasses\n",
    "---\n",
    "<a class=\"anchor\" id=\"subclasses\"></a>\n",
    "\n",
    "Sometimes just defining a single class (like Pet) is not enough. For example, some pets are dogs and most dogs like to chase cats, and maybe we want to keep track of which dogs do or do not like to chase cats. Birds are also pets but they generally don’t like to chase cats. We can make another class that is a Pet but is also specifically a Dog, for example: this gives us the structure from Pet but also any structure we want to specify for Dog.\n",
    "\n",
    "We want to specify that all Dogs have species \"Dog\", and also whether or not the dog likes to chase cats. To do this, we need to define our own initialization function (recall that this is known as overriding). We also need to call the parent class initialization function, though, because we still want the name and species fields to be initialized. If we did not have line 4, then we could still call the methods getName and getSpecies. However, because Pet.__init__ was never called, the name and species fields were never created, so calling getName or getSpecies would throw an error."
   ]
  },
  {
   "cell_type": "code",
   "execution_count": 34,
   "metadata": {
    "collapsed": false
   },
   "outputs": [],
   "source": [
    "class Dog(Pet):\n",
    "    def __init__(self, name, chases_cats):\n",
    "        Pet.__init__(self, name, \"Dog\")\n",
    "        self.chases_cats = chases_cats\n",
    "        \n",
    "    def chasesCats(self):\n",
    "        return self.chases_cats\n",
    "    "
   ]
  },
  {
   "cell_type": "markdown",
   "metadata": {},
   "source": [
    "Let's see the outputs of the following statements:"
   ]
  },
  {
   "cell_type": "code",
   "execution_count": 35,
   "metadata": {
    "collapsed": false
   },
   "outputs": [
    {
     "name": "stdout",
     "output_type": "stream",
     "text": [
      "Fido is a Dog\n",
      "True\n",
      "Fido\n",
      "Dog\n"
     ]
    }
   ],
   "source": [
    "fido = Dog(\"Fido\", True)\n",
    "print(fido)\n",
    "print(fido.chasesCats())\n",
    "print(fido.getName())\n",
    "print(fido.getSpecies())\n"
   ]
  },
  {
   "cell_type": "markdown",
   "metadata": {},
   "source": [
    "We can also define another subclass of Pets, cats:"
   ]
  },
  {
   "cell_type": "code",
   "execution_count": 56,
   "metadata": {
    "collapsed": false
   },
   "outputs": [],
   "source": [
    "class Cat(Pet):\n",
    "    def __init__(self, name, fur_color):\n",
    "        Pet.__init__(self, name, \"Cat\")\n",
    "        self.fur_color = fur_color\n",
    "        \n",
    "    def color(self):\n",
    "        return self.fur_color"
   ]
  },
  {
   "cell_type": "markdown",
   "metadata": {},
   "source": [
    "We can now define an instance of a Cat:"
   ]
  },
  {
   "cell_type": "code",
   "execution_count": 57,
   "metadata": {
    "collapsed": false
   },
   "outputs": [
    {
     "name": "stdout",
     "output_type": "stream",
     "text": [
      "Kitty is a Cat\n",
      "Black\n",
      "Kitty\n",
      "Cat\n"
     ]
    }
   ],
   "source": [
    "kitty = Cat(\"Kitty\", \"Black\")\n",
    "print(kitty)\n",
    "print(kitty.color())\n",
    "print(kitty.getName())\n",
    "print(kitty.getSpecies())"
   ]
  },
  {
   "cell_type": "markdown",
   "metadata": {},
   "source": [
    "Note that print(\"Kitty\") printed out \"Kitty is a cat\" because Pet overwrote the string method. If, however, we override the string in the Cat subclass, this will be the print statement that takes priority, and we will no longer see \"Kitty is a Cat\" get printed:"
   ]
  },
  {
   "cell_type": "code",
   "execution_count": 75,
   "metadata": {
    "collapsed": false
   },
   "outputs": [
    {
     "name": "stdout",
     "output_type": "stream",
     "text": [
      "Kitty has the color black\n"
     ]
    }
   ],
   "source": [
    "class Cat(Pet):\n",
    "    def __init__(self, name, fur_color):\n",
    "        Pet.__init__(self, name, \"Cat\")\n",
    "        self.fur_color = fur_color\n",
    "        \n",
    "    def color(self):\n",
    "        return self.fur_color\n",
    "\n",
    "    def __str__(self):\n",
    "        return \"%s has the color %s\" % (self.name, self.fur_color)\n",
    "\n",
    "kitty = Cat(\"Kitty\", \"black\")\n",
    "print(kitty)"
   ]
  },
  {
   "cell_type": "markdown",
   "metadata": {},
   "source": [
    "Another thing to be careful of is calling methods valid names. You can't refer to both the input of the cat class and the method inside cats as both \"fur_color\". If you do, you will get a type error. Instead, you must name your method something else, such as \"color\" or \"cat_color\":"
   ]
  },
  {
   "cell_type": "code",
   "execution_count": 70,
   "metadata": {
    "collapsed": false
   },
   "outputs": [
    {
     "name": "stdout",
     "output_type": "stream",
     "text": [
      "Kitty is a Cat\n"
     ]
    },
    {
     "ename": "TypeError",
     "evalue": "'str' object is not callable",
     "output_type": "error",
     "traceback": [
      "\u001b[0;31m---------------------------------------------------------------------------\u001b[0m",
      "\u001b[0;31mTypeError\u001b[0m                                 Traceback (most recent call last)",
      "\u001b[0;32m<ipython-input-70-7c2b1d6e0071>\u001b[0m in \u001b[0;36m<module>\u001b[0;34m()\u001b[0m\n\u001b[1;32m      9\u001b[0m \u001b[0mkitty\u001b[0m \u001b[0;34m=\u001b[0m \u001b[0mCat\u001b[0m\u001b[0;34m(\u001b[0m\u001b[0;34m\"Kitty\"\u001b[0m\u001b[0;34m,\u001b[0m \u001b[0;34m\"Black\"\u001b[0m\u001b[0;34m)\u001b[0m\u001b[0;34m\u001b[0m\u001b[0m\n\u001b[1;32m     10\u001b[0m \u001b[0mprint\u001b[0m\u001b[0;34m(\u001b[0m\u001b[0mkitty\u001b[0m\u001b[0;34m)\u001b[0m\u001b[0;34m\u001b[0m\u001b[0m\n\u001b[0;32m---> 11\u001b[0;31m \u001b[0mprint\u001b[0m\u001b[0;34m(\u001b[0m\u001b[0mkitty\u001b[0m\u001b[0;34m.\u001b[0m\u001b[0mfur_color\u001b[0m\u001b[0;34m(\u001b[0m\u001b[0;34m)\u001b[0m\u001b[0;34m)\u001b[0m\u001b[0;34m\u001b[0m\u001b[0m\n\u001b[0m",
      "\u001b[0;31mTypeError\u001b[0m: 'str' object is not callable"
     ]
    }
   ],
   "source": [
    "class Cat(Pet):\n",
    "    def __init__(self, name, fur_color):\n",
    "        Pet.__init__(self, name, \"Cat\")\n",
    "        self.fur_color = fur_color\n",
    "        \n",
    "    def fur_color(self):\n",
    "        return self.fur_color\n",
    "    \n",
    "kitty = Cat(\"Kitty\", \"Black\")\n",
    "print(kitty)\n",
    "print(kitty.fur_color())"
   ]
  },
  {
   "cell_type": "markdown",
   "metadata": {},
   "source": [
    "Here's another example. Python already has a string class that enables you to do common operations like find the length of the string and capitalize it. However, what if you wanted to make your own string class, called \"MyString\", that performed similar calculations? We could create one below:"
   ]
  },
  {
   "cell_type": "code",
   "execution_count": 77,
   "metadata": {
    "collapsed": false
   },
   "outputs": [
    {
     "name": "stdout",
     "output_type": "stream",
     "text": [
      "5\n",
      "HELLO\n",
      "o\n",
      "My word is hello\n"
     ]
    }
   ],
   "source": [
    "class MyString(object):\n",
    "    \n",
    "    def __init__(self, word):\n",
    "        self.word = word\n",
    "    \n",
    "    def MyLength(self):\n",
    "        return len(self.word)\n",
    "    \n",
    "    def MyCaps(self):\n",
    "        return self.word.upper()\n",
    "\n",
    "    def MyLastLetter(self):\n",
    "        return self.word[-1]\n",
    "    \n",
    "    def __str__(self):\n",
    "        return \"My word is %s\" % (self.word)\n",
    "\n",
    "myword = MyString('hello')\n",
    "print(myword.MyLength())\n",
    "print(myword.MyCaps())\n",
    "print(myword.MyLastLetter())\n",
    "print(myword)"
   ]
  },
  {
   "cell_type": "markdown",
   "metadata": {},
   "source": [
    "We could define a subclass that only operates on strings that can also be considered integers. We could turn the string into an integer and then double it:"
   ]
  },
  {
   "cell_type": "code",
   "execution_count": 78,
   "metadata": {
    "collapsed": false
   },
   "outputs": [
    {
     "name": "stdout",
     "output_type": "stream",
     "text": [
      "1002\n"
     ]
    }
   ],
   "source": [
    "class Integer(MyString):\n",
    "    def __init__(self, word):\n",
    "        MyString.__init__(self, word)\n",
    "        self.word = word\n",
    "        \n",
    "    def double(self):\n",
    "        return 2*(int(self.word))\n",
    "\n",
    "mynum = Integer('501')\n",
    "print(mynum.double())"
   ]
  },
  {
   "cell_type": "markdown",
   "metadata": {},
   "source": [
    "Here is yet another example from https://www.smallsurething.com/python-descriptors-made-simple/\n",
    "\n",
    "\n",
    "Suppose we define a book class:"
   ]
  },
  {
   "cell_type": "code",
   "execution_count": 84,
   "metadata": {
    "collapsed": false
   },
   "outputs": [
    {
     "name": "stdout",
     "output_type": "stream",
     "text": [
      "Faulkner - Sound and Fury\n",
      "Faulkner\n",
      "Sound and Fury\n",
      "12\n",
      "9.0\n"
     ]
    }
   ],
   "source": [
    "class Book(object):\n",
    "    def __init__(self, author, title, price):\n",
    "        self.author = author\n",
    "        self.title = title\n",
    "        self.price = price\n",
    "    \n",
    "    def sale_price(self):\n",
    "        #sale price is 25% off\n",
    "        return 0.75*self.price\n",
    "        \n",
    "    def __str__(self):\n",
    "        return \"%s - %s\" % (self.author, self.title)\n",
    "    \n",
    "mybook = Book('Faulkner', 'Sound and Fury', 12)\n",
    "print(mybook)\n",
    "print(mybook.author)\n",
    "print(mybook.title)\n",
    "print(mybook.price)\n",
    "print(mybook.sale_price())\n",
    "        \n",
    "                "
   ]
  },
  {
   "cell_type": "markdown",
   "metadata": {},
   "source": [
    "### Exercise - Bird\n",
    "Add a subclass to Pet that is a Bird. Birds should have an additional attribute that specifies whether they sing or not. It should have an additional attribute that specifies whether it is a large bird of prey or not."
   ]
  },
  {
   "cell_type": "code",
   "execution_count": null,
   "metadata": {
    "collapsed": true
   },
   "outputs": [],
   "source": [
    "#insert bird code"
   ]
  },
  {
   "cell_type": "markdown",
   "metadata": {
    "collapsed": true
   },
   "source": [
    "### Exercise - Bird again \n",
    "Override the string in the Bird class so that \"I can fly aren't you jealous?\" gets printed instead of \"Polly is a Parrot.\""
   ]
  },
  {
   "cell_type": "code",
   "execution_count": 86,
   "metadata": {
    "collapsed": true
   },
   "outputs": [],
   "source": [
    "#insert bird code again"
   ]
  },
  {
   "cell_type": "markdown",
   "metadata": {
    "collapsed": true
   },
   "source": [
    "### Exercise - MyString\n",
    "Add a method to MyString that returns the string in reverse. Hint: How could you use string[???] perhaps involving colons to do this in one line?"
   ]
  },
  {
   "cell_type": "code",
   "execution_count": 87,
   "metadata": {
    "collapsed": true
   },
   "outputs": [],
   "source": [
    "#insert mystring code here"
   ]
  },
  {
   "cell_type": "markdown",
   "metadata": {},
   "source": [
    "### Exercise - MyString again\n",
    "Add a method to MyString that returns the letters of the string in alphabetical order."
   ]
  },
  {
   "cell_type": "code",
   "execution_count": 88,
   "metadata": {
    "collapsed": true
   },
   "outputs": [],
   "source": [
    "###insert mystring again code"
   ]
  },
  {
   "cell_type": "markdown",
   "metadata": {},
   "source": [
    "### Exercise - book\n",
    "Add genre as another input to the Book class method. Override the string to print(\"???\" is of the genre \"???\"). "
   ]
  },
  {
   "cell_type": "code",
   "execution_count": 89,
   "metadata": {
    "collapsed": true
   },
   "outputs": [],
   "source": [
    "#insert book code"
   ]
  },
  {
   "cell_type": "markdown",
   "metadata": {},
   "source": [
    "### Exercise - book again\n",
    "Add a method called last_first that takes in a Book's author in the form \"First Last\" and returns a string of the form \"Last, First\". For example, the method word return \"William Faulkner in the order \"Faulkner, William.\""
   ]
  },
  {
   "cell_type": "code",
   "execution_count": 90,
   "metadata": {
    "collapsed": true
   },
   "outputs": [],
   "source": [
    "#insert book again code"
   ]
  },
  {
   "cell_type": "markdown",
   "metadata": {},
   "source": [
    "### Exercise - Food\n",
    "Write a class called Food that takes in calories, fat, and fiber. It should include a method called low_cal that checks whether the calories is less than 200. If the calories are less than 200, it should return \"low cal\", otherwise, it should return \"high cal\". It should have a similar method for low_fat to test whether the fat is above or below 10 grams. It should also override a string to say \"???? is a food that has ??? calories, ??? fat, and ??? fiber.\""
   ]
  },
  {
   "cell_type": "code",
   "execution_count": 91,
   "metadata": {
    "collapsed": true
   },
   "outputs": [],
   "source": [
    "### insert food"
   ]
  },
  {
   "cell_type": "markdown",
   "metadata": {},
   "source": [
    "### Exercise - Food again\n",
    "Create a subclass for Food called Snacks. It should have two additional attributes - one to specify whether it is gluten free or not and one to specify whether there are peanuts or not."
   ]
  },
  {
   "cell_type": "code",
   "execution_count": 92,
   "metadata": {
    "collapsed": true
   },
   "outputs": [],
   "source": [
    "### insert food again"
   ]
  },
  {
   "cell_type": "code",
   "execution_count": null,
   "metadata": {
    "collapsed": true
   },
   "outputs": [],
   "source": []
  }
 ],
 "metadata": {
  "kernelspec": {
   "display_name": "Python 3",
   "language": "python",
   "name": "python3"
  },
  "language_info": {
   "codemirror_mode": {
    "name": "ipython",
    "version": 3
   },
   "file_extension": ".py",
   "mimetype": "text/x-python",
   "name": "python",
   "nbconvert_exporter": "python",
   "pygments_lexer": "ipython3",
   "version": "3.6.0"
  }
 },
 "nbformat": 4,
 "nbformat_minor": 2
}
