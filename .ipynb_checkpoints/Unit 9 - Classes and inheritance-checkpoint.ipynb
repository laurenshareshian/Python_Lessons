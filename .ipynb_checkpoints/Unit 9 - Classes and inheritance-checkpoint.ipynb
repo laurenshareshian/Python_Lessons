{
 "cells": [
  {
   "cell_type": "code",
   "execution_count": null,
   "metadata": {
    "collapsed": true
   },
   "outputs": [],
   "source": [
    "Contents\n",
    "---\n",
    "- [Classes](#testing)\n",
    "- [Error Raising](#error)"
   ]
  },
  {
   "cell_type": "code",
   "execution_count": null,
   "metadata": {
    "collapsed": true
   },
   "outputs": [],
   "source": []
  },
  {
   "cell_type": "code",
   "execution_count": 21,
   "metadata": {
    "collapsed": false
   },
   "outputs": [
    {
     "name": "stdout",
     "output_type": "stream",
     "text": [
      "<bound method Pet.getSpecies of <__main__.Pet object at 0x1040ffe80>>\n",
      "Parrot\n",
      "Parrot\n",
      "Polly is a Parrot\n",
      "<class '__main__.Pet'>\n",
      "<class '__main__.Pet'>\n",
      "<class '__main__.Dog'>\n",
      "Rover is a Dog\n",
      "Rover chase cats: True\n",
      "True\n",
      "False\n",
      "True\n",
      "True\n",
      "True\n",
      "Rover\n"
     ]
    }
   ],
   "source": [
    "#intro to classes\n",
    "#http://www.jesshamrick.com/2011/05/18/an-introduction-to-classes-and-inheritance-in-python/\n",
    "\n",
    "class Pet(object):\n",
    "    \n",
    "    def __init__(self, name, species):\n",
    "        self.name = name\n",
    "        self.species = species\n",
    "    \n",
    "    def getName(self):\n",
    "        return self.name\n",
    "    \n",
    "    def getSpecies(self):\n",
    "        return self.species\n",
    "    \n",
    "    def __str__(self):\n",
    "        return \"%s is a %s\" % (self.name, self.species)\n",
    "\n",
    "    \n",
    "\n",
    "polly = Pet(\"Polly\", \"Parrot\")\n",
    "print(polly.getSpecies)\n",
    "print(polly.getSpecies())\n",
    "print(Pet.getSpecies(polly))\n",
    "print(polly)\n",
    "print(Pet)\n",
    "\n",
    "#intro to subclasses and inheritance\n",
    "class Dog(Pet):\n",
    "    def __init__(self, name, chases_cats):\n",
    "        Pet.__init__(self, name, \"Dog\")\n",
    "        self.chases_cats = chases_cats\n",
    "        \n",
    "    def chasesCats(self):\n",
    "        return self.chases_cats\n",
    "    \n",
    "    def __str__(self):\n",
    "        return \"%s chases cats: %s\" % (self.name, self.chases_cats)\n",
    "\n",
    "rover_pet = Pet(\"Rover\", \"Dog\")\n",
    "rover_dog = Dog(\"Rover\", True)\n",
    "print(type(rover_pet))\n",
    "print(type(rover_dog))\n",
    "print(rover_pet)\n",
    "print(rover_dog)\n",
    "print(isinstance(rover_pet, Pet))\n",
    "print(isinstance(rover_pet, Dog))\n",
    "print(isinstance(rover_dog, Pet))\n",
    "print(isinstance(rover_dog, Dog))\n",
    "print(rover_dog.chasesCats())\n",
    "print(rover_dog.getName())\n"
   ]
  },
  {
   "cell_type": "code",
   "execution_count": 25,
   "metadata": {
    "collapsed": false
   },
   "outputs": [
    {
     "name": "stdout",
     "output_type": "stream",
     "text": [
      "5\n",
      "o\n",
      "My word is hello\n"
     ]
    }
   ],
   "source": [
    "##another example\n",
    "\n",
    "class MyString(object):\n",
    "    \n",
    "    def __init__(self, word):\n",
    "        self.word = word\n",
    "    \n",
    "    def MyLength(self):\n",
    "        return len(self.word)\n",
    "\n",
    "    def MyLastLetter(self):\n",
    "        return self.word[-1]\n",
    "    \n",
    "    def __str__(self):\n",
    "        return \"My word is %s\" % (self.word)\n",
    "\n",
    "myword = MyString('hello')\n",
    "print(myword.MyLength())\n",
    "print(myword.MyLastLetter())\n",
    "print(myword)"
   ]
  },
  {
   "cell_type": "code",
   "execution_count": 39,
   "metadata": {
    "collapsed": false
   },
   "outputs": [
    {
     "name": "stdout",
     "output_type": "stream",
     "text": [
      "Faulkner - Sound and Fury\n",
      "Faulkner\n",
      "12\n",
      "Sound and Fury!\n"
     ]
    }
   ],
   "source": [
    "##descriptors\n",
    "#https://www.smallsurething.com/python-descriptors-made-simple/\n",
    "\n",
    "class Price(object):\n",
    "    def __init__(self, cost):\n",
    "        self.dollarCost = cost\n",
    "\n",
    "#deletes old instances?\n",
    "#    def __set__(self, instance, value):\n",
    "#        if value <0 or value > 100:\n",
    "#            raise ValueError ('must be between 0 and 100')\n",
    "#        self.values[instance] = value\n",
    "    \n",
    "#    def __delete__(self, instance):\n",
    "#        del self.values[instance]\n",
    "        \n",
    "class Book(object):\n",
    "    def __init__(self, author, title, p):\n",
    "        self.author = author\n",
    "        self.title = title\n",
    "        self.price = Price(p)\n",
    "    \n",
    "    def exclamation(self):\n",
    "        return self.title+'!'\n",
    "        \n",
    "    def __str__(self):\n",
    "        return \"{0} - {1}\".format(self.author, self.title)\n",
    "mybook = Book('Faulkner', 'Sound and Fury', 12)\n",
    "print(mybook)\n",
    "print(mybook.author)\n",
    "print(mybook.price.dollarCost)\n",
    "print(mybook.exclamation())\n",
    "        \n",
    "                "
   ]
  },
  {
   "cell_type": "code",
   "execution_count": null,
   "metadata": {
    "collapsed": true
   },
   "outputs": [],
   "source": []
  },
  {
   "cell_type": "code",
   "execution_count": null,
   "metadata": {
    "collapsed": true
   },
   "outputs": [],
   "source": []
  },
  {
   "cell_type": "code",
   "execution_count": null,
   "metadata": {
    "collapsed": true
   },
   "outputs": [],
   "source": []
  },
  {
   "cell_type": "code",
   "execution_count": null,
   "metadata": {
    "collapsed": true
   },
   "outputs": [],
   "source": []
  }
 ],
 "metadata": {
  "kernelspec": {
   "display_name": "Python 3",
   "language": "python",
   "name": "python3"
  },
  "language_info": {
   "codemirror_mode": {
    "name": "ipython",
    "version": 3
   },
   "file_extension": ".py",
   "mimetype": "text/x-python",
   "name": "python",
   "nbconvert_exporter": "python",
   "pygments_lexer": "ipython3",
   "version": "3.6.0"
  }
 },
 "nbformat": 4,
 "nbformat_minor": 2
}
