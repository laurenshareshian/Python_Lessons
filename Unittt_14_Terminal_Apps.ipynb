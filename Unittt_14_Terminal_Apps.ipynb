{
 "cells": [
  {
   "cell_type": "markdown",
   "metadata": {},
   "source": [
    "Contents\n",
    "---\n",
    "- [Terminal Commands](#commands)\n",
    "- [Editors](#editors)\n",
    "- [Terminal Apps](#apps)"
   ]
  },
  {
   "cell_type": "markdown",
   "metadata": {},
   "source": [
    "Terminal Commands\n",
    "---\n",
    "<a class=\"anchor\" id=\"commands\"></a>\n",
    "A terminal application is simply an application that runs inside the terminal. By now, you have seen that most of the output from your programs is printed to the terminal. By learning a few more techniques such as clearing the terminal screen and \"pickling\" data, you can create full-fledged standalone applications that run in the terminal.\n",
    "A terminal app starts just like any other program, but it finishes when the user selects an action that causes the program to quit. In terminal applications, this often means something like entering 'q' or 'quit'. Before we learn how to write terminal apps, we will first need to learn how to use the terminal. First open the terminal, which on a Mac, is located under Apps - Utilities.\n",
    "\n",
    "If we type pwd, it will show us our current directory (print working directory).\n",
    "\n",
    "ls lists the files in that directory."
   ]
  },
  {
   "cell_type": "code",
   "execution_count": 62,
   "metadata": {
    "collapsed": false
   },
   "outputs": [
    {
     "data": {
      "text/plain": [
       "'/Users/shareshianl/Documents/CS/Python_Lessons'"
      ]
     },
     "execution_count": 62,
     "metadata": {},
     "output_type": "execute_result"
    }
   ],
   "source": [
    "pwd"
   ]
  },
  {
   "cell_type": "code",
   "execution_count": 63,
   "metadata": {
    "collapsed": false
   },
   "outputs": [
    {
     "name": "stdout",
     "output_type": "stream",
     "text": [
      "2002FemPreg.csv\r\n",
      "\u001b[34mAnswers - not done yet\u001b[m\u001b[m/\r\n",
      "README.MD\r\n",
      "Unit_1_Variables_Strings_and_Numbers.ipynb\r\n",
      "Unit_2_Lists_and_For_Loops.ipynb\r\n",
      "Unit_3_Booleans_and_If_Statements.ipynb\r\n",
      "Unit_4_While_Statements.ipynb\r\n",
      "Unit_5_Functions.ipynb\r\n",
      "Unit_6_Testing_error raising_and_pass_break_continue.ipynb\r\n",
      "Unit_7_Dictionaries_Tuples_and_Sets.ipynb\r\n",
      "Unit_8_File_Input_Output.ipynb\r\n",
      "Unit_9_Classes_and_inheritance.ipynb\r\n",
      "Unitt_10_Importing_Packages_Matplotlib_Numpy_and_List_Comprehensions.ipynb\r\n",
      "Unitt_11_Pandas.ipynb\r\n",
      "Unittt_12_Web_Scraping.ipynb\r\n",
      "Unittt_13_Datetime_and_JSON_files_and_APIs .ipynb\r\n",
      "Unittt_14_Terminal_Apps.ipynb\r\n",
      "What file do you want to add words to? \r\n",
      "activities.txt\r\n",
      "\u001b[34mcat_pictures\u001b[m\u001b[m/\r\n",
      "dance.txt\r\n",
      "emails.csv\r\n",
      "faculty.csv\r\n",
      "football.txt\r\n",
      "get_new_tweets.py\r\n",
      "journal.txt\r\n",
      "kanye.txt\r\n",
      "mailbox.txt\r\n",
      "oauth.py\r\n",
      "output.txt\r\n",
      "root@www.portlandpython.com\r\n",
      "sports.txt\r\n",
      "students.txt\r\n",
      "tweet.txt\r\n",
      "tweet_to_twitter.py\r\n",
      "twurl.py\r\n",
      "where.html\r\n",
      "where.js\r\n",
      "where.txt\r\n"
     ]
    }
   ],
   "source": [
    "ls"
   ]
  },
  {
   "cell_type": "markdown",
   "metadata": {},
   "source": [
    "If we want to change to a directory located within this directory, we can type:"
   ]
  },
  {
   "cell_type": "code",
   "execution_count": 64,
   "metadata": {
    "collapsed": false
   },
   "outputs": [
    {
     "name": "stdout",
     "output_type": "stream",
     "text": [
      "/Users/shareshianl/Documents/CS/Python_Lessons/cat_pictures\n"
     ]
    }
   ],
   "source": [
    "cd cat_pictures"
   ]
  },
  {
   "cell_type": "markdown",
   "metadata": {},
   "source": [
    "If we wanted to go back up a directory, we could type:"
   ]
  },
  {
   "cell_type": "code",
   "execution_count": 65,
   "metadata": {
    "collapsed": false
   },
   "outputs": [
    {
     "name": "stdout",
     "output_type": "stream",
     "text": [
      "/Users/shareshianl/Documents/CS/Python_Lessons\n"
     ]
    }
   ],
   "source": [
    "cd .."
   ]
  },
  {
   "cell_type": "markdown",
   "metadata": {},
   "source": [
    "If you ever want to get back to your home directory, you can just type cd:"
   ]
  },
  {
   "cell_type": "code",
   "execution_count": 66,
   "metadata": {
    "collapsed": false
   },
   "outputs": [
    {
     "name": "stdout",
     "output_type": "stream",
     "text": [
      "/Users/shareshianl\n"
     ]
    }
   ],
   "source": [
    "cd"
   ]
  },
  {
   "cell_type": "markdown",
   "metadata": {},
   "source": [
    "Let's go back into the directory where this file is located:"
   ]
  },
  {
   "cell_type": "code",
   "execution_count": 68,
   "metadata": {
    "collapsed": false
   },
   "outputs": [
    {
     "name": "stdout",
     "output_type": "stream",
     "text": [
      "/Users/shareshianl/Documents/CS/Python_Lessons\n"
     ]
    }
   ],
   "source": [
    "cd Documents/CS/Python_Lessons"
   ]
  },
  {
   "cell_type": "markdown",
   "metadata": {},
   "source": [
    "If I want to make a folder in here called \"dog_pictures\", I would type:\n",
    "    "
   ]
  },
  {
   "cell_type": "markdown",
   "metadata": {},
   "source": [
    "Suppose I wanted to copy one of the cat pictures into the dog folder. I would first type the location of the cat picture file and then the location of where the dog directory was:"
   ]
  },
  {
   "cell_type": "code",
   "execution_count": 73,
   "metadata": {
    "collapsed": false
   },
   "outputs": [],
   "source": [
    "cp cat_pictures/catpicture.jpg dog_pictures"
   ]
  },
  {
   "cell_type": "code",
   "execution_count": 70,
   "metadata": {
    "collapsed": false
   },
   "outputs": [
    {
     "name": "stdout",
     "output_type": "stream",
     "text": [
      "mkdir: dog_pictures: File exists\r\n"
     ]
    }
   ],
   "source": [
    "mkdir dog_pictures"
   ]
  },
  {
   "cell_type": "markdown",
   "metadata": {},
   "source": [
    "If I wanted to actually move it from one folder to another, I would type \"mv\" instead of \"cp\". In fact, we can use \"mv\" to rename files also. Suppose I wanted to rename \"catpicture.jpg\" as \"weirddogpicture.jpg\". I would type:"
   ]
  },
  {
   "cell_type": "code",
   "execution_count": 74,
   "metadata": {
    "collapsed": true
   },
   "outputs": [],
   "source": [
    "mv dog_pictures/catpicture.jpg dog_pictures/weirddogpicture.jpg"
   ]
  },
  {
   "cell_type": "markdown",
   "metadata": {},
   "source": [
    "If I wanted to delte the dog directory, I would need to remove the directory and all files in it by typing:"
   ]
  },
  {
   "cell_type": "code",
   "execution_count": 75,
   "metadata": {
    "collapsed": true
   },
   "outputs": [],
   "source": [
    "rm -rf dog_pictures"
   ]
  },
  {
   "cell_type": "markdown",
   "metadata": {},
   "source": [
    "Editors\n",
    "---\n",
    "<a class=\"anchor\" id=\"editors\"></a>\n",
    "Instead of opening up a Jupyter Notebook, Anaconda, or an IDE like PyCharm to make a file, we can use a text editor. There are several pre-installed on a Mac, including Nano and Vim. We'll use vim here. To create a file called \"helloworld.py\" from your terminal, you'll need to type the following in the terminal (note: it won't work in this Jupyter notebook)."
   ]
  },
  {
   "cell_type": "code",
   "execution_count": null,
   "metadata": {
    "collapsed": false
   },
   "outputs": [],
   "source": [
    "touch helloworld.py"
   ]
  },
  {
   "cell_type": "markdown",
   "metadata": {},
   "source": [
    "Then, in order to open the file, type:"
   ]
  },
  {
   "cell_type": "code",
   "execution_count": null,
   "metadata": {
    "collapsed": true
   },
   "outputs": [],
   "source": [
    "vim helloworld.py"
   ]
  },
  {
   "cell_type": "markdown",
   "metadata": {},
   "source": [
    "1. Notice that you cannot edit the file until you turn on \"insert\" mode by typing i. \n",
    "\n",
    "2. Then, write print('Hello, World!')\n",
    "\n",
    "3. In order to save the file, you'll need to first exit insert mode by clicking Esc. \n",
    "\n",
    "4. Then, type :w to write the file (i.e., to save it).\n",
    "\n",
    "5. Then, type :q to exit. \n",
    "\n",
    "Phew, you might ask yourself why the heck you would ever want to do all of this instead of just opening up a Jupyter Notebook or PyCharm. Well actually, once you get more used to text editors, they can actually be faster. Many professionals prefer to use text editors such as Emacs or Sublime. \n",
    "\n",
    "Of course, we can verify our program is working by typing the following in the terminal:"
   ]
  },
  {
   "cell_type": "code",
   "execution_count": null,
   "metadata": {
    "collapsed": true
   },
   "outputs": [],
   "source": [
    "python helloworld.py"
   ]
  },
  {
   "cell_type": "markdown",
   "metadata": {},
   "source": [
    "Terminal Apps\n",
    "---\n",
    "<a class=\"anchor\" id=\"apps\"></a>\n",
    "Let's define a simple terminal app that we can make in this notebook. Greeter will:\n",
    "- Always display a title bar at the top of the screen, showing the name of the app that is running.\n",
    "- Offer you three choices:\n",
    "    - Enter a name.\n",
    "        - If the program knows that name, it will print a message saying something like \"Hello, old friend.\"\n",
    "        - If the program does not know that name, it will print a message saying something like, \"It's nice to meet you. I will remember you.\"\n",
    "        - The next time the program hears this name, it will greet the person as an old friend.\n",
    "- See a list of everyone that is known.\n",
    "- Quit.\n",
    "- The program will remember people, even after it closes.\n",
    "- The program may list the number of known people in the title bar.\n",
    "\n",
    "\n",
    "Now we will go over a few things we need to know in order to build this app, and then we will build it.\n"
   ]
  },
  {
   "cell_type": "markdown",
   "metadata": {},
   "source": [
    "### Clearing the Screen\n",
    "\n",
    "You may have noticed that your programs which produce a lot of output scroll down the terminal. This keeps your program from looking like a running application. It's fairly easy to clear the terminal screen any time you want to, though. Use the os package to do this:"
   ]
  },
  {
   "cell_type": "code",
   "execution_count": 78,
   "metadata": {
    "collapsed": false
   },
   "outputs": [
    {
     "name": "stdout",
     "output_type": "stream",
     "text": [
      "Hello, World!\n"
     ]
    },
    {
     "data": {
      "text/plain": [
       "0"
      ]
     },
     "execution_count": 78,
     "metadata": {},
     "output_type": "execute_result"
    }
   ],
   "source": [
    "import os\n",
    "\n",
    "# Show a simple message.\n",
    "print(\"Hello, World!\")\n",
    "\n",
    "# Clear the screen.\n",
    "os.system('clear')"
   ]
  },
  {
   "cell_type": "markdown",
   "metadata": {},
   "source": [
    "### Exercise - Clear\n",
    "A \"0\" popped up in Jupyter to indicate that the screen had been cleared. However, when you add this to your program in vim, you won't see anything in your terminal, as the screen was cleared before anything printed. Use vim to add the \"import os\" and \"os.system('clear')\" lines to your program and rerun it in the terminal.\n",
    "\n",
    "On a technical note, the screen is not actually erased when you enter the clear command. Instead, the terminal is scrolled down one vertical window length. If you scroll the terminal window up, you can see the old output. This is fine, and it can actually be good to be able to scroll back up and look at some output you might have missed.\n",
    "\n",
    "\n",
    "On Windows: The command to clear the terminal screen is different on Windows. The command os.system('cls') should work."
   ]
  },
  {
   "cell_type": "markdown",
   "metadata": {},
   "source": [
    "### Title Bar\n",
    "To make a title that prints at the top of your program, you can type the following:"
   ]
  },
  {
   "cell_type": "code",
   "execution_count": 79,
   "metadata": {
    "collapsed": false
   },
   "outputs": [
    {
     "name": "stdout",
     "output_type": "stream",
     "text": [
      "\t**********************************************\n",
      "\t***  Greeter - Hello old and new friends!  ***\n",
      "\t**********************************************\n"
     ]
    }
   ],
   "source": [
    "# Greeter is a terminal application that greets old friends warmly,\n",
    "#   and remembers new friends.\n",
    "\n",
    "# Display a title bar.\n",
    "print(\"\\t**********************************************\")\n",
    "print(\"\\t***  Greeter - Hello old and new friends!  ***\")\n",
    "print(\"\\t**********************************************\")"
   ]
  },
  {
   "cell_type": "markdown",
   "metadata": {},
   "source": [
    "### Sleep\n",
    "Sometimes it is helpful to be able to pause a program for a moment. This can slow things down, and it can let us show output in intervals. If you run the following code, you should see the message \"I'm going to sleep now.\" Then you should see nothing happen for 3 seconds, and then you should see the message \"I woke up.\" Note that the sleep function can accept decimal inputs as well, so you can pause for as short or as long in your programs as you want."
   ]
  },
  {
   "cell_type": "code",
   "execution_count": 80,
   "metadata": {
    "collapsed": false
   },
   "outputs": [
    {
     "name": "stdout",
     "output_type": "stream",
     "text": [
      "I'm going to sleep now.\n",
      "I woke up!\n"
     ]
    }
   ],
   "source": [
    "# Import the sleep function.\n",
    "from time import sleep\n",
    "\n",
    "print(\"I'm going to sleep now.\")\n",
    "\n",
    "# Sleep for 3 seconds.\n",
    "sleep(3)\n",
    "\n",
    "print(\"I woke up!\")"
   ]
  },
  {
   "cell_type": "markdown",
   "metadata": {},
   "source": [
    "### A Slowly Disappearing Title Bar\n",
    "This time we are going to print out the title bar, but then we are going to print enough output that we start to lose the title bar. Run this code on your own machine to see the full effect:"
   ]
  },
  {
   "cell_type": "code",
   "execution_count": 81,
   "metadata": {
    "collapsed": false
   },
   "outputs": [
    {
     "name": "stdout",
     "output_type": "stream",
     "text": [
      "\t**********************************************\n",
      "\t***  Greeter - Hello old and new friends!  ***\n",
      "\t**********************************************\n",
      "\n",
      "\n",
      "\n",
      "Aaron\n",
      "Aaron\n",
      "Aaron\n",
      "Aaron\n",
      "Aaron\n",
      "\n",
      "\n",
      "\n",
      "Brenda\n",
      "Brenda\n",
      "Brenda\n",
      "Brenda\n",
      "Brenda\n",
      "\n",
      "\n",
      "\n",
      "Cyrene\n",
      "Cyrene\n",
      "Cyrene\n",
      "Cyrene\n",
      "Cyrene\n",
      "\n",
      "\n",
      "\n",
      "David\n",
      "David\n",
      "David\n",
      "David\n",
      "David\n",
      "\n",
      "\n",
      "\n",
      "Eric\n",
      "Eric\n",
      "Eric\n",
      "Eric\n",
      "Eric\n"
     ]
    }
   ],
   "source": [
    "from time import sleep\n",
    "\n",
    "# Greeter is a terminal application that greets old friends warmly,\n",
    "#   and remembers new friends.\n",
    "\n",
    "# Display a title bar.\n",
    "print(\"\\t**********************************************\")\n",
    "print(\"\\t***  Greeter - Hello old and new friends!  ***\")\n",
    "print(\"\\t**********************************************\")\n",
    "\n",
    "# Print a bunch of information, in short intervals\n",
    "names = ['aaron', 'brenda', 'cyrene', 'david', 'eric']\n",
    "\n",
    "# Print each name 5 times.\n",
    "for name in names:\n",
    "    # Pause for 1 second between batches, and then skip two lines.\n",
    "    sleep(1)\n",
    "    print(\"\\n\\n\")\n",
    "    \n",
    "    for x in range(0,5):\n",
    "        print(name.title())"
   ]
  },
  {
   "cell_type": "markdown",
   "metadata": {},
   "source": [
    "You should have seen the title bar appear, and then groups of names appear every second for a while. At some point, the title bar probably disappeared. Now we are going to modify the code so that the screen is cleared each time through the loop."
   ]
  },
  {
   "cell_type": "code",
   "execution_count": 82,
   "metadata": {
    "collapsed": false
   },
   "outputs": [
    {
     "name": "stdout",
     "output_type": "stream",
     "text": [
      "\t**********************************************\n",
      "\t***  Greeter - Hello old and new friends!  ***\n",
      "\t**********************************************\n",
      "\t**********************************************\n",
      "\t***  Greeter - Hello old and new friends!  ***\n",
      "\t**********************************************\n",
      "\n",
      "\n",
      "\n",
      "Aaron\n",
      "Aaron\n",
      "Aaron\n",
      "Aaron\n",
      "Aaron\n",
      "\t**********************************************\n",
      "\t***  Greeter - Hello old and new friends!  ***\n",
      "\t**********************************************\n",
      "\n",
      "\n",
      "\n",
      "Brenda\n",
      "Brenda\n",
      "Brenda\n",
      "Brenda\n",
      "Brenda\n",
      "\t**********************************************\n",
      "\t***  Greeter - Hello old and new friends!  ***\n",
      "\t**********************************************\n",
      "\n",
      "\n",
      "\n",
      "Cyrene\n",
      "Cyrene\n",
      "Cyrene\n",
      "Cyrene\n",
      "Cyrene\n",
      "\t**********************************************\n",
      "\t***  Greeter - Hello old and new friends!  ***\n",
      "\t**********************************************\n",
      "\n",
      "\n",
      "\n",
      "David\n",
      "David\n",
      "David\n",
      "David\n",
      "David\n",
      "\t**********************************************\n",
      "\t***  Greeter - Hello old and new friends!  ***\n",
      "\t**********************************************\n",
      "\n",
      "\n",
      "\n",
      "Eric\n",
      "Eric\n",
      "Eric\n",
      "Eric\n",
      "Eric\n"
     ]
    }
   ],
   "source": [
    "from time import sleep\n",
    "import os\n",
    "\n",
    "# Greeter is a terminal application that greets old friends warmly,\n",
    "#   and remembers new friends.\n",
    "\n",
    "# Display a title bar.\n",
    "print(\"\\t**********************************************\")\n",
    "print(\"\\t***  Greeter - Hello old and new friends!  ***\")\n",
    "print(\"\\t**********************************************\")\n",
    "\n",
    "# Print a bunch of information, in short intervals\n",
    "names = ['aaron', 'brenda', 'cyrene', 'david', 'eric']\n",
    "\n",
    "# Print each name 5 times.\n",
    "for name in names:\n",
    "    # Clear the screen before listing names.\n",
    "    os.system('clear')\n",
    "    \n",
    "    # Display the title bar.\n",
    "    print(\"\\t**********************************************\")\n",
    "    print(\"\\t***  Greeter - Hello old and new friends!  ***\")\n",
    "    print(\"\\t**********************************************\")\n",
    "\n",
    "    print(\"\\n\\n\")\n",
    "    for x in range(0,5):\n",
    "        print(name.title())\n",
    "    \n",
    "    # Pause for 1 second between batches.\n",
    "    sleep(1)"
   ]
  },
  {
   "cell_type": "markdown",
   "metadata": {},
   "source": [
    "### Reducing Repeated Functions\n",
    "You may have noticed that we have some repeated code in the last program listing. Any time you see a significant amount of repetition, you can probably introduce a function. The repeated code in this example involves displaying the title bar. Let's write a function to show the title bar."
   ]
  },
  {
   "cell_type": "code",
   "execution_count": 83,
   "metadata": {
    "collapsed": false
   },
   "outputs": [
    {
     "name": "stdout",
     "output_type": "stream",
     "text": [
      "\t**********************************************\n",
      "\t***  Greeter - Hello old and new friends!  ***\n",
      "\t**********************************************\n",
      "\n",
      "\n",
      "\n",
      "Aaron\n",
      "Aaron\n",
      "Aaron\n",
      "Aaron\n",
      "Aaron\n",
      "\t**********************************************\n",
      "\t***  Greeter - Hello old and new friends!  ***\n",
      "\t**********************************************\n",
      "\n",
      "\n",
      "\n",
      "Brenda\n",
      "Brenda\n",
      "Brenda\n",
      "Brenda\n",
      "Brenda\n",
      "\t**********************************************\n",
      "\t***  Greeter - Hello old and new friends!  ***\n",
      "\t**********************************************\n",
      "\n",
      "\n",
      "\n",
      "Cyrene\n",
      "Cyrene\n",
      "Cyrene\n",
      "Cyrene\n",
      "Cyrene\n",
      "\t**********************************************\n",
      "\t***  Greeter - Hello old and new friends!  ***\n",
      "\t**********************************************\n",
      "\n",
      "\n",
      "\n",
      "David\n",
      "David\n",
      "David\n",
      "David\n",
      "David\n",
      "\t**********************************************\n",
      "\t***  Greeter - Hello old and new friends!  ***\n",
      "\t**********************************************\n",
      "\n",
      "\n",
      "\n",
      "Eric\n",
      "Eric\n",
      "Eric\n",
      "Eric\n",
      "Eric\n"
     ]
    }
   ],
   "source": [
    "from time import sleep\n",
    "import os\n",
    "\n",
    "# Greeter is a terminal application that greets old friends warmly,\n",
    "#   and remembers new friends.\n",
    "\n",
    "\n",
    "### FUNCTIONS ###\n",
    "\n",
    "def display_title_bar():\n",
    "    # Clears the terminal screen, and displays a title bar.\n",
    "    os.system('clear')\n",
    "              \n",
    "    print(\"\\t**********************************************\")\n",
    "    print(\"\\t***  Greeter - Hello old and new friends!  ***\")\n",
    "    print(\"\\t**********************************************\")\n",
    "    \n",
    "\n",
    "### MAIN PROGRAM ###    \n",
    "\n",
    "# Print a bunch of information, in short intervals\n",
    "names = ['aaron', 'brenda', 'cyrene', 'david', 'eric']\n",
    "\n",
    "# Print each name 5 times.\n",
    "for name in names:\n",
    "    display_title_bar()\n",
    "\n",
    "    print(\"\\n\\n\")\n",
    "    for x in range(0,5):\n",
    "        print(name.title())\n",
    "    \n",
    "    # Pause for 1 second between batches.\n",
    "    sleep(1)"
   ]
  },
  {
   "cell_type": "markdown",
   "metadata": {},
   "source": [
    "### Building the Greeter App\n",
    "Let's continue building Greeter. There are a couple more things we will introduce, but you should be able to follow everything we do.\n",
    "\n",
    "We will start with the previous part where we have a persistent title bar, but we will remove the sleep functions. We will begin by offering users the choice to see a list of names, or enter a new name."
   ]
  },
  {
   "cell_type": "code",
   "execution_count": 85,
   "metadata": {
    "collapsed": false
   },
   "outputs": [
    {
     "name": "stdout",
     "output_type": "stream",
     "text": [
      "\t**********************************************\n",
      "\t***  Greeter - Hello old and new friends!  ***\n",
      "\t**********************************************\n",
      "\n",
      "[1] See a list of friends.\n",
      "[2] Tell me about someone new.\n",
      "[q] Quit.\n",
      "What would you like to do? 1\n",
      "\t**********************************************\n",
      "\t***  Greeter - Hello old and new friends!  ***\n",
      "\t**********************************************\n",
      "\n",
      "Here are the people I know.\n",
      "\n",
      "\n",
      "[1] See a list of friends.\n",
      "[2] Tell me about someone new.\n",
      "[q] Quit.\n",
      "What would you like to do? q\n",
      "\t**********************************************\n",
      "\t***  Greeter - Hello old and new friends!  ***\n",
      "\t**********************************************\n",
      "\n",
      "Thanks for playing. Bye.\n"
     ]
    }
   ],
   "source": [
    "import os\n",
    "\n",
    "# Greeter is a terminal application that greets old friends warmly,\n",
    "#   and remembers new friends.\n",
    "\n",
    "\n",
    "### FUNCTIONS ###\n",
    "\n",
    "def display_title_bar():\n",
    "    # Clears the terminal screen, and displays a title bar.\n",
    "    os.system('clear')\n",
    "              \n",
    "    print(\"\\t**********************************************\")\n",
    "    print(\"\\t***  Greeter - Hello old and new friends!  ***\")\n",
    "    print(\"\\t**********************************************\")\n",
    "    \n",
    "def get_user_choice():\n",
    "    # Let users know what they can do.\n",
    "    print(\"\\n[1] See a list of friends.\")\n",
    "    print(\"[2] Tell me about someone new.\")\n",
    "    print(\"[q] Quit.\")\n",
    "    \n",
    "    return input(\"What would you like to do? \")\n",
    "    \n",
    "\n",
    "### MAIN PROGRAM ###\n",
    "\n",
    "# Set up a loop where users can choose what they'd like to do.\n",
    "choice = ''\n",
    "display_title_bar()\n",
    "while choice != 'q':    \n",
    "    \n",
    "    choice = get_user_choice()\n",
    "    \n",
    "    # Respond to the user's choice.\n",
    "    display_title_bar()\n",
    "    if choice == '1':\n",
    "        print(\"\\nHere are the people I know.\\n\")\n",
    "    elif choice == '2':\n",
    "        print(\"\\nI can't wait to meet this person!\\n\")\n",
    "    elif choice == 'q':\n",
    "        print(\"\\nThanks for playing. Bye.\")\n",
    "    else:\n",
    "        print(\"\\nI didn't understand that choice.\\n\")\n"
   ]
  },
  {
   "cell_type": "markdown",
   "metadata": {},
   "source": [
    "Now, let's make it so that the program actually does something.\n",
    "\n",
    "We will make an empty list to store names.\n",
    "\n",
    "We will print names from this list in choice 1.\n",
    "\n",
    "We will get a new name in choice 2.\n",
    "\n",
    "We will store that new name in the list of names.\n"
   ]
  },
  {
   "cell_type": "code",
   "execution_count": 86,
   "metadata": {
    "collapsed": false
   },
   "outputs": [
    {
     "name": "stdout",
     "output_type": "stream",
     "text": [
      "\t**********************************************\n",
      "\t***  Greeter - Hello old and new friends!  ***\n",
      "\t**********************************************\n",
      "\n",
      "[1] See a list of friends.\n",
      "[2] Tell me about someone new.\n",
      "[q] Quit.\n",
      "What would you like to do? 2\n",
      "\t**********************************************\n",
      "\t***  Greeter - Hello old and new friends!  ***\n",
      "\t**********************************************\n",
      "\n",
      "Please tell me this person's name: Lauren\n",
      "\n",
      "I'm so happy to know Lauren!\n",
      "\n",
      "\n",
      "[1] See a list of friends.\n",
      "[2] Tell me about someone new.\n",
      "[q] Quit.\n",
      "What would you like to do? 2\n",
      "\t**********************************************\n",
      "\t***  Greeter - Hello old and new friends!  ***\n",
      "\t**********************************************\n",
      "\n",
      "Please tell me this person's name: Michael\n",
      "\n",
      "I'm so happy to know Michael!\n",
      "\n",
      "\n",
      "[1] See a list of friends.\n",
      "[2] Tell me about someone new.\n",
      "[q] Quit.\n",
      "What would you like to do? 1\n",
      "\t**********************************************\n",
      "\t***  Greeter - Hello old and new friends!  ***\n",
      "\t**********************************************\n",
      "\n",
      "Here are the people I know.\n",
      "\n",
      "Lauren\n",
      "Michael\n",
      "\n",
      "[1] See a list of friends.\n",
      "[2] Tell me about someone new.\n",
      "[q] Quit.\n",
      "What would you like to do? q\n",
      "\t**********************************************\n",
      "\t***  Greeter - Hello old and new friends!  ***\n",
      "\t**********************************************\n",
      "\n",
      "Thanks for playing. Bye.\n"
     ]
    }
   ],
   "source": [
    "import os\n",
    "\n",
    "# Greeter is a terminal application that greets old friends warmly,\n",
    "#   and remembers new friends.\n",
    "\n",
    "\n",
    "### FUNCTIONS ###\n",
    "\n",
    "def display_title_bar():\n",
    "    # Clears the terminal screen, and displays a title bar.\n",
    "    os.system('clear')\n",
    "              \n",
    "    print(\"\\t**********************************************\")\n",
    "    print(\"\\t***  Greeter - Hello old and new friends!  ***\")\n",
    "    print(\"\\t**********************************************\")\n",
    "    \n",
    "def get_user_choice():\n",
    "    # Let users know what they can do.\n",
    "    print(\"\\n[1] See a list of friends.\")\n",
    "    print(\"[2] Tell me about someone new.\")\n",
    "    print(\"[q] Quit.\")\n",
    "    \n",
    "    return input(\"What would you like to do? \")\n",
    "    \n",
    "def show_names():\n",
    "    # Shows the names of everyone who is already in the list.\n",
    "    print(\"\\nHere are the people I know.\\n\")\n",
    "    for name in names:\n",
    "        print(name.title())\n",
    "        \n",
    "def get_new_name():\n",
    "    # Asks the user for a new name, and stores the name if we don't already\n",
    "    #  know about this person.\n",
    "    new_name = input(\"\\nPlease tell me this person's name: \")\n",
    "    if new_name in names:\n",
    "        print(\"\\n%s is an old friend! Thank you, though.\" % new_name.title())\n",
    "    else:\n",
    "        names.append(new_name)\n",
    "        print(\"\\nI'm so happy to know %s!\\n\" % new_name.title())\n",
    "\n",
    "### MAIN PROGRAM ###\n",
    "\n",
    "# Set up a loop where users can choose what they'd like to do.\n",
    "names = []\n",
    "\n",
    "choice = ''\n",
    "display_title_bar()\n",
    "while choice != 'q':    \n",
    "    \n",
    "    choice = get_user_choice()\n",
    "    \n",
    "    # Respond to the user's choice.\n",
    "    display_title_bar()\n",
    "    if choice == '1':\n",
    "        show_names()\n",
    "    elif choice == '2':\n",
    "        get_new_name()\n",
    "    elif choice == 'q':\n",
    "        print(\"\\nThanks for playing. Bye.\")\n",
    "    else:\n",
    "        print(\"\\nI didn't understand that choice.\\n\")"
   ]
  },
  {
   "cell_type": "markdown",
   "metadata": {},
   "source": [
    "### File Input/Output\n",
    "We really just have a little left to do in order to finish Greeter. We need to dump the list of names before the program ends, and we need to load that list of names when the program starts. Let's do this by creating two new functions:\n",
    "\n",
    "The function load_names() will load the names from a file when the program first starts. This function will be called before the main loop begins.\n",
    "\n",
    "The function quit() will dump the names into a file just before the program ends.\n"
   ]
  },
  {
   "cell_type": "code",
   "execution_count": 2,
   "metadata": {
    "collapsed": false
   },
   "outputs": [
    {
     "name": "stdout",
     "output_type": "stream",
     "text": [
      "['Michael', 'Lauren', 'Paul']\n",
      "\t**********************************************\n",
      "\t***  Greeter - Hello old and new friends!  ***\n",
      "\t**********************************************\n",
      "\n",
      "[1] See a list of friends.\n",
      "[2] Tell me about someone new.\n",
      "[q] Quit.\n",
      "What would you like to do? 1\n",
      "\t**********************************************\n",
      "\t***  Greeter - Hello old and new friends!  ***\n",
      "\t**********************************************\n",
      "\n",
      "Here are the people I know.\n",
      "\n",
      "Michael\n",
      "Lauren\n",
      "Paul\n",
      "\n",
      "[1] See a list of friends.\n",
      "[2] Tell me about someone new.\n",
      "[q] Quit.\n",
      "What would you like to do? 2\n",
      "\t**********************************************\n",
      "\t***  Greeter - Hello old and new friends!  ***\n",
      "\t**********************************************\n",
      "\n",
      "Please tell me this person's name: James\n",
      "\n",
      "I'm so happy to know James!\n",
      "\n",
      "\n",
      "[1] See a list of friends.\n",
      "[2] Tell me about someone new.\n",
      "[q] Quit.\n",
      "What would you like to do? 1\n",
      "\t**********************************************\n",
      "\t***  Greeter - Hello old and new friends!  ***\n",
      "\t**********************************************\n",
      "\n",
      "Here are the people I know.\n",
      "\n",
      "Michael\n",
      "Lauren\n",
      "Paul\n",
      "James\n",
      "\n",
      "[1] See a list of friends.\n",
      "[2] Tell me about someone new.\n",
      "[q] Quit.\n",
      "What would you like to do? q\n",
      "\t**********************************************\n",
      "\t***  Greeter - Hello old and new friends!  ***\n",
      "\t**********************************************\n",
      "\n",
      "Thanks for playing. I will remember these good friends.\n",
      "\n",
      "Thanks for playing. Bye.\n"
     ]
    }
   ],
   "source": [
    "import os\n",
    "# Greeter is a terminal application that greets old friends warmly,\n",
    "#   and remembers new friends.\n",
    "\n",
    "### FUNCTIONS ###\n",
    "\n",
    "def display_title_bar():\n",
    "    # Clears the terminal screen, and displays a title bar.\n",
    "    os.system('clear')\n",
    "              \n",
    "    print(\"\\t**********************************************\")\n",
    "    print(\"\\t***  Greeter - Hello old and new friends!  ***\")\n",
    "    print(\"\\t**********************************************\")\n",
    "    \n",
    "def get_user_choice():\n",
    "    # Let users know what they can do.\n",
    "    print(\"\\n[1] See a list of friends.\")\n",
    "    print(\"[2] Tell me about someone new.\")\n",
    "    print(\"[q] Quit.\")\n",
    "    \n",
    "    return input(\"What would you like to do? \")\n",
    "    \n",
    "def show_names():\n",
    "    # Shows the names of everyone who is already in the list.\n",
    "    print(\"\\nHere are the people I know.\\n\")\n",
    "    for name in names:\n",
    "        print(name.title())\n",
    "        \n",
    "def get_new_name():\n",
    "    # Asks the user for a new name, and stores the name if we don't already\n",
    "    #  know about this person.\n",
    "    new_name = input(\"\\nPlease tell me this person's name: \")\n",
    "    if new_name in names:\n",
    "        print(\"\\n%s is an old friend! Thank you, though.\" % new_name.title())\n",
    "    else:\n",
    "        names.append(new_name)\n",
    "        print(\"\\nI'm so happy to know %s!\\n\" % new_name.title())\n",
    "        \n",
    "def load_names():\n",
    "    # This function loads names from a file, and puts them in the list 'names'.\n",
    "    #  If the file doesn't exist, it creates an empty list.\n",
    "    names = []\n",
    "    try:\n",
    "        for name in open('names.pydata'):\n",
    "            names.append(name.strip())\n",
    "        return names\n",
    "    except Exception as e:\n",
    "        print(e)\n",
    "        return []\n",
    "        \n",
    "def quit():\n",
    "    # This function dumps the names into a file, and prints a quit message.\n",
    "    try:\n",
    "        file_object = open('names.pydata', 'w')\n",
    "        for name in names:\n",
    "            file_object.write(name+'\\n')\n",
    "        file_object.close()\n",
    "        print(\"\\nThanks for playing. I will remember these good friends.\")\n",
    "    except Exception as e:\n",
    "        print(\"\\nThanks for playing. I won't be able to remember these names.\")\n",
    "        print(e)\n",
    "        \n",
    "### MAIN PROGRAM ###\n",
    "\n",
    "# Set up a loop where users can choose what they'd like to do.\n",
    "names = []\n",
    "names = load_names()\n",
    "print(names)\n",
    "choice = ''\n",
    "display_title_bar()\n",
    "while choice != 'q':    \n",
    "    \n",
    "    choice = get_user_choice()\n",
    "    \n",
    "    # Respond to the user's choice.\n",
    "    display_title_bar()\n",
    "    if choice == '1':\n",
    "        show_names()\n",
    "    elif choice == '2':\n",
    "        get_new_name()\n",
    "    elif choice == 'q':\n",
    "        quit()\n",
    "        print(\"\\nThanks for playing. Bye.\")\n",
    "    else:\n",
    "        print(\"\\nI didn't understand that choice.\\n\")"
   ]
  },
  {
   "cell_type": "markdown",
   "metadata": {},
   "source": [
    "### Cat Example!\n",
    "Now we'll build another terminal app. Recall our journal example from our file input/output chapter. If we wanted to append to a file, rather than overwriting it, we used \"a\":"
   ]
  },
  {
   "cell_type": "code",
   "execution_count": 1,
   "metadata": {
    "collapsed": false
   },
   "outputs": [
    {
     "name": "stdout",
     "output_type": "stream",
     "text": [
      "What file do you want to add words to? journal.txt\n",
      "What do you want to say? This is my third entry!\n"
     ]
    }
   ],
   "source": [
    "import os\n",
    "\n",
    "filename = input('What file do you want to add words to? ')\n",
    "say = input('What do you want to say? ')\n",
    "data = []\n",
    "\n",
    "if os.path.exists(filename):\n",
    "    with open(filename, 'a') as f:\n",
    "        f.write(say+'\\n')    \n",
    "else:\n",
    "    f = open(filename, 'w')\n",
    "    f.write(say+'\\n')"
   ]
  },
  {
   "cell_type": "markdown",
   "metadata": {},
   "source": [
    "If we wanted to find out whether a file existed or not, we typed:"
   ]
  },
  {
   "cell_type": "code",
   "execution_count": 3,
   "metadata": {
    "collapsed": false
   },
   "outputs": [
    {
     "name": "stdout",
     "output_type": "stream",
     "text": [
      "What file are you looking for? journal.txt\n",
      "/Users/shareshianl/Documents/CS/Python_Lessons/journal.txt\n"
     ]
    }
   ],
   "source": [
    "import os\n",
    "\n",
    "filename = input('What file are you looking for? ')\n",
    "\n",
    "if os.path.exists(filename):\n",
    "    print(os.path.abspath(filename))\n",
    "else:\n",
    "    print('That file does not exist.')"
   ]
  },
  {
   "cell_type": "markdown",
   "metadata": {},
   "source": [
    "Suppose we wanted to add pictures to a folder of cat pictures in our current directory. We first need to create the full path name for where the directory will be located:"
   ]
  },
  {
   "cell_type": "code",
   "execution_count": 13,
   "metadata": {
    "collapsed": false
   },
   "outputs": [
    {
     "name": "stdout",
     "output_type": "stream",
     "text": [
      "/Users/shareshianl/Documents/CS/Python_Lessons/cat_pictures\n"
     ]
    }
   ],
   "source": [
    "import os\n",
    "folder = 'cat_pictures'\n",
    "full_path = os.path.abspath(folder)\n",
    "print(full_path)"
   ]
  },
  {
   "cell_type": "markdown",
   "metadata": {},
   "source": [
    "Then, we'll need to check whether there already exists a cat folder. If it does not, we will create it:"
   ]
  },
  {
   "cell_type": "code",
   "execution_count": 14,
   "metadata": {
    "collapsed": false
   },
   "outputs": [
    {
     "name": "stdout",
     "output_type": "stream",
     "text": [
      "/Users/shareshianl/Documents/CS/Python_Lessons/cat_pictures\n"
     ]
    }
   ],
   "source": [
    "import os\n",
    "folder = 'cat_pictures'\n",
    "full_path = os.path.abspath(folder)\n",
    "print(full_path)\n",
    "if not os.path.exists(full_path):\n",
    "    os.mkdir(full_path)"
   ]
  },
  {
   "cell_type": "markdown",
   "metadata": {},
   "source": [
    "Now, where will we get these cat pictures from? Well, we'll get them off the web, of course. Each time you make a call to the following website, it generates another random cat picture. Let's say we want to download a new cat pictures each time. Since we're asking for pictures instead of html, we'll need to get the raw data. Also, since we need to operate in what is called streaming mode in order to get pictures, we'll add that additional info as well:"
   ]
  },
  {
   "cell_type": "code",
   "execution_count": 19,
   "metadata": {
    "collapsed": false
   },
   "outputs": [
    {
     "name": "stdout",
     "output_type": "stream",
     "text": [
      "<requests.packages.urllib3.response.HTTPResponse object at 0x106cb5e10>\n"
     ]
    }
   ],
   "source": [
    "import requests\n",
    "\n",
    "url = 'http://consuming-python-services-api.azurewebsites.net/cats/random'\n",
    "response = requests.get(url, stream=True)\n",
    "picture = response.raw"
   ]
  },
  {
   "cell_type": "markdown",
   "metadata": {},
   "source": [
    "Now, let's save the pictures to the cat folder. If we want to take in a data stream (the cat photo off the internet) and create an output stream (saving the picture to a file) then there is a package called shell util that helps us do this. In addition, we'll need to open the file in \"wb\" mode for \"write bytes\" since these photos are in bytes:"
   ]
  },
  {
   "cell_type": "code",
   "execution_count": 43,
   "metadata": {
    "collapsed": false
   },
   "outputs": [],
   "source": [
    "import requests\n",
    "import shutil\n",
    "import os\n",
    "\n",
    "folder = 'cat_pictures'\n",
    "full_path = os.path.abspath(folder)\n",
    "if not os.path.exists(full_path):\n",
    "    os.mkdir(full_path)\n",
    "\n",
    "url = 'http://consuming-python-services-api.azurewebsites.net/cats/random'\n",
    "response = requests.get(url, stream=True)\n",
    "picture = response.raw\n",
    "\n",
    "name = 'catpicture'\n",
    "file_name = os.path.join(full_path,name+'.jpg' )\n",
    "with open(file_name, 'wb') as f.out:\n",
    "    picture.decode_content = True\n",
    "    shutil.copyfileobj(picture, f.out)\n",
    "    \n"
   ]
  },
  {
   "cell_type": "markdown",
   "metadata": {},
   "source": [
    "Lastly, in order for the picture to just pop up, rather than having to go searching for them, we can add the following code if we are working on a Mac:"
   ]
  },
  {
   "cell_type": "code",
   "execution_count": 44,
   "metadata": {
    "collapsed": false
   },
   "outputs": [
    {
     "data": {
      "text/plain": [
       "0"
      ]
     },
     "execution_count": 44,
     "metadata": {},
     "output_type": "execute_result"
    }
   ],
   "source": [
    "import requests\n",
    "import shutil\n",
    "import os\n",
    "import subprocess\n",
    "\n",
    "folder = 'cat_pictures'\n",
    "full_path = os.path.abspath(folder)\n",
    "if not os.path.exists(full_path):\n",
    "    os.mkdir(full_path)\n",
    "\n",
    "url = 'http://consuming-python-services-api.azurewebsites.net/cats/random'\n",
    "response = requests.get(url, stream=True)\n",
    "picture = response.raw\n",
    "\n",
    "name = 'catpicture'\n",
    "file_name = os.path.join(full_path,name+'.jpg' )\n",
    "with open(file_name, 'wb') as f.out:\n",
    "    picture.decode_content = True\n",
    "    shutil.copyfileobj(picture, f.out)\n",
    "    \n",
    "\n",
    "subprocess.call(['open', full_path])"
   ]
  },
  {
   "cell_type": "markdown",
   "metadata": {},
   "source": [
    "What should we do if we want to get more than one cat? We'll need to make a loop, in order to call the pictures \"catpicture1.jpg\", \"catpicture2.jpg\", etc. But before we do this, let's pause to learn one more printing format. Recall that if we want to print the word \"catpicture\" and \"2\", we've learned three different ways so far:"
   ]
  },
  {
   "cell_type": "code",
   "execution_count": 47,
   "metadata": {
    "collapsed": false
   },
   "outputs": [
    {
     "name": "stdout",
     "output_type": "stream",
     "text": [
      "catpicture2\n",
      "catpicture2\n",
      "catpicture2\n"
     ]
    }
   ],
   "source": [
    "print('catpicture'+'2')\n",
    "print(''.join(['catpicture','2']))\n",
    "print('%s%s'%('catpicture','2'))"
   ]
  },
  {
   "cell_type": "markdown",
   "metadata": {},
   "source": [
    "Let's learn a fourth way now:"
   ]
  },
  {
   "cell_type": "code",
   "execution_count": 49,
   "metadata": {
    "collapsed": false
   },
   "outputs": [
    {
     "name": "stdout",
     "output_type": "stream",
     "text": [
      "catpicture2\n"
     ]
    }
   ],
   "source": [
    "print('catpicture{}'.format(2))"
   ]
  },
  {
   "cell_type": "markdown",
   "metadata": {},
   "source": [
    "What does \".format\" do? Anything inside .format will be substituted in between the brackets. As another example:"
   ]
  },
  {
   "cell_type": "code",
   "execution_count": 57,
   "metadata": {
    "collapsed": false
   },
   "outputs": [
    {
     "name": "stdout",
     "output_type": "stream",
     "text": [
      "catpicture234\n"
     ]
    }
   ],
   "source": [
    "print('catpicture{}{}{}'.format(2,3,4))"
   ]
  },
  {
   "cell_type": "markdown",
   "metadata": {},
   "source": [
    "How does this help us with our cat program? Well, for each loop number we will append the number to the cat picture name. Let's add five cat pictures:"
   ]
  },
  {
   "cell_type": "code",
   "execution_count": 59,
   "metadata": {
    "collapsed": false
   },
   "outputs": [
    {
     "data": {
      "text/plain": [
       "0"
      ]
     },
     "execution_count": 59,
     "metadata": {},
     "output_type": "execute_result"
    }
   ],
   "source": [
    "import requests\n",
    "import shutil\n",
    "import os\n",
    "import subprocess\n",
    "\n",
    "folder = 'cat_pictures'\n",
    "full_path = os.path.abspath(folder)\n",
    "if not os.path.exists(full_path):\n",
    "    os.mkdir(full_path)\n",
    "\n",
    "for i in range(8):\n",
    "    url = 'http://consuming-python-services-api.azurewebsites.net/cats/random'\n",
    "    response = requests.get(url, stream=True)\n",
    "    picture = response.raw\n",
    "\n",
    "    name = 'catpicture{}'.format(i)\n",
    "    file_name = os.path.join(full_path,name+'.jpg' )\n",
    "    with open(file_name, 'wb') as f.out:\n",
    "        picture.decode_content = True\n",
    "        shutil.copyfileobj(picture, f.out)\n",
    "    \n",
    "\n",
    "subprocess.call(['open', full_path])"
   ]
  },
  {
   "cell_type": "code",
   "execution_count": null,
   "metadata": {
    "collapsed": true
   },
   "outputs": [],
   "source": []
  }
 ],
 "metadata": {
  "kernelspec": {
   "display_name": "Python 3",
   "language": "python",
   "name": "python3"
  },
  "language_info": {
   "codemirror_mode": {
    "name": "ipython",
    "version": 3
   },
   "file_extension": ".py",
   "mimetype": "text/x-python",
   "name": "python",
   "nbconvert_exporter": "python",
   "pygments_lexer": "ipython3",
   "version": "3.6.0"
  }
 },
 "nbformat": 4,
 "nbformat_minor": 2
}
