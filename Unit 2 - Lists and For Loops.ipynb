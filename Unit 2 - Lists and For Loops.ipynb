{
 "cells": [
  {
   "cell_type": "markdown",
   "metadata": {},
   "source": [
    "Contents\n",
    "---\n",
    "- [Introduction to Lists](#introtolists)\n",
    "- [Editing Lists](#editing)\n",
    "- [Looping Through Lists](#looping)\n",
    "- [Common LIst Operations](#operations)\n",
    "- [Numerical Lists and the Range Function](#numericallists)\n",
    "- [Strings as Lists](#stringsaslists)\n",
    "- [More String Commands](#stringcommands)\n",
    "- [Copying Lists](#copying)"
   ]
  },
  {
   "cell_type": "markdown",
   "metadata": {},
   "source": [
    "Introduction to Lists\n",
    "---\n",
    "<a class=\"anchor\" id=\"introtolists\"></a>\n",
    "\n",
    "A list is a collection of items, that is stored in a variable. The items should be related in some way, but there are no restrictions on what can be stored in a list. Here is a simple example of a list, and how we can quickly access each item in the list.\n",
    "\n",
    "\n",
    "### Naming and defining a list\n",
    "\n",
    "Since lists are collection of objects, it is good practice to give them a plural name. If each item in your list is a car, call the list 'cars'. If each item is a dog, call your list 'dogs'. This gives you a straightforward way to refer to the entire list ('dogs'), and to a single item in the list ('dog').\n",
    "\n",
    "In Python, square brackets designate a list. To define a list, you give the name of the list, the equals sign, and the values you want to include in your list within square brackets."
   ]
  },
  {
   "cell_type": "code",
   "execution_count": 23,
   "metadata": {
    "collapsed": false
   },
   "outputs": [
    {
     "name": "stdout",
     "output_type": "stream",
     "text": [
      "['border collie', 'australian cattle dog', 'labrador retriever']\n"
     ]
    }
   ],
   "source": [
    "dogs = ['border collie', 'australian cattle dog', 'labrador retriever']\n",
    "print(dogs)"
   ]
  },
  {
   "cell_type": "markdown",
   "metadata": {},
   "source": [
    "### Accessing one item in a list\n",
    "\n",
    "Items in a list are identified by their position in the list, starting with zero. This will almost certainly trip you up at some point. Programmers even joke about how often we all make \"off-by-one\" errors, so don't feel bad when you make this kind of error.\n",
    "\n",
    "To access the first element in a list, you give the name of the list, followed by a zero in brackets."
   ]
  },
  {
   "cell_type": "code",
   "execution_count": 1,
   "metadata": {
    "collapsed": false
   },
   "outputs": [
    {
     "name": "stdout",
     "output_type": "stream",
     "text": [
      "border collie\n",
      "Border Collie\n"
     ]
    }
   ],
   "source": [
    "dogs = ['border collie', 'australian cattle dog', 'labrador retriever']\n",
    "\n",
    "dog = dogs[0]\n",
    "print(dog)\n",
    "print(dog.title())"
   ]
  },
  {
   "cell_type": "markdown",
   "metadata": {},
   "source": [
    "The number in parentheses is called the **index** of the item. Because lists start at zero, the index of an item is always one less than its position in the list. So to get the second item in the list, we need to use an index of 1."
   ]
  },
  {
   "cell_type": "code",
   "execution_count": 19,
   "metadata": {
    "collapsed": false
   },
   "outputs": [
    {
     "name": "stdout",
     "output_type": "stream",
     "text": [
      "Australian Cattle Dog\n"
     ]
    }
   ],
   "source": [
    "dogs = ['border collie', 'australian cattle dog', 'labrador retriever']\n",
    "\n",
    "dog = dogs[1]\n",
    "print(dog.title())"
   ]
  },
  {
   "cell_type": "markdown",
   "metadata": {},
   "source": [
    "### Accessing the last items in a list\n",
    "You can probably see that to get the last item in this list, we would use an index of 2. This works, but it would only work because our list has exactly three items. To get the last item in a list, no matter how long the list is, you can use an index of -1."
   ]
  },
  {
   "cell_type": "code",
   "execution_count": 20,
   "metadata": {
    "collapsed": false
   },
   "outputs": [
    {
     "name": "stdout",
     "output_type": "stream",
     "text": [
      "Labrador Retriever\n"
     ]
    }
   ],
   "source": [
    "dogs = ['border collie', 'australian cattle dog', 'labrador retriever']\n",
    "\n",
    "dog = dogs[-1]\n",
    "print(dog.title())"
   ]
  },
  {
   "cell_type": "markdown",
   "metadata": {},
   "source": [
    "This syntax also works for the second to last item, the third to last, and so forth."
   ]
  },
  {
   "cell_type": "code",
   "execution_count": 21,
   "metadata": {
    "collapsed": false
   },
   "outputs": [
    {
     "name": "stdout",
     "output_type": "stream",
     "text": [
      "Australian Cattle Dog\n"
     ]
    }
   ],
   "source": [
    "dogs = ['border collie', 'australian cattle dog', 'labrador retriever']\n",
    "\n",
    "dog = dogs[-2]\n",
    "print(dog.title())"
   ]
  },
  {
   "cell_type": "markdown",
   "metadata": {},
   "source": [
    "You can't use a negative number larger than the length of the list, however."
   ]
  },
  {
   "cell_type": "code",
   "execution_count": 22,
   "metadata": {
    "collapsed": false
   },
   "outputs": [
    {
     "ename": "IndexError",
     "evalue": "list index out of range",
     "output_type": "error",
     "traceback": [
      "\u001b[0;31m---------------------------------------------------------------------------\u001b[0m",
      "\u001b[0;31mIndexError\u001b[0m                                Traceback (most recent call last)",
      "\u001b[0;32m<ipython-input-22-32c58df001ad>\u001b[0m in \u001b[0;36m<module>\u001b[0;34m()\u001b[0m\n\u001b[1;32m      1\u001b[0m \u001b[0mdogs\u001b[0m \u001b[0;34m=\u001b[0m \u001b[0;34m[\u001b[0m\u001b[0;34m'border collie'\u001b[0m\u001b[0;34m,\u001b[0m \u001b[0;34m'australian cattle dog'\u001b[0m\u001b[0;34m,\u001b[0m \u001b[0;34m'labrador retriever'\u001b[0m\u001b[0;34m]\u001b[0m\u001b[0;34m\u001b[0m\u001b[0m\n\u001b[1;32m      2\u001b[0m \u001b[0;34m\u001b[0m\u001b[0m\n\u001b[0;32m----> 3\u001b[0;31m \u001b[0mdog\u001b[0m \u001b[0;34m=\u001b[0m \u001b[0mdogs\u001b[0m\u001b[0;34m[\u001b[0m\u001b[0;34m-\u001b[0m\u001b[0;36m4\u001b[0m\u001b[0;34m]\u001b[0m\u001b[0;34m\u001b[0m\u001b[0m\n\u001b[0m\u001b[1;32m      4\u001b[0m \u001b[0mprint\u001b[0m\u001b[0;34m(\u001b[0m\u001b[0mdog\u001b[0m\u001b[0;34m.\u001b[0m\u001b[0mtitle\u001b[0m\u001b[0;34m(\u001b[0m\u001b[0;34m)\u001b[0m\u001b[0;34m)\u001b[0m\u001b[0;34m\u001b[0m\u001b[0m\n",
      "\u001b[0;31mIndexError\u001b[0m: list index out of range"
     ]
    }
   ],
   "source": [
    "dogs = ['border collie', 'australian cattle dog', 'labrador retriever']\n",
    "\n",
    "dog = dogs[-4]\n",
    "print(dog.title())"
   ]
  },
  {
   "cell_type": "markdown",
   "metadata": {},
   "source": [
    "Editing Lists\n",
    "---\n",
    "<a class=\"anchor\" id=\"editing\"></a>\n",
    "\n",
    "### Lists are Mutable\n",
    "\n",
    "\n",
    "Lists are mutable, meaning that we can change items in the list. For example, suppose we create the list of dogs 'border collie', 'australian cattle dog', and 'labrador retriever', but we want to change the australian cattle dog to a pit bull. Look at what the following code does:"
   ]
  },
  {
   "cell_type": "code",
   "execution_count": 1,
   "metadata": {
    "collapsed": false
   },
   "outputs": [
    {
     "name": "stdout",
     "output_type": "stream",
     "text": [
      "['border collie', 'australian cattle dog', 'labrador retriever']\n",
      "['border collie', 'pit bull', 'labrador retriever']\n"
     ]
    }
   ],
   "source": [
    "dogs = ['border collie', 'australian cattle dog', 'labrador retriever']\n",
    "print(dogs)\n",
    "dogs[1]='pit bull'\n",
    "print(dogs)"
   ]
  },
  {
   "cell_type": "markdown",
   "metadata": {},
   "source": [
    "### Finding an index\n",
    "\n",
    "We can use .index() to find the location of an element in a list. Look at the following code:\n"
   ]
  },
  {
   "cell_type": "code",
   "execution_count": 2,
   "metadata": {
    "collapsed": false
   },
   "outputs": [
    {
     "name": "stdout",
     "output_type": "stream",
     "text": [
      "0\n",
      "1\n",
      "2\n"
     ]
    }
   ],
   "source": [
    "dogs = ['border collie', 'australian cattle dog', 'labrador retriever']\n",
    "print(dogs.index('border collie'))\n",
    "print(dogs.index('australian cattle dog'))\n",
    "print(dogs.index('labrador retriever'))"
   ]
  },
  {
   "cell_type": "markdown",
   "metadata": {},
   "source": [
    "### Exercise - New Best Friend\n",
    "Write a program that saves a list of your friends. Uh oh - you got into a fight with one of your friends and replaced them with a new one. Update your friend list accordingly. Print each friend's name and their index in a sentence. For example, one sentence might by \"My friend Jane is in Index 2.\""
   ]
  },
  {
   "cell_type": "code",
   "execution_count": 7,
   "metadata": {
    "collapsed": true
   },
   "outputs": [],
   "source": [
    "# insert new best friend code here"
   ]
  },
  {
   "cell_type": "markdown",
   "metadata": {},
   "source": [
    "### Exercise - Race\n",
    "Jane, Jack, and Sue are saved in a race list. Jane came in first place, Jack came in second, and Sue came in third. Write a program that uses the index command to print out the results. For example, the first line should say \"Jane is in: Place 1.\" Hint: you may need to add by 1 somewhere since Jane is technically in the 0 index.\n"
   ]
  },
  {
   "cell_type": "code",
   "execution_count": 6,
   "metadata": {
    "collapsed": true
   },
   "outputs": [],
   "source": [
    "# insert race code here"
   ]
  },
  {
   "cell_type": "markdown",
   "metadata": {},
   "source": [
    "Adding items to a list\n",
    "---\n",
    "\n",
    "We can add items to a list by using the append command. Suppose I want to adopt two more dogs, a pit bull and a boxer. I can use the following code:\n"
   ]
  },
  {
   "cell_type": "code",
   "execution_count": 4,
   "metadata": {
    "collapsed": false,
    "scrolled": true
   },
   "outputs": [
    {
     "name": "stdout",
     "output_type": "stream",
     "text": [
      "['border collie', 'australian cattle dog', 'labrador retriever', 'pit bull', 'boxer']\n"
     ]
    }
   ],
   "source": [
    "dogs = ['border collie', 'australian cattle dog', 'labrador retriever']\n",
    "dogs.append('pit bull')\n",
    "dogs.append('boxer')\n",
    "print(dogs)"
   ]
  },
  {
   "cell_type": "markdown",
   "metadata": {},
   "source": [
    "### Creating an empty list\n",
    "Suppose we start out with no dogs at our house. Then, we start going to the shelter (until our husband stops us!) to adopt more dogs. In this case, we'll start out with an empty dog list and then add dogs as we go. To do this, use the following code:"
   ]
  },
  {
   "cell_type": "code",
   "execution_count": 8,
   "metadata": {
    "collapsed": false
   },
   "outputs": [
    {
     "name": "stdout",
     "output_type": "stream",
     "text": [
      "['pit bull', 'boxer', 'labrador']\n"
     ]
    }
   ],
   "source": [
    "dogs = []\n",
    "dogs.append('pit bull')\n",
    "dogs.append('boxer')\n",
    "dogs.append('labrador')\n",
    "print(dogs)"
   ]
  },
  {
   "cell_type": "markdown",
   "metadata": {},
   "source": [
    "Sorting a List\n",
    "---\n",
    "\n",
    "We want to sort a list of students in alphabetical order. We might try this code:"
   ]
  },
  {
   "cell_type": "code",
   "execution_count": 10,
   "metadata": {
    "collapsed": false
   },
   "outputs": [
    {
     "name": "stdout",
     "output_type": "stream",
     "text": [
      "None\n"
     ]
    }
   ],
   "source": [
    "students = ['James', 'Abby', 'Zach', 'Brandy', 'Mitch']\n",
    "print(students.sort())"
   ]
  },
  {
   "cell_type": "markdown",
   "metadata": {},
   "source": [
    "Uh oh, this isn't what we want. We actually need to sort the list before we print it. Type:"
   ]
  },
  {
   "cell_type": "code",
   "execution_count": 14,
   "metadata": {
    "collapsed": false
   },
   "outputs": [
    {
     "name": "stdout",
     "output_type": "stream",
     "text": [
      "['Abby', 'Brandy', 'James', 'Mitch', 'Zach']\n"
     ]
    }
   ],
   "source": [
    "students = ['James', 'Abby', 'Zach', 'Brandy', 'Mitch']\n",
    "students.sort()\n",
    "print(students)"
   ]
  },
  {
   "cell_type": "markdown",
   "metadata": {},
   "source": [
    "We can even go in reverse order. "
   ]
  },
  {
   "cell_type": "code",
   "execution_count": 15,
   "metadata": {
    "collapsed": false
   },
   "outputs": [
    {
     "name": "stdout",
     "output_type": "stream",
     "text": [
      "['Zach', 'Mitch', 'James', 'Brandy', 'Abby']\n"
     ]
    }
   ],
   "source": [
    "students = ['James', 'Abby', 'Zach', 'Brandy', 'Mitch']\n",
    "students.sort(reverse = True)\n",
    "print(students)"
   ]
  },
  {
   "cell_type": "markdown",
   "metadata": {},
   "source": [
    "### Exercise - Make New Friends\n",
    "Make a list of some of your friends. Great! Now, you've made some new friends. Add them to the list, too."
   ]
  },
  {
   "cell_type": "code",
   "execution_count": null,
   "metadata": {
    "collapsed": true
   },
   "outputs": [],
   "source": [
    "#insert make new friends code here"
   ]
  },
  {
   "cell_type": "markdown",
   "metadata": {},
   "source": [
    "### Exercise - Alphabetical New Friends\n",
    "Sort your friends from the Make New Friends exercise in both orders."
   ]
  },
  {
   "cell_type": "code",
   "execution_count": 17,
   "metadata": {
    "collapsed": true
   },
   "outputs": [],
   "source": [
    "# insert alphabetical new friends code\n"
   ]
  },
  {
   "cell_type": "markdown",
   "metadata": {},
   "source": [
    "Removing items from a list\n",
    "---\n",
    "There are several different ways to remove items from a list. These include remove, pop, and delete."
   ]
  },
  {
   "cell_type": "markdown",
   "metadata": {},
   "source": [
    "### Removing items by position\n",
    "Suppose we have four items in a list and we want to remove the third. We can do that by using the delete function and specifying that we want to remove the item in the third index: "
   ]
  },
  {
   "cell_type": "code",
   "execution_count": 22,
   "metadata": {
    "collapsed": false
   },
   "outputs": [
    {
     "name": "stdout",
     "output_type": "stream",
     "text": [
      "['border collie', 'australian cattle dog', 'pit bull']\n"
     ]
    }
   ],
   "source": [
    "dogs = ['border collie', 'australian cattle dog', 'labrador retriever', 'pit bull']\n",
    "del dogs[2]\n",
    "\n",
    "print(dogs)"
   ]
  },
  {
   "cell_type": "markdown",
   "metadata": {},
   "source": [
    "### Removing items by value\n",
    "\n",
    "You can also remove an item from a list if you know its value. To do this, we use the *remove()* function. Give the name of the list, followed by the word remove with the value of the item you want to remove in parentheses. Python looks through your list, finds the first item with this value, and removes it."
   ]
  },
  {
   "cell_type": "code",
   "execution_count": 28,
   "metadata": {
    "collapsed": false
   },
   "outputs": [
    {
     "name": "stdout",
     "output_type": "stream",
     "text": [
      "['border collie', 'australian cattle dog', 'pit bull']\n"
     ]
    }
   ],
   "source": [
    "dogs = ['border collie', 'australian cattle dog', 'labrador retriever', 'pit bull']\n",
    "dogs.remove('labrador retriever')\n",
    "print(dogs)"
   ]
  },
  {
   "cell_type": "markdown",
   "metadata": {},
   "source": [
    "Just be careful, though, because using the remove command only removes the first instance of an item. If that item appears multiple times in your list, it will only remove the first:"
   ]
  },
  {
   "cell_type": "code",
   "execution_count": 29,
   "metadata": {
    "collapsed": false
   },
   "outputs": [
    {
     "name": "stdout",
     "output_type": "stream",
     "text": [
      "['border collie', 'australian cattle dog', 'pit bull', 'labrador retriever']\n"
     ]
    }
   ],
   "source": [
    "dogs = ['border collie', 'australian cattle dog', 'labrador retriever', 'pit bull', 'labrador retriever']\n",
    "dogs.remove('labrador retriever')\n",
    "print(dogs)"
   ]
  },
  {
   "cell_type": "markdown",
   "metadata": {},
   "source": [
    "### Popping items in a list\n",
    "Python has a third function that not only removes an item from the list, but also saves the item so that we can work with it if we want to. If you don't specify the index of the item that you want to remove, then by default, it will remove the last item in your list.  Consider the following code:"
   ]
  },
  {
   "cell_type": "code",
   "execution_count": 30,
   "metadata": {
    "collapsed": false
   },
   "outputs": [
    {
     "name": "stdout",
     "output_type": "stream",
     "text": [
      "labrador retriever\n",
      "['border collie', 'australian cattle dog']\n"
     ]
    }
   ],
   "source": [
    "dogs = ['border collie', 'australian cattle dog', 'labrador retriever']\n",
    "last_dog = dogs.pop()\n",
    "\n",
    "print(last_dog)\n",
    "print(dogs)"
   ]
  },
  {
   "cell_type": "markdown",
   "metadata": {},
   "source": [
    "However, if I wanted to remove the second dog from the list instead, I could specify index = 1 in the pop argument:"
   ]
  },
  {
   "cell_type": "code",
   "execution_count": 33,
   "metadata": {
    "collapsed": false
   },
   "outputs": [
    {
     "name": "stdout",
     "output_type": "stream",
     "text": [
      "australian cattle dog\n",
      "['border collie', 'labrador retriever']\n"
     ]
    }
   ],
   "source": [
    "dogs = ['border collie', 'australian cattle dog', 'labrador retriever']\n",
    "last_dog = dogs.pop(1)\n",
    "\n",
    "print(last_dog)\n",
    "print(dogs)"
   ]
  },
  {
   "cell_type": "markdown",
   "metadata": {},
   "source": [
    "### Exercise - Fight with friends\n",
    "Make a list of five friends. Suppose you get into a fight with the third friend in your list. Use the pop function to delete that friend from your friend list. Then print out a statement that says that the person is not your friend anymore. For example, if your friends are Jack, Jane, Sue, Alan, and Rick, you should remove Sue from the list and then say, \"Sue, you are not my friend!\" using the variable stored from using pop."
   ]
  },
  {
   "cell_type": "code",
   "execution_count": null,
   "metadata": {
    "collapsed": true
   },
   "outputs": [],
   "source": [
    "#insert fight with friends"
   ]
  },
  {
   "cell_type": "markdown",
   "metadata": {},
   "source": [
    "### Exercise - Fight with friends again\n",
    "\n",
    "Make a list of five friends. Remove one of them by name using the remove command."
   ]
  },
  {
   "cell_type": "code",
   "execution_count": null,
   "metadata": {
    "collapsed": true
   },
   "outputs": [],
   "source": [
    "#insert fight with friends again"
   ]
  },
  {
   "cell_type": "markdown",
   "metadata": {},
   "source": [
    "Length of a List\n",
    "---\n",
    " The length of a list can be obtained by typing len() around the list:"
   ]
  },
  {
   "cell_type": "code",
   "execution_count": 24,
   "metadata": {
    "collapsed": false
   },
   "outputs": [
    {
     "name": "stdout",
     "output_type": "stream",
     "text": [
      "3\n"
     ]
    }
   ],
   "source": [
    "dogs = ['border collie', 'australian cattle dog', 'labrador retriever']\n",
    "print(len(dogs))"
   ]
  },
  {
   "cell_type": "markdown",
   "metadata": {},
   "source": [
    "Thus, len provides another way for us to reference the last dog in the list:"
   ]
  },
  {
   "cell_type": "code",
   "execution_count": 25,
   "metadata": {
    "collapsed": false
   },
   "outputs": [
    {
     "name": "stdout",
     "output_type": "stream",
     "text": [
      "labrador retriever\n"
     ]
    }
   ],
   "source": [
    "dogs = ['border collie', 'australian cattle dog', 'labrador retriever']\n",
    "print(dogs[len(dogs)-1])"
   ]
  },
  {
   "cell_type": "markdown",
   "metadata": {},
   "source": [
    "Wait - why did we have to use the index len(dogs)-1 instead of just len(dogs)? Remember - although there are three dogs in the list, they are referenced by the indices 0, 1, and 2. Thus, there is no dog in the index = 3 position."
   ]
  },
  {
   "cell_type": "markdown",
   "metadata": {},
   "source": [
    "### Exercise - Last Crayon\n",
    "Write a program that saves four colors in a list called colors. Use both the -1 method and the length method to print the last color in the list two different ways."
   ]
  },
  {
   "cell_type": "code",
   "execution_count": null,
   "metadata": {
    "collapsed": true
   },
   "outputs": [],
   "source": [
    "#insert last crayon code here"
   ]
  },
  {
   "cell_type": "markdown",
   "metadata": {},
   "source": [
    "### Exercise - Three movies\n",
    "Store your favorite movies in a list. Print each movie in a separate complete sentence. In the last sentence, specify how many favorite movies you have, using the length function. For example, my code might read:\n",
    "\n",
    "```One of my favorite movies is Old School.\n",
    "One of my favorite movies is Eternal Sunshine.\n",
    "One of my favorite movies is Blair Witch.\n",
    "I have three favorite movies.```\n"
   ]
  },
  {
   "cell_type": "code",
   "execution_count": null,
   "metadata": {
    "collapsed": true
   },
   "outputs": [],
   "source": [
    "#insert three movies code here"
   ]
  },
  {
   "cell_type": "markdown",
   "metadata": {},
   "source": [
    "Looping Through Lists\n",
    "---\n",
    "<a class=\"anchor\" id=\"looping\"></a>\n",
    "We can use a for loop to print out every item in a list on a separate line:\n"
   ]
  },
  {
   "cell_type": "code",
   "execution_count": 28,
   "metadata": {
    "collapsed": false
   },
   "outputs": [
    {
     "name": "stdout",
     "output_type": "stream",
     "text": [
      "border collie\n",
      "australian cattle dog\n",
      "labrador retriever\n"
     ]
    }
   ],
   "source": [
    "dogs = ['border collie', 'australian cattle dog', 'labrador retriever']\n",
    "for dog in dogs:\n",
    "    print(dog)"
   ]
  },
  {
   "cell_type": "markdown",
   "metadata": {},
   "source": [
    "We have already seen how to create a list, so we are really just trying to understand how the last two lines work. These last two lines make up a loop, and the language here can help us see what is happening:\n",
    "\n",
    "    for dog in dogs:\n",
    "\n",
    "- The keyword \"for\" tells Python to get ready to use a loop.\n",
    "- The variable \"dog\", with no \"s\" on it, is a temporary placeholder variable. This is the variable that Python will place each item in the list into, one at a time.\n",
    "- The first time through the loop, the value of \"dog\" will be 'border collie'.\n",
    "- The second time through the loop, the value of \"dog\" will be 'australian cattle dog'.\n",
    "- The third time through, \"dog\" will be 'labrador retriever'.\n",
    "- After this, there are no more items in the list, and the loop will end.\n",
    "\n",
    "Note that our program would have worked no matter what we had called the variable meant to reference each dog in the list dogs. The singular \"dog\" is only an indexing variable, we could have just as easily called it \"pet\":"
   ]
  },
  {
   "cell_type": "code",
   "execution_count": 29,
   "metadata": {
    "collapsed": false
   },
   "outputs": [
    {
     "name": "stdout",
     "output_type": "stream",
     "text": [
      "border collie\n",
      "australian cattle dog\n",
      "labrador retriever\n"
     ]
    }
   ],
   "source": [
    "dogs = ['border collie', 'australian cattle dog', 'labrador retriever']\n",
    "for pet in dogs:\n",
    "    print(pet)"
   ]
  },
  {
   "cell_type": "markdown",
   "metadata": {},
   "source": [
    "What wouldn't have worked, however, is if we printed \"dogs\" instead of \"dog\".\n",
    "\n",
    "### A common looping error\n",
    "One common looping error occurs when instead of using the single variable *dog* inside the loop, we accidentally use the variable that holds the entire list:"
   ]
  },
  {
   "cell_type": "code",
   "execution_count": 4,
   "metadata": {
    "collapsed": false
   },
   "outputs": [
    {
     "name": "stdout",
     "output_type": "stream",
     "text": [
      "['border collie', 'australian cattle dog', 'labrador retriever']\n",
      "['border collie', 'australian cattle dog', 'labrador retriever']\n",
      "['border collie', 'australian cattle dog', 'labrador retriever']\n"
     ]
    }
   ],
   "source": [
    "dogs = ['border collie', 'australian cattle dog', 'labrador retriever']\n",
    "\n",
    "for dog in dogs:\n",
    "    print(dogs)"
   ]
  },
  {
   "cell_type": "markdown",
   "metadata": {},
   "source": [
    "In this example, instead of printing each dog in the list, we print the entire list every time we go through the loop. Python puts each individual item in the list into the variable *dog*, but we never use that variable."
   ]
  },
  {
   "cell_type": "markdown",
   "metadata": {},
   "source": [
    "### Iterating though sorted lists:\n",
    "Suppose we wanted to go back to our list of students and print each name out in alphabetical order, as well as print out each name in caps. We can use the sorted() command instead of sort():"
   ]
  },
  {
   "cell_type": "code",
   "execution_count": 18,
   "metadata": {
    "collapsed": false
   },
   "outputs": [
    {
     "name": "stdout",
     "output_type": "stream",
     "text": [
      "ABBY\n",
      "BRANDY\n",
      "JAMES\n",
      "MITCH\n",
      "ZACH\n"
     ]
    }
   ],
   "source": [
    "students = ['James', 'Abby', 'Zach', 'Brandy', 'Mitch']\n",
    "for student in sorted(students):\n",
    "    print(student.upper())"
   ]
  },
  {
   "cell_type": "markdown",
   "metadata": {},
   "source": [
    "### Doing more with each item\n",
    "---\n",
    "\n",
    "We can do whatever we want with the value of \"dog\" inside the loop. In this case, we just print the name of the dog.\n",
    "\n",
    "    print(dog)\n",
    "\n",
    "However, we are not limited to just printing the word dog. We can do whatever we want with this value, and this action will be carried out for every item in the list. Let's say something about each dog in our list."
   ]
  },
  {
   "cell_type": "code",
   "execution_count": 30,
   "metadata": {
    "collapsed": false
   },
   "outputs": [
    {
     "name": "stdout",
     "output_type": "stream",
     "text": [
      "I like border collies.\n",
      "I like australian cattle dogs.\n",
      "I like labrador retrievers.\n"
     ]
    }
   ],
   "source": [
    "dogs = ['border collie', 'australian cattle dog', 'labrador retriever']\n",
    "\n",
    "for dog in dogs:\n",
    "    print('I like ' + dog + 's.')"
   ]
  },
  {
   "cell_type": "markdown",
   "metadata": {},
   "source": [
    "### Inside and outside the loop\n",
    "\n",
    "Python uses indentation to decide what is inside the loop and what is outside the loop. Code that is inside the loop will be run for every item in the list. Code that is not indented, which comes after the loop, will be run once just like regular code."
   ]
  },
  {
   "cell_type": "code",
   "execution_count": 31,
   "metadata": {
    "collapsed": false
   },
   "outputs": [
    {
     "name": "stdout",
     "output_type": "stream",
     "text": [
      "I like border collies.\n",
      "No, I really really like border collies!\n",
      "\n",
      "I like australian cattle dogs.\n",
      "No, I really really like australian cattle dogs!\n",
      "\n",
      "I like labrador retrievers.\n",
      "No, I really really like labrador retrievers!\n",
      "\n",
      "\n",
      "That's just how I feel about dogs.\n"
     ]
    }
   ],
   "source": [
    "dogs = ['border collie', 'australian cattle dog', 'labrador retriever']\n",
    "\n",
    "for dog in dogs:\n",
    "    print('I like ' + dog + 's.')\n",
    "    print('No, I really really like ' + dog +'s!\\n')\n",
    "    \n",
    "print(\"\\nThat's just how I feel about dogs.\")"
   ]
  },
  {
   "cell_type": "markdown",
   "metadata": {},
   "source": [
    "Notice that the last line only runs once, after the loop is completed. Also notice the use of newlines (\"\\n\") to make the output easier to read. Here's another example to see how indentatation works:"
   ]
  },
  {
   "cell_type": "code",
   "execution_count": 4,
   "metadata": {
    "collapsed": false
   },
   "outputs": [
    {
     "name": "stdout",
     "output_type": "stream",
     "text": [
      "What is your favorite rapper? mos def\n",
      "That's cool that your favorite rapper is mos def.\n",
      "I like Jay-Z.\n",
      "I like Notorious B.I.G.\n",
      "I like The Roots.\n",
      "Who else do you like?\n"
     ]
    }
   ],
   "source": [
    "your_rapper = input('What is your favorite rapper? ')\n",
    "print(\"That's cool that your favorite rapper is \"+your_rapper + '.')\n",
    "my_rappers = ['Jay-Z', 'Notorious B.I.G', 'The Roots']\n",
    "\n",
    "for artist in my_rappers:\n",
    "    print('I like '+artist+'.')\n",
    "print('Who else do you like?')"
   ]
  },
  {
   "cell_type": "markdown",
   "metadata": {},
   "source": [
    "### Exercise - colors\n",
    "Make a list of four colors called \"colors\". Use a for loop to print out each color on a new line. Do this twice - once using the word \"color\" as the indexing variable, and once using the word \"crayon.\" You should obtain the same output each time."
   ]
  },
  {
   "cell_type": "code",
   "execution_count": 17,
   "metadata": {
    "collapsed": true
   },
   "outputs": [],
   "source": [
    "#insert colors code here"
   ]
  },
  {
   "cell_type": "markdown",
   "metadata": {},
   "source": [
    "### Exercise - Proper Nouns\n",
    "Take in a list of lower case words that should be capitalized, like \"seattle\" or \"john.\" Print each word in reverse alphabetical order on a new line, capitalizing the first word of each line. Hint: remember the .title() command."
   ]
  },
  {
   "cell_type": "code",
   "execution_count": 19,
   "metadata": {
    "collapsed": true
   },
   "outputs": [],
   "source": [
    "### insert proper nouns code here"
   ]
  },
  {
   "cell_type": "markdown",
   "metadata": {},
   "source": [
    "### Exercise - colors again\n",
    "Use your color list again and a for loop to print the name of the color and the index of the color in each line. For example, one of your lines might read \"Red is in the index 0 position.\" (Hint: Remember how to print words and numbers in the same print statement.)"
   ]
  },
  {
   "cell_type": "code",
   "execution_count": 5,
   "metadata": {
    "collapsed": true
   },
   "outputs": [],
   "source": [
    "#insert colors again code"
   ]
  },
  {
   "cell_type": "markdown",
   "metadata": {},
   "source": [
    "### Exercise - travel\n",
    "Ask the user for a place they want to visit.\n",
    "Make a list of the places you want to visit.\n",
    "Make a loop printing out the places that you want to visit, in a complete sentence.\n",
    "Write a concluding sentence that says \"I love to travel!\""
   ]
  },
  {
   "cell_type": "code",
   "execution_count": 6,
   "metadata": {
    "collapsed": true
   },
   "outputs": [],
   "source": [
    "#insert travel"
   ]
  },
  {
   "cell_type": "markdown",
   "metadata": {},
   "source": [
    "Common List Operations\n",
    "---\n",
    "<a class=\"anchor\" id=\"operations\"></a>"
   ]
  },
  {
   "cell_type": "markdown",
   "metadata": {},
   "source": [
    "Splitting A String Into A List\n",
    "---\n",
    "As always, programs aren't very exciting if the variables always stay the same. Instead, we might want to ask a user what their favorite colors are, and then print them in a list. However, if the user prints out all of there colors on the same line, we'll need to split the string into a list of words. For example, suppose the user types in \"red blue violet.\" Then we would want the program to output:\n",
    "\n",
    "```What are your favorite colors? red blue violet\n",
    "One of your favorite colors is red.\n",
    "One of your favorite colors is blue.\n",
    "One of your favorite colors is violet.```\n",
    "\n",
    "To do this, you'll use the .split() command:"
   ]
  },
  {
   "cell_type": "code",
   "execution_count": 8,
   "metadata": {
    "collapsed": false
   },
   "outputs": [
    {
     "name": "stdout",
     "output_type": "stream",
     "text": [
      "What are your favorite colors? red blue gray\n",
      "One of your favorite colors is red.\n",
      "One of your favorite colors is blue.\n",
      "One of your favorite colors is gray.\n"
     ]
    }
   ],
   "source": [
    "colors = input('What are your favorite colors? ')\n",
    "your_colors = colors.split()\n",
    "for color in your_colors:\n",
    "    print('One of your favorite colors is ' + color + '.')\n"
   ]
  },
  {
   "cell_type": "markdown",
   "metadata": {},
   "source": [
    "As another example, suppose you wanted the user to give you their favorite three numbers and you return double those numbers. The first line of your program might look like:\n",
    "\n",
    "```What are your favorite numbers? 10 13 101```\n",
    "\n",
    "You could type:"
   ]
  },
  {
   "cell_type": "code",
   "execution_count": 9,
   "metadata": {
    "collapsed": false
   },
   "outputs": [
    {
     "name": "stdout",
     "output_type": "stream",
     "text": [
      "What are your favorite numbers? 5 10 15\n",
      "10\n",
      "20\n",
      "30\n",
      "These are double your numbers.\n"
     ]
    }
   ],
   "source": [
    "numbers = input('What are your favorite numbers? ')\n",
    "your_numbers = numbers.split()\n",
    "for number in your_numbers:\n",
    "    print(2*int(number))\n",
    "print('These are double your numbers.')"
   ]
  },
  {
   "cell_type": "markdown",
   "metadata": {},
   "source": [
    "Wait - why did we need to type int(number) instead of just number? Remember, since we took the user's input in a a single phrase, and .split() broke the phrase up into words, we have to remind Python that each of those words is actually a number. Otherwise, when we multiply by 2, we'll just repeat that number twice, as Python is treating it as a string:"
   ]
  },
  {
   "cell_type": "code",
   "execution_count": 10,
   "metadata": {
    "collapsed": false,
    "scrolled": true
   },
   "outputs": [
    {
     "name": "stdout",
     "output_type": "stream",
     "text": [
      "What are your favorite numbers? 5 15 20\n",
      "55\n",
      "1515\n",
      "2020\n",
      "These are double your numbers.\n"
     ]
    }
   ],
   "source": [
    "numbers = input('What are your favorite numbers? ')\n",
    "your_numbers = numbers.split()\n",
    "for number in your_numbers:\n",
    "    print(2*number)\n",
    "print('These are double your numbers.')"
   ]
  },
  {
   "cell_type": "markdown",
   "metadata": {},
   "source": [
    "### Exercise - Class List\n",
    "Write a program that takes a list of students and prints out a class list. For example, your program should look like:\n",
    "\n",
    "```Students: Jack Pam Alan Brittany Zach\n",
    "Class List\n",
    "Jack\n",
    "Pam \n",
    "Alan\n",
    "Brittany\n",
    "Zach\n",
    "This is your class!```"
   ]
  },
  {
   "cell_type": "code",
   "execution_count": 11,
   "metadata": {
    "collapsed": true
   },
   "outputs": [],
   "source": [
    "#insert class list code"
   ]
  },
  {
   "cell_type": "markdown",
   "metadata": {},
   "source": [
    "### Exercise - One less\n",
    "Write a program that takes a list of numbers and prints out one less than each of those numbers."
   ]
  },
  {
   "cell_type": "code",
   "execution_count": null,
   "metadata": {
    "collapsed": true
   },
   "outputs": [],
   "source": [
    "#insert one less code"
   ]
  },
  {
   "cell_type": "markdown",
   "metadata": {},
   "source": [
    "### Exercise - exercise\n",
    "Write a program that asks the user which days they exercised, and then tells them how many days they did and did NOT exercise. For example, your output should look like:\n",
    "\n",
    "```Which days did you exercise? Monday Wednesday Thurday\n",
    "Days you exercised: 3\n",
    "Days you were lazy: 4```\n"
   ]
  },
  {
   "cell_type": "code",
   "execution_count": null,
   "metadata": {
    "collapsed": true
   },
   "outputs": [],
   "source": [
    "#insert rain code"
   ]
  },
  {
   "cell_type": "markdown",
   "metadata": {},
   "source": [
    "Using Lists to Update Strings\n",
    "---\n",
    "Suppose we have a list of words and we want to print them out on one line. We can do that using a for loop and by initializing an empty string. Each time we enter the loop, we'll add another word to the string. For example, in the code below I'll print out all of the colors on one line and the length of the string we created:"
   ]
  },
  {
   "cell_type": "code",
   "execution_count": 24,
   "metadata": {
    "collapsed": false
   },
   "outputs": [
    {
     "name": "stdout",
     "output_type": "stream",
     "text": [
      "red blue green \n",
      "15\n"
     ]
    }
   ],
   "source": [
    "colors = ['red', 'blue', 'green']\n",
    "color_phrase = ''\n",
    "for color in colors:\n",
    "    color_phrase = color_phrase + color + ' '\n",
    "print(color_phrase)\n",
    "print(len(color_phrase))"
   ]
  },
  {
   "cell_type": "markdown",
   "metadata": {},
   "source": [
    "Notice - the words red, blue, green, and the spaces between them add up to 14 characters. Why is the length 15? Because there is an extra space at the end for the last time it added a + ' ' in the loop. If we want to delete that, remember we can use the .rstrip() command to strip the whitespace from the right hand side. Type:\n"
   ]
  },
  {
   "cell_type": "code",
   "execution_count": 26,
   "metadata": {
    "collapsed": false
   },
   "outputs": [
    {
     "name": "stdout",
     "output_type": "stream",
     "text": [
      "red blue green\n",
      "14\n"
     ]
    }
   ],
   "source": [
    "colors = ['red', 'blue', 'green']\n",
    "color_phrase = ''\n",
    "for color in colors:\n",
    "    color_phrase = color_phrase + color + ' '\n",
    "color_phrase = color_phrase.rstrip()\n",
    "print(color_phrase)\n",
    "print(len(color_phrase))"
   ]
  },
  {
   "cell_type": "markdown",
   "metadata": {},
   "source": [
    "As another example, suppose we want to print out the numbers 1 through 5 on a line separated by a space, but deleting the extra space at the end. We could type:"
   ]
  },
  {
   "cell_type": "code",
   "execution_count": 27,
   "metadata": {
    "collapsed": false
   },
   "outputs": [
    {
     "name": "stdout",
     "output_type": "stream",
     "text": [
      "1 2 3 4 5\n"
     ]
    }
   ],
   "source": [
    "numbers = [1, 2, 3, 4, 5]\n",
    "number_phrase = ''\n",
    "for number in numbers:\n",
    "    number_phrase = number_phrase + str(number) + ' '\n",
    "number_phrase = number_phrase.rstrip()\n",
    "print(number_phrase)"
   ]
  },
  {
   "cell_type": "markdown",
   "metadata": {},
   "source": [
    "### A second way to print things on the same line\n",
    "There is another way to print everything in a list out on one line without saving the words in the list in a new variable. We can use end = ' ' at the end of a print statement and that will ensure that a new line is not started:"
   ]
  },
  {
   "cell_type": "code",
   "execution_count": 1,
   "metadata": {
    "collapsed": false
   },
   "outputs": [
    {
     "name": "stdout",
     "output_type": "stream",
     "text": [
      "red blue green "
     ]
    }
   ],
   "source": [
    "colors = ['red', 'blue', 'green']\n",
    "for color in colors:\n",
    "    print(color, end = ' ')\n",
    "    "
   ]
  },
  {
   "cell_type": "markdown",
   "metadata": {},
   "source": [
    "Note that technically, there will be one extra space at the end of the line, but as long as you don't care, this is an easy way to print multiple things on the same line."
   ]
  },
  {
   "cell_type": "markdown",
   "metadata": {},
   "source": [
    "### A third way to print things on the same line\n",
    "\n",
    "We can also use the join command. If we want to join each word with a space between them, we'll type:"
   ]
  },
  {
   "cell_type": "code",
   "execution_count": 2,
   "metadata": {
    "collapsed": false
   },
   "outputs": [
    {
     "name": "stdout",
     "output_type": "stream",
     "text": [
      "red blue green\n"
     ]
    }
   ],
   "source": [
    "colors = ['red', 'blue', 'green']\n",
    "print(' '.join(colors))"
   ]
  },
  {
   "cell_type": "markdown",
   "metadata": {},
   "source": [
    "In fact, if we wanted to insert \"!!!\" between each color, we could also use the join command:"
   ]
  },
  {
   "cell_type": "code",
   "execution_count": 6,
   "metadata": {
    "collapsed": false
   },
   "outputs": [
    {
     "name": "stdout",
     "output_type": "stream",
     "text": [
      "red!!!blue!!!green\n"
     ]
    }
   ],
   "source": [
    "colors = ['red', 'blue', 'green']\n",
    "print('!!!'.join(colors))"
   ]
  },
  {
   "cell_type": "markdown",
   "metadata": {},
   "source": [
    "### Exercise - dogs #1\n",
    "Create a list of 5 dogs. Print out all of the dogs on one line, separated by a space, by creating an empty string and updating it in a loop. Get rid of the extra space at the end. DON'T use the join command or the end = ' ' command."
   ]
  },
  {
   "cell_type": "code",
   "execution_count": null,
   "metadata": {
    "collapsed": true
   },
   "outputs": [],
   "source": [
    "#insert dogs"
   ]
  },
  {
   "cell_type": "markdown",
   "metadata": {},
   "source": [
    "### Exercise - dogs #2\n",
    "Create a list of 5 dogs. Print out all of the dogs on one line, separated by a space, by creating an empty string and updating it in a loop. Get rid of the extra space at the end. Use the end = '' command."
   ]
  },
  {
   "cell_type": "code",
   "execution_count": 7,
   "metadata": {
    "collapsed": true
   },
   "outputs": [],
   "source": [
    "#insert dogs 2"
   ]
  },
  {
   "cell_type": "markdown",
   "metadata": {},
   "source": [
    "### Exercise - dogs #3\n",
    "Create a list of 5 dogs. Print out all of the dogs on one line, separated by a space, by creating an empty string and updating it in a loop. Get rid of the extra space at the end. Use the .join command"
   ]
  },
  {
   "cell_type": "code",
   "execution_count": 8,
   "metadata": {
    "collapsed": true
   },
   "outputs": [],
   "source": [
    "#insert dogs 3"
   ]
  },
  {
   "cell_type": "markdown",
   "metadata": {},
   "source": [
    "### Exercise - I like #1\n",
    "\n",
    "Write a program that takes in a list of names and prints out 'I like __'. For example, if you take in the list \"Joe Jack Sue,\" it should print out on one line \"I like Joe. I like Jack. I like Sue.\" You should start with an empty phrase and update it without using the join command."
   ]
  },
  {
   "cell_type": "code",
   "execution_count": null,
   "metadata": {
    "collapsed": true
   },
   "outputs": [],
   "source": [
    "#insert i like"
   ]
  },
  {
   "cell_type": "markdown",
   "metadata": {},
   "source": [
    "### Exercise - I like #2\n",
    "\n",
    "Write a program that takes in a list of names and prints out 'I like __'. For example, if you take in the list \"Joe Jack Sue,\" it should print out on one line \"I like Joe. I like Jack. I like Sue.\" Use the join command, perhaps more than once."
   ]
  },
  {
   "cell_type": "code",
   "execution_count": null,
   "metadata": {
    "collapsed": true
   },
   "outputs": [],
   "source": [
    "#insert I like 2"
   ]
  },
  {
   "cell_type": "markdown",
   "metadata": {},
   "source": [
    "Numerical Lists and the Range Function\n",
    "---\n",
    "<a class=\"anchor\" id=\"numericallists\"></a>\n",
    "### Using Lists to Update Numerical Variables\n",
    "Suppose we wanted to multiply all of the numbers that the user gave us. For example, our program should look like:\n",
    "\n",
    "```What numbers do you want me to multiply? 2 3 10\n",
    "Product = 60 ```\n",
    "\n",
    "We could type:"
   ]
  },
  {
   "cell_type": "code",
   "execution_count": 9,
   "metadata": {
    "collapsed": false
   },
   "outputs": [
    {
     "name": "stdout",
     "output_type": "stream",
     "text": [
      "What numbers do you want me to multiply? 2 3 5\n",
      "Product = 30\n"
     ]
    }
   ],
   "source": [
    "numbers = input('What numbers do you want me to multiply? ')\n",
    "number_list = numbers.split()\n",
    "product = 1\n",
    "for number in number_list:\n",
    "    product = product*int(number)\n",
    "print('Product =', product)"
   ]
  },
  {
   "cell_type": "markdown",
   "metadata": {},
   "source": [
    "Wait - the above program is slightly complicated. Why did we need to introduce another variable called 'product'? Well, each time we enter the for loop, we want to take our previous value and multiply it by the new value in our list of numbers. If we start by initializing the product to be 1, then 1 times the first number will just be the first number. Why wouldn't have the program worked if we had used zero? See below.\n"
   ]
  },
  {
   "cell_type": "code",
   "execution_count": 10,
   "metadata": {
    "collapsed": false
   },
   "outputs": [
    {
     "name": "stdout",
     "output_type": "stream",
     "text": [
      "What numbers do you want me to multiply? 2 3 5\n",
      "Product = 0\n"
     ]
    }
   ],
   "source": [
    "numbers = input('What numbers do you want me to multiply? ')\n",
    "number_list = numbers.split()\n",
    "product = 0\n",
    "for number in number_list:\n",
    "    product = product*int(number)\n",
    "print('Product =', product)"
   ]
  },
  {
   "cell_type": "markdown",
   "metadata": {},
   "source": [
    "Since zero times any number is zero, this is no good. However, sometimes we do want to start at zero when we want to add things. For example, if I want to add the numbers 1 through 5, I can type:"
   ]
  },
  {
   "cell_type": "code",
   "execution_count": 11,
   "metadata": {
    "collapsed": false
   },
   "outputs": [
    {
     "name": "stdout",
     "output_type": "stream",
     "text": [
      "Sum = 15\n"
     ]
    }
   ],
   "source": [
    "numbers = [1, 2, 3, 4, 5]\n",
    "sum = 0\n",
    "for number in numbers:\n",
    "    sum = sum + number\n",
    "print('Sum =', sum)"
   ]
  },
  {
   "cell_type": "markdown",
   "metadata": {},
   "source": [
    "### Exercise - Expenses\n",
    "Write a program to read in a list of integer costs, and print out the total sum of all of the costs. For example:\n",
    "\n",
    "```Enter the expenses: 2 5 10\n",
    "Total: $17```\n",
    "\n"
   ]
  },
  {
   "cell_type": "code",
   "execution_count": null,
   "metadata": {
    "collapsed": true
   },
   "outputs": [],
   "source": [
    "#enter expenses code here"
   ]
  },
  {
   "cell_type": "markdown",
   "metadata": {},
   "source": [
    "### Exercise - More expenses\n",
    "Suppose you have $100. You buy a few things and are wondering how much you have left. Write a program that takes in your expenses and calculates your remaining balance. For example:\n",
    "\n",
    "```Your expenses are: 2 5 10\n",
    "Your balance is $83```"
   ]
  },
  {
   "cell_type": "code",
   "execution_count": 19,
   "metadata": {
    "collapsed": true
   },
   "outputs": [],
   "source": [
    "#insert more expenses code here"
   ]
  },
  {
   "cell_type": "markdown",
   "metadata": {},
   "source": [
    "### Exercise - 5 factorial\n",
    "Remember that the factorial function multiplies all of the numbers between 1 and that number. For example, 5! = 5*4*3*2*1 = 120. We will learn how to create a general factorial function soon. For now, though, take in a list of numbers [1,2,3,4,5] and use a for loop to multiply them together."
   ]
  },
  {
   "cell_type": "code",
   "execution_count": 20,
   "metadata": {
    "collapsed": true
   },
   "outputs": [],
   "source": [
    "#insert 5 factorial code here"
   ]
  },
  {
   "cell_type": "markdown",
   "metadata": {},
   "source": [
    "The Range Function\n",
    "---\n",
    "So far, we have created a list ourselves and then looped through it using a for loop. However, there is a built-in way to create lists of numbers using Python. The range function is a way of creating lists of numbers quickly:"
   ]
  },
  {
   "cell_type": "code",
   "execution_count": 8,
   "metadata": {
    "collapsed": false
   },
   "outputs": [
    {
     "name": "stdout",
     "output_type": "stream",
     "text": [
      "0\n",
      "1\n",
      "2\n",
      "3\n",
      "4\n",
      "5\n",
      "6\n",
      "7\n"
     ]
    }
   ],
   "source": [
    "for i in range(8):\n",
    "    print(i)"
   ]
  },
  {
   "cell_type": "markdown",
   "metadata": {},
   "source": [
    "What do we notice? The range function starts at 0 and ends one less than the number specified. What about this next example?"
   ]
  },
  {
   "cell_type": "code",
   "execution_count": 7,
   "metadata": {
    "collapsed": false
   },
   "outputs": [
    {
     "name": "stdout",
     "output_type": "stream",
     "text": [
      "3\n",
      "4\n",
      "5\n",
      "6\n",
      "7\n"
     ]
    }
   ],
   "source": [
    "for i in range (3,8):\n",
    "    print(i)"
   ]
  },
  {
   "cell_type": "markdown",
   "metadata": {},
   "source": [
    "Once again, the range function starts at the first number and ends at one less than the last number."
   ]
  },
  {
   "cell_type": "markdown",
   "metadata": {},
   "source": [
    "If we specify a third argument, it specifies by how much we want to increment our numbers by. Thus to get the odds, we can go up by 2:"
   ]
  },
  {
   "cell_type": "code",
   "execution_count": 10,
   "metadata": {
    "collapsed": false
   },
   "outputs": [
    {
     "name": "stdout",
     "output_type": "stream",
     "text": [
      "3\n",
      "5\n",
      "7\n"
     ]
    }
   ],
   "source": [
    "for i in range (3,8,2):\n",
    "    print(i)"
   ]
  },
  {
   "cell_type": "markdown",
   "metadata": {},
   "source": [
    "We can also use that third argument to go in reverse order if we use -1:\n"
   ]
  },
  {
   "cell_type": "code",
   "execution_count": 13,
   "metadata": {
    "collapsed": false
   },
   "outputs": [
    {
     "name": "stdout",
     "output_type": "stream",
     "text": [
      "8\n",
      "7\n",
      "6\n",
      "5\n",
      "4\n"
     ]
    }
   ],
   "source": [
    "for i in range (8,3,-1):\n",
    "    print(i)"
   ]
  },
  {
   "cell_type": "markdown",
   "metadata": {},
   "source": [
    "Note that once again, the range starts at the first number but ends one before the last number. "
   ]
  },
  {
   "cell_type": "markdown",
   "metadata": {},
   "source": [
    "### Exercise - Evens\n",
    "Use the range function to print out all of the even numbers between 4 and 12, inclusive."
   ]
  },
  {
   "cell_type": "code",
   "execution_count": null,
   "metadata": {
    "collapsed": true
   },
   "outputs": [],
   "source": [
    "# insert even code here"
   ]
  },
  {
   "cell_type": "markdown",
   "metadata": {},
   "source": [
    "### Exercise - Threes\n",
    "Use the range function to print out every third number between 5 and 25, inclusive. "
   ]
  },
  {
   "cell_type": "code",
   "execution_count": null,
   "metadata": {
    "collapsed": true
   },
   "outputs": [],
   "source": [
    "#insert odd code here"
   ]
  },
  {
   "cell_type": "markdown",
   "metadata": {},
   "source": [
    "### Exercise - In reverse\n",
    "Use the range function to print out all of the numbers in decreasing order between 10 and 5, inclusive."
   ]
  },
  {
   "cell_type": "code",
   "execution_count": null,
   "metadata": {
    "collapsed": true
   },
   "outputs": [],
   "source": [
    "# insert in reverse code"
   ]
  },
  {
   "cell_type": "markdown",
   "metadata": {},
   "source": [
    "### Exercise - Count Down\n",
    "Write a program that takes in a user's number and counts down to zero. "
   ]
  },
  {
   "cell_type": "code",
   "execution_count": 14,
   "metadata": {
    "collapsed": true
   },
   "outputs": [],
   "source": [
    "#insert count down code here"
   ]
  },
  {
   "cell_type": "markdown",
   "metadata": {},
   "source": [
    "### Exercise - numbers on one line\n",
    "Write a program that takes in a user's number and prints out all of the numbers between 0 and that number separated by a space using the range function. For example, if the user enters 4, then your program should print out the line \"0 1 2 3 4\". "
   ]
  },
  {
   "cell_type": "code",
   "execution_count": null,
   "metadata": {
    "collapsed": true
   },
   "outputs": [],
   "source": [
    "#insert numbers on one line"
   ]
  },
  {
   "cell_type": "markdown",
   "metadata": {},
   "source": [
    "### Exercise - Repeaterbot\n",
    "Write a program that takes in a user's word and a user's number, n, and prints that word n times, with a space in between, using the end = ' ' trick. For example, if the user enters hi and 5 the program should return \"hi hi hi hi hi\"."
   ]
  },
  {
   "cell_type": "code",
   "execution_count": null,
   "metadata": {
    "collapsed": true
   },
   "outputs": [],
   "source": [
    "#insert repeaterbot"
   ]
  },
  {
   "cell_type": "markdown",
   "metadata": {},
   "source": [
    "Using the range function to perform calculations\n",
    "---\n",
    "Suppose we want to multiply all of the numbers between 1 and 5 (i.e., calculate 5 factorial again). We can type:"
   ]
  },
  {
   "cell_type": "code",
   "execution_count": 1,
   "metadata": {
    "collapsed": false
   },
   "outputs": [
    {
     "name": "stdout",
     "output_type": "stream",
     "text": [
      "120\n"
     ]
    }
   ],
   "source": [
    "product = 1\n",
    "for i in range(1,6):\n",
    "    product = product*i\n",
    "print(product)"
   ]
  },
  {
   "cell_type": "markdown",
   "metadata": {},
   "source": [
    "Why did we have to start the range function at 1? Because if we started at 0, the product would always be zero since zero times anything is always 0. Why did we have to end at 6? Because to actually include 5 in our product, we have to overshoot by 1. Why did we define product = 1 at the beginning? Because we needed to define our variable, product, and we know that 1 times any number won't actually change the number. "
   ]
  },
  {
   "cell_type": "markdown",
   "metadata": {},
   "source": [
    "### Exercise -n factorial\n",
    "Write a program that takes in a user's positive integer and calculates the product of all of the numbers between 1 and that number."
   ]
  },
  {
   "cell_type": "code",
   "execution_count": null,
   "metadata": {
    "collapsed": true
   },
   "outputs": [],
   "source": [
    "#insert n factorial code here"
   ]
  },
  {
   "cell_type": "markdown",
   "metadata": {},
   "source": [
    "### Exercise - add first n integers\n",
    "Write a program that takes in a user's positive number and adds all of the numbers between 1 and that number."
   ]
  },
  {
   "cell_type": "code",
   "execution_count": null,
   "metadata": {
    "collapsed": true
   },
   "outputs": [],
   "source": [
    "#insert add code here"
   ]
  },
  {
   "cell_type": "markdown",
   "metadata": {},
   "source": [
    "Using range(len)\n",
    "---\n",
    "We can use the length function inside the range function in order to iterate through a list. For example, recall the following code:"
   ]
  },
  {
   "cell_type": "code",
   "execution_count": 7,
   "metadata": {
    "collapsed": false
   },
   "outputs": [
    {
     "name": "stdout",
     "output_type": "stream",
     "text": [
      "border collie\n",
      "australian cattle dog\n",
      "labrador retriever\n",
      "pitbull\n"
     ]
    }
   ],
   "source": [
    "dogs = ['border collie', 'australian cattle dog', 'labrador retriever', 'pitbull']\n",
    "for dog in dogs:\n",
    "    print(dog)"
   ]
  },
  {
   "cell_type": "markdown",
   "metadata": {},
   "source": [
    "We can use the range function to obtain the same output as above:"
   ]
  },
  {
   "cell_type": "code",
   "execution_count": 1,
   "metadata": {
    "collapsed": false
   },
   "outputs": [
    {
     "name": "stdout",
     "output_type": "stream",
     "text": [
      "border collie\n",
      "australian cattle dog\n",
      "labrador retriever\n",
      "pit bull\n",
      "corgie\n"
     ]
    }
   ],
   "source": [
    "dogs = ['border collie', 'australian cattle dog', 'labrador retriever', 'pit bull', 'corgie']\n",
    "for i in range(len(dogs)):\n",
    "    print(dogs[i])"
   ]
  },
  {
   "cell_type": "markdown",
   "metadata": {},
   "source": [
    "This second way looks more complicated. Why would we want to use it? Well, sometimes, we will only want to iterate through part of a list, and so we'll need to use the range function in order to specify which indices we want. For example, suppose we only wanted to print out the first three dogs in the list. We could type:"
   ]
  },
  {
   "cell_type": "code",
   "execution_count": 2,
   "metadata": {
    "collapsed": false
   },
   "outputs": [
    {
     "name": "stdout",
     "output_type": "stream",
     "text": [
      "border collie\n",
      "australian cattle dog\n",
      "labrador retriever\n"
     ]
    }
   ],
   "source": [
    "dogs = ['border collie', 'australian cattle dog', 'labrador retriever', 'pit bull', 'corgie']\n",
    "for i in range(3):\n",
    "    print(dogs[i])"
   ]
  },
  {
   "cell_type": "markdown",
   "metadata": {
    "collapsed": true
   },
   "source": [
    "Suppose we only wanted to print out the last three dogs in the list. We could type:"
   ]
  },
  {
   "cell_type": "code",
   "execution_count": 3,
   "metadata": {
    "collapsed": false
   },
   "outputs": [
    {
     "name": "stdout",
     "output_type": "stream",
     "text": [
      "labrador retriever\n",
      "pit bull\n",
      "corgie\n"
     ]
    }
   ],
   "source": [
    "dogs = ['border collie', 'australian cattle dog', 'labrador retriever', 'pit bull', 'corgie']\n",
    "for i in range(len(dogs)-3, len(dogs)):\n",
    "    print(dogs[i])"
   ]
  },
  {
   "cell_type": "markdown",
   "metadata": {},
   "source": [
    "### Using range to print in reverse\n",
    "Suppose we had a list of dogs and we wanted to print them out in reverse. We could type:"
   ]
  },
  {
   "cell_type": "code",
   "execution_count": 6,
   "metadata": {
    "collapsed": false
   },
   "outputs": [
    {
     "name": "stdout",
     "output_type": "stream",
     "text": [
      "corgie\n",
      "pit bull\n",
      "labrador retriever\n",
      "australian cattle dog\n",
      "border collie\n"
     ]
    }
   ],
   "source": [
    "dogs = ['border collie', 'australian cattle dog', 'labrador retriever', 'pit bull', 'corgie']\n",
    "for i in range(len(dogs)-1,-1,-1):\n",
    "    print(dogs[i])"
   ]
  },
  {
   "cell_type": "markdown",
   "metadata": {},
   "source": [
    "Wait - the code above is pretty complicated. What are all of those negative ones doing? Well, we needed len(dogs)-1 instead of len(dogs) because technically, although there are five dogs in the list, the last dog is stored in the 4th index, not the 5th. We needed the middle \"-1\" because remember that the range function always stops one short of its upper boundary. Thus, to really print out corgie, which is stored in the 0th spot, we needed to overshoot it by 1 and make our upper boundary \"-1\". The last \"-1\" is to tell Python that we'd like to go in reverse order."
   ]
  },
  {
   "cell_type": "markdown",
   "metadata": {},
   "source": [
    "### Printing Range\n",
    "One more thing about range: if you go to print a range, you might run into something that you didn't expect:"
   ]
  },
  {
   "cell_type": "code",
   "execution_count": 20,
   "metadata": {
    "collapsed": false
   },
   "outputs": [
    {
     "name": "stdout",
     "output_type": "stream",
     "text": [
      "range(0, 5)\n"
     ]
    }
   ],
   "source": [
    "print(range(5))"
   ]
  },
  {
   "cell_type": "markdown",
   "metadata": {},
   "source": [
    "If you actually want to print the numbers in the range, you'll need to print its list:'"
   ]
  },
  {
   "cell_type": "code",
   "execution_count": 21,
   "metadata": {
    "collapsed": false,
    "scrolled": true
   },
   "outputs": [
    {
     "name": "stdout",
     "output_type": "stream",
     "text": [
      "[0, 1, 2, 3, 4]\n"
     ]
    }
   ],
   "source": [
    "print(list(range(5)))"
   ]
  },
  {
   "cell_type": "markdown",
   "metadata": {},
   "source": [
    "### Exercise - two ways\n",
    "Make a list of 6 colors. Iterate through the list first by not using the range function and then by using the range function."
   ]
  },
  {
   "cell_type": "code",
   "execution_count": 16,
   "metadata": {
    "collapsed": true
   },
   "outputs": [],
   "source": [
    "#insert two ways code"
   ]
  },
  {
   "cell_type": "markdown",
   "metadata": {},
   "source": [
    "### Exercise - list of colors\n",
    "Make a list of 6 colors and use the range function to print out the last 4 elements in the list. "
   ]
  },
  {
   "cell_type": "code",
   "execution_count": null,
   "metadata": {
    "collapsed": true
   },
   "outputs": [],
   "source": [
    "#insert list of colors code below"
   ]
  },
  {
   "cell_type": "markdown",
   "metadata": {},
   "source": [
    "### Exercise - sports\n",
    "Make a list of 5 sports. Iterate through the list first by not using the range function and then by using the range function."
   ]
  },
  {
   "cell_type": "code",
   "execution_count": null,
   "metadata": {
    "collapsed": true
   },
   "outputs": [],
   "source": [
    "#insert sports code"
   ]
  },
  {
   "cell_type": "markdown",
   "metadata": {},
   "source": [
    "### Exercise - sentence\n",
    "Take in a user's sentence. Break the sentence up into words and use the range function to print out each word on a different line. Make each word capitalized."
   ]
  },
  {
   "cell_type": "code",
   "execution_count": null,
   "metadata": {
    "collapsed": true
   },
   "outputs": [],
   "source": [
    "#insert sentence code below"
   ]
  },
  {
   "cell_type": "markdown",
   "metadata": {},
   "source": [
    "### Exercise - backwards sentence\n",
    "Take in a user's sentence. Break the sentence up into words and use the range function to print out each word IN REVERSE ORDER on a separate line. For example, \"hello goodbye hola\" would turn into \"hola goodbye hello.\""
   ]
  },
  {
   "cell_type": "code",
   "execution_count": 5,
   "metadata": {
    "collapsed": true
   },
   "outputs": [],
   "source": [
    "#insert backwards sentence"
   ]
  },
  {
   "cell_type": "markdown",
   "metadata": {},
   "source": [
    "Strings as Lists\n",
    "---\n",
    "<a class=\"anchor\" id=\"stringsaslists\"></a>"
   ]
  },
  {
   "cell_type": "markdown",
   "metadata": {},
   "source": [
    "Speaking of lists, we can thing of words as lists of letters. Suppose we want to print out every letter of a user's word on a separate line. We could type:\n"
   ]
  },
  {
   "cell_type": "code",
   "execution_count": 15,
   "metadata": {
    "collapsed": false,
    "scrolled": true
   },
   "outputs": [
    {
     "name": "stdout",
     "output_type": "stream",
     "text": [
      "gimme a word: hello\n",
      "h\n",
      "e\n",
      "l\n",
      "l\n",
      "o\n"
     ]
    }
   ],
   "source": [
    "word = input('gimme a word: ')\n",
    "for letter in word:\n",
    "    print(letter)"
   ]
  },
  {
   "cell_type": "markdown",
   "metadata": {},
   "source": [
    "We can also use the range function:"
   ]
  },
  {
   "cell_type": "code",
   "execution_count": 9,
   "metadata": {
    "collapsed": false
   },
   "outputs": [
    {
     "name": "stdout",
     "output_type": "stream",
     "text": [
      "gimme a word: hello\n",
      "h\n",
      "e\n",
      "l\n",
      "l\n",
      "o\n"
     ]
    }
   ],
   "source": [
    "word = input('gimme a word: ')\n",
    "for i in range(len(word)):\n",
    "    print(word[i])"
   ]
  },
  {
   "cell_type": "markdown",
   "metadata": {},
   "source": [
    "We could also print them out on the same line by typing:"
   ]
  },
  {
   "cell_type": "code",
   "execution_count": 8,
   "metadata": {
    "collapsed": false
   },
   "outputs": [
    {
     "name": "stdout",
     "output_type": "stream",
     "text": [
      "gimme a word: hello\n",
      "h e l l o "
     ]
    }
   ],
   "source": [
    "word = input('gimme a word: ')\n",
    "for i in range(len(word)):\n",
    "    print(word[i], end=' ')"
   ]
  },
  {
   "cell_type": "markdown",
   "metadata": {},
   "source": [
    "### List of Letters\n",
    "There is a shorter way to make a list of letters. Use the function \"list\". Type:"
   ]
  },
  {
   "cell_type": "code",
   "execution_count": 1,
   "metadata": {
    "collapsed": false
   },
   "outputs": [
    {
     "name": "stdout",
     "output_type": "stream",
     "text": [
      "['h', 'e', 'l', 'l', 'o']\n",
      "e\n"
     ]
    }
   ],
   "source": [
    "word = 'hello'\n",
    "print(list(word))\n",
    "print(word[1])"
   ]
  },
  {
   "cell_type": "markdown",
   "metadata": {},
   "source": [
    "### Strings are immutable\n",
    "Strings are immutable, meaning that you can't change a letter in them. For example, if you tried changing the \"e\" in hello to a \"a\", you would get an error:"
   ]
  },
  {
   "cell_type": "code",
   "execution_count": 2,
   "metadata": {
    "collapsed": false
   },
   "outputs": [
    {
     "ename": "TypeError",
     "evalue": "'str' object does not support item assignment",
     "output_type": "error",
     "traceback": [
      "\u001b[0;31m---------------------------------------------------------------------------\u001b[0m",
      "\u001b[0;31mTypeError\u001b[0m                                 Traceback (most recent call last)",
      "\u001b[0;32m<ipython-input-2-aab29cdb9bf1>\u001b[0m in \u001b[0;36m<module>\u001b[0;34m()\u001b[0m\n\u001b[0;32m----> 1\u001b[0;31m \u001b[0mword\u001b[0m\u001b[0;34m[\u001b[0m\u001b[0;36m1\u001b[0m\u001b[0;34m]\u001b[0m \u001b[0;34m=\u001b[0m \u001b[0;34m'a'\u001b[0m\u001b[0;34m\u001b[0m\u001b[0m\n\u001b[0m",
      "\u001b[0;31mTypeError\u001b[0m: 'str' object does not support item assignment"
     ]
    }
   ],
   "source": [
    "word[1] = 'a'"
   ]
  },
  {
   "cell_type": "markdown",
   "metadata": {},
   "source": [
    "### Exercise - YOUR NAME!\n",
    "Write a program that takes in a name and prints out each letter of your name in capital letters on the same line wither periods in between. For example, if the user types \"joe\", the program should return J.O.E."
   ]
  },
  {
   "cell_type": "code",
   "execution_count": null,
   "metadata": {
    "collapsed": true
   },
   "outputs": [],
   "source": [
    "#insert your name code"
   ]
  },
  {
   "cell_type": "markdown",
   "metadata": {},
   "source": [
    "### Exercise - every other\n",
    "Print out every other letter of a user's word."
   ]
  },
  {
   "cell_type": "code",
   "execution_count": 19,
   "metadata": {
    "collapsed": true
   },
   "outputs": [],
   "source": [
    "#insert secret message code here"
   ]
  },
  {
   "cell_type": "markdown",
   "metadata": {},
   "source": [
    "### Exercise - secret message\n",
    "Print out every third letter of the word 'pabycdtqrhaeoytn'. The word should make sense."
   ]
  },
  {
   "cell_type": "code",
   "execution_count": 18,
   "metadata": {
    "collapsed": false
   },
   "outputs": [],
   "source": [
    "#insert secret message code here"
   ]
  },
  {
   "cell_type": "markdown",
   "metadata": {},
   "source": [
    "### Exercise - reverse word\n",
    "Take in a user's word and print the word in reverse on the same line. For example, \"hello\" would become \"olleh\"."
   ]
  },
  {
   "cell_type": "code",
   "execution_count": null,
   "metadata": {
    "collapsed": true
   },
   "outputs": [],
   "source": [
    "#insert reverse word"
   ]
  },
  {
   "cell_type": "markdown",
   "metadata": {},
   "source": [
    "Parsing strings\n",
    "---\n",
    "Often, we want to look into a string and find a substring. This is called parcing, or slicing. We can slice strings and words by using notation similar to range notation. Suppose we want to print the first three letters of the word \"hello\", we can type:"
   ]
  },
  {
   "cell_type": "code",
   "execution_count": 23,
   "metadata": {
    "collapsed": false
   },
   "outputs": [
    {
     "name": "stdout",
     "output_type": "stream",
     "text": [
      "hel\n"
     ]
    }
   ],
   "source": [
    "word = 'hello'\n",
    "print(word[0:3])"
   ]
  },
  {
   "cell_type": "markdown",
   "metadata": {
    "collapsed": true
   },
   "source": [
    "What if we wanted to print the last three? We could type:"
   ]
  },
  {
   "cell_type": "code",
   "execution_count": 27,
   "metadata": {
    "collapsed": false
   },
   "outputs": [
    {
     "name": "stdout",
     "output_type": "stream",
     "text": [
      "llo\n"
     ]
    }
   ],
   "source": [
    "word = 'hello'\n",
    "print(word[2:6])"
   ]
  },
  {
   "cell_type": "markdown",
   "metadata": {},
   "source": [
    "What if we wanted to print every other letter?"
   ]
  },
  {
   "cell_type": "code",
   "execution_count": 25,
   "metadata": {
    "collapsed": false
   },
   "outputs": [
    {
     "name": "stdout",
     "output_type": "stream",
     "text": [
      "hlo\n"
     ]
    }
   ],
   "source": [
    "word = 'hello'\n",
    "print(word[0:6:2])"
   ]
  },
  {
   "cell_type": "markdown",
   "metadata": {},
   "source": [
    "To shorten our language, we can use colons. Suppose we wanted to print out the first three letters and the last three again. We could type:"
   ]
  },
  {
   "cell_type": "code",
   "execution_count": 28,
   "metadata": {
    "collapsed": false
   },
   "outputs": [
    {
     "name": "stdout",
     "output_type": "stream",
     "text": [
      "hel\n",
      "llo\n"
     ]
    }
   ],
   "source": [
    "word = 'hello'\n",
    "print(word[:3])\n",
    "print(word[2:])"
   ]
  },
  {
   "cell_type": "markdown",
   "metadata": {},
   "source": [
    "Every other letter?"
   ]
  },
  {
   "cell_type": "code",
   "execution_count": 32,
   "metadata": {
    "collapsed": false
   },
   "outputs": [
    {
     "name": "stdout",
     "output_type": "stream",
     "text": [
      "hlo\n"
     ]
    }
   ],
   "source": [
    "word = 'hello'\n",
    "print(word[::2])"
   ]
  },
  {
   "cell_type": "markdown",
   "metadata": {},
   "source": [
    "To print out the whole word, the whole word except the last letter, and the whole word in reverse, type:"
   ]
  },
  {
   "cell_type": "code",
   "execution_count": 33,
   "metadata": {
    "collapsed": false
   },
   "outputs": [
    {
     "name": "stdout",
     "output_type": "stream",
     "text": [
      "hello\n",
      "hell\n",
      "olleh\n"
     ]
    }
   ],
   "source": [
    "word = 'hello'\n",
    "print(word[:])\n",
    "print(word[:-1])\n",
    "print(word[::-1])"
   ]
  },
  {
   "cell_type": "markdown",
   "metadata": {},
   "source": [
    "Wow, this is a much easier way to reverse a string than the loop we used before! Does this work on lists, too? Yes! Suppose we want to reverse the list of dogs again. We can type:"
   ]
  },
  {
   "cell_type": "code",
   "execution_count": 10,
   "metadata": {
    "collapsed": false
   },
   "outputs": [
    {
     "name": "stdout",
     "output_type": "stream",
     "text": [
      "['corgie', 'pit bull', 'labrador retriever', 'australian cattle dog', 'border collie']\n"
     ]
    }
   ],
   "source": [
    "dogs = ['border collie', 'australian cattle dog', 'labrador retriever', 'pit bull', 'corgie']\n",
    "print(dogs[::-1])"
   ]
  },
  {
   "cell_type": "markdown",
   "metadata": {},
   "source": [
    "### Exercise - different friends\n",
    "Make a list of five friends. Print out the first 2 friends, the last 2 friends, and the middle 3 friends."
   ]
  },
  {
   "cell_type": "raw",
   "metadata": {},
   "source": [
    "#insert different friends"
   ]
  },
  {
   "cell_type": "markdown",
   "metadata": {},
   "source": [
    "### Exercise - more friends\n",
    "Use colons to print out all your friends except the first one, all of your friends except the last one, and then your friend list in reverse."
   ]
  },
  {
   "cell_type": "code",
   "execution_count": null,
   "metadata": {
    "collapsed": true
   },
   "outputs": [],
   "source": [
    "#insert more friends"
   ]
  },
  {
   "cell_type": "markdown",
   "metadata": {},
   "source": [
    "### Exercise - your friend's friends\n",
    "Take in a user's list of friends (makes sure that they have at least four friends). Split the input into a list of friends. Use colons to print out the last three friends in your friend's list. "
   ]
  },
  {
   "cell_type": "code",
   "execution_count": null,
   "metadata": {
    "collapsed": true
   },
   "outputs": [],
   "source": [
    "#insert your friend's friends"
   ]
  },
  {
   "cell_type": "markdown",
   "metadata": {},
   "source": [
    "### Exercise - wacky word\n",
    "Encode a word so that every other letter makes sense. Write a program that uses the range function to print out the correct word on one line."
   ]
  },
  {
   "cell_type": "code",
   "execution_count": null,
   "metadata": {
    "collapsed": true
   },
   "outputs": [],
   "source": [
    "#insert wacky word"
   ]
  },
  {
   "cell_type": "markdown",
   "metadata": {},
   "source": [
    "More String Commands\n",
    "---\n",
    "<a class=\"anchor\" id=\"stringcommands\"></a>\n",
    "\n",
    "Suppose you want to find the location of a word in a phrase. You can use the .find() command. Look at the example below:\n"
   ]
  },
  {
   "cell_type": "code",
   "execution_count": 36,
   "metadata": {
    "collapsed": false
   },
   "outputs": [
    {
     "name": "stdout",
     "output_type": "stream",
     "text": [
      "10\n"
     ]
    }
   ],
   "source": [
    "phrase = 'I love my dog, she is the best dog!'\n",
    "print(phrase.find('dog'))"
   ]
  },
  {
   "cell_type": "markdown",
   "metadata": {},
   "source": [
    "The reason why 10 prints out is because the \"d\" for the first dog is located in the 10th index of the string. If, however, we wanted to print out the location of the LAST occurence of the word \"dog\", I would use the reverse find command, .rfind():\n"
   ]
  },
  {
   "cell_type": "code",
   "execution_count": 37,
   "metadata": {
    "collapsed": false
   },
   "outputs": [
    {
     "name": "stdout",
     "output_type": "stream",
     "text": [
      "30\n"
     ]
    }
   ],
   "source": [
    "phrase = 'I love my dog, she is the best dog!'\n",
    "print(phrase.rfind('dog'))"
   ]
  },
  {
   "cell_type": "markdown",
   "metadata": {},
   "source": [
    "If we want to count the number of times dog occurs, we can type:"
   ]
  },
  {
   "cell_type": "code",
   "execution_count": 45,
   "metadata": {
    "collapsed": false
   },
   "outputs": [
    {
     "name": "stdout",
     "output_type": "stream",
     "text": [
      "2\n"
     ]
    }
   ],
   "source": [
    "phrase = 'I love my dog, she is the best dog!'\n",
    "print(phrase.count('dog'))"
   ]
  },
  {
   "cell_type": "markdown",
   "metadata": {},
   "source": [
    "What if you wanted to replace a string with a different string? Use the replace function:"
   ]
  },
  {
   "cell_type": "code",
   "execution_count": 38,
   "metadata": {
    "collapsed": false
   },
   "outputs": [
    {
     "name": "stdout",
     "output_type": "stream",
     "text": [
      "I love my cat she is the best cat!\n"
     ]
    }
   ],
   "source": [
    "phrase = 'I love my dog, she is the best dog!'\n",
    "print(phrase.replace('dog', 'cat'))"
   ]
  },
  {
   "cell_type": "markdown",
   "metadata": {},
   "source": [
    "We have already learned to split a sentence into words by using the split command:"
   ]
  },
  {
   "cell_type": "code",
   "execution_count": 39,
   "metadata": {
    "collapsed": false
   },
   "outputs": [
    {
     "name": "stdout",
     "output_type": "stream",
     "text": [
      "['I', 'love', 'my', 'dog', 'she', 'is', 'the', 'best', 'dog!']\n"
     ]
    }
   ],
   "source": [
    "phrase = 'I love my dog, she is the best dog!'\n",
    "print(phrase.split())"
   ]
  },
  {
   "cell_type": "markdown",
   "metadata": {},
   "source": [
    "However, we can split a string using anything we want. What you choose to split by is called the delimiter. Suppose we want to split the phrase according to a comma delimiter. We can type:"
   ]
  },
  {
   "cell_type": "code",
   "execution_count": 40,
   "metadata": {
    "collapsed": false
   },
   "outputs": [
    {
     "name": "stdout",
     "output_type": "stream",
     "text": [
      "['I love my dog', ' she is the best dog!']\n"
     ]
    }
   ],
   "source": [
    "phrase = 'I love my dog, she is the best dog!'\n",
    "print(phrase.split(','))"
   ]
  },
  {
   "cell_type": "markdown",
   "metadata": {},
   "source": [
    "### Summary of String Indexing\n",
    "\n",
    "Okay, so remember that .split() breaks up a sentence into words. To reference the first word, we would type word[0]. To reference the first letter of the first word, we would need to type word[0][0]. Heres a few more examples:"
   ]
  },
  {
   "cell_type": "code",
   "execution_count": 14,
   "metadata": {
    "collapsed": false
   },
   "outputs": [
    {
     "name": "stdout",
     "output_type": "stream",
     "text": [
      "each word: this is a sentence\n",
      "first and last letter of first word: t s\n",
      "first and last letter of last word: s e\n"
     ]
    }
   ],
   "source": [
    "sentence = 'this is a sentence'\n",
    "words = sentence.split()\n",
    "print('each word:', words[0], words[1], words[2], words[3])\n",
    "print('first and last letter of first word:', words[0][0], words[0][-1])\n",
    "print('first and last letter of last word:',  words[-1][0], words[-1][-1])"
   ]
  },
  {
   "cell_type": "markdown",
   "metadata": {},
   "source": [
    "Let's suppose we had a list of several sentences. And we wanted to print out the second sentence, the second word in the second sentence, and the second letter in the second word of the second sentence. Then, we would need three separate indicies:"
   ]
  },
  {
   "cell_type": "code",
   "execution_count": 2,
   "metadata": {
    "collapsed": false
   },
   "outputs": [
    {
     "name": "stdout",
     "output_type": "stream",
     "text": [
      "2nd sentence: this is my second\n",
      "2nd word of 2nd sentence: is\n",
      "2nd letter of 2nd word of 2nd sentence: s\n"
     ]
    }
   ],
   "source": [
    "sentences = ['my first sentence', 'this is my second', 'my final sentence']\n",
    "print('2nd sentence:', sentences[1])\n",
    "print('2nd word of 2nd sentence:', sentences[1].split()[1])\n",
    "print('2nd letter of 2nd word of 2nd sentence:', sentences[1].split()[1][1])"
   ]
  },
  {
   "cell_type": "markdown",
   "metadata": {},
   "source": [
    "### Exercise - Python\n",
    "Consider the following sentences: \"Python is the best word. Python is the best computer language. Python is also the best snake.\"\n",
    "\n",
    "Count the number of times Python occurs. Find the locations of the word Python. Replace the word \"Python\" with the word \"Boa\". Split the string wherever the word \"Boa\" occurs."
   ]
  },
  {
   "cell_type": "code",
   "execution_count": 44,
   "metadata": {
    "collapsed": true
   },
   "outputs": [],
   "source": [
    "#insert python code"
   ]
  },
  {
   "cell_type": "markdown",
   "metadata": {},
   "source": [
    "### Exercise - email\n",
    "Write a program that takes in a user's email address (i.e., kanyewest@gmail.com) and returns just the username (i.e., \"kanyewest\") by using a delimiter."
   ]
  },
  {
   "cell_type": "code",
   "execution_count": 3,
   "metadata": {
    "collapsed": true
   },
   "outputs": [],
   "source": [
    "#insert email code"
   ]
  },
  {
   "cell_type": "markdown",
   "metadata": {
    "collapsed": true
   },
   "source": [
    "### Exercise - web address\n",
    "Write a program that takes in a web address and returns the part after the \"http://\" or \"https://\" by using a delimiter. For example, http://www.gmail.com would return www.gmail.com."
   ]
  },
  {
   "cell_type": "code",
   "execution_count": 11,
   "metadata": {
    "collapsed": true
   },
   "outputs": [],
   "source": [
    "#insert web address"
   ]
  },
  {
   "cell_type": "markdown",
   "metadata": {},
   "source": [
    "### Exercise - Anagram\n",
    "Write a program that takes in two words from the user. It tests whether the first and last letter of both word is the same, and it tests that the words contain the same letters. For example, \"hello\" and \"hlelo\" are a super anagram. So are \"yuck\" and \"ycuk\"."
   ]
  },
  {
   "cell_type": "code",
   "execution_count": null,
   "metadata": {
    "collapsed": true
   },
   "outputs": [],
   "source": [
    "#insert super anagram code"
   ]
  },
  {
   "cell_type": "markdown",
   "metadata": {},
   "source": [
    "### Exercise - sentence\n",
    "Write a code that asks the user for a sentence until they press enter. (So you'll have a list of sentences).  Make a code that prints the last sentence, the last word of the last sentence, and the last letter of the last word of the last sentence."
   ]
  },
  {
   "cell_type": "code",
   "execution_count": null,
   "metadata": {
    "collapsed": true
   },
   "outputs": [],
   "source": [
    "#insert sentence code"
   ]
  },
  {
   "cell_type": "markdown",
   "metadata": {},
   "source": [
    "### Copying Lists\n",
    "---\n",
    "<a class=\"anchor\" id=\"stringcommands\"></a>\n",
    "One word of warning as we move on from lists. When we copy lists, this is called aliasing. We need to be very careful when we do this. Consider the following code:"
   ]
  },
  {
   "cell_type": "code",
   "execution_count": 46,
   "metadata": {
    "collapsed": false
   },
   "outputs": [
    {
     "name": "stdout",
     "output_type": "stream",
     "text": [
      "['pit bull', 'labrador', 'border collie']\n",
      "['pit bull', 'labrador', 'border collie']\n"
     ]
    }
   ],
   "source": [
    "mydogs = ['pit bull', 'labrador', 'border collie']\n",
    "yourdogs = mydogs\n",
    "print(mydogs)\n",
    "print(yourdogs)"
   ]
  },
  {
   "cell_type": "markdown",
   "metadata": {},
   "source": [
    "Okay, so our lists are the same. Will they be the same if we edit the yourdogs list?"
   ]
  },
  {
   "cell_type": "code",
   "execution_count": 51,
   "metadata": {
    "collapsed": false
   },
   "outputs": [
    {
     "name": "stdout",
     "output_type": "stream",
     "text": [
      "['german shepherd', 'labrador', 'border collie']\n",
      "['german shepherd', 'labrador', 'border collie']\n"
     ]
    }
   ],
   "source": [
    "mydogs = ['pit bull', 'labrador', 'border collie']\n",
    "yourdogs = mydogs\n",
    "yourdogs[0] = 'german shepherd'\n",
    "print(mydogs)\n",
    "print(yourdogs)"
   ]
  },
  {
   "cell_type": "markdown",
   "metadata": {},
   "source": [
    "Whoa! Both lists changed even though I only updated one manually. Will they be the same if we edit the mydogs list?"
   ]
  },
  {
   "cell_type": "code",
   "execution_count": 48,
   "metadata": {
    "collapsed": false
   },
   "outputs": [
    {
     "name": "stdout",
     "output_type": "stream",
     "text": [
      "['german shephard', 'labrador', 'border collie']\n",
      "['german shephard', 'labrador', 'border collie']\n"
     ]
    }
   ],
   "source": [
    "mydogs = ['pit bull', 'labrador', 'border collie']\n",
    "yourdogs = mydogs\n",
    "mydogs[0] = 'german shephard'\n",
    "print(mydogs)\n",
    "print(yourdogs)"
   ]
  },
  {
   "cell_type": "markdown",
   "metadata": {},
   "source": [
    "Strange! Even though we edit only one list, both lists change. \"yourdogs\" will always be identical to \"mydogs\"! For our purposes, avoid copying lists whenever possible!\n"
   ]
  },
  {
   "cell_type": "code",
   "execution_count": null,
   "metadata": {
    "collapsed": true
   },
   "outputs": [],
   "source": []
  }
 ],
 "metadata": {
  "kernelspec": {
   "display_name": "Python 3",
   "language": "python",
   "name": "python3"
  },
  "language_info": {
   "codemirror_mode": {
    "name": "ipython",
    "version": 3
   },
   "file_extension": ".py",
   "mimetype": "text/x-python",
   "name": "python",
   "nbconvert_exporter": "python",
   "pygments_lexer": "ipython3",
   "version": "3.6.0"
  }
 },
 "nbformat": 4,
 "nbformat_minor": 2
}
